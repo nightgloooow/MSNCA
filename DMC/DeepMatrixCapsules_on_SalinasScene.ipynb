{
 "cells": [
  {
   "cell_type": "markdown",
   "metadata": {
    "id": "DZU9nS-J714K"
   },
   "source": [
    "# **Deep Matrix Capsules on Salinas Scene**\n",
    "### **Parameters:**\n",
    "\n",
    "WindowSize: 25\n",
    "\n",
    "No. of PCA Components: 30\n",
    "\n",
    "No. of epochs: 10\n",
    "\n",
    "Batch size: 64\n",
    "\n",
    "Learning Rate: 3e-3\n",
    "\n",
    "EM Iterations: 2\n",
    "\n",
    "Architecture: [64, 32, 16, 16, 16]\n",
    "\n",
    "Percentage of training data used: 50%\n",
    "\n",
    "Percentage of validation data: 10% \n",
    "\n",
    "Percentage of testing data: 40%"
   ]
  },
  {
   "cell_type": "markdown",
   "metadata": {
    "id": "1lo7Iv6t8c7q"
   },
   "source": [
    "## **Imports & Initialization**"
   ]
  },
  {
   "cell_type": "code",
   "execution_count": 1,
   "metadata": {
    "id": "CyNgS4dq353c"
   },
   "outputs": [],
   "source": [
    "from datetime import datetime\n",
    "import math\n",
    "from operator import truediv\n",
    "import os\n",
    "import pickle\n",
    "import random\n",
    "import time\n",
    "\n",
    "import matplotlib.pyplot as plt\n",
    "import numpy as np\n",
    "\n",
    "import scipy.io as sio\n",
    "\n",
    "from sklearn.decomposition import PCA\n",
    "from sklearn.model_selection import train_test_split\n",
    "from sklearn.metrics import confusion_matrix, accuracy_score\n",
    "from sklearn.metrics import classification_report, cohen_kappa_score\n",
    "\n",
    "import spectral\n",
    "\n",
    "import torch\n",
    "import torch.nn as nn\n",
    "import torch.nn.functional as F\n",
    "import torch.optim as optim\n",
    "from torchvision import datasets, transforms\n",
    "from torch.nn.modules.loss import _Loss\n",
    "\n",
    "import warnings\n",
    "warnings.filterwarnings('ignore')"
   ]
  },
  {
   "cell_type": "code",
   "execution_count": 2,
   "metadata": {
    "colab": {
     "base_uri": "https://localhost:8080/"
    },
    "id": "QRXMOdRD70RL",
    "outputId": "3f39cdaf-4638-4d34-95bd-4b013b31c395"
   },
   "outputs": [
    {
     "name": "stdout",
     "output_type": "stream",
     "text": [
      "cuda:0\n"
     ]
    }
   ],
   "source": [
    "seed = 3\n",
    "\n",
    "# Making the model deterministic\n",
    "\n",
    "def set_seed(seed):\n",
    "    torch.manual_seed(seed)\n",
    "    torch.cuda.manual_seed_all(seed)\n",
    "    torch.backends.cudnn.deterministic = True\n",
    "    torch.backends.cudnn.benchmark = False\n",
    "    np.random.seed(seed)\n",
    "    random.seed(seed)\n",
    "    os.environ['PYTHONHASHSEED'] = str(seed)\n",
    "\n",
    "set_seed(seed)\n",
    "\n",
    "torch.cuda.empty_cache()\n",
    "\n",
    "device = torch.device(\"cuda:0\" if torch.cuda.is_available() else \"cpu\")\n",
    "print(device)"
   ]
  },
  {
   "cell_type": "markdown",
   "metadata": {
    "id": "z7hCepAWyzjQ"
   },
   "source": [
    "## **Parameters**"
   ]
  },
  {
   "cell_type": "markdown",
   "metadata": {
    "id": "dvmHgMALy6SQ"
   },
   "source": [
    "### Dataset Parameters"
   ]
  },
  {
   "cell_type": "code",
   "execution_count": 3,
   "metadata": {
    "id": "ZPaayr7SVkp6"
   },
   "outputs": [],
   "source": [
    "test_ratio = 0.8\n",
    "val_and_test_ratio = 0.5\n",
    "windowSize = 25\n",
    "batch_size = 32\n",
    "no_of_PCA_components = 30"
   ]
  },
  {
   "cell_type": "markdown",
   "metadata": {
    "id": "Gx16jdZty2lL"
   },
   "source": [
    "### Model Parameters"
   ]
  },
  {
   "cell_type": "code",
   "execution_count": 4,
   "metadata": {
    "id": "TtR6i2Df4eIg"
   },
   "outputs": [],
   "source": [
    "# model architecture\n",
    "A, B, C, D = 64, 32, 16, 16\n",
    "\n",
    "# EM Iterations\n",
    "em_iters = 2\n",
    "\n",
    "# PCA Componenets\n",
    "pca_components = 30\n",
    "\n",
    "# Epochs\n",
    "epochs = 10\n",
    "\n",
    "# Learning rate\n",
    "lr = 3e-3\n",
    "\n",
    "# Weight Decay\n",
    "wd = 2e-7\n",
    "\n",
    "# Test Intervals\n",
    "test_intervals = 1\n",
    "\n",
    "# Log Interval\n",
    "log_interval = 10\n",
    "\n",
    "# No. of classes\n",
    "num_class = 16"
   ]
  },
  {
   "cell_type": "markdown",
   "metadata": {
    "id": "QeXpt6io3znQ"
   },
   "source": [
    "## **Loading Data**"
   ]
  },
  {
   "cell_type": "markdown",
   "metadata": {
    "id": "cowVRmhKVe3B"
   },
   "source": [
    "#### Defining Required Functions"
   ]
  },
  {
   "cell_type": "code",
   "execution_count": 5,
   "metadata": {
    "id": "VhxVJKj8Vohj"
   },
   "outputs": [],
   "source": [
    "def loadData():\n",
    "    images = sio.loadmat('Data/Salinas/Salinas.mat')['salinas_corrected']\n",
    "    labels = sio.loadmat('Data/Salinas/Salinas_gt.mat')['salinas_gt']\n",
    "    return images, labels"
   ]
  },
  {
   "cell_type": "code",
   "execution_count": 6,
   "metadata": {
    "id": "AkWk5WP6VqsP"
   },
   "outputs": [],
   "source": [
    "def applyPCA(X, n_components=no_of_PCA_components, seed=seed):\n",
    "    newX = np.reshape(X, (-1, X.shape[2]))\n",
    "    pca = PCA(n_components=n_components, whiten=True, random_state=seed)\n",
    "    newX = pca.fit_transform(newX)\n",
    "    newX = np.reshape(newX, (X.shape[0], X.shape[1], n_components))\n",
    "    return newX"
   ]
  },
  {
   "cell_type": "code",
   "execution_count": 7,
   "metadata": {
    "id": "lUMwqDrtVs0F"
   },
   "outputs": [],
   "source": [
    "def padWithZeros(X, margin=2):\n",
    "    newX = np.zeros((X.shape[0] + 2*margin, X.shape[1] + 2*margin, X.shape[2]))\n",
    "    x_offset = margin\n",
    "    y_offset = margin\n",
    "    newX [x_offset : X.shape[0] + x_offset, y_offset : X.shape[1] + y_offset, :] = X\n",
    "    return newX"
   ]
  },
  {
   "cell_type": "code",
   "execution_count": 8,
   "metadata": {
    "id": "fcj3-RsNVuvl"
   },
   "outputs": [],
   "source": [
    "def createImageCubes(X, y, windowSize=windowSize, removeZeroLabels=True):\n",
    "    margin = int((windowSize-1)/2)\n",
    "    zeroPaddedX = padWithZeros(X, margin=margin)\n",
    "    \n",
    "    patchesData = np.zeros((X.shape[0]*X.shape[1], windowSize, windowSize, X.shape[2]))\n",
    "    patchesLabels = np.zeros((X.shape[0] * X.shape[1]))\n",
    "    patchIndex = 0\n",
    "    \n",
    "    for r in range(margin, zeroPaddedX.shape[0] - margin):\n",
    "        for c in range(margin, zeroPaddedX.shape[1] - margin):\n",
    "            patch = zeroPaddedX[r - margin: r + margin + 1, c - margin:c + margin + 1]\n",
    "            patchesData[patchIndex, :, :, :] = patch\n",
    "            patchesLabels[patchIndex] = y[r-margin, c-margin]\n",
    "            patchIndex += 1\n",
    "\n",
    "    if removeZeroLabels:\n",
    "        patchesData = patchesData[patchesLabels > 0, :, :, :]\n",
    "        patchesLabels = patchesLabels[patchesLabels > 0]\n",
    "        patchesLabels -= 1\n",
    "    \n",
    "    return patchesData, patchesLabels"
   ]
  },
  {
   "cell_type": "code",
   "execution_count": 9,
   "metadata": {
    "id": "_zPDW-7XVxXl"
   },
   "outputs": [],
   "source": [
    "def dataSplit(X, y, val_and_test_ratio=val_and_test_ratio, test_ratio=test_ratio, random_state=seed):\n",
    "    X_train, X_val_and_test, y_train, y_val_and_test = train_test_split(X, y, test_size=val_and_test_ratio, random_state=random_state, stratify=y)\n",
    "    X_val, X_test, y_val, y_test = train_test_split(X_val_and_test, y_val_and_test, test_size=test_ratio, random_state=random_state, stratify=y_val_and_test)\n",
    "    return X_train, y_train, X_val, y_val, X_test, y_test"
   ]
  },
  {
   "cell_type": "code",
   "execution_count": 10,
   "metadata": {
    "id": "WyxuQV9OV0LS"
   },
   "outputs": [],
   "source": [
    "def convertToDataloader(X_train, y_train, X_val, y_val, X_test, y_test, batch_size=batch_size, K=no_of_PCA_components):\n",
    "\n",
    "    X_train = torch.Tensor(X_train)\n",
    "    y_train = torch.Tensor(y_train)\n",
    "    X_val = torch.Tensor(X_val)\n",
    "    y_val = torch.Tensor(y_val)\n",
    "    X_test = torch.Tensor(X_test)\n",
    "    y_test = torch.Tensor(y_test)\n",
    "\n",
    "    train_dataset = torch.utils.data.TensorDataset(X_train, y_train)\n",
    "    val_dataset = torch.utils.data.TensorDataset(X_val, y_val)\n",
    "    test_dataset = torch.utils.data.TensorDataset(X_test, y_test)\n",
    "\n",
    "    train_dataloader = torch.utils.data.DataLoader(train_dataset, batch_size=batch_size, shuffle=True)\n",
    "    val_dataloader = torch.utils.data.DataLoader(val_dataset, batch_size=batch_size)\n",
    "    test_dataloader = torch.utils.data.DataLoader(test_dataset, batch_size=batch_size)\n",
    "\n",
    "    return train_dataloader, val_dataloader, test_dataloader"
   ]
  },
  {
   "cell_type": "markdown",
   "metadata": {
    "id": "pQNIH-ClV26m"
   },
   "source": [
    "#### Loading Data"
   ]
  },
  {
   "cell_type": "code",
   "execution_count": 11,
   "metadata": {
    "id": "X3X-GTxKV2qx"
   },
   "outputs": [],
   "source": [
    "X, y = loadData()"
   ]
  },
  {
   "cell_type": "code",
   "execution_count": 12,
   "metadata": {
    "id": "AS6ZWMX5V6gI"
   },
   "outputs": [],
   "source": [
    "X = applyPCA(X)"
   ]
  },
  {
   "cell_type": "code",
   "execution_count": 13,
   "metadata": {
    "id": "4rglm_OIV9Nl"
   },
   "outputs": [],
   "source": [
    "X, y = createImageCubes(X, y)"
   ]
  },
  {
   "cell_type": "code",
   "execution_count": 14,
   "metadata": {
    "id": "I9Ez4Ls8V_If"
   },
   "outputs": [],
   "source": [
    "X = X.transpose(0, 3, 1, 2)"
   ]
  },
  {
   "cell_type": "code",
   "execution_count": 15,
   "metadata": {
    "id": "JVCEEFM6WAvs"
   },
   "outputs": [],
   "source": [
    "X_train, y_train, X_val, y_val, X_test, y_test = dataSplit(X, y)"
   ]
  },
  {
   "cell_type": "code",
   "execution_count": 16,
   "metadata": {
    "id": "a9E56ZwIWC6R"
   },
   "outputs": [],
   "source": [
    "train_loader, val_loader, test_loader = convertToDataloader(X_train, y_train, X_val, y_val, X_test, y_test)"
   ]
  },
  {
   "cell_type": "code",
   "execution_count": 17,
   "metadata": {
    "id": "Mw6iBRJpWETi"
   },
   "outputs": [],
   "source": [
    "dataloaders = {'train': train_loader, 'valid': val_loader,'test': test_loader}"
   ]
  },
  {
   "cell_type": "markdown",
   "metadata": {
    "id": "0D_5INAM4u33"
   },
   "source": [
    "## **Model**"
   ]
  },
  {
   "cell_type": "markdown",
   "metadata": {
    "id": "CBmkAG3_43c-"
   },
   "source": [
    "#### Capsule Network Model"
   ]
  },
  {
   "cell_type": "code",
   "execution_count": 18,
   "metadata": {
    "id": "Qp1hds7dy_9v"
   },
   "outputs": [],
   "source": [
    "class PrimaryCaps(nn.Module):\n",
    "    \n",
    "    def __init__(self, A=32, B=32, K=1, P=4, stride=1):\n",
    "        super(PrimaryCaps, self).__init__()\n",
    "        self.pose = nn.Conv2d(in_channels=A, out_channels=B*P*P,\n",
    "                            kernel_size=K, stride=stride, bias=True)\n",
    "        self.a = nn.Conv2d(in_channels=A, out_channels=B,\n",
    "                            kernel_size=K, stride=stride, bias=True)\n",
    "        self.sigmoid = nn.Sigmoid()\n",
    "\n",
    "    def forward(self, x):\n",
    "        p = self.pose(x)\n",
    "        a = self.a(x)\n",
    "        a = self.sigmoid(a)\n",
    "        out = torch.cat([p, a], dim=1)\n",
    "        out = out.permute(0, 2, 3, 1)\n",
    "        return out"
   ]
  },
  {
   "cell_type": "code",
   "execution_count": 19,
   "metadata": {
    "id": "Ey4FeNfp42l7"
   },
   "outputs": [],
   "source": [
    "class ConvCaps(nn.Module):\n",
    "\n",
    "    def __init__(self, B=32, C=32, K=3, P=4, stride=2, iters=3,\n",
    "                 coor_add=False, w_shared=False):\n",
    "        super(ConvCaps, self).__init__()\n",
    "        self.B = B\n",
    "        self.C = C\n",
    "        self.K = K\n",
    "        self.P = P\n",
    "        self.psize = P*P\n",
    "        self.stride = stride\n",
    "        self.iters = iters\n",
    "        self.coor_add = coor_add\n",
    "        self.w_shared = w_shared\n",
    "        self.eps = 1e-8\n",
    "        self._lambda = 1e-03\n",
    "        self.ln_2pi = torch.cuda.FloatTensor(1).fill_(math.log(2*math.pi))\n",
    "\n",
    "        self.beta_u = nn.Parameter(torch.zeros(C))\n",
    "        self.beta_a = nn.Parameter(torch.zeros(C))\n",
    "\n",
    "        self.weights = nn.Parameter(torch.randn(1, K*K*B, C, P, P))\n",
    "        self.sigmoid = nn.Sigmoid()\n",
    "        self.softmax = nn.Softmax(dim=2)\n",
    "\n",
    "    def m_step(self, a_in, r, v, eps, b, B, C, psize):\n",
    "\n",
    "        r = r * a_in\n",
    "        r = r / (r.sum(dim=2, keepdim=True) + eps)\n",
    "        r_sum = r.sum(dim=1, keepdim=True)\n",
    "        coeff = r / (r_sum + eps)\n",
    "        coeff = coeff.view(b, B, C, 1)\n",
    "\n",
    "        mu = torch.sum(coeff * v, dim=1, keepdim=True)\n",
    "        sigma_sq = torch.sum(coeff * (v - mu)**2, dim=1, keepdim=True) + eps\n",
    "\n",
    "        r_sum = r_sum.view(b, C, 1)\n",
    "        sigma_sq = sigma_sq.view(b, C, psize)\n",
    "        cost_h = (self.beta_u.view(C, 1) + torch.log(sigma_sq.sqrt())) * r_sum\n",
    "\n",
    "        a_out = self.sigmoid(self._lambda*(self.beta_a - cost_h.sum(dim=2)))\n",
    "        sigma_sq = sigma_sq.view(b, 1, C, psize)\n",
    "\n",
    "        return a_out, mu, sigma_sq\n",
    "\n",
    "    def e_step(self, mu, sigma_sq, a_out, v, eps, b, C):\n",
    "\n",
    "        ln_p_j_h = -1. * (v - mu)**2 / (2 * sigma_sq) \\\n",
    "                    - torch.log(sigma_sq.sqrt()) \\\n",
    "                    - 0.5*self.ln_2pi\n",
    "\n",
    "        ln_ap = ln_p_j_h.sum(dim=3) + torch.log(a_out.view(b, 1, C))\n",
    "        r = self.softmax(ln_ap)\n",
    "        return r\n",
    "\n",
    "    def caps_em_routing(self, v, a_in, C, eps):\n",
    "\n",
    "        b, B, c, psize = v.shape\n",
    "        assert c == C\n",
    "        assert (b, B, 1) == a_in.shape\n",
    "\n",
    "        r = torch.cuda.FloatTensor(b, B, C).fill_(1./C)\n",
    "        for iter_ in range(self.iters):\n",
    "            a_out, mu, sigma_sq = self.m_step(a_in, r, v, eps, b, B, C, psize)\n",
    "            if iter_ < self.iters - 1:\n",
    "                r = self.e_step(mu, sigma_sq, a_out, v, eps, b, C)\n",
    "\n",
    "        return mu, a_out\n",
    "\n",
    "    def add_pathes(self, x, B, K, psize, stride):\n",
    "\n",
    "        b, h, w, c = x.shape\n",
    "        assert h == w\n",
    "        assert c == B*(psize+1)\n",
    "        oh = ow = int(((h - K )/stride)+ 1)\n",
    "        idxs = [[(h_idx + k_idx) \\\n",
    "                for k_idx in range(0, K)] \\\n",
    "                for h_idx in range(0, h - K + 1, stride)]\n",
    "        x = x[:, idxs, :, :]\n",
    "        x = x[:, :, :, idxs, :]\n",
    "        x = x.permute(0, 1, 3, 2, 4, 5).contiguous()\n",
    "        return x, oh, ow\n",
    "\n",
    "    def transform_view(self, x, w, C, P, w_shared=False):\n",
    "\n",
    "        b, B, psize = x.shape\n",
    "        assert psize == P*P\n",
    "\n",
    "        x = x.view(b, B, 1, P, P)\n",
    "        if w_shared:\n",
    "            hw = int(B / w.size(1))\n",
    "            w = w.repeat(1, hw, 1, 1, 1)\n",
    "\n",
    "        w = w.repeat(b, 1, 1, 1, 1)\n",
    "        x = x.repeat(1, 1, C, 1, 1)\n",
    "        v = torch.matmul(x, w)\n",
    "        v = v.view(b, B, C, P*P)\n",
    "        return v\n",
    "\n",
    "    def add_coord(self, v, b, h, w, B, C, psize):\n",
    "\n",
    "        assert h == w\n",
    "        v = v.view(b, h, w, B, C, psize)\n",
    "        coor = torch.arange(h, dtype=torch.float32) / h\n",
    "        coor_h = torch.cuda.FloatTensor(1, h, 1, 1, 1, self.psize).fill_(0.)\n",
    "        coor_w = torch.cuda.FloatTensor(1, 1, w, 1, 1, self.psize).fill_(0.)\n",
    "        coor_h[0, :, 0, 0, 0, 0] = coor\n",
    "        coor_w[0, 0, :, 0, 0, 1] = coor\n",
    "        v = v + coor_h + coor_w\n",
    "        v = v.view(b, h*w*B, C, psize)\n",
    "        return v\n",
    "\n",
    "    def forward(self, x):\n",
    "        b, h, w, c = x.shape\n",
    "        if not self.w_shared:\n",
    "            x, oh, ow = self.add_pathes(x, self.B, self.K, self.psize, self.stride)\n",
    "\n",
    "            p_in = x[:, :, :, :, :, :self.B*self.psize].contiguous()\n",
    "            a_in = x[:, :, :, :, :, self.B*self.psize:].contiguous()\n",
    "            p_in = p_in.view(b*oh*ow, self.K*self.K*self.B, self.psize)\n",
    "            a_in = a_in.view(b*oh*ow, self.K*self.K*self.B, 1)\n",
    "            v = self.transform_view(p_in, self.weights, self.C, self.P)\n",
    "\n",
    "            p_out, a_out = self.caps_em_routing(v, a_in, self.C, self.eps)\n",
    "            p_out = p_out.view(b, oh, ow, self.C*self.psize)\n",
    "            a_out = a_out.view(b, oh, ow, self.C)\n",
    "            out = torch.cat([p_out, a_out], dim=3)\n",
    "        else:\n",
    "            assert c == self.B*(self.psize+1)\n",
    "            assert 1 == self.K\n",
    "            assert 1 == self.stride\n",
    "            p_in = x[:, :, :, :self.B*self.psize].contiguous()\n",
    "            p_in = p_in.view(b, h*w*self.B, self.psize)\n",
    "            a_in = x[:, :, :, self.B*self.psize:].contiguous()\n",
    "            a_in = a_in.view(b, h*w*self.B, 1)\n",
    "\n",
    "            v = self.transform_view(p_in, self.weights, self.C, self.P, self.w_shared)\n",
    "\n",
    "            if self.coor_add:\n",
    "                v = self.add_coord(v, b, h, w, self.B, self.C, self.psize)\n",
    "\n",
    "            _, out = self.caps_em_routing(v, a_in, self.C, self.eps)\n",
    "\n",
    "        return out"
   ]
  },
  {
   "cell_type": "code",
   "execution_count": 20,
   "metadata": {
    "id": "GKbBGB1FzGPw"
   },
   "outputs": [],
   "source": [
    "class CapsNet(nn.Module):\n",
    "\n",
    "    def __init__(self, A=32, B=32, C=32, D=32, E=10, K=3, P=4, iters=3):\n",
    "        super(CapsNet, self).__init__()\n",
    "        self.conv1 = nn.Conv2d(in_channels=pca_components, out_channels=A,\n",
    "                               kernel_size=5, stride=2, padding=2)\n",
    "        self.bn1 = nn.BatchNorm2d(num_features=A, eps=0.001,\n",
    "                                 momentum=0.1, affine=True)\n",
    "        self.relu1 = nn.ReLU(inplace=False)\n",
    "        self.primary_caps = PrimaryCaps(A, B, 1, P, stride=1)\n",
    "        self.conv_caps1 = ConvCaps(B, C, K, P, stride=2, iters=iters)\n",
    "        self.conv_caps2 = ConvCaps(C, D, K, P, stride=1, iters=iters)\n",
    "        self.class_caps = ConvCaps(D, E, 1, P, stride=1, iters=iters,\n",
    "                                        coor_add=True, w_shared=True)\n",
    "\n",
    "    def forward(self, x):\n",
    "        x = self.conv1(x)\n",
    "        x = self.bn1(x)\n",
    "        x = self.relu1(x)\n",
    "        x = self.primary_caps(x)\n",
    "        x = self.conv_caps1(x)\n",
    "        x = self.conv_caps2(x)\n",
    "        x = self.class_caps(x)\n",
    "        return x"
   ]
  },
  {
   "cell_type": "markdown",
   "metadata": {
    "id": "4ypxKKRG5hvO"
   },
   "source": [
    "#### Loss Function"
   ]
  },
  {
   "cell_type": "code",
   "execution_count": 21,
   "metadata": {
    "id": "4J7NoS985UHc"
   },
   "outputs": [],
   "source": [
    "class SpreadLoss(_Loss):\n",
    "\n",
    "    def __init__(self, m_min=0.2, m_max=0.9, num_class=9):\n",
    "        super(SpreadLoss, self).__init__()\n",
    "        self.m_min = m_min\n",
    "        self.m_max = m_max\n",
    "        self.num_class = num_class\n",
    "\n",
    "    def forward(self, x, target, r):\n",
    "        b, E = x.shape\n",
    "        assert E == self.num_class\n",
    "        margin = self.m_min + (self.m_max - self.m_min)*r\n",
    "\n",
    "        at = torch.cuda.FloatTensor(b).fill_(0)\n",
    "        for i, a in enumerate(target):\n",
    "            lb = int(a.item())\n",
    "            at[i] = x[i][lb]\n",
    "        at = at.view(b, 1).repeat(1, E)\n",
    "\n",
    "        zeros = x.new_zeros(x.shape)\n",
    "        loss = torch.max(margin - (at - x), zeros)\n",
    "        loss = loss**2\n",
    "        loss = loss.sum() / b - margin**2\n",
    "\n",
    "        return loss"
   ]
  },
  {
   "cell_type": "markdown",
   "metadata": {
    "id": "05AZSkZ16Jxp"
   },
   "source": [
    "## **Training Setup**"
   ]
  },
  {
   "cell_type": "markdown",
   "metadata": {
    "id": "suwWgu2z6rg8"
   },
   "source": [
    "#### Data Preparation"
   ]
  },
  {
   "cell_type": "code",
   "execution_count": 22,
   "metadata": {
    "id": "kIgNfsLi5jlU"
   },
   "outputs": [],
   "source": [
    "train_loader = dataloaders['train']\n",
    "valid_loader = dataloaders['valid']\n",
    "test_loader = dataloaders['test']"
   ]
  },
  {
   "cell_type": "markdown",
   "metadata": {
    "id": "aq1YU_XD7Cco"
   },
   "source": [
    "#### Accuracy Function"
   ]
  },
  {
   "cell_type": "code",
   "execution_count": 23,
   "metadata": {
    "id": "w7v8XF9M6uQR"
   },
   "outputs": [],
   "source": [
    "def accuracy(output, target):\n",
    "    y_pred = output.argmax(dim=1).float()\n",
    "    res = accuracy_score(target.to('cpu'), y_pred.to('cpu')) * 100\n",
    "    return res"
   ]
  },
  {
   "cell_type": "markdown",
   "metadata": {
    "id": "hvXyaGUH7HLo"
   },
   "source": [
    "#### Learning Rate Decay function"
   ]
  },
  {
   "cell_type": "code",
   "execution_count": 24,
   "metadata": {
    "id": "EW1wGZrS7EQA"
   },
   "outputs": [],
   "source": [
    "def exp_lr_decay(optimizer, global_step, init_lr = 3e-3, decay_steps = 20000,\n",
    "                                        decay_rate = 0.96, lr_clip = 3e-3 ,staircase=False):\n",
    "        \n",
    "    if staircase:\n",
    "        lr = (init_lr * decay_rate**(global_step // decay_steps)) \n",
    "    else:\n",
    "        lr = (init_lr * decay_rate**(global_step / decay_steps)) \n",
    "    \n",
    "    for param_group in optimizer.param_groups:\n",
    "        param_group['lr'] = lr"
   ]
  },
  {
   "cell_type": "markdown",
   "metadata": {
    "id": "Rkhe68NX7P8p"
   },
   "source": [
    "#### Average Meter Class"
   ]
  },
  {
   "cell_type": "code",
   "execution_count": 25,
   "metadata": {
    "id": "WdmfQJTt7KG8"
   },
   "outputs": [],
   "source": [
    "class AverageMeter(object):\n",
    "\n",
    "    def __init__(self):\n",
    "        self.reset()\n",
    "\n",
    "    def reset(self):\n",
    "        self.val = 0\n",
    "        self.avg = 0\n",
    "        self.sum = 0\n",
    "        self.count = 0\n",
    "\n",
    "    def update(self, val, n=1):\n",
    "        self.val = val\n",
    "        self.sum += val * n\n",
    "        self.count += n\n",
    "        self.avg = self.sum / self.count"
   ]
  },
  {
   "cell_type": "markdown",
   "metadata": {
    "id": "6zWNMYc87U-4"
   },
   "source": [
    "#### Train Function"
   ]
  },
  {
   "cell_type": "code",
   "execution_count": 26,
   "metadata": {
    "id": "Gvsb63dX7R_X"
   },
   "outputs": [],
   "source": [
    "def train(train_loader, model, criterion, optimizer, epoch, device):\n",
    "    batch_time = AverageMeter()\n",
    "    data_time = AverageMeter()\n",
    "\n",
    "    model.train()\n",
    "    train_len = len(train_loader)\n",
    "    epoch_acc = 0\n",
    "    end = time.time()\n",
    "\n",
    "    for batch_idx, (data, target) in enumerate(train_loader):\n",
    "        data_time.update(time.time() - end)\n",
    "\n",
    "        data, target = data.to(device), target.to(device)\n",
    "        optimizer.zero_grad()\n",
    "        output = model(data)\n",
    "        r = (1.*batch_idx + (epoch-1)*train_len) / (epochs*train_len)\n",
    "        loss = criterion(output, target, r)\n",
    "        acc = accuracy(output, target)\n",
    "        \n",
    "        global_step = (batch_idx+1) + (epoch - 1) * len(train_loader) \n",
    "        exp_lr_decay(optimizer=optimizer, global_step=global_step)\n",
    "        \n",
    "        loss.backward()\n",
    "        optimizer.step()\n",
    "\n",
    "        batch_time.update(time.time() - end)\n",
    "        end = time.time()\n",
    "\n",
    "        epoch_acc += acc\n",
    "        if batch_idx % log_interval == 0:\n",
    "            print('Train Epoch: {}\\t[{}/{} ({:.0f}%)]\\t'\n",
    "                  'Loss: {:.6f}\\tAccuracy: {:.6f}\\t'\n",
    "                  'Time {batch_time.val:.3f} ({batch_time.avg:.3f})\\t'\n",
    "                  'Data {data_time.val:.3f} ({data_time.avg:.3f})'.format(\n",
    "                  epoch, batch_idx * len(data), len(train_loader.dataset),\n",
    "                  100. * batch_idx / len(train_loader),\n",
    "                  loss.item(), acc,\n",
    "                  batch_time=batch_time, data_time=data_time))\n",
    "            \n",
    "    return epoch_acc"
   ]
  },
  {
   "cell_type": "markdown",
   "metadata": {
    "id": "iZzi5Vn27d-X"
   },
   "source": [
    "#### Test Function"
   ]
  },
  {
   "cell_type": "code",
   "execution_count": 27,
   "metadata": {
    "id": "49eSAz-I7dTP"
   },
   "outputs": [],
   "source": [
    "def test(test_loader, model, criterion, device, test=False):\n",
    "    model.eval()\n",
    "    test_loss = 0\n",
    "    acc = 0\n",
    "    test_len = len(test_loader)\n",
    "    with torch.no_grad():\n",
    "        for data, target in test_loader:\n",
    "            data, target = data.to(device), target.to(device)\n",
    "            output = model(data)\n",
    "            test_loss += criterion(output, target, r=1).item()\n",
    "            acc += accuracy(output, target)\n",
    "\n",
    "    test_loss /= test_len\n",
    "    acc /= test_len\n",
    "    if test:\n",
    "        print('\\nTest set: Average loss: {:.6f}, Accuracy: {:.6f} \\n'.format(\n",
    "        test_loss, acc))\n",
    "    else:\n",
    "        print('\\nVal set: Average loss: {:.6f}, Accuracy: {:.6f} \\n'.format(\n",
    "            test_loss, acc))\n",
    "\n",
    "    return test_loss, acc"
   ]
  },
  {
   "cell_type": "markdown",
   "metadata": {
    "id": "5hRWF2apsMzc"
   },
   "source": [
    "## **Training Process**"
   ]
  },
  {
   "cell_type": "markdown",
   "metadata": {
    "id": "SGwX3eimsZmA"
   },
   "source": [
    "#### Model Initialization"
   ]
  },
  {
   "cell_type": "code",
   "execution_count": 28,
   "metadata": {
    "colab": {
     "base_uri": "https://localhost:8080/"
    },
    "id": "8_YYc6YxsXZV",
    "outputId": "f249ae4b-9a9c-4e79-9e8c-a70fbd49dbcc"
   },
   "outputs": [],
   "source": [
    "model = CapsNet(A=A, B=B, C=C, D=D, E=num_class,\n",
    "                    iters=em_iters).to(device)"
   ]
  },
  {
   "cell_type": "markdown",
   "metadata": {
    "id": "rZwvqJ_4ZZaI"
   },
   "source": [
    "#### Model Summary"
   ]
  },
  {
   "cell_type": "code",
   "execution_count": 29,
   "metadata": {
    "colab": {
     "base_uri": "https://localhost:8080/"
    },
    "id": "mk54JHDaZY6l",
    "outputId": "4926e901-6ead-4d4b-9d90-d03c877976d3"
   },
   "outputs": [
    {
     "name": "stdout",
     "output_type": "stream",
     "text": [
      "conv1.weight : 64x30x5x5 = 48000\n",
      "conv1.bias : 64\n",
      "bn1.weight : 64\n",
      "bn1.bias : 64\n",
      "primary_caps.pose.weight : 512x64x1x1 = 32768\n",
      "primary_caps.pose.bias : 512\n",
      "primary_caps.a.weight : 32x64x1x1 = 2048\n",
      "primary_caps.a.bias : 32\n",
      "conv_caps1.beta_u : 16\n",
      "conv_caps1.beta_a : 16\n",
      "conv_caps1.weights : 1x288x16x4x4 = 73728\n",
      "conv_caps2.beta_u : 16\n",
      "conv_caps2.beta_a : 16\n",
      "conv_caps2.weights : 1x144x16x4x4 = 36864\n",
      "class_caps.beta_u : 16\n",
      "class_caps.beta_a : 16\n",
      "class_caps.weights : 1x16x16x4x4 = 4096\n",
      "\n",
      " Total Trainable Parameters:  198336\n"
     ]
    }
   ],
   "source": [
    "def model_summary(model):\n",
    "    total_param = 0\n",
    "    for name, param in model.named_parameters():\n",
    "        if param.requires_grad:\n",
    "            num_param = np.prod(param.size())\n",
    "            if param.dim() > 1:\n",
    "                print(name, ':', 'x'.join(str(x) for x in list(param.size())), '=', num_param)\n",
    "            else:\n",
    "                print(name, ':', num_param)\n",
    "            total_param += num_param\n",
    "    print(\"\\n Total Trainable Parameters: \", total_param)\n",
    "\n",
    "model_summary(model)"
   ]
  },
  {
   "cell_type": "markdown",
   "metadata": {
    "id": "R0JocqrGZmIN"
   },
   "source": [
    "#### Training Time!"
   ]
  },
  {
   "cell_type": "code",
   "execution_count": 30,
   "metadata": {
    "id": "fEPfkoFhZva8"
   },
   "outputs": [],
   "source": [
    "criterion = SpreadLoss(num_class=num_class, m_min=0.2, m_max=0.5)\n",
    "optimizer = optim.Adam(model.parameters(), lr = lr, weight_decay=wd)"
   ]
  },
  {
   "cell_type": "code",
   "execution_count": 31,
   "metadata": {
    "colab": {
     "base_uri": "https://localhost:8080/"
    },
    "id": "ayyIRBgr7goB",
    "outputId": "fb47dd9e-2ee5-4d93-94cc-50703a625e2e"
   },
   "outputs": [
    {
     "name": "stdout",
     "output_type": "stream",
     "text": [
      "\n",
      "Val set: Average loss: 4.012359, Accuracy: 5.496324 \n",
      "\n",
      "Train Epoch: 1\t[0/27064 (0%)]\tLoss: 0.858233\tAccuracy: 6.250000\tTime 0.631 (0.631)\tData 0.004 (0.004)\n",
      "Train Epoch: 1\t[320/27064 (1%)]\tLoss: 0.088170\tAccuracy: 78.125000\tTime 0.325 (0.333)\tData 0.002 (0.002)\n",
      "Train Epoch: 1\t[640/27064 (2%)]\tLoss: 0.027945\tAccuracy: 90.625000\tTime 0.332 (0.332)\tData 0.002 (0.014)\n",
      "Train Epoch: 1\t[960/27064 (4%)]\tLoss: 0.008976\tAccuracy: 90.625000\tTime 0.332 (0.332)\tData 0.002 (0.018)\n",
      "Train Epoch: 1\t[1280/27064 (5%)]\tLoss: 0.005080\tAccuracy: 96.875000\tTime 0.331 (0.332)\tData 0.002 (0.020)\n",
      "Train Epoch: 1\t[1600/27064 (6%)]\tLoss: 0.017812\tAccuracy: 93.750000\tTime 0.332 (0.332)\tData 0.002 (0.022)\n",
      "Train Epoch: 1\t[1920/27064 (7%)]\tLoss: 0.005812\tAccuracy: 96.875000\tTime 0.332 (0.332)\tData 0.002 (0.023)\n",
      "Train Epoch: 1\t[2240/27064 (8%)]\tLoss: 0.002208\tAccuracy: 100.000000\tTime 0.333 (0.332)\tData 0.002 (0.023)\n",
      "Train Epoch: 1\t[2560/27064 (9%)]\tLoss: 0.026800\tAccuracy: 90.625000\tTime 0.332 (0.332)\tData 0.002 (0.024)\n",
      "Train Epoch: 1\t[2880/27064 (11%)]\tLoss: 0.006265\tAccuracy: 100.000000\tTime 0.333 (0.332)\tData 0.002 (0.024)\n",
      "Train Epoch: 1\t[3200/27064 (12%)]\tLoss: 0.000983\tAccuracy: 100.000000\tTime 0.326 (0.332)\tData 0.002 (0.024)\n",
      "Train Epoch: 1\t[3520/27064 (13%)]\tLoss: 0.001949\tAccuracy: 100.000000\tTime 0.332 (0.332)\tData 0.002 (0.025)\n",
      "Train Epoch: 1\t[3840/27064 (14%)]\tLoss: 0.008756\tAccuracy: 100.000000\tTime 0.332 (0.332)\tData 0.002 (0.025)\n",
      "Train Epoch: 1\t[4160/27064 (15%)]\tLoss: 0.000522\tAccuracy: 100.000000\tTime 0.332 (0.332)\tData 0.002 (0.025)\n",
      "Train Epoch: 1\t[4480/27064 (17%)]\tLoss: 0.003889\tAccuracy: 96.875000\tTime 0.332 (0.332)\tData 0.002 (0.025)\n",
      "Train Epoch: 1\t[4800/27064 (18%)]\tLoss: 0.010080\tAccuracy: 96.875000\tTime 0.332 (0.332)\tData 0.002 (0.025)\n",
      "Train Epoch: 1\t[5120/27064 (19%)]\tLoss: 0.003259\tAccuracy: 100.000000\tTime 0.332 (0.332)\tData 0.002 (0.025)\n",
      "Train Epoch: 1\t[5440/27064 (20%)]\tLoss: 0.001539\tAccuracy: 100.000000\tTime 0.333 (0.332)\tData 0.002 (0.026)\n",
      "Train Epoch: 1\t[5760/27064 (21%)]\tLoss: 0.001360\tAccuracy: 100.000000\tTime 0.332 (0.332)\tData 0.002 (0.026)\n",
      "Train Epoch: 1\t[6080/27064 (22%)]\tLoss: 0.001978\tAccuracy: 100.000000\tTime 0.331 (0.332)\tData 0.002 (0.026)\n",
      "Train Epoch: 1\t[6400/27064 (24%)]\tLoss: 0.025214\tAccuracy: 96.875000\tTime 0.333 (0.332)\tData 0.002 (0.026)\n",
      "Train Epoch: 1\t[6720/27064 (25%)]\tLoss: 0.001926\tAccuracy: 100.000000\tTime 0.333 (0.332)\tData 0.002 (0.026)\n",
      "Train Epoch: 1\t[7040/27064 (26%)]\tLoss: 0.001611\tAccuracy: 100.000000\tTime 0.331 (0.332)\tData 0.002 (0.026)\n",
      "Train Epoch: 1\t[7360/27064 (27%)]\tLoss: 0.000415\tAccuracy: 100.000000\tTime 0.332 (0.332)\tData 0.002 (0.026)\n",
      "Train Epoch: 1\t[7680/27064 (28%)]\tLoss: 0.001101\tAccuracy: 100.000000\tTime 0.332 (0.332)\tData 0.002 (0.026)\n",
      "Train Epoch: 1\t[8000/27064 (30%)]\tLoss: 0.002994\tAccuracy: 100.000000\tTime 0.332 (0.332)\tData 0.002 (0.026)\n",
      "Train Epoch: 1\t[8320/27064 (31%)]\tLoss: 0.003158\tAccuracy: 96.875000\tTime 0.333 (0.332)\tData 0.002 (0.026)\n",
      "Train Epoch: 1\t[8640/27064 (32%)]\tLoss: 0.001625\tAccuracy: 100.000000\tTime 0.332 (0.332)\tData 0.002 (0.026)\n",
      "Train Epoch: 1\t[8960/27064 (33%)]\tLoss: 0.001558\tAccuracy: 100.000000\tTime 0.332 (0.332)\tData 0.002 (0.026)\n",
      "Train Epoch: 1\t[9280/27064 (34%)]\tLoss: 0.020457\tAccuracy: 93.750000\tTime 0.333 (0.332)\tData 0.002 (0.026)\n",
      "Train Epoch: 1\t[9600/27064 (35%)]\tLoss: 0.001715\tAccuracy: 100.000000\tTime 0.333 (0.332)\tData 0.002 (0.026)\n",
      "Train Epoch: 1\t[9920/27064 (37%)]\tLoss: 0.002063\tAccuracy: 100.000000\tTime 0.331 (0.332)\tData 0.002 (0.026)\n",
      "Train Epoch: 1\t[10240/27064 (38%)]\tLoss: 0.004450\tAccuracy: 96.875000\tTime 0.331 (0.332)\tData 0.002 (0.026)\n",
      "Train Epoch: 1\t[10560/27064 (39%)]\tLoss: 0.001390\tAccuracy: 100.000000\tTime 0.332 (0.332)\tData 0.002 (0.026)\n",
      "Train Epoch: 1\t[10880/27064 (40%)]\tLoss: 0.000779\tAccuracy: 100.000000\tTime 0.333 (0.332)\tData 0.002 (0.026)\n",
      "Train Epoch: 1\t[11200/27064 (41%)]\tLoss: 0.001022\tAccuracy: 100.000000\tTime 0.332 (0.332)\tData 0.002 (0.026)\n",
      "Train Epoch: 1\t[11520/27064 (43%)]\tLoss: 0.003133\tAccuracy: 100.000000\tTime 0.332 (0.332)\tData 0.002 (0.026)\n",
      "Train Epoch: 1\t[11840/27064 (44%)]\tLoss: 0.003427\tAccuracy: 100.000000\tTime 0.333 (0.332)\tData 0.002 (0.026)\n",
      "Train Epoch: 1\t[12160/27064 (45%)]\tLoss: 0.001347\tAccuracy: 100.000000\tTime 0.332 (0.332)\tData 0.002 (0.026)\n",
      "Train Epoch: 1\t[12480/27064 (46%)]\tLoss: 0.001366\tAccuracy: 100.000000\tTime 0.333 (0.332)\tData 0.002 (0.026)\n",
      "Train Epoch: 1\t[12800/27064 (47%)]\tLoss: 0.001365\tAccuracy: 100.000000\tTime 0.332 (0.332)\tData 0.002 (0.027)\n",
      "Train Epoch: 1\t[13120/27064 (48%)]\tLoss: 0.000886\tAccuracy: 100.000000\tTime 0.332 (0.332)\tData 0.002 (0.027)\n",
      "Train Epoch: 1\t[13440/27064 (50%)]\tLoss: 0.000299\tAccuracy: 100.000000\tTime 0.333 (0.332)\tData 0.002 (0.027)\n",
      "Train Epoch: 1\t[13760/27064 (51%)]\tLoss: 0.000364\tAccuracy: 100.000000\tTime 0.332 (0.332)\tData 0.002 (0.027)\n",
      "Train Epoch: 1\t[14080/27064 (52%)]\tLoss: 0.003587\tAccuracy: 100.000000\tTime 0.332 (0.332)\tData 0.002 (0.027)\n",
      "Train Epoch: 1\t[14400/27064 (53%)]\tLoss: 0.000149\tAccuracy: 100.000000\tTime 0.332 (0.332)\tData 0.002 (0.027)\n",
      "Train Epoch: 1\t[14720/27064 (54%)]\tLoss: 0.000149\tAccuracy: 100.000000\tTime 0.332 (0.332)\tData 0.002 (0.027)\n",
      "Train Epoch: 1\t[15040/27064 (56%)]\tLoss: 0.000071\tAccuracy: 100.000000\tTime 0.332 (0.332)\tData 0.002 (0.027)\n",
      "Train Epoch: 1\t[15360/27064 (57%)]\tLoss: 0.003752\tAccuracy: 96.875000\tTime 0.332 (0.332)\tData 0.002 (0.027)\n",
      "Train Epoch: 1\t[15680/27064 (58%)]\tLoss: 0.001587\tAccuracy: 100.000000\tTime 0.333 (0.332)\tData 0.002 (0.027)\n",
      "Train Epoch: 1\t[16000/27064 (59%)]\tLoss: 0.001088\tAccuracy: 100.000000\tTime 0.331 (0.332)\tData 0.002 (0.027)\n",
      "Train Epoch: 1\t[16320/27064 (60%)]\tLoss: 0.010209\tAccuracy: 90.625000\tTime 0.335 (0.332)\tData 0.002 (0.027)\n",
      "Train Epoch: 1\t[16640/27064 (61%)]\tLoss: 0.004824\tAccuracy: 100.000000\tTime 0.333 (0.332)\tData 0.002 (0.027)\n",
      "Train Epoch: 1\t[16960/27064 (63%)]\tLoss: 0.002188\tAccuracy: 100.000000\tTime 0.332 (0.332)\tData 0.002 (0.027)\n",
      "Train Epoch: 1\t[17280/27064 (64%)]\tLoss: 0.002611\tAccuracy: 100.000000\tTime 0.332 (0.332)\tData 0.002 (0.027)\n",
      "Train Epoch: 1\t[17600/27064 (65%)]\tLoss: 0.000240\tAccuracy: 100.000000\tTime 0.332 (0.332)\tData 0.002 (0.027)\n",
      "Train Epoch: 1\t[17920/27064 (66%)]\tLoss: 0.003402\tAccuracy: 96.875000\tTime 0.326 (0.332)\tData 0.002 (0.027)\n",
      "Train Epoch: 1\t[18240/27064 (67%)]\tLoss: 0.004148\tAccuracy: 100.000000\tTime 0.333 (0.332)\tData 0.002 (0.027)\n",
      "Train Epoch: 1\t[18560/27064 (69%)]\tLoss: 0.002307\tAccuracy: 96.875000\tTime 0.332 (0.332)\tData 0.002 (0.027)\n",
      "Train Epoch: 1\t[18880/27064 (70%)]\tLoss: 0.002111\tAccuracy: 100.000000\tTime 0.325 (0.332)\tData 0.003 (0.027)\n",
      "Train Epoch: 1\t[19200/27064 (71%)]\tLoss: 0.000920\tAccuracy: 100.000000\tTime 0.334 (0.332)\tData 0.002 (0.027)\n",
      "Train Epoch: 1\t[19520/27064 (72%)]\tLoss: 0.000178\tAccuracy: 100.000000\tTime 0.330 (0.332)\tData 0.004 (0.027)\n",
      "Train Epoch: 1\t[19840/27064 (73%)]\tLoss: 0.000294\tAccuracy: 100.000000\tTime 0.333 (0.332)\tData 0.002 (0.027)\n",
      "Train Epoch: 1\t[20160/27064 (74%)]\tLoss: 0.000246\tAccuracy: 100.000000\tTime 0.326 (0.332)\tData 0.002 (0.027)\n",
      "Train Epoch: 1\t[20480/27064 (76%)]\tLoss: 0.004990\tAccuracy: 100.000000\tTime 0.332 (0.332)\tData 0.002 (0.027)\n",
      "Train Epoch: 1\t[20800/27064 (77%)]\tLoss: 0.000161\tAccuracy: 100.000000\tTime 0.331 (0.332)\tData 0.002 (0.027)\n",
      "Train Epoch: 1\t[21120/27064 (78%)]\tLoss: 0.000336\tAccuracy: 100.000000\tTime 0.326 (0.332)\tData 0.002 (0.027)\n",
      "Train Epoch: 1\t[21440/27064 (79%)]\tLoss: 0.006770\tAccuracy: 96.875000\tTime 0.333 (0.332)\tData 0.002 (0.027)\n",
      "Train Epoch: 1\t[21760/27064 (80%)]\tLoss: 0.000014\tAccuracy: 100.000000\tTime 0.332 (0.332)\tData 0.002 (0.027)\n",
      "Train Epoch: 1\t[22080/27064 (82%)]\tLoss: 0.001875\tAccuracy: 100.000000\tTime 0.332 (0.332)\tData 0.002 (0.027)\n",
      "Train Epoch: 1\t[22400/27064 (83%)]\tLoss: 0.000475\tAccuracy: 100.000000\tTime 0.333 (0.332)\tData 0.002 (0.027)\n",
      "Train Epoch: 1\t[22720/27064 (84%)]\tLoss: 0.000539\tAccuracy: 100.000000\tTime 0.333 (0.332)\tData 0.002 (0.027)\n",
      "Train Epoch: 1\t[23040/27064 (85%)]\tLoss: 0.000101\tAccuracy: 100.000000\tTime 0.333 (0.332)\tData 0.002 (0.027)\n",
      "Train Epoch: 1\t[23360/27064 (86%)]\tLoss: 0.003035\tAccuracy: 96.875000\tTime 0.332 (0.332)\tData 0.002 (0.027)\n",
      "Train Epoch: 1\t[23680/27064 (87%)]\tLoss: 0.000701\tAccuracy: 100.000000\tTime 0.326 (0.332)\tData 0.002 (0.027)\n",
      "Train Epoch: 1\t[24000/27064 (89%)]\tLoss: 0.008226\tAccuracy: 100.000000\tTime 0.331 (0.332)\tData 0.004 (0.027)\n"
     ]
    },
    {
     "name": "stdout",
     "output_type": "stream",
     "text": [
      "Train Epoch: 1\t[24320/27064 (90%)]\tLoss: 0.001437\tAccuracy: 100.000000\tTime 0.333 (0.332)\tData 0.002 (0.027)\n",
      "Train Epoch: 1\t[24640/27064 (91%)]\tLoss: 0.001665\tAccuracy: 100.000000\tTime 0.332 (0.332)\tData 0.002 (0.027)\n",
      "Train Epoch: 1\t[24960/27064 (92%)]\tLoss: 0.001156\tAccuracy: 100.000000\tTime 0.332 (0.332)\tData 0.002 (0.027)\n",
      "Train Epoch: 1\t[25280/27064 (93%)]\tLoss: 0.001018\tAccuracy: 100.000000\tTime 0.333 (0.332)\tData 0.002 (0.027)\n",
      "Train Epoch: 1\t[25600/27064 (95%)]\tLoss: 0.000180\tAccuracy: 100.000000\tTime 0.326 (0.332)\tData 0.002 (0.027)\n",
      "Train Epoch: 1\t[25920/27064 (96%)]\tLoss: 0.003324\tAccuracy: 96.875000\tTime 0.326 (0.332)\tData 0.002 (0.027)\n",
      "Train Epoch: 1\t[26240/27064 (97%)]\tLoss: 0.001693\tAccuracy: 100.000000\tTime 0.336 (0.332)\tData 0.002 (0.027)\n",
      "Train Epoch: 1\t[26560/27064 (98%)]\tLoss: 0.001036\tAccuracy: 100.000000\tTime 0.332 (0.332)\tData 0.002 (0.027)\n",
      "Train Epoch: 1\t[26880/27064 (99%)]\tLoss: 0.000667\tAccuracy: 100.000000\tTime 0.326 (0.332)\tData 0.002 (0.027)\n",
      "\n",
      "Val set: Average loss: 0.220004, Accuracy: 99.852941 \n",
      "\n",
      "-------------------- HIGHEST ACCURACY ---------------------------\n",
      "Train Epoch: 2\t[0/27064 (0%)]\tLoss: 0.000115\tAccuracy: 100.000000\tTime 0.081 (0.081)\tData 0.003 (0.003)\n",
      "Train Epoch: 2\t[320/27064 (1%)]\tLoss: 0.000437\tAccuracy: 100.000000\tTime 0.331 (0.308)\tData 0.002 (0.025)\n",
      "Train Epoch: 2\t[640/27064 (2%)]\tLoss: 0.000378\tAccuracy: 100.000000\tTime 0.326 (0.319)\tData 0.002 (0.026)\n",
      "Train Epoch: 2\t[960/27064 (4%)]\tLoss: 0.000039\tAccuracy: 100.000000\tTime 0.333 (0.323)\tData 0.002 (0.027)\n",
      "Train Epoch: 2\t[1280/27064 (5%)]\tLoss: 0.000042\tAccuracy: 100.000000\tTime 0.326 (0.325)\tData 0.002 (0.027)\n",
      "Train Epoch: 2\t[1600/27064 (6%)]\tLoss: 0.001289\tAccuracy: 100.000000\tTime 0.329 (0.326)\tData 0.002 (0.027)\n",
      "Train Epoch: 2\t[1920/27064 (7%)]\tLoss: 0.000177\tAccuracy: 100.000000\tTime 0.333 (0.327)\tData 0.002 (0.027)\n",
      "Train Epoch: 2\t[2240/27064 (8%)]\tLoss: 0.000113\tAccuracy: 100.000000\tTime 0.326 (0.327)\tData 0.002 (0.027)\n",
      "Train Epoch: 2\t[2560/27064 (9%)]\tLoss: 0.002184\tAccuracy: 100.000000\tTime 0.326 (0.328)\tData 0.002 (0.027)\n",
      "Train Epoch: 2\t[2880/27064 (11%)]\tLoss: 0.000211\tAccuracy: 100.000000\tTime 0.332 (0.328)\tData 0.002 (0.027)\n",
      "Train Epoch: 2\t[3200/27064 (12%)]\tLoss: 0.000522\tAccuracy: 100.000000\tTime 0.326 (0.329)\tData 0.002 (0.027)\n",
      "Train Epoch: 2\t[3520/27064 (13%)]\tLoss: 0.009445\tAccuracy: 96.875000\tTime 0.327 (0.329)\tData 0.002 (0.027)\n",
      "Train Epoch: 2\t[3840/27064 (14%)]\tLoss: 0.003407\tAccuracy: 100.000000\tTime 0.332 (0.329)\tData 0.002 (0.027)\n",
      "Train Epoch: 2\t[4160/27064 (15%)]\tLoss: 0.003018\tAccuracy: 96.875000\tTime 0.334 (0.329)\tData 0.002 (0.027)\n",
      "Train Epoch: 2\t[4480/27064 (17%)]\tLoss: 0.001479\tAccuracy: 100.000000\tTime 0.332 (0.330)\tData 0.002 (0.027)\n",
      "Train Epoch: 2\t[4800/27064 (18%)]\tLoss: 0.000966\tAccuracy: 100.000000\tTime 0.332 (0.330)\tData 0.002 (0.027)\n",
      "Train Epoch: 2\t[5120/27064 (19%)]\tLoss: 0.002503\tAccuracy: 100.000000\tTime 0.332 (0.330)\tData 0.002 (0.027)\n",
      "Train Epoch: 2\t[5440/27064 (20%)]\tLoss: 0.000457\tAccuracy: 100.000000\tTime 0.332 (0.330)\tData 0.002 (0.027)\n",
      "Train Epoch: 2\t[5760/27064 (21%)]\tLoss: 0.001751\tAccuracy: 100.000000\tTime 0.329 (0.330)\tData 0.004 (0.027)\n",
      "Train Epoch: 2\t[6080/27064 (22%)]\tLoss: 0.000582\tAccuracy: 100.000000\tTime 0.329 (0.330)\tData 0.004 (0.027)\n",
      "Train Epoch: 2\t[6400/27064 (24%)]\tLoss: 0.000062\tAccuracy: 100.000000\tTime 0.328 (0.330)\tData 0.003 (0.027)\n",
      "Train Epoch: 2\t[6720/27064 (25%)]\tLoss: 0.002544\tAccuracy: 100.000000\tTime 0.331 (0.330)\tData 0.002 (0.027)\n",
      "Train Epoch: 2\t[7040/27064 (26%)]\tLoss: 0.000810\tAccuracy: 100.000000\tTime 0.331 (0.330)\tData 0.002 (0.027)\n",
      "Train Epoch: 2\t[7360/27064 (27%)]\tLoss: 0.000407\tAccuracy: 100.000000\tTime 0.329 (0.330)\tData 0.002 (0.027)\n",
      "Train Epoch: 2\t[7680/27064 (28%)]\tLoss: 0.000054\tAccuracy: 100.000000\tTime 0.328 (0.330)\tData 0.004 (0.027)\n",
      "Train Epoch: 2\t[8000/27064 (30%)]\tLoss: 0.002465\tAccuracy: 100.000000\tTime 0.329 (0.330)\tData 0.002 (0.027)\n",
      "Train Epoch: 2\t[8320/27064 (31%)]\tLoss: 0.001613\tAccuracy: 100.000000\tTime 0.330 (0.330)\tData 0.002 (0.027)\n",
      "Train Epoch: 2\t[8640/27064 (32%)]\tLoss: 0.001475\tAccuracy: 100.000000\tTime 0.329 (0.330)\tData 0.002 (0.027)\n",
      "Train Epoch: 2\t[8960/27064 (33%)]\tLoss: 0.005991\tAccuracy: 100.000000\tTime 0.323 (0.330)\tData 0.002 (0.027)\n",
      "Train Epoch: 2\t[9280/27064 (34%)]\tLoss: 0.000000\tAccuracy: 100.000000\tTime 0.329 (0.330)\tData 0.002 (0.027)\n",
      "Train Epoch: 2\t[9600/27064 (35%)]\tLoss: 0.000165\tAccuracy: 100.000000\tTime 0.337 (0.330)\tData 0.002 (0.027)\n",
      "Train Epoch: 2\t[9920/27064 (37%)]\tLoss: 0.001688\tAccuracy: 100.000000\tTime 0.324 (0.330)\tData 0.002 (0.027)\n",
      "Train Epoch: 2\t[10240/27064 (38%)]\tLoss: 0.000620\tAccuracy: 100.000000\tTime 0.331 (0.330)\tData 0.002 (0.027)\n",
      "Train Epoch: 2\t[10560/27064 (39%)]\tLoss: 0.000185\tAccuracy: 100.000000\tTime 0.331 (0.330)\tData 0.002 (0.027)\n",
      "Train Epoch: 2\t[10880/27064 (40%)]\tLoss: 0.000150\tAccuracy: 100.000000\tTime 0.324 (0.330)\tData 0.002 (0.027)\n",
      "Train Epoch: 2\t[11200/27064 (41%)]\tLoss: 0.001716\tAccuracy: 100.000000\tTime 0.326 (0.330)\tData 0.002 (0.027)\n",
      "Train Epoch: 2\t[11520/27064 (43%)]\tLoss: 0.005218\tAccuracy: 96.875000\tTime 0.325 (0.330)\tData 0.002 (0.027)\n",
      "Train Epoch: 2\t[11840/27064 (44%)]\tLoss: 0.000012\tAccuracy: 100.000000\tTime 0.331 (0.330)\tData 0.002 (0.027)\n",
      "Train Epoch: 2\t[12160/27064 (45%)]\tLoss: 0.003427\tAccuracy: 100.000000\tTime 0.331 (0.330)\tData 0.002 (0.027)\n",
      "Train Epoch: 2\t[12480/27064 (46%)]\tLoss: 0.002788\tAccuracy: 100.000000\tTime 0.329 (0.330)\tData 0.004 (0.027)\n",
      "Train Epoch: 2\t[12800/27064 (47%)]\tLoss: 0.000676\tAccuracy: 100.000000\tTime 0.325 (0.330)\tData 0.002 (0.027)\n",
      "Train Epoch: 2\t[13120/27064 (48%)]\tLoss: 0.000813\tAccuracy: 100.000000\tTime 0.331 (0.330)\tData 0.002 (0.027)\n",
      "Train Epoch: 2\t[13440/27064 (50%)]\tLoss: 0.000164\tAccuracy: 100.000000\tTime 0.324 (0.330)\tData 0.002 (0.027)\n",
      "Train Epoch: 2\t[13760/27064 (51%)]\tLoss: 0.003163\tAccuracy: 96.875000\tTime 0.325 (0.330)\tData 0.002 (0.027)\n",
      "Train Epoch: 2\t[14080/27064 (52%)]\tLoss: 0.000354\tAccuracy: 100.000000\tTime 0.331 (0.330)\tData 0.002 (0.027)\n",
      "Train Epoch: 2\t[14400/27064 (53%)]\tLoss: 0.002117\tAccuracy: 100.000000\tTime 0.331 (0.330)\tData 0.004 (0.027)\n",
      "Train Epoch: 2\t[14720/27064 (54%)]\tLoss: -0.000000\tAccuracy: 100.000000\tTime 0.332 (0.330)\tData 0.002 (0.027)\n",
      "Train Epoch: 2\t[15040/27064 (56%)]\tLoss: 0.001963\tAccuracy: 100.000000\tTime 0.332 (0.330)\tData 0.002 (0.027)\n",
      "Train Epoch: 2\t[15360/27064 (57%)]\tLoss: 0.000862\tAccuracy: 100.000000\tTime 0.332 (0.330)\tData 0.002 (0.027)\n",
      "Train Epoch: 2\t[15680/27064 (58%)]\tLoss: 0.012111\tAccuracy: 93.750000\tTime 0.333 (0.330)\tData 0.002 (0.027)\n",
      "Train Epoch: 2\t[16000/27064 (59%)]\tLoss: 0.000059\tAccuracy: 100.000000\tTime 0.333 (0.330)\tData 0.002 (0.027)\n",
      "Train Epoch: 2\t[16320/27064 (60%)]\tLoss: 0.000966\tAccuracy: 100.000000\tTime 0.331 (0.330)\tData 0.002 (0.027)\n",
      "Train Epoch: 2\t[16640/27064 (61%)]\tLoss: 0.000795\tAccuracy: 100.000000\tTime 0.333 (0.330)\tData 0.002 (0.027)\n",
      "Train Epoch: 2\t[16960/27064 (63%)]\tLoss: 0.000271\tAccuracy: 100.000000\tTime 0.333 (0.330)\tData 0.002 (0.027)\n",
      "Train Epoch: 2\t[17280/27064 (64%)]\tLoss: 0.000705\tAccuracy: 100.000000\tTime 0.326 (0.330)\tData 0.002 (0.027)\n",
      "Train Epoch: 2\t[17600/27064 (65%)]\tLoss: 0.000113\tAccuracy: 100.000000\tTime 0.333 (0.330)\tData 0.002 (0.027)\n",
      "Train Epoch: 2\t[17920/27064 (66%)]\tLoss: 0.000050\tAccuracy: 100.000000\tTime 0.326 (0.330)\tData 0.002 (0.027)\n",
      "Train Epoch: 2\t[18240/27064 (67%)]\tLoss: 0.000240\tAccuracy: 100.000000\tTime 0.326 (0.331)\tData 0.002 (0.027)\n",
      "Train Epoch: 2\t[18560/27064 (69%)]\tLoss: 0.001350\tAccuracy: 100.000000\tTime 0.332 (0.331)\tData 0.002 (0.027)\n",
      "Train Epoch: 2\t[18880/27064 (70%)]\tLoss: 0.000010\tAccuracy: 100.000000\tTime 0.332 (0.331)\tData 0.002 (0.027)\n",
      "Train Epoch: 2\t[19200/27064 (71%)]\tLoss: 0.000933\tAccuracy: 100.000000\tTime 0.330 (0.331)\tData 0.002 (0.027)\n",
      "Train Epoch: 2\t[19520/27064 (72%)]\tLoss: 0.000000\tAccuracy: 100.000000\tTime 0.332 (0.331)\tData 0.002 (0.027)\n",
      "Train Epoch: 2\t[19840/27064 (73%)]\tLoss: 0.000174\tAccuracy: 100.000000\tTime 0.326 (0.331)\tData 0.002 (0.027)\n",
      "Train Epoch: 2\t[20160/27064 (74%)]\tLoss: 0.001419\tAccuracy: 100.000000\tTime 0.331 (0.331)\tData 0.002 (0.027)\n",
      "Train Epoch: 2\t[20480/27064 (76%)]\tLoss: 0.000829\tAccuracy: 100.000000\tTime 0.326 (0.331)\tData 0.002 (0.027)\n",
      "Train Epoch: 2\t[20800/27064 (77%)]\tLoss: 0.000260\tAccuracy: 100.000000\tTime 0.326 (0.331)\tData 0.002 (0.027)\n"
     ]
    },
    {
     "name": "stdout",
     "output_type": "stream",
     "text": [
      "Train Epoch: 2\t[21120/27064 (78%)]\tLoss: 0.000000\tAccuracy: 100.000000\tTime 0.326 (0.331)\tData 0.002 (0.027)\n",
      "Train Epoch: 2\t[21440/27064 (79%)]\tLoss: 0.002665\tAccuracy: 96.875000\tTime 0.326 (0.331)\tData 0.002 (0.027)\n",
      "Train Epoch: 2\t[21760/27064 (80%)]\tLoss: 0.000974\tAccuracy: 100.000000\tTime 0.326 (0.331)\tData 0.002 (0.027)\n",
      "Train Epoch: 2\t[22080/27064 (82%)]\tLoss: 0.000124\tAccuracy: 100.000000\tTime 0.326 (0.331)\tData 0.002 (0.027)\n",
      "Train Epoch: 2\t[22400/27064 (83%)]\tLoss: 0.000364\tAccuracy: 100.000000\tTime 0.326 (0.331)\tData 0.002 (0.027)\n",
      "Train Epoch: 2\t[22720/27064 (84%)]\tLoss: 0.000057\tAccuracy: 100.000000\tTime 0.333 (0.331)\tData 0.002 (0.027)\n",
      "Train Epoch: 2\t[23040/27064 (85%)]\tLoss: 0.000001\tAccuracy: 100.000000\tTime 0.326 (0.331)\tData 0.002 (0.027)\n",
      "Train Epoch: 2\t[23360/27064 (86%)]\tLoss: 0.000268\tAccuracy: 100.000000\tTime 0.327 (0.331)\tData 0.002 (0.027)\n",
      "Train Epoch: 2\t[23680/27064 (87%)]\tLoss: 0.029435\tAccuracy: 96.875000\tTime 0.334 (0.331)\tData 0.002 (0.027)\n",
      "Train Epoch: 2\t[24000/27064 (89%)]\tLoss: 0.000024\tAccuracy: 100.000000\tTime 0.326 (0.331)\tData 0.002 (0.027)\n",
      "Train Epoch: 2\t[24320/27064 (90%)]\tLoss: 0.000233\tAccuracy: 100.000000\tTime 0.331 (0.331)\tData 0.002 (0.027)\n",
      "Train Epoch: 2\t[24640/27064 (91%)]\tLoss: 0.000000\tAccuracy: 100.000000\tTime 0.333 (0.331)\tData 0.002 (0.027)\n",
      "Train Epoch: 2\t[24960/27064 (92%)]\tLoss: 0.000294\tAccuracy: 100.000000\tTime 0.334 (0.331)\tData 0.002 (0.027)\n",
      "Train Epoch: 2\t[25280/27064 (93%)]\tLoss: 0.000007\tAccuracy: 100.000000\tTime 0.332 (0.331)\tData 0.002 (0.027)\n",
      "Train Epoch: 2\t[25600/27064 (95%)]\tLoss: 0.000060\tAccuracy: 100.000000\tTime 0.332 (0.331)\tData 0.002 (0.027)\n",
      "Train Epoch: 2\t[25920/27064 (96%)]\tLoss: 0.000000\tAccuracy: 100.000000\tTime 0.332 (0.331)\tData 0.002 (0.027)\n",
      "Train Epoch: 2\t[26240/27064 (97%)]\tLoss: 0.000000\tAccuracy: 100.000000\tTime 0.332 (0.331)\tData 0.002 (0.027)\n",
      "Train Epoch: 2\t[26560/27064 (98%)]\tLoss: 0.000114\tAccuracy: 100.000000\tTime 0.332 (0.331)\tData 0.002 (0.027)\n",
      "Train Epoch: 2\t[26880/27064 (99%)]\tLoss: 0.000318\tAccuracy: 100.000000\tTime 0.332 (0.331)\tData 0.002 (0.027)\n",
      "\n",
      "Val set: Average loss: 0.140172, Accuracy: 99.889706 \n",
      "\n",
      "-------------------- HIGHEST ACCURACY ---------------------------\n",
      "Train Epoch: 3\t[0/27064 (0%)]\tLoss: 0.002582\tAccuracy: 96.875000\tTime 0.083 (0.083)\tData 0.003 (0.003)\n",
      "Train Epoch: 3\t[320/27064 (1%)]\tLoss: 0.001364\tAccuracy: 100.000000\tTime 0.332 (0.309)\tData 0.002 (0.025)\n",
      "Train Epoch: 3\t[640/27064 (2%)]\tLoss: 0.000339\tAccuracy: 100.000000\tTime 0.332 (0.320)\tData 0.002 (0.026)\n",
      "Train Epoch: 3\t[960/27064 (4%)]\tLoss: 0.001131\tAccuracy: 100.000000\tTime 0.332 (0.324)\tData 0.002 (0.027)\n",
      "Train Epoch: 3\t[1280/27064 (5%)]\tLoss: 0.001267\tAccuracy: 100.000000\tTime 0.332 (0.326)\tData 0.002 (0.027)\n",
      "Train Epoch: 3\t[1600/27064 (6%)]\tLoss: 0.000283\tAccuracy: 100.000000\tTime 0.332 (0.327)\tData 0.002 (0.027)\n",
      "Train Epoch: 3\t[1920/27064 (7%)]\tLoss: 0.000590\tAccuracy: 100.000000\tTime 0.331 (0.328)\tData 0.003 (0.027)\n",
      "Train Epoch: 3\t[2240/27064 (8%)]\tLoss: 0.000361\tAccuracy: 100.000000\tTime 0.332 (0.328)\tData 0.002 (0.027)\n",
      "Train Epoch: 3\t[2560/27064 (9%)]\tLoss: 0.000000\tAccuracy: 100.000000\tTime 0.333 (0.329)\tData 0.002 (0.027)\n",
      "Train Epoch: 3\t[2880/27064 (11%)]\tLoss: 0.001409\tAccuracy: 100.000000\tTime 0.326 (0.329)\tData 0.002 (0.027)\n",
      "Train Epoch: 3\t[3200/27064 (12%)]\tLoss: 0.000019\tAccuracy: 100.000000\tTime 0.333 (0.329)\tData 0.002 (0.027)\n",
      "Train Epoch: 3\t[3520/27064 (13%)]\tLoss: 0.000096\tAccuracy: 100.000000\tTime 0.332 (0.329)\tData 0.002 (0.027)\n",
      "Train Epoch: 3\t[3840/27064 (14%)]\tLoss: 0.000020\tAccuracy: 100.000000\tTime 0.326 (0.329)\tData 0.002 (0.027)\n",
      "Train Epoch: 3\t[4160/27064 (15%)]\tLoss: 0.000017\tAccuracy: 100.000000\tTime 0.333 (0.330)\tData 0.002 (0.027)\n",
      "Train Epoch: 3\t[4480/27064 (17%)]\tLoss: 0.000191\tAccuracy: 100.000000\tTime 0.332 (0.330)\tData 0.002 (0.027)\n",
      "Train Epoch: 3\t[4800/27064 (18%)]\tLoss: 0.000598\tAccuracy: 100.000000\tTime 0.326 (0.330)\tData 0.002 (0.027)\n",
      "Train Epoch: 3\t[5120/27064 (19%)]\tLoss: 0.000748\tAccuracy: 100.000000\tTime 0.324 (0.330)\tData 0.002 (0.027)\n",
      "Train Epoch: 3\t[5440/27064 (20%)]\tLoss: 0.001320\tAccuracy: 100.000000\tTime 0.329 (0.330)\tData 0.002 (0.027)\n",
      "Train Epoch: 3\t[5760/27064 (21%)]\tLoss: 0.000000\tAccuracy: 100.000000\tTime 0.324 (0.330)\tData 0.002 (0.027)\n",
      "Train Epoch: 3\t[6080/27064 (22%)]\tLoss: 0.000069\tAccuracy: 100.000000\tTime 0.324 (0.330)\tData 0.002 (0.027)\n",
      "Train Epoch: 3\t[6400/27064 (24%)]\tLoss: 0.000012\tAccuracy: 100.000000\tTime 0.329 (0.330)\tData 0.002 (0.027)\n",
      "Train Epoch: 3\t[6720/27064 (25%)]\tLoss: 0.001453\tAccuracy: 100.000000\tTime 0.324 (0.330)\tData 0.002 (0.027)\n",
      "Train Epoch: 3\t[7040/27064 (26%)]\tLoss: 0.003653\tAccuracy: 96.875000\tTime 0.324 (0.330)\tData 0.002 (0.027)\n",
      "Train Epoch: 3\t[7360/27064 (27%)]\tLoss: 0.000001\tAccuracy: 100.000000\tTime 0.331 (0.330)\tData 0.002 (0.027)\n",
      "Train Epoch: 3\t[7680/27064 (28%)]\tLoss: 0.000194\tAccuracy: 100.000000\tTime 0.324 (0.330)\tData 0.002 (0.027)\n",
      "Train Epoch: 3\t[8000/27064 (30%)]\tLoss: 0.001853\tAccuracy: 100.000000\tTime 0.328 (0.330)\tData 0.004 (0.027)\n",
      "Train Epoch: 3\t[8320/27064 (31%)]\tLoss: 0.000211\tAccuracy: 100.000000\tTime 0.331 (0.330)\tData 0.002 (0.027)\n",
      "Train Epoch: 3\t[8640/27064 (32%)]\tLoss: 0.001060\tAccuracy: 100.000000\tTime 0.323 (0.330)\tData 0.003 (0.027)\n",
      "Train Epoch: 3\t[8960/27064 (33%)]\tLoss: 0.000013\tAccuracy: 100.000000\tTime 0.331 (0.330)\tData 0.002 (0.027)\n",
      "Train Epoch: 3\t[9280/27064 (34%)]\tLoss: 0.033205\tAccuracy: 96.875000\tTime 0.331 (0.330)\tData 0.002 (0.027)\n",
      "Train Epoch: 3\t[9600/27064 (35%)]\tLoss: 0.000596\tAccuracy: 100.000000\tTime 0.324 (0.329)\tData 0.002 (0.027)\n",
      "Train Epoch: 3\t[9920/27064 (37%)]\tLoss: 0.000000\tAccuracy: 100.000000\tTime 0.329 (0.329)\tData 0.002 (0.027)\n",
      "Train Epoch: 3\t[10240/27064 (38%)]\tLoss: 0.000525\tAccuracy: 100.000000\tTime 0.324 (0.329)\tData 0.002 (0.027)\n",
      "Train Epoch: 3\t[10560/27064 (39%)]\tLoss: 0.000066\tAccuracy: 100.000000\tTime 0.324 (0.329)\tData 0.002 (0.027)\n",
      "Train Epoch: 3\t[10880/27064 (40%)]\tLoss: 0.002198\tAccuracy: 100.000000\tTime 0.332 (0.329)\tData 0.002 (0.027)\n",
      "Train Epoch: 3\t[11200/27064 (41%)]\tLoss: 0.001649\tAccuracy: 100.000000\tTime 0.325 (0.329)\tData 0.002 (0.027)\n",
      "Train Epoch: 3\t[11520/27064 (43%)]\tLoss: 0.000517\tAccuracy: 100.000000\tTime 0.330 (0.329)\tData 0.003 (0.027)\n",
      "Train Epoch: 3\t[11840/27064 (44%)]\tLoss: 0.000025\tAccuracy: 100.000000\tTime 0.329 (0.330)\tData 0.002 (0.027)\n",
      "Train Epoch: 3\t[12160/27064 (45%)]\tLoss: 0.001226\tAccuracy: 100.000000\tTime 0.325 (0.330)\tData 0.003 (0.027)\n",
      "Train Epoch: 3\t[12480/27064 (46%)]\tLoss: 0.000087\tAccuracy: 100.000000\tTime 0.329 (0.329)\tData 0.002 (0.027)\n",
      "Train Epoch: 3\t[12800/27064 (47%)]\tLoss: 0.000894\tAccuracy: 100.000000\tTime 0.331 (0.329)\tData 0.002 (0.027)\n",
      "Train Epoch: 3\t[13120/27064 (48%)]\tLoss: 0.001573\tAccuracy: 100.000000\tTime 0.330 (0.330)\tData 0.004 (0.027)\n",
      "Train Epoch: 3\t[13440/27064 (50%)]\tLoss: 0.000000\tAccuracy: 100.000000\tTime 0.330 (0.329)\tData 0.004 (0.027)\n",
      "Train Epoch: 3\t[13760/27064 (51%)]\tLoss: 0.000268\tAccuracy: 100.000000\tTime 0.324 (0.329)\tData 0.002 (0.027)\n",
      "Train Epoch: 3\t[14080/27064 (52%)]\tLoss: 0.000428\tAccuracy: 100.000000\tTime 0.325 (0.329)\tData 0.002 (0.027)\n",
      "Train Epoch: 3\t[14400/27064 (53%)]\tLoss: 0.000405\tAccuracy: 100.000000\tTime 0.333 (0.329)\tData 0.002 (0.027)\n",
      "Train Epoch: 3\t[14720/27064 (54%)]\tLoss: 0.000699\tAccuracy: 100.000000\tTime 0.330 (0.329)\tData 0.004 (0.027)\n",
      "Train Epoch: 3\t[15040/27064 (56%)]\tLoss: 0.000971\tAccuracy: 100.000000\tTime 0.324 (0.329)\tData 0.002 (0.027)\n",
      "Train Epoch: 3\t[15360/27064 (57%)]\tLoss: 0.000760\tAccuracy: 100.000000\tTime 0.331 (0.329)\tData 0.002 (0.027)\n",
      "Train Epoch: 3\t[15680/27064 (58%)]\tLoss: -0.000000\tAccuracy: 100.000000\tTime 0.324 (0.329)\tData 0.002 (0.027)\n",
      "Train Epoch: 3\t[16000/27064 (59%)]\tLoss: 0.000224\tAccuracy: 100.000000\tTime 0.332 (0.329)\tData 0.002 (0.027)\n",
      "Train Epoch: 3\t[16320/27064 (60%)]\tLoss: 0.006251\tAccuracy: 96.875000\tTime 0.324 (0.329)\tData 0.002 (0.027)\n",
      "Train Epoch: 3\t[16640/27064 (61%)]\tLoss: 0.000136\tAccuracy: 100.000000\tTime 0.324 (0.329)\tData 0.002 (0.027)\n",
      "Train Epoch: 3\t[16960/27064 (63%)]\tLoss: 0.000301\tAccuracy: 100.000000\tTime 0.329 (0.329)\tData 0.002 (0.027)\n",
      "Train Epoch: 3\t[17280/27064 (64%)]\tLoss: 0.000938\tAccuracy: 100.000000\tTime 0.324 (0.329)\tData 0.002 (0.027)\n",
      "Train Epoch: 3\t[17600/27064 (65%)]\tLoss: 0.016615\tAccuracy: 96.875000\tTime 0.331 (0.329)\tData 0.002 (0.027)\n"
     ]
    },
    {
     "name": "stdout",
     "output_type": "stream",
     "text": [
      "Train Epoch: 3\t[17920/27064 (66%)]\tLoss: 0.017018\tAccuracy: 96.875000\tTime 0.332 (0.329)\tData 0.002 (0.027)\n",
      "Train Epoch: 3\t[18240/27064 (67%)]\tLoss: 0.003069\tAccuracy: 100.000000\tTime 0.331 (0.329)\tData 0.002 (0.027)\n",
      "Train Epoch: 3\t[18560/27064 (69%)]\tLoss: 0.003538\tAccuracy: 100.000000\tTime 0.325 (0.329)\tData 0.002 (0.027)\n",
      "Train Epoch: 3\t[18880/27064 (70%)]\tLoss: 0.001988\tAccuracy: 100.000000\tTime 0.331 (0.329)\tData 0.002 (0.027)\n",
      "Train Epoch: 3\t[19200/27064 (71%)]\tLoss: 0.002058\tAccuracy: 100.000000\tTime 0.331 (0.329)\tData 0.002 (0.027)\n",
      "Train Epoch: 3\t[19520/27064 (72%)]\tLoss: 0.000891\tAccuracy: 100.000000\tTime 0.333 (0.329)\tData 0.002 (0.027)\n",
      "Train Epoch: 3\t[19840/27064 (73%)]\tLoss: 0.002228\tAccuracy: 100.000000\tTime 0.331 (0.329)\tData 0.002 (0.027)\n",
      "Train Epoch: 3\t[20160/27064 (74%)]\tLoss: 0.004283\tAccuracy: 100.000000\tTime 0.331 (0.329)\tData 0.002 (0.027)\n",
      "Train Epoch: 3\t[20480/27064 (76%)]\tLoss: 0.001338\tAccuracy: 100.000000\tTime 0.326 (0.329)\tData 0.002 (0.027)\n",
      "Train Epoch: 3\t[20800/27064 (77%)]\tLoss: 0.010540\tAccuracy: 93.750000\tTime 0.325 (0.329)\tData 0.002 (0.027)\n",
      "Train Epoch: 3\t[21120/27064 (78%)]\tLoss: 0.000955\tAccuracy: 100.000000\tTime 0.331 (0.329)\tData 0.002 (0.027)\n",
      "Train Epoch: 3\t[21440/27064 (79%)]\tLoss: 0.001121\tAccuracy: 100.000000\tTime 0.330 (0.329)\tData 0.002 (0.027)\n",
      "Train Epoch: 3\t[21760/27064 (80%)]\tLoss: 0.001913\tAccuracy: 100.000000\tTime 0.330 (0.329)\tData 0.002 (0.027)\n",
      "Train Epoch: 3\t[22080/27064 (82%)]\tLoss: 0.001119\tAccuracy: 100.000000\tTime 0.331 (0.329)\tData 0.002 (0.027)\n",
      "Train Epoch: 3\t[22400/27064 (83%)]\tLoss: 0.001650\tAccuracy: 100.000000\tTime 0.332 (0.329)\tData 0.002 (0.027)\n",
      "Train Epoch: 3\t[22720/27064 (84%)]\tLoss: 0.000935\tAccuracy: 100.000000\tTime 0.332 (0.329)\tData 0.002 (0.027)\n",
      "Train Epoch: 3\t[23040/27064 (85%)]\tLoss: 0.000838\tAccuracy: 100.000000\tTime 0.332 (0.329)\tData 0.002 (0.027)\n",
      "Train Epoch: 3\t[23360/27064 (86%)]\tLoss: 0.000891\tAccuracy: 100.000000\tTime 0.332 (0.329)\tData 0.002 (0.027)\n",
      "Train Epoch: 3\t[23680/27064 (87%)]\tLoss: 0.000542\tAccuracy: 100.000000\tTime 0.330 (0.329)\tData 0.002 (0.027)\n",
      "Train Epoch: 3\t[24000/27064 (89%)]\tLoss: 0.000717\tAccuracy: 100.000000\tTime 0.329 (0.329)\tData 0.002 (0.027)\n",
      "Train Epoch: 3\t[24320/27064 (90%)]\tLoss: 0.000000\tAccuracy: 100.000000\tTime 0.334 (0.329)\tData 0.002 (0.027)\n",
      "Train Epoch: 3\t[24640/27064 (91%)]\tLoss: 0.000006\tAccuracy: 100.000000\tTime 0.334 (0.329)\tData 0.002 (0.027)\n",
      "Train Epoch: 3\t[24960/27064 (92%)]\tLoss: 0.000116\tAccuracy: 100.000000\tTime 0.334 (0.329)\tData 0.002 (0.027)\n",
      "Train Epoch: 3\t[25280/27064 (93%)]\tLoss: 0.000381\tAccuracy: 100.000000\tTime 0.332 (0.329)\tData 0.002 (0.027)\n",
      "Train Epoch: 3\t[25600/27064 (95%)]\tLoss: 0.000000\tAccuracy: 100.000000\tTime 0.331 (0.329)\tData 0.002 (0.027)\n",
      "Train Epoch: 3\t[25920/27064 (96%)]\tLoss: 0.000000\tAccuracy: 100.000000\tTime 0.331 (0.329)\tData 0.002 (0.027)\n",
      "Train Epoch: 3\t[26240/27064 (97%)]\tLoss: 0.002134\tAccuracy: 100.000000\tTime 0.325 (0.329)\tData 0.002 (0.027)\n",
      "Train Epoch: 3\t[26560/27064 (98%)]\tLoss: 0.000158\tAccuracy: 100.000000\tTime 0.324 (0.329)\tData 0.002 (0.027)\n",
      "Train Epoch: 3\t[26880/27064 (99%)]\tLoss: 0.001828\tAccuracy: 100.000000\tTime 0.324 (0.329)\tData 0.002 (0.027)\n",
      "\n",
      "Val set: Average loss: 0.088371, Accuracy: 99.852941 \n",
      "\n",
      "Train Epoch: 4\t[0/27064 (0%)]\tLoss: 0.000016\tAccuracy: 100.000000\tTime 0.079 (0.079)\tData 0.003 (0.003)\n",
      "Train Epoch: 4\t[320/27064 (1%)]\tLoss: 0.000125\tAccuracy: 100.000000\tTime 0.325 (0.306)\tData 0.002 (0.025)\n",
      "Train Epoch: 4\t[640/27064 (2%)]\tLoss: 0.000000\tAccuracy: 100.000000\tTime 0.332 (0.317)\tData 0.002 (0.026)\n",
      "Train Epoch: 4\t[960/27064 (4%)]\tLoss: 0.000736\tAccuracy: 100.000000\tTime 0.324 (0.320)\tData 0.002 (0.026)\n",
      "Train Epoch: 4\t[1280/27064 (5%)]\tLoss: 0.000196\tAccuracy: 100.000000\tTime 0.324 (0.322)\tData 0.002 (0.027)\n",
      "Train Epoch: 4\t[1600/27064 (6%)]\tLoss: 0.000926\tAccuracy: 100.000000\tTime 0.326 (0.323)\tData 0.002 (0.027)\n",
      "Train Epoch: 4\t[1920/27064 (7%)]\tLoss: 0.000001\tAccuracy: 100.000000\tTime 0.325 (0.323)\tData 0.002 (0.027)\n",
      "Train Epoch: 4\t[2240/27064 (8%)]\tLoss: 0.000377\tAccuracy: 100.000000\tTime 0.323 (0.324)\tData 0.004 (0.027)\n",
      "Train Epoch: 4\t[2560/27064 (9%)]\tLoss: 0.036743\tAccuracy: 96.875000\tTime 0.331 (0.324)\tData 0.002 (0.027)\n",
      "Train Epoch: 4\t[2880/27064 (11%)]\tLoss: 0.000029\tAccuracy: 100.000000\tTime 0.333 (0.325)\tData 0.002 (0.027)\n",
      "Train Epoch: 4\t[3200/27064 (12%)]\tLoss: 0.000025\tAccuracy: 100.000000\tTime 0.332 (0.326)\tData 0.002 (0.027)\n",
      "Train Epoch: 4\t[3520/27064 (13%)]\tLoss: 0.000036\tAccuracy: 100.000000\tTime 0.330 (0.326)\tData 0.004 (0.027)\n",
      "Train Epoch: 4\t[3840/27064 (14%)]\tLoss: 0.022164\tAccuracy: 100.000000\tTime 0.333 (0.327)\tData 0.002 (0.027)\n",
      "Train Epoch: 4\t[4160/27064 (15%)]\tLoss: 0.001002\tAccuracy: 100.000000\tTime 0.330 (0.327)\tData 0.002 (0.027)\n",
      "Train Epoch: 4\t[4480/27064 (17%)]\tLoss: 0.000907\tAccuracy: 100.000000\tTime 0.332 (0.327)\tData 0.002 (0.027)\n",
      "Train Epoch: 4\t[4800/27064 (18%)]\tLoss: 0.000020\tAccuracy: 100.000000\tTime 0.325 (0.328)\tData 0.003 (0.027)\n",
      "Train Epoch: 4\t[5120/27064 (19%)]\tLoss: 0.000157\tAccuracy: 100.000000\tTime 0.335 (0.328)\tData 0.002 (0.027)\n",
      "Train Epoch: 4\t[5440/27064 (20%)]\tLoss: 0.000175\tAccuracy: 100.000000\tTime 0.332 (0.328)\tData 0.002 (0.027)\n",
      "Train Epoch: 4\t[5760/27064 (21%)]\tLoss: 0.000629\tAccuracy: 100.000000\tTime 0.325 (0.328)\tData 0.002 (0.027)\n",
      "Train Epoch: 4\t[6080/27064 (22%)]\tLoss: 0.000155\tAccuracy: 100.000000\tTime 0.332 (0.328)\tData 0.002 (0.027)\n",
      "Train Epoch: 4\t[6400/27064 (24%)]\tLoss: 0.000015\tAccuracy: 100.000000\tTime 0.326 (0.329)\tData 0.002 (0.027)\n",
      "Train Epoch: 4\t[6720/27064 (25%)]\tLoss: 0.000767\tAccuracy: 100.000000\tTime 0.331 (0.329)\tData 0.004 (0.027)\n",
      "Train Epoch: 4\t[7040/27064 (26%)]\tLoss: 0.000119\tAccuracy: 100.000000\tTime 0.326 (0.329)\tData 0.002 (0.027)\n",
      "Train Epoch: 4\t[7360/27064 (27%)]\tLoss: 0.000299\tAccuracy: 100.000000\tTime 0.332 (0.329)\tData 0.002 (0.027)\n",
      "Train Epoch: 4\t[7680/27064 (28%)]\tLoss: 0.000761\tAccuracy: 100.000000\tTime 0.326 (0.329)\tData 0.002 (0.027)\n",
      "Train Epoch: 4\t[8000/27064 (30%)]\tLoss: 0.002069\tAccuracy: 100.000000\tTime 0.331 (0.329)\tData 0.002 (0.027)\n",
      "Train Epoch: 4\t[8320/27064 (31%)]\tLoss: 0.000045\tAccuracy: 100.000000\tTime 0.332 (0.329)\tData 0.002 (0.027)\n",
      "Train Epoch: 4\t[8640/27064 (32%)]\tLoss: 0.000086\tAccuracy: 100.000000\tTime 0.332 (0.329)\tData 0.002 (0.027)\n",
      "Train Epoch: 4\t[8960/27064 (33%)]\tLoss: 0.000007\tAccuracy: 100.000000\tTime 0.326 (0.329)\tData 0.002 (0.027)\n",
      "Train Epoch: 4\t[9280/27064 (34%)]\tLoss: 0.000017\tAccuracy: 100.000000\tTime 0.326 (0.329)\tData 0.002 (0.027)\n",
      "Train Epoch: 4\t[9600/27064 (35%)]\tLoss: -0.000000\tAccuracy: 100.000000\tTime 0.325 (0.329)\tData 0.004 (0.027)\n",
      "Train Epoch: 4\t[9920/27064 (37%)]\tLoss: 0.000000\tAccuracy: 100.000000\tTime 0.332 (0.330)\tData 0.002 (0.027)\n",
      "Train Epoch: 4\t[10240/27064 (38%)]\tLoss: 0.000005\tAccuracy: 100.000000\tTime 0.326 (0.330)\tData 0.002 (0.027)\n",
      "Train Epoch: 4\t[10560/27064 (39%)]\tLoss: 0.004015\tAccuracy: 96.875000\tTime 0.324 (0.330)\tData 0.004 (0.027)\n",
      "Train Epoch: 4\t[10880/27064 (40%)]\tLoss: 0.004895\tAccuracy: 96.875000\tTime 0.332 (0.330)\tData 0.002 (0.027)\n",
      "Train Epoch: 4\t[11200/27064 (41%)]\tLoss: 0.000005\tAccuracy: 100.000000\tTime 0.326 (0.330)\tData 0.002 (0.027)\n",
      "Train Epoch: 4\t[11520/27064 (43%)]\tLoss: 0.002456\tAccuracy: 100.000000\tTime 0.333 (0.330)\tData 0.002 (0.027)\n",
      "Train Epoch: 4\t[11840/27064 (44%)]\tLoss: 0.001432\tAccuracy: 100.000000\tTime 0.333 (0.330)\tData 0.002 (0.027)\n",
      "Train Epoch: 4\t[12160/27064 (45%)]\tLoss: 0.000104\tAccuracy: 100.000000\tTime 0.330 (0.330)\tData 0.002 (0.027)\n",
      "Train Epoch: 4\t[12480/27064 (46%)]\tLoss: 0.003121\tAccuracy: 100.000000\tTime 0.326 (0.330)\tData 0.002 (0.027)\n",
      "Train Epoch: 4\t[12800/27064 (47%)]\tLoss: 0.000478\tAccuracy: 100.000000\tTime 0.331 (0.330)\tData 0.004 (0.027)\n",
      "Train Epoch: 4\t[13120/27064 (48%)]\tLoss: 0.000312\tAccuracy: 100.000000\tTime 0.326 (0.330)\tData 0.002 (0.027)\n",
      "Train Epoch: 4\t[13440/27064 (50%)]\tLoss: 0.002839\tAccuracy: 100.000000\tTime 0.326 (0.330)\tData 0.002 (0.027)\n",
      "Train Epoch: 4\t[13760/27064 (51%)]\tLoss: 0.001270\tAccuracy: 100.000000\tTime 0.332 (0.330)\tData 0.002 (0.027)\n",
      "Train Epoch: 4\t[14080/27064 (52%)]\tLoss: 0.003401\tAccuracy: 100.000000\tTime 0.333 (0.330)\tData 0.002 (0.027)\n",
      "Train Epoch: 4\t[14400/27064 (53%)]\tLoss: 0.000431\tAccuracy: 100.000000\tTime 0.331 (0.330)\tData 0.002 (0.027)\n",
      "Train Epoch: 4\t[14720/27064 (54%)]\tLoss: 0.000774\tAccuracy: 100.000000\tTime 0.326 (0.330)\tData 0.002 (0.027)\n"
     ]
    },
    {
     "name": "stdout",
     "output_type": "stream",
     "text": [
      "Train Epoch: 4\t[15040/27064 (56%)]\tLoss: 0.001144\tAccuracy: 100.000000\tTime 0.327 (0.330)\tData 0.002 (0.027)\n",
      "Train Epoch: 4\t[15360/27064 (57%)]\tLoss: 0.004890\tAccuracy: 96.875000\tTime 0.332 (0.330)\tData 0.002 (0.027)\n",
      "Train Epoch: 4\t[15680/27064 (58%)]\tLoss: 0.002421\tAccuracy: 100.000000\tTime 0.326 (0.330)\tData 0.002 (0.027)\n",
      "Train Epoch: 4\t[16000/27064 (59%)]\tLoss: 0.001569\tAccuracy: 100.000000\tTime 0.326 (0.330)\tData 0.002 (0.027)\n",
      "Train Epoch: 4\t[16320/27064 (60%)]\tLoss: 0.000001\tAccuracy: 100.000000\tTime 0.332 (0.330)\tData 0.002 (0.027)\n",
      "Train Epoch: 4\t[16640/27064 (61%)]\tLoss: 0.000000\tAccuracy: 100.000000\tTime 0.333 (0.330)\tData 0.002 (0.027)\n",
      "Train Epoch: 4\t[16960/27064 (63%)]\tLoss: 0.000196\tAccuracy: 100.000000\tTime 0.331 (0.330)\tData 0.002 (0.027)\n",
      "Train Epoch: 4\t[17280/27064 (64%)]\tLoss: 0.003729\tAccuracy: 100.000000\tTime 0.326 (0.330)\tData 0.002 (0.027)\n",
      "Train Epoch: 4\t[17600/27064 (65%)]\tLoss: 0.002508\tAccuracy: 100.000000\tTime 0.333 (0.330)\tData 0.002 (0.027)\n",
      "Train Epoch: 4\t[17920/27064 (66%)]\tLoss: 0.000469\tAccuracy: 100.000000\tTime 0.332 (0.330)\tData 0.002 (0.027)\n",
      "Train Epoch: 4\t[18240/27064 (67%)]\tLoss: 0.000039\tAccuracy: 100.000000\tTime 0.333 (0.330)\tData 0.002 (0.027)\n",
      "Train Epoch: 4\t[18560/27064 (69%)]\tLoss: 0.001575\tAccuracy: 100.000000\tTime 0.331 (0.330)\tData 0.002 (0.027)\n",
      "Train Epoch: 4\t[18880/27064 (70%)]\tLoss: 0.000000\tAccuracy: 100.000000\tTime 0.330 (0.330)\tData 0.004 (0.027)\n",
      "Train Epoch: 4\t[19200/27064 (71%)]\tLoss: 0.001182\tAccuracy: 100.000000\tTime 0.345 (0.330)\tData 0.002 (0.027)\n",
      "Train Epoch: 4\t[19520/27064 (72%)]\tLoss: 0.000132\tAccuracy: 100.000000\tTime 0.334 (0.330)\tData 0.002 (0.027)\n",
      "Train Epoch: 4\t[19840/27064 (73%)]\tLoss: 0.000037\tAccuracy: 100.000000\tTime 0.330 (0.330)\tData 0.004 (0.027)\n",
      "Train Epoch: 4\t[20160/27064 (74%)]\tLoss: 0.000082\tAccuracy: 100.000000\tTime 0.333 (0.330)\tData 0.002 (0.027)\n",
      "Train Epoch: 4\t[20480/27064 (76%)]\tLoss: 0.001214\tAccuracy: 100.000000\tTime 0.332 (0.330)\tData 0.002 (0.027)\n",
      "Train Epoch: 4\t[20800/27064 (77%)]\tLoss: 0.000395\tAccuracy: 100.000000\tTime 0.335 (0.330)\tData 0.002 (0.027)\n",
      "Train Epoch: 4\t[21120/27064 (78%)]\tLoss: 0.000152\tAccuracy: 100.000000\tTime 0.332 (0.330)\tData 0.002 (0.027)\n",
      "Train Epoch: 4\t[21440/27064 (79%)]\tLoss: 0.000083\tAccuracy: 100.000000\tTime 0.331 (0.330)\tData 0.002 (0.027)\n",
      "Train Epoch: 4\t[21760/27064 (80%)]\tLoss: 0.000048\tAccuracy: 100.000000\tTime 0.333 (0.330)\tData 0.002 (0.027)\n",
      "Train Epoch: 4\t[22080/27064 (82%)]\tLoss: 0.004462\tAccuracy: 100.000000\tTime 0.332 (0.330)\tData 0.002 (0.027)\n",
      "Train Epoch: 4\t[22400/27064 (83%)]\tLoss: 0.009518\tAccuracy: 96.875000\tTime 0.326 (0.330)\tData 0.002 (0.027)\n",
      "Train Epoch: 4\t[22720/27064 (84%)]\tLoss: -0.000000\tAccuracy: 100.000000\tTime 0.331 (0.330)\tData 0.002 (0.027)\n",
      "Train Epoch: 4\t[23040/27064 (85%)]\tLoss: 0.000015\tAccuracy: 100.000000\tTime 0.331 (0.330)\tData 0.002 (0.027)\n",
      "Train Epoch: 4\t[23360/27064 (86%)]\tLoss: 0.003003\tAccuracy: 100.000000\tTime 0.329 (0.330)\tData 0.002 (0.027)\n",
      "Train Epoch: 4\t[23680/27064 (87%)]\tLoss: 0.000000\tAccuracy: 100.000000\tTime 0.324 (0.330)\tData 0.002 (0.027)\n",
      "Train Epoch: 4\t[24000/27064 (89%)]\tLoss: 0.000371\tAccuracy: 100.000000\tTime 0.326 (0.330)\tData 0.002 (0.027)\n",
      "Train Epoch: 4\t[24320/27064 (90%)]\tLoss: 0.000213\tAccuracy: 100.000000\tTime 0.328 (0.330)\tData 0.003 (0.027)\n",
      "Train Epoch: 4\t[24640/27064 (91%)]\tLoss: 0.000072\tAccuracy: 100.000000\tTime 0.331 (0.330)\tData 0.002 (0.027)\n",
      "Train Epoch: 4\t[24960/27064 (92%)]\tLoss: 0.002621\tAccuracy: 100.000000\tTime 0.326 (0.330)\tData 0.002 (0.027)\n",
      "Train Epoch: 4\t[25280/27064 (93%)]\tLoss: 0.001462\tAccuracy: 100.000000\tTime 0.329 (0.330)\tData 0.002 (0.027)\n",
      "Train Epoch: 4\t[25600/27064 (95%)]\tLoss: 0.000604\tAccuracy: 100.000000\tTime 0.331 (0.330)\tData 0.002 (0.027)\n",
      "Train Epoch: 4\t[25920/27064 (96%)]\tLoss: 0.002625\tAccuracy: 100.000000\tTime 0.324 (0.330)\tData 0.002 (0.027)\n",
      "Train Epoch: 4\t[26240/27064 (97%)]\tLoss: 0.000696\tAccuracy: 100.000000\tTime 0.330 (0.330)\tData 0.002 (0.027)\n",
      "Train Epoch: 4\t[26560/27064 (98%)]\tLoss: 0.000083\tAccuracy: 100.000000\tTime 0.331 (0.330)\tData 0.004 (0.027)\n",
      "Train Epoch: 4\t[26880/27064 (99%)]\tLoss: 0.000006\tAccuracy: 100.000000\tTime 0.330 (0.330)\tData 0.002 (0.027)\n",
      "\n",
      "Val set: Average loss: 0.068439, Accuracy: 99.944853 \n",
      "\n",
      "-------------------- HIGHEST ACCURACY ---------------------------\n",
      "Train Epoch: 5\t[0/27064 (0%)]\tLoss: 0.000184\tAccuracy: 100.000000\tTime 0.081 (0.081)\tData 0.003 (0.003)\n",
      "Train Epoch: 5\t[320/27064 (1%)]\tLoss: 0.000041\tAccuracy: 100.000000\tTime 0.334 (0.307)\tData 0.002 (0.025)\n",
      "Train Epoch: 5\t[640/27064 (2%)]\tLoss: 0.000216\tAccuracy: 100.000000\tTime 0.326 (0.318)\tData 0.002 (0.026)\n",
      "Train Epoch: 5\t[960/27064 (4%)]\tLoss: 0.000024\tAccuracy: 100.000000\tTime 0.333 (0.322)\tData 0.002 (0.026)\n",
      "Train Epoch: 5\t[1280/27064 (5%)]\tLoss: 0.000103\tAccuracy: 100.000000\tTime 0.332 (0.325)\tData 0.002 (0.027)\n",
      "Train Epoch: 5\t[1600/27064 (6%)]\tLoss: 0.000019\tAccuracy: 100.000000\tTime 0.326 (0.326)\tData 0.002 (0.027)\n",
      "Train Epoch: 5\t[1920/27064 (7%)]\tLoss: 0.000000\tAccuracy: 100.000000\tTime 0.333 (0.327)\tData 0.002 (0.027)\n",
      "Train Epoch: 5\t[2240/27064 (8%)]\tLoss: 0.000008\tAccuracy: 100.000000\tTime 0.332 (0.327)\tData 0.002 (0.027)\n",
      "Train Epoch: 5\t[2560/27064 (9%)]\tLoss: 0.000608\tAccuracy: 100.000000\tTime 0.326 (0.328)\tData 0.002 (0.027)\n",
      "Train Epoch: 5\t[2880/27064 (11%)]\tLoss: 0.000411\tAccuracy: 100.000000\tTime 0.333 (0.328)\tData 0.002 (0.027)\n",
      "Train Epoch: 5\t[3200/27064 (12%)]\tLoss: 0.000556\tAccuracy: 100.000000\tTime 0.326 (0.328)\tData 0.002 (0.027)\n",
      "Train Epoch: 5\t[3520/27064 (13%)]\tLoss: 0.001183\tAccuracy: 100.000000\tTime 0.331 (0.328)\tData 0.002 (0.027)\n",
      "Train Epoch: 5\t[3840/27064 (14%)]\tLoss: 0.001516\tAccuracy: 100.000000\tTime 0.326 (0.329)\tData 0.002 (0.027)\n",
      "Train Epoch: 5\t[4160/27064 (15%)]\tLoss: 0.000422\tAccuracy: 100.000000\tTime 0.328 (0.329)\tData 0.002 (0.027)\n",
      "Train Epoch: 5\t[4480/27064 (17%)]\tLoss: 0.000589\tAccuracy: 100.000000\tTime 0.326 (0.329)\tData 0.002 (0.027)\n",
      "Train Epoch: 5\t[4800/27064 (18%)]\tLoss: 0.000096\tAccuracy: 100.000000\tTime 0.327 (0.329)\tData 0.002 (0.027)\n",
      "Train Epoch: 5\t[5120/27064 (19%)]\tLoss: 0.000140\tAccuracy: 100.000000\tTime 0.332 (0.329)\tData 0.002 (0.027)\n",
      "Train Epoch: 5\t[5440/27064 (20%)]\tLoss: 0.003725\tAccuracy: 96.875000\tTime 0.332 (0.329)\tData 0.002 (0.027)\n",
      "Train Epoch: 5\t[5760/27064 (21%)]\tLoss: 0.000004\tAccuracy: 100.000000\tTime 0.332 (0.329)\tData 0.002 (0.027)\n",
      "Train Epoch: 5\t[6080/27064 (22%)]\tLoss: 0.004985\tAccuracy: 100.000000\tTime 0.327 (0.329)\tData 0.002 (0.027)\n",
      "Train Epoch: 5\t[6400/27064 (24%)]\tLoss: 0.005226\tAccuracy: 96.875000\tTime 0.323 (0.329)\tData 0.002 (0.027)\n",
      "Train Epoch: 5\t[6720/27064 (25%)]\tLoss: 0.006980\tAccuracy: 100.000000\tTime 0.326 (0.329)\tData 0.002 (0.027)\n",
      "Train Epoch: 5\t[7040/27064 (26%)]\tLoss: 0.005542\tAccuracy: 96.875000\tTime 0.326 (0.329)\tData 0.002 (0.027)\n",
      "Train Epoch: 5\t[7360/27064 (27%)]\tLoss: 0.006563\tAccuracy: 100.000000\tTime 0.326 (0.329)\tData 0.002 (0.027)\n",
      "Train Epoch: 5\t[7680/27064 (28%)]\tLoss: 0.006746\tAccuracy: 100.000000\tTime 0.326 (0.329)\tData 0.002 (0.027)\n",
      "Train Epoch: 5\t[8000/27064 (30%)]\tLoss: 0.000478\tAccuracy: 100.000000\tTime 0.326 (0.329)\tData 0.002 (0.027)\n",
      "Train Epoch: 5\t[8320/27064 (31%)]\tLoss: 0.000225\tAccuracy: 100.000000\tTime 0.326 (0.329)\tData 0.002 (0.027)\n",
      "Train Epoch: 5\t[8640/27064 (32%)]\tLoss: 0.000196\tAccuracy: 100.000000\tTime 0.332 (0.329)\tData 0.002 (0.027)\n",
      "Train Epoch: 5\t[8960/27064 (33%)]\tLoss: 0.000369\tAccuracy: 100.000000\tTime 0.326 (0.329)\tData 0.002 (0.027)\n",
      "Train Epoch: 5\t[9280/27064 (34%)]\tLoss: 0.004075\tAccuracy: 100.000000\tTime 0.331 (0.329)\tData 0.002 (0.027)\n",
      "Train Epoch: 5\t[9600/27064 (35%)]\tLoss: 0.000011\tAccuracy: 100.000000\tTime 0.326 (0.329)\tData 0.002 (0.027)\n",
      "Train Epoch: 5\t[9920/27064 (37%)]\tLoss: 0.000081\tAccuracy: 100.000000\tTime 0.326 (0.329)\tData 0.002 (0.027)\n",
      "Train Epoch: 5\t[10240/27064 (38%)]\tLoss: 0.002920\tAccuracy: 100.000000\tTime 0.332 (0.329)\tData 0.002 (0.027)\n",
      "Train Epoch: 5\t[10560/27064 (39%)]\tLoss: 0.000139\tAccuracy: 100.000000\tTime 0.327 (0.329)\tData 0.002 (0.027)\n",
      "Train Epoch: 5\t[10880/27064 (40%)]\tLoss: 0.000500\tAccuracy: 100.000000\tTime 0.332 (0.329)\tData 0.002 (0.027)\n",
      "Train Epoch: 5\t[11200/27064 (41%)]\tLoss: 0.000000\tAccuracy: 100.000000\tTime 0.326 (0.329)\tData 0.002 (0.027)\n",
      "Train Epoch: 5\t[11520/27064 (43%)]\tLoss: 0.000874\tAccuracy: 100.000000\tTime 0.326 (0.329)\tData 0.002 (0.027)\n"
     ]
    },
    {
     "name": "stdout",
     "output_type": "stream",
     "text": [
      "Train Epoch: 5\t[11840/27064 (44%)]\tLoss: 0.000041\tAccuracy: 100.000000\tTime 0.326 (0.329)\tData 0.002 (0.027)\n",
      "Train Epoch: 5\t[12160/27064 (45%)]\tLoss: 0.000267\tAccuracy: 100.000000\tTime 0.332 (0.329)\tData 0.002 (0.027)\n",
      "Train Epoch: 5\t[12480/27064 (46%)]\tLoss: 0.000001\tAccuracy: 100.000000\tTime 0.332 (0.330)\tData 0.002 (0.027)\n",
      "Train Epoch: 5\t[12800/27064 (47%)]\tLoss: 0.000365\tAccuracy: 100.000000\tTime 0.333 (0.330)\tData 0.002 (0.027)\n",
      "Train Epoch: 5\t[13120/27064 (48%)]\tLoss: 0.000911\tAccuracy: 100.000000\tTime 0.332 (0.330)\tData 0.002 (0.027)\n",
      "Train Epoch: 5\t[13440/27064 (50%)]\tLoss: 0.001804\tAccuracy: 100.000000\tTime 0.327 (0.330)\tData 0.002 (0.027)\n",
      "Train Epoch: 5\t[13760/27064 (51%)]\tLoss: 0.000543\tAccuracy: 100.000000\tTime 0.326 (0.330)\tData 0.002 (0.027)\n",
      "Train Epoch: 5\t[14080/27064 (52%)]\tLoss: 0.000000\tAccuracy: 100.000000\tTime 0.331 (0.330)\tData 0.002 (0.027)\n",
      "Train Epoch: 5\t[14400/27064 (53%)]\tLoss: 0.000091\tAccuracy: 100.000000\tTime 0.329 (0.330)\tData 0.002 (0.027)\n",
      "Train Epoch: 5\t[14720/27064 (54%)]\tLoss: 0.000000\tAccuracy: 100.000000\tTime 0.326 (0.330)\tData 0.002 (0.027)\n",
      "Train Epoch: 5\t[15040/27064 (56%)]\tLoss: 0.000000\tAccuracy: 100.000000\tTime 0.331 (0.330)\tData 0.002 (0.027)\n",
      "Train Epoch: 5\t[15360/27064 (57%)]\tLoss: 0.000160\tAccuracy: 100.000000\tTime 0.332 (0.330)\tData 0.002 (0.027)\n",
      "Train Epoch: 5\t[15680/27064 (58%)]\tLoss: 0.001232\tAccuracy: 100.000000\tTime 0.326 (0.330)\tData 0.002 (0.027)\n",
      "Train Epoch: 5\t[16000/27064 (59%)]\tLoss: 0.000028\tAccuracy: 100.000000\tTime 0.333 (0.330)\tData 0.002 (0.027)\n",
      "Train Epoch: 5\t[16320/27064 (60%)]\tLoss: 0.000000\tAccuracy: 100.000000\tTime 0.332 (0.330)\tData 0.002 (0.027)\n",
      "Train Epoch: 5\t[16640/27064 (61%)]\tLoss: 0.003089\tAccuracy: 100.000000\tTime 0.326 (0.330)\tData 0.002 (0.027)\n",
      "Train Epoch: 5\t[16960/27064 (63%)]\tLoss: 0.000007\tAccuracy: 100.000000\tTime 0.333 (0.330)\tData 0.002 (0.027)\n",
      "Train Epoch: 5\t[17280/27064 (64%)]\tLoss: 0.000315\tAccuracy: 100.000000\tTime 0.332 (0.330)\tData 0.002 (0.027)\n",
      "Train Epoch: 5\t[17600/27064 (65%)]\tLoss: 0.000186\tAccuracy: 100.000000\tTime 0.326 (0.330)\tData 0.002 (0.027)\n",
      "Train Epoch: 5\t[17920/27064 (66%)]\tLoss: 0.010514\tAccuracy: 96.875000\tTime 0.327 (0.330)\tData 0.002 (0.027)\n",
      "Train Epoch: 5\t[18240/27064 (67%)]\tLoss: 0.001845\tAccuracy: 100.000000\tTime 0.326 (0.330)\tData 0.002 (0.027)\n",
      "Train Epoch: 5\t[18560/27064 (69%)]\tLoss: 0.000000\tAccuracy: 100.000000\tTime 0.326 (0.330)\tData 0.002 (0.027)\n",
      "Train Epoch: 5\t[18880/27064 (70%)]\tLoss: 0.001103\tAccuracy: 100.000000\tTime 0.326 (0.330)\tData 0.002 (0.027)\n",
      "Train Epoch: 5\t[19200/27064 (71%)]\tLoss: 0.000027\tAccuracy: 100.000000\tTime 0.326 (0.330)\tData 0.002 (0.027)\n",
      "Train Epoch: 5\t[19520/27064 (72%)]\tLoss: 0.000031\tAccuracy: 100.000000\tTime 0.326 (0.330)\tData 0.002 (0.027)\n",
      "Train Epoch: 5\t[19840/27064 (73%)]\tLoss: 0.001545\tAccuracy: 100.000000\tTime 0.332 (0.330)\tData 0.002 (0.027)\n",
      "Train Epoch: 5\t[20160/27064 (74%)]\tLoss: 0.000000\tAccuracy: 100.000000\tTime 0.326 (0.330)\tData 0.002 (0.027)\n",
      "Train Epoch: 5\t[20480/27064 (76%)]\tLoss: 0.000355\tAccuracy: 100.000000\tTime 0.326 (0.330)\tData 0.002 (0.027)\n",
      "Train Epoch: 5\t[20800/27064 (77%)]\tLoss: 0.000166\tAccuracy: 100.000000\tTime 0.333 (0.330)\tData 0.002 (0.027)\n",
      "Train Epoch: 5\t[21120/27064 (78%)]\tLoss: 0.000068\tAccuracy: 100.000000\tTime 0.332 (0.330)\tData 0.002 (0.027)\n",
      "Train Epoch: 5\t[21440/27064 (79%)]\tLoss: 0.000783\tAccuracy: 100.000000\tTime 0.334 (0.330)\tData 0.002 (0.027)\n",
      "Train Epoch: 5\t[21760/27064 (80%)]\tLoss: 0.000084\tAccuracy: 100.000000\tTime 0.333 (0.330)\tData 0.002 (0.027)\n",
      "Train Epoch: 5\t[22080/27064 (82%)]\tLoss: 0.000594\tAccuracy: 100.000000\tTime 0.326 (0.330)\tData 0.002 (0.027)\n",
      "Train Epoch: 5\t[22400/27064 (83%)]\tLoss: 0.000111\tAccuracy: 100.000000\tTime 0.333 (0.330)\tData 0.002 (0.027)\n",
      "Train Epoch: 5\t[22720/27064 (84%)]\tLoss: 0.000156\tAccuracy: 100.000000\tTime 0.332 (0.330)\tData 0.002 (0.027)\n",
      "Train Epoch: 5\t[23040/27064 (85%)]\tLoss: 0.002519\tAccuracy: 100.000000\tTime 0.326 (0.330)\tData 0.002 (0.027)\n",
      "Train Epoch: 5\t[23360/27064 (86%)]\tLoss: 0.003104\tAccuracy: 100.000000\tTime 0.331 (0.330)\tData 0.002 (0.027)\n",
      "Train Epoch: 5\t[23680/27064 (87%)]\tLoss: 0.001576\tAccuracy: 100.000000\tTime 0.324 (0.330)\tData 0.002 (0.027)\n",
      "Train Epoch: 5\t[24000/27064 (89%)]\tLoss: 0.000515\tAccuracy: 100.000000\tTime 0.324 (0.330)\tData 0.002 (0.027)\n",
      "Train Epoch: 5\t[24320/27064 (90%)]\tLoss: 0.001025\tAccuracy: 100.000000\tTime 0.324 (0.330)\tData 0.002 (0.027)\n",
      "Train Epoch: 5\t[24640/27064 (91%)]\tLoss: 0.000105\tAccuracy: 100.000000\tTime 0.323 (0.330)\tData 0.002 (0.027)\n",
      "Train Epoch: 5\t[24960/27064 (92%)]\tLoss: 0.000098\tAccuracy: 100.000000\tTime 0.331 (0.330)\tData 0.002 (0.027)\n",
      "Train Epoch: 5\t[25280/27064 (93%)]\tLoss: 0.000240\tAccuracy: 100.000000\tTime 0.324 (0.329)\tData 0.002 (0.027)\n",
      "Train Epoch: 5\t[25600/27064 (95%)]\tLoss: 0.002979\tAccuracy: 100.000000\tTime 0.324 (0.329)\tData 0.002 (0.027)\n",
      "Train Epoch: 5\t[25920/27064 (96%)]\tLoss: 0.000318\tAccuracy: 100.000000\tTime 0.331 (0.329)\tData 0.002 (0.027)\n",
      "Train Epoch: 5\t[26240/27064 (97%)]\tLoss: 0.001181\tAccuracy: 100.000000\tTime 0.324 (0.329)\tData 0.002 (0.027)\n",
      "Train Epoch: 5\t[26560/27064 (98%)]\tLoss: 0.000466\tAccuracy: 100.000000\tTime 0.330 (0.329)\tData 0.004 (0.027)\n",
      "Train Epoch: 5\t[26880/27064 (99%)]\tLoss: 0.001121\tAccuracy: 100.000000\tTime 0.331 (0.329)\tData 0.002 (0.027)\n",
      "\n",
      "Val set: Average loss: 0.037031, Accuracy: 99.963235 \n",
      "\n",
      "-------------------- HIGHEST ACCURACY ---------------------------\n",
      "Train Epoch: 6\t[0/27064 (0%)]\tLoss: 0.000642\tAccuracy: 100.000000\tTime 0.081 (0.081)\tData 0.003 (0.003)\n",
      "Train Epoch: 6\t[320/27064 (1%)]\tLoss: 0.000091\tAccuracy: 100.000000\tTime 0.325 (0.308)\tData 0.002 (0.025)\n",
      "Train Epoch: 6\t[640/27064 (2%)]\tLoss: 0.001018\tAccuracy: 100.000000\tTime 0.331 (0.317)\tData 0.002 (0.026)\n",
      "Train Epoch: 6\t[960/27064 (4%)]\tLoss: 0.000020\tAccuracy: 100.000000\tTime 0.325 (0.320)\tData 0.002 (0.026)\n",
      "Train Epoch: 6\t[1280/27064 (5%)]\tLoss: 0.001119\tAccuracy: 100.000000\tTime 0.325 (0.322)\tData 0.002 (0.027)\n",
      "Train Epoch: 6\t[1600/27064 (6%)]\tLoss: 0.000000\tAccuracy: 100.000000\tTime 0.333 (0.323)\tData 0.002 (0.027)\n",
      "Train Epoch: 6\t[1920/27064 (7%)]\tLoss: 0.000030\tAccuracy: 100.000000\tTime 0.325 (0.324)\tData 0.002 (0.027)\n",
      "Train Epoch: 6\t[2240/27064 (8%)]\tLoss: 0.000008\tAccuracy: 100.000000\tTime 0.331 (0.325)\tData 0.002 (0.027)\n",
      "Train Epoch: 6\t[2560/27064 (9%)]\tLoss: 0.000002\tAccuracy: 100.000000\tTime 0.330 (0.325)\tData 0.002 (0.027)\n",
      "Train Epoch: 6\t[2880/27064 (11%)]\tLoss: 0.000453\tAccuracy: 100.000000\tTime 0.325 (0.325)\tData 0.002 (0.027)\n",
      "Train Epoch: 6\t[3200/27064 (12%)]\tLoss: 0.003467\tAccuracy: 100.000000\tTime 0.325 (0.326)\tData 0.002 (0.027)\n",
      "Train Epoch: 6\t[3520/27064 (13%)]\tLoss: 0.000096\tAccuracy: 100.000000\tTime 0.331 (0.326)\tData 0.002 (0.027)\n",
      "Train Epoch: 6\t[3840/27064 (14%)]\tLoss: 0.000014\tAccuracy: 100.000000\tTime 0.325 (0.326)\tData 0.002 (0.027)\n",
      "Train Epoch: 6\t[4160/27064 (15%)]\tLoss: 0.000260\tAccuracy: 100.000000\tTime 0.330 (0.326)\tData 0.002 (0.027)\n",
      "Train Epoch: 6\t[4480/27064 (17%)]\tLoss: 0.006195\tAccuracy: 100.000000\tTime 0.325 (0.326)\tData 0.002 (0.027)\n",
      "Train Epoch: 6\t[4800/27064 (18%)]\tLoss: 0.000469\tAccuracy: 100.000000\tTime 0.333 (0.327)\tData 0.002 (0.027)\n",
      "Train Epoch: 6\t[5120/27064 (19%)]\tLoss: 0.000352\tAccuracy: 100.000000\tTime 0.331 (0.327)\tData 0.002 (0.027)\n",
      "Train Epoch: 6\t[5440/27064 (20%)]\tLoss: 0.000000\tAccuracy: 100.000000\tTime 0.325 (0.327)\tData 0.002 (0.027)\n",
      "Train Epoch: 6\t[5760/27064 (21%)]\tLoss: 0.000140\tAccuracy: 100.000000\tTime 0.325 (0.327)\tData 0.002 (0.027)\n",
      "Train Epoch: 6\t[6080/27064 (22%)]\tLoss: 0.013845\tAccuracy: 96.875000\tTime 0.325 (0.327)\tData 0.002 (0.027)\n",
      "Train Epoch: 6\t[6400/27064 (24%)]\tLoss: 0.000002\tAccuracy: 100.000000\tTime 0.325 (0.327)\tData 0.002 (0.027)\n",
      "Train Epoch: 6\t[6720/27064 (25%)]\tLoss: 0.000009\tAccuracy: 100.000000\tTime 0.331 (0.327)\tData 0.002 (0.027)\n",
      "Train Epoch: 6\t[7040/27064 (26%)]\tLoss: 0.000011\tAccuracy: 100.000000\tTime 0.330 (0.327)\tData 0.002 (0.027)\n",
      "Train Epoch: 6\t[7360/27064 (27%)]\tLoss: 0.002166\tAccuracy: 100.000000\tTime 0.331 (0.327)\tData 0.002 (0.027)\n",
      "Train Epoch: 6\t[7680/27064 (28%)]\tLoss: 0.000000\tAccuracy: 100.000000\tTime 0.332 (0.327)\tData 0.002 (0.027)\n",
      "Train Epoch: 6\t[8000/27064 (30%)]\tLoss: 0.000000\tAccuracy: 100.000000\tTime 0.325 (0.327)\tData 0.002 (0.027)\n",
      "Train Epoch: 6\t[8320/27064 (31%)]\tLoss: 0.000301\tAccuracy: 100.000000\tTime 0.325 (0.327)\tData 0.002 (0.027)\n"
     ]
    },
    {
     "name": "stdout",
     "output_type": "stream",
     "text": [
      "Train Epoch: 6\t[8640/27064 (32%)]\tLoss: 0.010562\tAccuracy: 100.000000\tTime 0.331 (0.327)\tData 0.002 (0.027)\n",
      "Train Epoch: 6\t[8960/27064 (33%)]\tLoss: 0.001218\tAccuracy: 100.000000\tTime 0.325 (0.327)\tData 0.002 (0.027)\n",
      "Train Epoch: 6\t[9280/27064 (34%)]\tLoss: 0.003283\tAccuracy: 100.000000\tTime 0.326 (0.327)\tData 0.004 (0.027)\n",
      "Train Epoch: 6\t[9600/27064 (35%)]\tLoss: 0.050419\tAccuracy: 96.875000\tTime 0.325 (0.327)\tData 0.002 (0.027)\n",
      "Train Epoch: 6\t[9920/27064 (37%)]\tLoss: 0.000377\tAccuracy: 100.000000\tTime 0.330 (0.327)\tData 0.002 (0.027)\n",
      "Train Epoch: 6\t[10240/27064 (38%)]\tLoss: 0.003166\tAccuracy: 100.000000\tTime 0.325 (0.327)\tData 0.002 (0.027)\n",
      "Train Epoch: 6\t[10560/27064 (39%)]\tLoss: 0.000300\tAccuracy: 100.000000\tTime 0.332 (0.327)\tData 0.002 (0.027)\n",
      "Train Epoch: 6\t[10880/27064 (40%)]\tLoss: 0.002012\tAccuracy: 100.000000\tTime 0.325 (0.327)\tData 0.002 (0.027)\n",
      "Train Epoch: 6\t[11200/27064 (41%)]\tLoss: 0.000306\tAccuracy: 100.000000\tTime 0.328 (0.327)\tData 0.004 (0.027)\n",
      "Train Epoch: 6\t[11520/27064 (43%)]\tLoss: 0.014787\tAccuracy: 100.000000\tTime 0.325 (0.327)\tData 0.002 (0.027)\n",
      "Train Epoch: 6\t[11840/27064 (44%)]\tLoss: 0.000762\tAccuracy: 100.000000\tTime 0.325 (0.327)\tData 0.002 (0.027)\n",
      "Train Epoch: 6\t[12160/27064 (45%)]\tLoss: 0.005309\tAccuracy: 100.000000\tTime 0.331 (0.327)\tData 0.002 (0.027)\n",
      "Train Epoch: 6\t[12480/27064 (46%)]\tLoss: 0.001338\tAccuracy: 100.000000\tTime 0.325 (0.327)\tData 0.002 (0.027)\n",
      "Train Epoch: 6\t[12800/27064 (47%)]\tLoss: 0.003957\tAccuracy: 100.000000\tTime 0.325 (0.327)\tData 0.002 (0.027)\n",
      "Train Epoch: 6\t[13120/27064 (48%)]\tLoss: 0.001022\tAccuracy: 100.000000\tTime 0.325 (0.327)\tData 0.002 (0.027)\n",
      "Train Epoch: 6\t[13440/27064 (50%)]\tLoss: 0.000111\tAccuracy: 100.000000\tTime 0.325 (0.327)\tData 0.002 (0.027)\n",
      "Train Epoch: 6\t[13760/27064 (51%)]\tLoss: 0.000000\tAccuracy: 100.000000\tTime 0.331 (0.327)\tData 0.002 (0.027)\n",
      "Train Epoch: 6\t[14080/27064 (52%)]\tLoss: 0.000372\tAccuracy: 100.000000\tTime 0.328 (0.327)\tData 0.004 (0.027)\n",
      "Train Epoch: 6\t[14400/27064 (53%)]\tLoss: 0.000231\tAccuracy: 100.000000\tTime 0.325 (0.327)\tData 0.002 (0.027)\n",
      "Train Epoch: 6\t[14720/27064 (54%)]\tLoss: 0.000000\tAccuracy: 100.000000\tTime 0.332 (0.327)\tData 0.002 (0.027)\n",
      "Train Epoch: 6\t[15040/27064 (56%)]\tLoss: 0.000400\tAccuracy: 100.000000\tTime 0.327 (0.327)\tData 0.002 (0.027)\n",
      "Train Epoch: 6\t[15360/27064 (57%)]\tLoss: 0.001609\tAccuracy: 100.000000\tTime 0.325 (0.327)\tData 0.004 (0.027)\n",
      "Train Epoch: 6\t[15680/27064 (58%)]\tLoss: 0.000184\tAccuracy: 100.000000\tTime 0.333 (0.327)\tData 0.002 (0.027)\n",
      "Train Epoch: 6\t[16000/27064 (59%)]\tLoss: 0.000250\tAccuracy: 100.000000\tTime 0.327 (0.328)\tData 0.002 (0.027)\n",
      "Train Epoch: 6\t[16320/27064 (60%)]\tLoss: 0.000093\tAccuracy: 100.000000\tTime 0.324 (0.328)\tData 0.002 (0.027)\n",
      "Train Epoch: 6\t[16640/27064 (61%)]\tLoss: 0.000008\tAccuracy: 100.000000\tTime 0.332 (0.328)\tData 0.002 (0.027)\n",
      "Train Epoch: 6\t[16960/27064 (63%)]\tLoss: 0.000005\tAccuracy: 100.000000\tTime 0.326 (0.328)\tData 0.002 (0.027)\n",
      "Train Epoch: 6\t[17280/27064 (64%)]\tLoss: 0.000000\tAccuracy: 100.000000\tTime 0.326 (0.328)\tData 0.002 (0.027)\n",
      "Train Epoch: 6\t[17600/27064 (65%)]\tLoss: 0.000188\tAccuracy: 100.000000\tTime 0.326 (0.328)\tData 0.002 (0.027)\n",
      "Train Epoch: 6\t[17920/27064 (66%)]\tLoss: 0.000030\tAccuracy: 100.000000\tTime 0.327 (0.328)\tData 0.002 (0.027)\n",
      "Train Epoch: 6\t[18240/27064 (67%)]\tLoss: 0.000022\tAccuracy: 100.000000\tTime 0.326 (0.328)\tData 0.002 (0.027)\n",
      "Train Epoch: 6\t[18560/27064 (69%)]\tLoss: 0.000096\tAccuracy: 100.000000\tTime 0.326 (0.328)\tData 0.002 (0.027)\n",
      "Train Epoch: 6\t[18880/27064 (70%)]\tLoss: 0.000044\tAccuracy: 100.000000\tTime 0.326 (0.328)\tData 0.002 (0.027)\n",
      "Train Epoch: 6\t[19200/27064 (71%)]\tLoss: 0.000242\tAccuracy: 100.000000\tTime 0.332 (0.328)\tData 0.002 (0.027)\n",
      "Train Epoch: 6\t[19520/27064 (72%)]\tLoss: 0.000878\tAccuracy: 100.000000\tTime 0.326 (0.328)\tData 0.002 (0.027)\n",
      "Train Epoch: 6\t[19840/27064 (73%)]\tLoss: 0.000079\tAccuracy: 100.000000\tTime 0.332 (0.328)\tData 0.002 (0.027)\n",
      "Train Epoch: 6\t[20160/27064 (74%)]\tLoss: 0.004471\tAccuracy: 100.000000\tTime 0.331 (0.328)\tData 0.002 (0.027)\n",
      "Train Epoch: 6\t[20480/27064 (76%)]\tLoss: 0.001162\tAccuracy: 100.000000\tTime 0.326 (0.328)\tData 0.002 (0.027)\n",
      "Train Epoch: 6\t[20800/27064 (77%)]\tLoss: 0.004528\tAccuracy: 100.000000\tTime 0.326 (0.328)\tData 0.002 (0.027)\n",
      "Train Epoch: 6\t[21120/27064 (78%)]\tLoss: 0.000075\tAccuracy: 100.000000\tTime 0.332 (0.328)\tData 0.002 (0.027)\n",
      "Train Epoch: 6\t[21440/27064 (79%)]\tLoss: 0.000008\tAccuracy: 100.000000\tTime 0.332 (0.328)\tData 0.002 (0.027)\n",
      "Train Epoch: 6\t[21760/27064 (80%)]\tLoss: 0.000003\tAccuracy: 100.000000\tTime 0.326 (0.328)\tData 0.002 (0.027)\n",
      "Train Epoch: 6\t[22080/27064 (82%)]\tLoss: 0.000000\tAccuracy: 100.000000\tTime 0.326 (0.328)\tData 0.002 (0.027)\n",
      "Train Epoch: 6\t[22400/27064 (83%)]\tLoss: 0.000179\tAccuracy: 100.000000\tTime 0.326 (0.328)\tData 0.002 (0.027)\n",
      "Train Epoch: 6\t[22720/27064 (84%)]\tLoss: 0.000140\tAccuracy: 100.000000\tTime 0.326 (0.328)\tData 0.002 (0.027)\n",
      "Train Epoch: 6\t[23040/27064 (85%)]\tLoss: 0.000131\tAccuracy: 100.000000\tTime 0.334 (0.328)\tData 0.002 (0.027)\n",
      "Train Epoch: 6\t[23360/27064 (86%)]\tLoss: 0.000000\tAccuracy: 100.000000\tTime 0.326 (0.328)\tData 0.002 (0.027)\n",
      "Train Epoch: 6\t[23680/27064 (87%)]\tLoss: 0.000000\tAccuracy: 100.000000\tTime 0.326 (0.328)\tData 0.002 (0.027)\n",
      "Train Epoch: 6\t[24000/27064 (89%)]\tLoss: 0.000046\tAccuracy: 100.000000\tTime 0.324 (0.328)\tData 0.002 (0.027)\n",
      "Train Epoch: 6\t[24320/27064 (90%)]\tLoss: 0.000000\tAccuracy: 100.000000\tTime 0.324 (0.328)\tData 0.002 (0.027)\n",
      "Train Epoch: 6\t[24640/27064 (91%)]\tLoss: 0.000074\tAccuracy: 100.000000\tTime 0.324 (0.328)\tData 0.002 (0.027)\n",
      "Train Epoch: 6\t[24960/27064 (92%)]\tLoss: 0.000000\tAccuracy: 100.000000\tTime 0.331 (0.328)\tData 0.002 (0.027)\n",
      "Train Epoch: 6\t[25280/27064 (93%)]\tLoss: 0.000001\tAccuracy: 100.000000\tTime 0.324 (0.328)\tData 0.002 (0.027)\n",
      "Train Epoch: 6\t[25600/27064 (95%)]\tLoss: 0.000113\tAccuracy: 100.000000\tTime 0.331 (0.328)\tData 0.002 (0.027)\n",
      "Train Epoch: 6\t[25920/27064 (96%)]\tLoss: 0.001352\tAccuracy: 100.000000\tTime 0.331 (0.328)\tData 0.002 (0.027)\n",
      "Train Epoch: 6\t[26240/27064 (97%)]\tLoss: 0.000165\tAccuracy: 100.000000\tTime 0.324 (0.328)\tData 0.002 (0.027)\n",
      "Train Epoch: 6\t[26560/27064 (98%)]\tLoss: 0.000265\tAccuracy: 100.000000\tTime 0.333 (0.328)\tData 0.002 (0.027)\n",
      "Train Epoch: 6\t[26880/27064 (99%)]\tLoss: 0.000337\tAccuracy: 100.000000\tTime 0.324 (0.328)\tData 0.002 (0.027)\n",
      "\n",
      "Val set: Average loss: 0.023953, Accuracy: 99.944853 \n",
      "\n",
      "Train Epoch: 7\t[0/27064 (0%)]\tLoss: 0.000038\tAccuracy: 100.000000\tTime 0.078 (0.078)\tData 0.003 (0.003)\n",
      "Train Epoch: 7\t[320/27064 (1%)]\tLoss: 0.001495\tAccuracy: 100.000000\tTime 0.332 (0.306)\tData 0.002 (0.025)\n",
      "Train Epoch: 7\t[640/27064 (2%)]\tLoss: 0.000013\tAccuracy: 100.000000\tTime 0.330 (0.316)\tData 0.004 (0.026)\n",
      "Train Epoch: 7\t[960/27064 (4%)]\tLoss: 0.000185\tAccuracy: 100.000000\tTime 0.323 (0.320)\tData 0.004 (0.027)\n",
      "Train Epoch: 7\t[1280/27064 (5%)]\tLoss: 0.000797\tAccuracy: 100.000000\tTime 0.325 (0.322)\tData 0.002 (0.027)\n",
      "Train Epoch: 7\t[1600/27064 (6%)]\tLoss: 0.000442\tAccuracy: 100.000000\tTime 0.333 (0.324)\tData 0.002 (0.027)\n",
      "Train Epoch: 7\t[1920/27064 (7%)]\tLoss: 0.014369\tAccuracy: 100.000000\tTime 0.332 (0.324)\tData 0.002 (0.027)\n",
      "Train Epoch: 7\t[2240/27064 (8%)]\tLoss: 0.000010\tAccuracy: 100.000000\tTime 0.325 (0.325)\tData 0.002 (0.027)\n",
      "Train Epoch: 7\t[2560/27064 (9%)]\tLoss: 0.000777\tAccuracy: 100.000000\tTime 0.325 (0.326)\tData 0.002 (0.027)\n",
      "Train Epoch: 7\t[2880/27064 (11%)]\tLoss: 0.001118\tAccuracy: 100.000000\tTime 0.332 (0.326)\tData 0.002 (0.027)\n",
      "Train Epoch: 7\t[3200/27064 (12%)]\tLoss: 0.000016\tAccuracy: 100.000000\tTime 0.325 (0.326)\tData 0.002 (0.027)\n",
      "Train Epoch: 7\t[3520/27064 (13%)]\tLoss: 0.000000\tAccuracy: 100.000000\tTime 0.325 (0.326)\tData 0.002 (0.027)\n",
      "Train Epoch: 7\t[3840/27064 (14%)]\tLoss: 0.000068\tAccuracy: 100.000000\tTime 0.331 (0.326)\tData 0.002 (0.027)\n",
      "Train Epoch: 7\t[4160/27064 (15%)]\tLoss: 0.000484\tAccuracy: 100.000000\tTime 0.325 (0.326)\tData 0.002 (0.027)\n",
      "Train Epoch: 7\t[4480/27064 (17%)]\tLoss: 0.000054\tAccuracy: 100.000000\tTime 0.325 (0.326)\tData 0.002 (0.027)\n",
      "Train Epoch: 7\t[4800/27064 (18%)]\tLoss: 0.000290\tAccuracy: 100.000000\tTime 0.325 (0.326)\tData 0.002 (0.027)\n",
      "Train Epoch: 7\t[5120/27064 (19%)]\tLoss: 0.000225\tAccuracy: 100.000000\tTime 0.325 (0.326)\tData 0.002 (0.027)\n"
     ]
    },
    {
     "name": "stdout",
     "output_type": "stream",
     "text": [
      "Train Epoch: 7\t[5440/27064 (20%)]\tLoss: 0.000000\tAccuracy: 100.000000\tTime 0.325 (0.326)\tData 0.002 (0.027)\n",
      "Train Epoch: 7\t[5760/27064 (21%)]\tLoss: 0.000294\tAccuracy: 100.000000\tTime 0.325 (0.326)\tData 0.002 (0.027)\n",
      "Train Epoch: 7\t[6080/27064 (22%)]\tLoss: 0.000000\tAccuracy: 100.000000\tTime 0.325 (0.326)\tData 0.002 (0.027)\n",
      "Train Epoch: 7\t[6400/27064 (24%)]\tLoss: 0.000097\tAccuracy: 100.000000\tTime 0.330 (0.326)\tData 0.002 (0.027)\n",
      "Train Epoch: 7\t[6720/27064 (25%)]\tLoss: 0.000186\tAccuracy: 100.000000\tTime 0.324 (0.326)\tData 0.002 (0.027)\n",
      "Train Epoch: 7\t[7040/27064 (26%)]\tLoss: 0.000545\tAccuracy: 100.000000\tTime 0.325 (0.326)\tData 0.002 (0.027)\n",
      "Train Epoch: 7\t[7360/27064 (27%)]\tLoss: 0.000212\tAccuracy: 100.000000\tTime 0.332 (0.326)\tData 0.002 (0.027)\n",
      "Train Epoch: 7\t[7680/27064 (28%)]\tLoss: 0.000171\tAccuracy: 100.000000\tTime 0.331 (0.326)\tData 0.002 (0.027)\n",
      "Train Epoch: 7\t[8000/27064 (30%)]\tLoss: 0.002780\tAccuracy: 100.000000\tTime 0.325 (0.326)\tData 0.002 (0.027)\n",
      "Train Epoch: 7\t[8320/27064 (31%)]\tLoss: 0.000196\tAccuracy: 100.000000\tTime 0.325 (0.326)\tData 0.002 (0.027)\n",
      "Train Epoch: 7\t[8640/27064 (32%)]\tLoss: 0.000813\tAccuracy: 100.000000\tTime 0.325 (0.326)\tData 0.002 (0.027)\n",
      "Train Epoch: 7\t[8960/27064 (33%)]\tLoss: 0.000047\tAccuracy: 100.000000\tTime 0.325 (0.326)\tData 0.002 (0.027)\n",
      "Train Epoch: 7\t[9280/27064 (34%)]\tLoss: 0.000333\tAccuracy: 100.000000\tTime 0.325 (0.326)\tData 0.002 (0.027)\n",
      "Train Epoch: 7\t[9600/27064 (35%)]\tLoss: 0.000013\tAccuracy: 100.000000\tTime 0.331 (0.326)\tData 0.002 (0.027)\n",
      "Train Epoch: 7\t[9920/27064 (37%)]\tLoss: 0.000045\tAccuracy: 100.000000\tTime 0.332 (0.326)\tData 0.002 (0.027)\n",
      "Train Epoch: 7\t[10240/27064 (38%)]\tLoss: 0.000000\tAccuracy: 100.000000\tTime 0.325 (0.326)\tData 0.002 (0.027)\n",
      "Train Epoch: 7\t[10560/27064 (39%)]\tLoss: 0.000000\tAccuracy: 100.000000\tTime 0.325 (0.326)\tData 0.002 (0.027)\n",
      "Train Epoch: 7\t[10880/27064 (40%)]\tLoss: 0.000019\tAccuracy: 100.000000\tTime 0.329 (0.326)\tData 0.002 (0.027)\n",
      "Train Epoch: 7\t[11200/27064 (41%)]\tLoss: 0.000012\tAccuracy: 100.000000\tTime 0.325 (0.326)\tData 0.002 (0.027)\n",
      "Train Epoch: 7\t[11520/27064 (43%)]\tLoss: 0.000000\tAccuracy: 100.000000\tTime 0.325 (0.326)\tData 0.002 (0.027)\n",
      "Train Epoch: 7\t[11840/27064 (44%)]\tLoss: 0.000183\tAccuracy: 100.000000\tTime 0.325 (0.326)\tData 0.002 (0.027)\n",
      "Train Epoch: 7\t[12160/27064 (45%)]\tLoss: -0.000000\tAccuracy: 100.000000\tTime 0.332 (0.327)\tData 0.002 (0.027)\n",
      "Train Epoch: 7\t[12480/27064 (46%)]\tLoss: 0.000019\tAccuracy: 100.000000\tTime 0.325 (0.327)\tData 0.002 (0.027)\n",
      "Train Epoch: 7\t[12800/27064 (47%)]\tLoss: 0.000055\tAccuracy: 100.000000\tTime 0.330 (0.327)\tData 0.002 (0.027)\n",
      "Train Epoch: 7\t[13120/27064 (48%)]\tLoss: 0.000838\tAccuracy: 100.000000\tTime 0.325 (0.327)\tData 0.002 (0.027)\n",
      "Train Epoch: 7\t[13440/27064 (50%)]\tLoss: 0.000049\tAccuracy: 100.000000\tTime 0.332 (0.327)\tData 0.002 (0.027)\n",
      "Train Epoch: 7\t[13760/27064 (51%)]\tLoss: 0.001726\tAccuracy: 100.000000\tTime 0.326 (0.327)\tData 0.002 (0.027)\n",
      "Train Epoch: 7\t[14080/27064 (52%)]\tLoss: 0.005438\tAccuracy: 96.875000\tTime 0.332 (0.327)\tData 0.002 (0.027)\n",
      "Train Epoch: 7\t[14400/27064 (53%)]\tLoss: 0.001581\tAccuracy: 100.000000\tTime 0.329 (0.327)\tData 0.002 (0.027)\n",
      "Train Epoch: 7\t[14720/27064 (54%)]\tLoss: 0.000173\tAccuracy: 100.000000\tTime 0.325 (0.327)\tData 0.002 (0.027)\n",
      "Train Epoch: 7\t[15040/27064 (56%)]\tLoss: 0.000076\tAccuracy: 100.000000\tTime 0.324 (0.327)\tData 0.002 (0.027)\n",
      "Train Epoch: 7\t[15360/27064 (57%)]\tLoss: 0.000012\tAccuracy: 100.000000\tTime 0.325 (0.327)\tData 0.002 (0.027)\n",
      "Train Epoch: 7\t[15680/27064 (58%)]\tLoss: 0.000226\tAccuracy: 100.000000\tTime 0.332 (0.327)\tData 0.002 (0.027)\n",
      "Train Epoch: 7\t[16000/27064 (59%)]\tLoss: 0.000120\tAccuracy: 100.000000\tTime 0.323 (0.327)\tData 0.004 (0.027)\n",
      "Train Epoch: 7\t[16320/27064 (60%)]\tLoss: 0.000000\tAccuracy: 100.000000\tTime 0.330 (0.327)\tData 0.002 (0.027)\n",
      "Train Epoch: 7\t[16640/27064 (61%)]\tLoss: 0.000001\tAccuracy: 100.000000\tTime 0.332 (0.327)\tData 0.002 (0.027)\n",
      "Train Epoch: 7\t[16960/27064 (63%)]\tLoss: 0.000000\tAccuracy: 100.000000\tTime 0.329 (0.327)\tData 0.004 (0.027)\n",
      "Train Epoch: 7\t[17280/27064 (64%)]\tLoss: 0.000044\tAccuracy: 100.000000\tTime 0.325 (0.327)\tData 0.002 (0.027)\n",
      "Train Epoch: 7\t[17600/27064 (65%)]\tLoss: 0.000638\tAccuracy: 100.000000\tTime 0.325 (0.327)\tData 0.002 (0.027)\n",
      "Train Epoch: 7\t[17920/27064 (66%)]\tLoss: 0.000087\tAccuracy: 100.000000\tTime 0.325 (0.327)\tData 0.002 (0.027)\n",
      "Train Epoch: 7\t[18240/27064 (67%)]\tLoss: 0.000020\tAccuracy: 100.000000\tTime 0.332 (0.327)\tData 0.002 (0.027)\n",
      "Train Epoch: 7\t[18560/27064 (69%)]\tLoss: 0.000981\tAccuracy: 100.000000\tTime 0.331 (0.327)\tData 0.002 (0.027)\n",
      "Train Epoch: 7\t[18880/27064 (70%)]\tLoss: 0.000003\tAccuracy: 100.000000\tTime 0.330 (0.327)\tData 0.002 (0.027)\n",
      "Train Epoch: 7\t[19200/27064 (71%)]\tLoss: 0.000001\tAccuracy: 100.000000\tTime 0.331 (0.327)\tData 0.002 (0.027)\n",
      "Train Epoch: 7\t[19520/27064 (72%)]\tLoss: 0.000000\tAccuracy: 100.000000\tTime 0.325 (0.327)\tData 0.002 (0.027)\n",
      "Train Epoch: 7\t[19840/27064 (73%)]\tLoss: 0.000020\tAccuracy: 100.000000\tTime 0.331 (0.327)\tData 0.002 (0.027)\n",
      "Train Epoch: 7\t[20160/27064 (74%)]\tLoss: 0.000029\tAccuracy: 100.000000\tTime 0.325 (0.327)\tData 0.002 (0.027)\n",
      "Train Epoch: 7\t[20480/27064 (76%)]\tLoss: 0.000006\tAccuracy: 100.000000\tTime 0.331 (0.327)\tData 0.002 (0.027)\n",
      "Train Epoch: 7\t[20800/27064 (77%)]\tLoss: 0.000001\tAccuracy: 100.000000\tTime 0.333 (0.327)\tData 0.002 (0.027)\n",
      "Train Epoch: 7\t[21120/27064 (78%)]\tLoss: 0.000000\tAccuracy: 100.000000\tTime 0.330 (0.327)\tData 0.004 (0.027)\n",
      "Train Epoch: 7\t[21440/27064 (79%)]\tLoss: 0.000009\tAccuracy: 100.000000\tTime 0.330 (0.327)\tData 0.002 (0.027)\n",
      "Train Epoch: 7\t[21760/27064 (80%)]\tLoss: 0.000115\tAccuracy: 100.000000\tTime 0.325 (0.327)\tData 0.002 (0.027)\n",
      "Train Epoch: 7\t[22080/27064 (82%)]\tLoss: 0.000000\tAccuracy: 100.000000\tTime 0.331 (0.327)\tData 0.002 (0.027)\n",
      "Train Epoch: 7\t[22400/27064 (83%)]\tLoss: 0.000038\tAccuracy: 100.000000\tTime 0.332 (0.327)\tData 0.002 (0.027)\n",
      "Train Epoch: 7\t[22720/27064 (84%)]\tLoss: 0.000162\tAccuracy: 100.000000\tTime 0.325 (0.327)\tData 0.002 (0.027)\n",
      "Train Epoch: 7\t[23040/27064 (85%)]\tLoss: 0.000310\tAccuracy: 100.000000\tTime 0.325 (0.327)\tData 0.002 (0.027)\n",
      "Train Epoch: 7\t[23360/27064 (86%)]\tLoss: 0.000331\tAccuracy: 100.000000\tTime 0.325 (0.327)\tData 0.002 (0.027)\n",
      "Train Epoch: 7\t[23680/27064 (87%)]\tLoss: 0.000216\tAccuracy: 100.000000\tTime 0.325 (0.327)\tData 0.002 (0.027)\n",
      "Train Epoch: 7\t[24000/27064 (89%)]\tLoss: 0.005173\tAccuracy: 100.000000\tTime 0.332 (0.327)\tData 0.002 (0.027)\n",
      "Train Epoch: 7\t[24320/27064 (90%)]\tLoss: 0.012364\tAccuracy: 100.000000\tTime 0.325 (0.327)\tData 0.002 (0.027)\n",
      "Train Epoch: 7\t[24640/27064 (91%)]\tLoss: 0.000001\tAccuracy: 100.000000\tTime 0.325 (0.327)\tData 0.002 (0.027)\n",
      "Train Epoch: 7\t[24960/27064 (92%)]\tLoss: 0.001791\tAccuracy: 100.000000\tTime 0.331 (0.327)\tData 0.002 (0.027)\n",
      "Train Epoch: 7\t[25280/27064 (93%)]\tLoss: 0.000013\tAccuracy: 100.000000\tTime 0.325 (0.327)\tData 0.002 (0.027)\n",
      "Train Epoch: 7\t[25600/27064 (95%)]\tLoss: 0.000319\tAccuracy: 100.000000\tTime 0.325 (0.327)\tData 0.002 (0.027)\n",
      "Train Epoch: 7\t[25920/27064 (96%)]\tLoss: 0.000000\tAccuracy: 100.000000\tTime 0.325 (0.327)\tData 0.002 (0.027)\n",
      "Train Epoch: 7\t[26240/27064 (97%)]\tLoss: 0.000431\tAccuracy: 100.000000\tTime 0.324 (0.327)\tData 0.002 (0.027)\n",
      "Train Epoch: 7\t[26560/27064 (98%)]\tLoss: 0.000052\tAccuracy: 100.000000\tTime 0.325 (0.327)\tData 0.002 (0.027)\n",
      "Train Epoch: 7\t[26880/27064 (99%)]\tLoss: 0.000011\tAccuracy: 100.000000\tTime 0.325 (0.327)\tData 0.002 (0.027)\n",
      "\n",
      "Val set: Average loss: 0.016794, Accuracy: 99.944853 \n",
      "\n",
      "Train Epoch: 8\t[0/27064 (0%)]\tLoss: 0.002707\tAccuracy: 100.000000\tTime 0.080 (0.080)\tData 0.003 (0.003)\n",
      "Train Epoch: 8\t[320/27064 (1%)]\tLoss: 0.000719\tAccuracy: 100.000000\tTime 0.324 (0.304)\tData 0.002 (0.025)\n",
      "Train Epoch: 8\t[640/27064 (2%)]\tLoss: 0.000161\tAccuracy: 100.000000\tTime 0.330 (0.314)\tData 0.002 (0.026)\n",
      "Train Epoch: 8\t[960/27064 (4%)]\tLoss: 0.000212\tAccuracy: 100.000000\tTime 0.329 (0.319)\tData 0.004 (0.026)\n",
      "Train Epoch: 8\t[1280/27064 (5%)]\tLoss: 0.000191\tAccuracy: 100.000000\tTime 0.332 (0.322)\tData 0.002 (0.027)\n",
      "Train Epoch: 8\t[1600/27064 (6%)]\tLoss: 0.000032\tAccuracy: 100.000000\tTime 0.332 (0.324)\tData 0.002 (0.027)\n",
      "Train Epoch: 8\t[1920/27064 (7%)]\tLoss: 0.000022\tAccuracy: 100.000000\tTime 0.332 (0.326)\tData 0.002 (0.027)\n"
     ]
    },
    {
     "name": "stdout",
     "output_type": "stream",
     "text": [
      "Train Epoch: 8\t[2240/27064 (8%)]\tLoss: 0.000079\tAccuracy: 100.000000\tTime 0.332 (0.326)\tData 0.002 (0.027)\n",
      "Train Epoch: 8\t[2560/27064 (9%)]\tLoss: 0.000094\tAccuracy: 100.000000\tTime 0.328 (0.327)\tData 0.002 (0.027)\n",
      "Train Epoch: 8\t[2880/27064 (11%)]\tLoss: 0.000363\tAccuracy: 100.000000\tTime 0.332 (0.328)\tData 0.002 (0.027)\n",
      "Train Epoch: 8\t[3200/27064 (12%)]\tLoss: 0.000018\tAccuracy: 100.000000\tTime 0.332 (0.328)\tData 0.002 (0.027)\n",
      "Train Epoch: 8\t[3520/27064 (13%)]\tLoss: 0.000007\tAccuracy: 100.000000\tTime 0.333 (0.328)\tData 0.002 (0.027)\n",
      "Train Epoch: 8\t[3840/27064 (14%)]\tLoss: 0.000082\tAccuracy: 100.000000\tTime 0.332 (0.329)\tData 0.002 (0.027)\n",
      "Train Epoch: 8\t[4160/27064 (15%)]\tLoss: 0.000072\tAccuracy: 100.000000\tTime 0.335 (0.329)\tData 0.002 (0.027)\n",
      "Train Epoch: 8\t[4480/27064 (17%)]\tLoss: 0.000012\tAccuracy: 100.000000\tTime 0.332 (0.329)\tData 0.002 (0.027)\n",
      "Train Epoch: 8\t[4800/27064 (18%)]\tLoss: 0.000663\tAccuracy: 100.000000\tTime 0.334 (0.329)\tData 0.002 (0.027)\n",
      "Train Epoch: 8\t[5120/27064 (19%)]\tLoss: 0.003309\tAccuracy: 100.000000\tTime 0.330 (0.330)\tData 0.004 (0.027)\n",
      "Train Epoch: 8\t[5440/27064 (20%)]\tLoss: 0.000018\tAccuracy: 100.000000\tTime 0.326 (0.330)\tData 0.002 (0.027)\n",
      "Train Epoch: 8\t[5760/27064 (21%)]\tLoss: 0.000063\tAccuracy: 100.000000\tTime 0.334 (0.330)\tData 0.002 (0.027)\n",
      "Train Epoch: 8\t[6080/27064 (22%)]\tLoss: 0.000023\tAccuracy: 100.000000\tTime 0.333 (0.330)\tData 0.002 (0.027)\n",
      "Train Epoch: 8\t[6400/27064 (24%)]\tLoss: 0.001189\tAccuracy: 100.000000\tTime 0.334 (0.330)\tData 0.002 (0.027)\n",
      "Train Epoch: 8\t[6720/27064 (25%)]\tLoss: 0.000000\tAccuracy: 100.000000\tTime 0.333 (0.330)\tData 0.002 (0.027)\n",
      "Train Epoch: 8\t[7040/27064 (26%)]\tLoss: 0.000251\tAccuracy: 100.000000\tTime 0.332 (0.330)\tData 0.002 (0.027)\n",
      "Train Epoch: 8\t[7360/27064 (27%)]\tLoss: 0.000310\tAccuracy: 100.000000\tTime 0.332 (0.330)\tData 0.002 (0.027)\n",
      "Train Epoch: 8\t[7680/27064 (28%)]\tLoss: 0.000480\tAccuracy: 100.000000\tTime 0.332 (0.330)\tData 0.002 (0.027)\n",
      "Train Epoch: 8\t[8000/27064 (30%)]\tLoss: 0.000053\tAccuracy: 100.000000\tTime 0.335 (0.330)\tData 0.002 (0.027)\n",
      "Train Epoch: 8\t[8320/27064 (31%)]\tLoss: 0.000450\tAccuracy: 100.000000\tTime 0.335 (0.330)\tData 0.002 (0.027)\n",
      "Train Epoch: 8\t[8640/27064 (32%)]\tLoss: 0.004368\tAccuracy: 100.000000\tTime 0.326 (0.330)\tData 0.002 (0.027)\n",
      "Train Epoch: 8\t[8960/27064 (33%)]\tLoss: 0.000001\tAccuracy: 100.000000\tTime 0.326 (0.330)\tData 0.002 (0.027)\n",
      "Train Epoch: 8\t[9280/27064 (34%)]\tLoss: 0.000013\tAccuracy: 100.000000\tTime 0.333 (0.330)\tData 0.002 (0.027)\n",
      "Train Epoch: 8\t[9600/27064 (35%)]\tLoss: 0.000018\tAccuracy: 100.000000\tTime 0.326 (0.330)\tData 0.002 (0.027)\n",
      "Train Epoch: 8\t[9920/27064 (37%)]\tLoss: 0.000078\tAccuracy: 100.000000\tTime 0.326 (0.330)\tData 0.002 (0.027)\n",
      "Train Epoch: 8\t[10240/27064 (38%)]\tLoss: 0.000016\tAccuracy: 100.000000\tTime 0.328 (0.330)\tData 0.002 (0.027)\n",
      "Train Epoch: 8\t[10560/27064 (39%)]\tLoss: 0.000000\tAccuracy: 100.000000\tTime 0.326 (0.330)\tData 0.002 (0.027)\n",
      "Train Epoch: 8\t[10880/27064 (40%)]\tLoss: 0.000007\tAccuracy: 100.000000\tTime 0.326 (0.330)\tData 0.002 (0.027)\n",
      "Train Epoch: 8\t[11200/27064 (41%)]\tLoss: 0.000000\tAccuracy: 100.000000\tTime 0.335 (0.330)\tData 0.002 (0.027)\n",
      "Train Epoch: 8\t[11520/27064 (43%)]\tLoss: 0.000036\tAccuracy: 100.000000\tTime 0.332 (0.330)\tData 0.002 (0.027)\n",
      "Train Epoch: 8\t[11840/27064 (44%)]\tLoss: 0.000021\tAccuracy: 100.000000\tTime 0.332 (0.330)\tData 0.002 (0.027)\n",
      "Train Epoch: 8\t[12160/27064 (45%)]\tLoss: 0.001174\tAccuracy: 100.000000\tTime 0.333 (0.331)\tData 0.002 (0.027)\n",
      "Train Epoch: 8\t[12480/27064 (46%)]\tLoss: 0.001615\tAccuracy: 100.000000\tTime 0.332 (0.331)\tData 0.002 (0.027)\n",
      "Train Epoch: 8\t[12800/27064 (47%)]\tLoss: 0.000007\tAccuracy: 100.000000\tTime 0.333 (0.331)\tData 0.002 (0.027)\n",
      "Train Epoch: 8\t[13120/27064 (48%)]\tLoss: 0.000051\tAccuracy: 100.000000\tTime 0.333 (0.331)\tData 0.002 (0.027)\n",
      "Train Epoch: 8\t[13440/27064 (50%)]\tLoss: 0.000033\tAccuracy: 100.000000\tTime 0.332 (0.331)\tData 0.002 (0.027)\n",
      "Train Epoch: 8\t[13760/27064 (51%)]\tLoss: 0.000087\tAccuracy: 100.000000\tTime 0.333 (0.331)\tData 0.002 (0.027)\n",
      "Train Epoch: 8\t[14080/27064 (52%)]\tLoss: 0.000112\tAccuracy: 100.000000\tTime 0.331 (0.331)\tData 0.003 (0.027)\n",
      "Train Epoch: 8\t[14400/27064 (53%)]\tLoss: 0.000000\tAccuracy: 100.000000\tTime 0.331 (0.331)\tData 0.002 (0.027)\n",
      "Train Epoch: 8\t[14720/27064 (54%)]\tLoss: 0.000485\tAccuracy: 100.000000\tTime 0.332 (0.331)\tData 0.002 (0.027)\n",
      "Train Epoch: 8\t[15040/27064 (56%)]\tLoss: 0.000018\tAccuracy: 100.000000\tTime 0.330 (0.331)\tData 0.004 (0.027)\n",
      "Train Epoch: 8\t[15360/27064 (57%)]\tLoss: 0.009640\tAccuracy: 100.000000\tTime 0.331 (0.331)\tData 0.002 (0.027)\n",
      "Train Epoch: 8\t[15680/27064 (58%)]\tLoss: 0.003894\tAccuracy: 100.000000\tTime 0.332 (0.331)\tData 0.002 (0.027)\n",
      "Train Epoch: 8\t[16000/27064 (59%)]\tLoss: 0.004369\tAccuracy: 100.000000\tTime 0.324 (0.331)\tData 0.004 (0.027)\n",
      "Train Epoch: 8\t[16320/27064 (60%)]\tLoss: 0.003079\tAccuracy: 100.000000\tTime 0.332 (0.331)\tData 0.002 (0.027)\n",
      "Train Epoch: 8\t[16640/27064 (61%)]\tLoss: 0.000748\tAccuracy: 100.000000\tTime 0.331 (0.331)\tData 0.002 (0.027)\n",
      "Train Epoch: 8\t[16960/27064 (63%)]\tLoss: 0.008361\tAccuracy: 100.000000\tTime 0.332 (0.331)\tData 0.002 (0.027)\n",
      "Train Epoch: 8\t[17280/27064 (64%)]\tLoss: 0.013600\tAccuracy: 96.875000\tTime 0.332 (0.331)\tData 0.002 (0.027)\n",
      "Train Epoch: 8\t[17600/27064 (65%)]\tLoss: 0.004689\tAccuracy: 100.000000\tTime 0.332 (0.331)\tData 0.002 (0.027)\n",
      "Train Epoch: 8\t[17920/27064 (66%)]\tLoss: 0.000293\tAccuracy: 100.000000\tTime 0.332 (0.331)\tData 0.002 (0.027)\n",
      "Train Epoch: 8\t[18240/27064 (67%)]\tLoss: 0.003876\tAccuracy: 100.000000\tTime 0.332 (0.331)\tData 0.002 (0.027)\n",
      "Train Epoch: 8\t[18560/27064 (69%)]\tLoss: 0.000189\tAccuracy: 100.000000\tTime 0.331 (0.331)\tData 0.002 (0.027)\n",
      "Train Epoch: 8\t[18880/27064 (70%)]\tLoss: 0.003349\tAccuracy: 100.000000\tTime 0.332 (0.331)\tData 0.002 (0.027)\n",
      "Train Epoch: 8\t[19200/27064 (71%)]\tLoss: 0.000739\tAccuracy: 100.000000\tTime 0.333 (0.331)\tData 0.002 (0.027)\n",
      "Train Epoch: 8\t[19520/27064 (72%)]\tLoss: 0.009220\tAccuracy: 100.000000\tTime 0.332 (0.331)\tData 0.002 (0.027)\n",
      "Train Epoch: 8\t[19840/27064 (73%)]\tLoss: 0.000235\tAccuracy: 100.000000\tTime 0.332 (0.331)\tData 0.002 (0.027)\n",
      "Train Epoch: 8\t[20160/27064 (74%)]\tLoss: 0.010816\tAccuracy: 100.000000\tTime 0.332 (0.331)\tData 0.002 (0.027)\n",
      "Train Epoch: 8\t[20480/27064 (76%)]\tLoss: 0.000176\tAccuracy: 100.000000\tTime 0.326 (0.331)\tData 0.002 (0.027)\n",
      "Train Epoch: 8\t[20800/27064 (77%)]\tLoss: 0.000064\tAccuracy: 100.000000\tTime 0.326 (0.331)\tData 0.002 (0.027)\n",
      "Train Epoch: 8\t[21120/27064 (78%)]\tLoss: 0.000091\tAccuracy: 100.000000\tTime 0.333 (0.331)\tData 0.002 (0.027)\n",
      "Train Epoch: 8\t[21440/27064 (79%)]\tLoss: 0.000248\tAccuracy: 100.000000\tTime 0.326 (0.331)\tData 0.002 (0.027)\n",
      "Train Epoch: 8\t[21760/27064 (80%)]\tLoss: 0.000872\tAccuracy: 100.000000\tTime 0.326 (0.331)\tData 0.002 (0.027)\n",
      "Train Epoch: 8\t[22080/27064 (82%)]\tLoss: 0.005193\tAccuracy: 100.000000\tTime 0.332 (0.331)\tData 0.002 (0.027)\n",
      "Train Epoch: 8\t[22400/27064 (83%)]\tLoss: 0.003298\tAccuracy: 100.000000\tTime 0.326 (0.331)\tData 0.002 (0.027)\n",
      "Train Epoch: 8\t[22720/27064 (84%)]\tLoss: 0.005299\tAccuracy: 100.000000\tTime 0.326 (0.331)\tData 0.002 (0.027)\n",
      "Train Epoch: 8\t[23040/27064 (85%)]\tLoss: 0.000037\tAccuracy: 100.000000\tTime 0.326 (0.331)\tData 0.002 (0.027)\n",
      "Train Epoch: 8\t[23360/27064 (86%)]\tLoss: 0.000417\tAccuracy: 100.000000\tTime 0.326 (0.331)\tData 0.002 (0.027)\n",
      "Train Epoch: 8\t[23680/27064 (87%)]\tLoss: 0.001090\tAccuracy: 100.000000\tTime 0.326 (0.331)\tData 0.002 (0.027)\n",
      "Train Epoch: 8\t[24000/27064 (89%)]\tLoss: 0.001256\tAccuracy: 100.000000\tTime 0.326 (0.331)\tData 0.002 (0.027)\n",
      "Train Epoch: 8\t[24320/27064 (90%)]\tLoss: 0.000193\tAccuracy: 100.000000\tTime 0.326 (0.331)\tData 0.002 (0.027)\n",
      "Train Epoch: 8\t[24640/27064 (91%)]\tLoss: 0.005438\tAccuracy: 100.000000\tTime 0.335 (0.331)\tData 0.002 (0.027)\n",
      "Train Epoch: 8\t[24960/27064 (92%)]\tLoss: 0.001988\tAccuracy: 100.000000\tTime 0.326 (0.331)\tData 0.002 (0.027)\n",
      "Train Epoch: 8\t[25280/27064 (93%)]\tLoss: 0.001252\tAccuracy: 100.000000\tTime 0.333 (0.331)\tData 0.002 (0.027)\n",
      "Train Epoch: 8\t[25600/27064 (95%)]\tLoss: 0.031205\tAccuracy: 96.875000\tTime 0.333 (0.331)\tData 0.002 (0.027)\n",
      "Train Epoch: 8\t[25920/27064 (96%)]\tLoss: 0.001084\tAccuracy: 100.000000\tTime 0.332 (0.331)\tData 0.002 (0.027)\n",
      "Train Epoch: 8\t[26240/27064 (97%)]\tLoss: 0.000909\tAccuracy: 100.000000\tTime 0.335 (0.331)\tData 0.002 (0.027)\n"
     ]
    },
    {
     "name": "stdout",
     "output_type": "stream",
     "text": [
      "Train Epoch: 8\t[26560/27064 (98%)]\tLoss: 0.038457\tAccuracy: 96.875000\tTime 0.333 (0.331)\tData 0.002 (0.027)\n",
      "Train Epoch: 8\t[26880/27064 (99%)]\tLoss: 0.000992\tAccuracy: 100.000000\tTime 0.330 (0.331)\tData 0.004 (0.027)\n",
      "\n",
      "Val set: Average loss: 0.014585, Accuracy: 99.834559 \n",
      "\n",
      "Train Epoch: 9\t[0/27064 (0%)]\tLoss: 0.000608\tAccuracy: 100.000000\tTime 0.080 (0.080)\tData 0.003 (0.003)\n",
      "Train Epoch: 9\t[320/27064 (1%)]\tLoss: 0.000458\tAccuracy: 100.000000\tTime 0.332 (0.310)\tData 0.002 (0.025)\n",
      "Train Epoch: 9\t[640/27064 (2%)]\tLoss: 0.015062\tAccuracy: 96.875000\tTime 0.332 (0.321)\tData 0.002 (0.026)\n",
      "Train Epoch: 9\t[960/27064 (4%)]\tLoss: 0.004626\tAccuracy: 100.000000\tTime 0.332 (0.325)\tData 0.002 (0.026)\n",
      "Train Epoch: 9\t[1280/27064 (5%)]\tLoss: 0.001564\tAccuracy: 100.000000\tTime 0.332 (0.327)\tData 0.002 (0.027)\n",
      "Train Epoch: 9\t[1600/27064 (6%)]\tLoss: 0.000683\tAccuracy: 100.000000\tTime 0.333 (0.328)\tData 0.002 (0.027)\n",
      "Train Epoch: 9\t[1920/27064 (7%)]\tLoss: 0.001858\tAccuracy: 100.000000\tTime 0.331 (0.328)\tData 0.002 (0.027)\n",
      "Train Epoch: 9\t[2240/27064 (8%)]\tLoss: 0.000051\tAccuracy: 100.000000\tTime 0.332 (0.329)\tData 0.002 (0.027)\n",
      "Train Epoch: 9\t[2560/27064 (9%)]\tLoss: 0.001440\tAccuracy: 100.000000\tTime 0.333 (0.329)\tData 0.002 (0.027)\n",
      "Train Epoch: 9\t[2880/27064 (11%)]\tLoss: 0.003553\tAccuracy: 100.000000\tTime 0.333 (0.330)\tData 0.002 (0.027)\n",
      "Train Epoch: 9\t[3200/27064 (12%)]\tLoss: 0.000052\tAccuracy: 100.000000\tTime 0.333 (0.330)\tData 0.002 (0.027)\n",
      "Train Epoch: 9\t[3520/27064 (13%)]\tLoss: 0.000258\tAccuracy: 100.000000\tTime 0.332 (0.330)\tData 0.002 (0.027)\n",
      "Train Epoch: 9\t[3840/27064 (14%)]\tLoss: 0.002229\tAccuracy: 100.000000\tTime 0.332 (0.330)\tData 0.002 (0.027)\n",
      "Train Epoch: 9\t[4160/27064 (15%)]\tLoss: 0.000069\tAccuracy: 100.000000\tTime 0.332 (0.331)\tData 0.002 (0.027)\n",
      "Train Epoch: 9\t[4480/27064 (17%)]\tLoss: 0.004842\tAccuracy: 100.000000\tTime 0.333 (0.331)\tData 0.002 (0.027)\n",
      "Train Epoch: 9\t[4800/27064 (18%)]\tLoss: 0.001302\tAccuracy: 100.000000\tTime 0.332 (0.331)\tData 0.002 (0.027)\n",
      "Train Epoch: 9\t[5120/27064 (19%)]\tLoss: 0.002469\tAccuracy: 100.000000\tTime 0.332 (0.331)\tData 0.002 (0.027)\n",
      "Train Epoch: 9\t[5440/27064 (20%)]\tLoss: 0.001508\tAccuracy: 100.000000\tTime 0.326 (0.331)\tData 0.002 (0.027)\n",
      "Train Epoch: 9\t[5760/27064 (21%)]\tLoss: 0.000613\tAccuracy: 100.000000\tTime 0.325 (0.331)\tData 0.004 (0.027)\n",
      "Train Epoch: 9\t[6080/27064 (22%)]\tLoss: 0.000091\tAccuracy: 100.000000\tTime 0.335 (0.331)\tData 0.002 (0.027)\n",
      "Train Epoch: 9\t[6400/27064 (24%)]\tLoss: 0.000231\tAccuracy: 100.000000\tTime 0.326 (0.331)\tData 0.002 (0.027)\n",
      "Train Epoch: 9\t[6720/27064 (25%)]\tLoss: 0.009547\tAccuracy: 100.000000\tTime 0.332 (0.331)\tData 0.002 (0.027)\n",
      "Train Epoch: 9\t[7040/27064 (26%)]\tLoss: 0.000588\tAccuracy: 100.000000\tTime 0.332 (0.331)\tData 0.002 (0.027)\n",
      "Train Epoch: 9\t[7360/27064 (27%)]\tLoss: 0.000283\tAccuracy: 100.000000\tTime 0.331 (0.331)\tData 0.002 (0.027)\n",
      "Train Epoch: 9\t[7680/27064 (28%)]\tLoss: 0.000121\tAccuracy: 100.000000\tTime 0.332 (0.331)\tData 0.002 (0.027)\n",
      "Train Epoch: 9\t[8000/27064 (30%)]\tLoss: 0.000164\tAccuracy: 100.000000\tTime 0.332 (0.331)\tData 0.002 (0.027)\n",
      "Train Epoch: 9\t[8320/27064 (31%)]\tLoss: 0.003652\tAccuracy: 100.000000\tTime 0.332 (0.331)\tData 0.002 (0.027)\n",
      "Train Epoch: 9\t[8640/27064 (32%)]\tLoss: 0.000098\tAccuracy: 100.000000\tTime 0.332 (0.331)\tData 0.002 (0.027)\n",
      "Train Epoch: 9\t[8960/27064 (33%)]\tLoss: 0.002016\tAccuracy: 100.000000\tTime 0.333 (0.331)\tData 0.002 (0.027)\n",
      "Train Epoch: 9\t[9280/27064 (34%)]\tLoss: 0.001719\tAccuracy: 100.000000\tTime 0.332 (0.331)\tData 0.002 (0.027)\n",
      "Train Epoch: 9\t[9600/27064 (35%)]\tLoss: 0.020231\tAccuracy: 96.875000\tTime 0.332 (0.331)\tData 0.002 (0.027)\n",
      "Train Epoch: 9\t[9920/27064 (37%)]\tLoss: 0.000830\tAccuracy: 100.000000\tTime 0.332 (0.331)\tData 0.002 (0.027)\n",
      "Train Epoch: 9\t[10240/27064 (38%)]\tLoss: 0.000067\tAccuracy: 100.000000\tTime 0.332 (0.332)\tData 0.002 (0.027)\n",
      "Train Epoch: 9\t[10560/27064 (39%)]\tLoss: 0.000223\tAccuracy: 100.000000\tTime 0.332 (0.332)\tData 0.002 (0.027)\n",
      "Train Epoch: 9\t[10880/27064 (40%)]\tLoss: 0.000661\tAccuracy: 100.000000\tTime 0.332 (0.332)\tData 0.002 (0.027)\n",
      "Train Epoch: 9\t[11200/27064 (41%)]\tLoss: 0.004094\tAccuracy: 100.000000\tTime 0.332 (0.332)\tData 0.002 (0.027)\n",
      "Train Epoch: 9\t[11520/27064 (43%)]\tLoss: 0.001571\tAccuracy: 100.000000\tTime 0.332 (0.332)\tData 0.002 (0.027)\n",
      "Train Epoch: 9\t[11840/27064 (44%)]\tLoss: 0.000057\tAccuracy: 100.000000\tTime 0.331 (0.332)\tData 0.002 (0.027)\n",
      "Train Epoch: 9\t[12160/27064 (45%)]\tLoss: 0.000140\tAccuracy: 100.000000\tTime 0.331 (0.332)\tData 0.002 (0.027)\n",
      "Train Epoch: 9\t[12480/27064 (46%)]\tLoss: 0.000102\tAccuracy: 100.000000\tTime 0.332 (0.332)\tData 0.002 (0.027)\n",
      "Train Epoch: 9\t[12800/27064 (47%)]\tLoss: 0.003713\tAccuracy: 100.000000\tTime 0.332 (0.332)\tData 0.002 (0.027)\n",
      "Train Epoch: 9\t[13120/27064 (48%)]\tLoss: 0.000239\tAccuracy: 100.000000\tTime 0.325 (0.332)\tData 0.002 (0.027)\n",
      "Train Epoch: 9\t[13440/27064 (50%)]\tLoss: 0.003807\tAccuracy: 100.000000\tTime 0.325 (0.332)\tData 0.002 (0.027)\n",
      "Train Epoch: 9\t[13760/27064 (51%)]\tLoss: 0.000162\tAccuracy: 100.000000\tTime 0.331 (0.332)\tData 0.002 (0.027)\n",
      "Train Epoch: 9\t[14080/27064 (52%)]\tLoss: 0.001515\tAccuracy: 100.000000\tTime 0.325 (0.331)\tData 0.002 (0.027)\n",
      "Train Epoch: 9\t[14400/27064 (53%)]\tLoss: 0.001445\tAccuracy: 100.000000\tTime 0.331 (0.331)\tData 0.002 (0.027)\n",
      "Train Epoch: 9\t[14720/27064 (54%)]\tLoss: 0.000908\tAccuracy: 100.000000\tTime 0.331 (0.331)\tData 0.002 (0.027)\n",
      "Train Epoch: 9\t[15040/27064 (56%)]\tLoss: 0.000163\tAccuracy: 100.000000\tTime 0.332 (0.331)\tData 0.004 (0.027)\n",
      "Train Epoch: 9\t[15360/27064 (57%)]\tLoss: 0.000303\tAccuracy: 100.000000\tTime 0.330 (0.331)\tData 0.004 (0.027)\n",
      "Train Epoch: 9\t[15680/27064 (58%)]\tLoss: 0.000279\tAccuracy: 100.000000\tTime 0.331 (0.331)\tData 0.003 (0.027)\n",
      "Train Epoch: 9\t[16000/27064 (59%)]\tLoss: 0.000320\tAccuracy: 100.000000\tTime 0.325 (0.331)\tData 0.002 (0.027)\n",
      "Train Epoch: 9\t[16320/27064 (60%)]\tLoss: 0.000380\tAccuracy: 100.000000\tTime 0.332 (0.331)\tData 0.002 (0.027)\n",
      "Train Epoch: 9\t[16640/27064 (61%)]\tLoss: 0.000084\tAccuracy: 100.000000\tTime 0.325 (0.331)\tData 0.002 (0.027)\n",
      "Train Epoch: 9\t[16960/27064 (63%)]\tLoss: 0.000104\tAccuracy: 100.000000\tTime 0.325 (0.331)\tData 0.002 (0.027)\n",
      "Train Epoch: 9\t[17280/27064 (64%)]\tLoss: 0.000224\tAccuracy: 100.000000\tTime 0.333 (0.331)\tData 0.002 (0.027)\n",
      "Train Epoch: 9\t[17600/27064 (65%)]\tLoss: 0.000165\tAccuracy: 100.000000\tTime 0.325 (0.331)\tData 0.002 (0.027)\n",
      "Train Epoch: 9\t[17920/27064 (66%)]\tLoss: 0.006413\tAccuracy: 100.000000\tTime 0.325 (0.331)\tData 0.002 (0.027)\n",
      "Train Epoch: 9\t[18240/27064 (67%)]\tLoss: 0.076093\tAccuracy: 96.875000\tTime 0.325 (0.331)\tData 0.002 (0.027)\n",
      "Train Epoch: 9\t[18560/27064 (69%)]\tLoss: 0.006547\tAccuracy: 100.000000\tTime 0.325 (0.331)\tData 0.002 (0.027)\n",
      "Train Epoch: 9\t[18880/27064 (70%)]\tLoss: 0.000469\tAccuracy: 100.000000\tTime 0.330 (0.331)\tData 0.002 (0.027)\n",
      "Train Epoch: 9\t[19200/27064 (71%)]\tLoss: 0.001335\tAccuracy: 100.000000\tTime 0.325 (0.331)\tData 0.002 (0.027)\n",
      "Train Epoch: 9\t[19520/27064 (72%)]\tLoss: 0.000174\tAccuracy: 100.000000\tTime 0.325 (0.331)\tData 0.002 (0.027)\n",
      "Train Epoch: 9\t[19840/27064 (73%)]\tLoss: 0.000370\tAccuracy: 100.000000\tTime 0.331 (0.331)\tData 0.002 (0.027)\n",
      "Train Epoch: 9\t[20160/27064 (74%)]\tLoss: 0.009686\tAccuracy: 100.000000\tTime 0.334 (0.331)\tData 0.002 (0.027)\n",
      "Train Epoch: 9\t[20480/27064 (76%)]\tLoss: 0.000333\tAccuracy: 100.000000\tTime 0.332 (0.331)\tData 0.002 (0.027)\n",
      "Train Epoch: 9\t[20800/27064 (77%)]\tLoss: 0.000437\tAccuracy: 100.000000\tTime 0.331 (0.331)\tData 0.002 (0.027)\n",
      "Train Epoch: 9\t[21120/27064 (78%)]\tLoss: 0.000188\tAccuracy: 100.000000\tTime 0.332 (0.331)\tData 0.002 (0.027)\n",
      "Train Epoch: 9\t[21440/27064 (79%)]\tLoss: 0.000184\tAccuracy: 100.000000\tTime 0.331 (0.331)\tData 0.002 (0.027)\n",
      "Train Epoch: 9\t[21760/27064 (80%)]\tLoss: 0.000134\tAccuracy: 100.000000\tTime 0.330 (0.331)\tData 0.002 (0.027)\n",
      "Train Epoch: 9\t[22080/27064 (82%)]\tLoss: 0.004331\tAccuracy: 100.000000\tTime 0.331 (0.331)\tData 0.002 (0.027)\n",
      "Train Epoch: 9\t[22400/27064 (83%)]\tLoss: 0.000461\tAccuracy: 100.000000\tTime 0.332 (0.331)\tData 0.002 (0.027)\n",
      "Train Epoch: 9\t[22720/27064 (84%)]\tLoss: 0.001310\tAccuracy: 100.000000\tTime 0.332 (0.331)\tData 0.002 (0.027)\n",
      "Train Epoch: 9\t[23040/27064 (85%)]\tLoss: 0.000302\tAccuracy: 100.000000\tTime 0.331 (0.331)\tData 0.002 (0.027)\n",
      "Train Epoch: 9\t[23360/27064 (86%)]\tLoss: 0.000628\tAccuracy: 100.000000\tTime 0.332 (0.331)\tData 0.002 (0.027)\n"
     ]
    },
    {
     "name": "stdout",
     "output_type": "stream",
     "text": [
      "Train Epoch: 9\t[23680/27064 (87%)]\tLoss: 0.000905\tAccuracy: 100.000000\tTime 0.332 (0.331)\tData 0.002 (0.027)\n",
      "Train Epoch: 9\t[24000/27064 (89%)]\tLoss: 0.001063\tAccuracy: 100.000000\tTime 0.331 (0.331)\tData 0.002 (0.027)\n",
      "Train Epoch: 9\t[24320/27064 (90%)]\tLoss: 0.000840\tAccuracy: 100.000000\tTime 0.325 (0.331)\tData 0.002 (0.027)\n",
      "Train Epoch: 9\t[24640/27064 (91%)]\tLoss: 0.000168\tAccuracy: 100.000000\tTime 0.333 (0.331)\tData 0.002 (0.027)\n",
      "Train Epoch: 9\t[24960/27064 (92%)]\tLoss: 0.000114\tAccuracy: 100.000000\tTime 0.331 (0.331)\tData 0.002 (0.027)\n",
      "Train Epoch: 9\t[25280/27064 (93%)]\tLoss: 0.000801\tAccuracy: 100.000000\tTime 0.325 (0.331)\tData 0.002 (0.027)\n",
      "Train Epoch: 9\t[25600/27064 (95%)]\tLoss: 0.001542\tAccuracy: 100.000000\tTime 0.331 (0.331)\tData 0.002 (0.027)\n",
      "Train Epoch: 9\t[25920/27064 (96%)]\tLoss: 0.000352\tAccuracy: 100.000000\tTime 0.332 (0.331)\tData 0.002 (0.027)\n",
      "Train Epoch: 9\t[26240/27064 (97%)]\tLoss: 0.000264\tAccuracy: 100.000000\tTime 0.330 (0.331)\tData 0.004 (0.027)\n",
      "Train Epoch: 9\t[26560/27064 (98%)]\tLoss: 0.000284\tAccuracy: 100.000000\tTime 0.332 (0.331)\tData 0.002 (0.027)\n",
      "Train Epoch: 9\t[26880/27064 (99%)]\tLoss: 0.000294\tAccuracy: 100.000000\tTime 0.325 (0.331)\tData 0.002 (0.027)\n",
      "\n",
      "Val set: Average loss: 0.004885, Accuracy: 99.981618 \n",
      "\n",
      "-------------------- HIGHEST ACCURACY ---------------------------\n",
      "Train Epoch: 10\t[0/27064 (0%)]\tLoss: 0.000068\tAccuracy: 100.000000\tTime 0.081 (0.081)\tData 0.003 (0.003)\n",
      "Train Epoch: 10\t[320/27064 (1%)]\tLoss: 0.000222\tAccuracy: 100.000000\tTime 0.332 (0.309)\tData 0.002 (0.025)\n",
      "Train Epoch: 10\t[640/27064 (2%)]\tLoss: 0.000273\tAccuracy: 100.000000\tTime 0.331 (0.319)\tData 0.002 (0.026)\n",
      "Train Epoch: 10\t[960/27064 (4%)]\tLoss: 0.001808\tAccuracy: 100.000000\tTime 0.329 (0.323)\tData 0.002 (0.027)\n",
      "Train Epoch: 10\t[1280/27064 (5%)]\tLoss: 0.000200\tAccuracy: 100.000000\tTime 0.333 (0.325)\tData 0.002 (0.027)\n",
      "Train Epoch: 10\t[1600/27064 (6%)]\tLoss: 0.000160\tAccuracy: 100.000000\tTime 0.330 (0.327)\tData 0.002 (0.027)\n",
      "Train Epoch: 10\t[1920/27064 (7%)]\tLoss: 0.000134\tAccuracy: 100.000000\tTime 0.332 (0.327)\tData 0.002 (0.027)\n",
      "Train Epoch: 10\t[2240/27064 (8%)]\tLoss: 0.002186\tAccuracy: 100.000000\tTime 0.332 (0.328)\tData 0.002 (0.027)\n",
      "Train Epoch: 10\t[2560/27064 (9%)]\tLoss: 0.000139\tAccuracy: 100.000000\tTime 0.331 (0.328)\tData 0.002 (0.027)\n",
      "Train Epoch: 10\t[2880/27064 (11%)]\tLoss: 0.000266\tAccuracy: 100.000000\tTime 0.330 (0.329)\tData 0.002 (0.027)\n",
      "Train Epoch: 10\t[3200/27064 (12%)]\tLoss: 0.000219\tAccuracy: 100.000000\tTime 0.328 (0.329)\tData 0.004 (0.027)\n",
      "Train Epoch: 10\t[3520/27064 (13%)]\tLoss: 0.000301\tAccuracy: 100.000000\tTime 0.332 (0.329)\tData 0.002 (0.027)\n",
      "Train Epoch: 10\t[3840/27064 (14%)]\tLoss: 0.000593\tAccuracy: 100.000000\tTime 0.331 (0.329)\tData 0.002 (0.027)\n",
      "Train Epoch: 10\t[4160/27064 (15%)]\tLoss: 0.000304\tAccuracy: 100.000000\tTime 0.325 (0.329)\tData 0.002 (0.027)\n",
      "Train Epoch: 10\t[4480/27064 (17%)]\tLoss: 0.000077\tAccuracy: 100.000000\tTime 0.325 (0.329)\tData 0.002 (0.027)\n",
      "Train Epoch: 10\t[4800/27064 (18%)]\tLoss: 0.000915\tAccuracy: 100.000000\tTime 0.331 (0.329)\tData 0.002 (0.027)\n",
      "Train Epoch: 10\t[5120/27064 (19%)]\tLoss: 0.000487\tAccuracy: 100.000000\tTime 0.325 (0.329)\tData 0.002 (0.027)\n",
      "Train Epoch: 10\t[5440/27064 (20%)]\tLoss: 0.000703\tAccuracy: 100.000000\tTime 0.325 (0.329)\tData 0.002 (0.027)\n",
      "Train Epoch: 10\t[5760/27064 (21%)]\tLoss: 0.000437\tAccuracy: 100.000000\tTime 0.331 (0.329)\tData 0.002 (0.027)\n",
      "Train Epoch: 10\t[6080/27064 (22%)]\tLoss: 0.000649\tAccuracy: 100.000000\tTime 0.325 (0.329)\tData 0.002 (0.027)\n",
      "Train Epoch: 10\t[6400/27064 (24%)]\tLoss: 0.000481\tAccuracy: 100.000000\tTime 0.332 (0.329)\tData 0.002 (0.027)\n",
      "Train Epoch: 10\t[6720/27064 (25%)]\tLoss: 0.000344\tAccuracy: 100.000000\tTime 0.325 (0.329)\tData 0.002 (0.027)\n",
      "Train Epoch: 10\t[7040/27064 (26%)]\tLoss: 0.000132\tAccuracy: 100.000000\tTime 0.325 (0.329)\tData 0.002 (0.027)\n",
      "Train Epoch: 10\t[7360/27064 (27%)]\tLoss: 0.000344\tAccuracy: 100.000000\tTime 0.329 (0.329)\tData 0.002 (0.027)\n",
      "Train Epoch: 10\t[7680/27064 (28%)]\tLoss: 0.000363\tAccuracy: 100.000000\tTime 0.325 (0.329)\tData 0.002 (0.027)\n",
      "Train Epoch: 10\t[8000/27064 (30%)]\tLoss: 0.009489\tAccuracy: 96.875000\tTime 0.323 (0.329)\tData 0.004 (0.027)\n",
      "Train Epoch: 10\t[8320/27064 (31%)]\tLoss: 0.000298\tAccuracy: 100.000000\tTime 0.328 (0.329)\tData 0.002 (0.027)\n",
      "Train Epoch: 10\t[8640/27064 (32%)]\tLoss: 0.005457\tAccuracy: 100.000000\tTime 0.325 (0.329)\tData 0.002 (0.027)\n",
      "Train Epoch: 10\t[8960/27064 (33%)]\tLoss: 0.003941\tAccuracy: 100.000000\tTime 0.325 (0.329)\tData 0.002 (0.027)\n",
      "Train Epoch: 10\t[9280/27064 (34%)]\tLoss: 0.000767\tAccuracy: 100.000000\tTime 0.330 (0.329)\tData 0.002 (0.027)\n",
      "Train Epoch: 10\t[9600/27064 (35%)]\tLoss: 0.001084\tAccuracy: 100.000000\tTime 0.325 (0.329)\tData 0.002 (0.027)\n",
      "Train Epoch: 10\t[9920/27064 (37%)]\tLoss: 0.003097\tAccuracy: 100.000000\tTime 0.325 (0.329)\tData 0.002 (0.027)\n",
      "Train Epoch: 10\t[10240/27064 (38%)]\tLoss: 0.001642\tAccuracy: 100.000000\tTime 0.333 (0.329)\tData 0.002 (0.027)\n",
      "Train Epoch: 10\t[10560/27064 (39%)]\tLoss: 0.000356\tAccuracy: 100.000000\tTime 0.334 (0.329)\tData 0.002 (0.027)\n",
      "Train Epoch: 10\t[10880/27064 (40%)]\tLoss: 0.000322\tAccuracy: 100.000000\tTime 0.331 (0.329)\tData 0.002 (0.027)\n",
      "Train Epoch: 10\t[11200/27064 (41%)]\tLoss: 0.000268\tAccuracy: 100.000000\tTime 0.325 (0.329)\tData 0.002 (0.027)\n",
      "Train Epoch: 10\t[11520/27064 (43%)]\tLoss: 0.000315\tAccuracy: 100.000000\tTime 0.331 (0.329)\tData 0.004 (0.027)\n",
      "Train Epoch: 10\t[11840/27064 (44%)]\tLoss: 0.000864\tAccuracy: 100.000000\tTime 0.331 (0.329)\tData 0.002 (0.027)\n",
      "Train Epoch: 10\t[12160/27064 (45%)]\tLoss: 0.000439\tAccuracy: 100.000000\tTime 0.324 (0.329)\tData 0.002 (0.027)\n",
      "Train Epoch: 10\t[12480/27064 (46%)]\tLoss: 0.000444\tAccuracy: 100.000000\tTime 0.331 (0.329)\tData 0.002 (0.027)\n",
      "Train Epoch: 10\t[12800/27064 (47%)]\tLoss: 0.004098\tAccuracy: 100.000000\tTime 0.332 (0.329)\tData 0.002 (0.027)\n",
      "Train Epoch: 10\t[13120/27064 (48%)]\tLoss: 0.001232\tAccuracy: 100.000000\tTime 0.332 (0.329)\tData 0.002 (0.027)\n",
      "Train Epoch: 10\t[13440/27064 (50%)]\tLoss: 0.002337\tAccuracy: 100.000000\tTime 0.332 (0.329)\tData 0.002 (0.027)\n",
      "Train Epoch: 10\t[13760/27064 (51%)]\tLoss: 0.002005\tAccuracy: 100.000000\tTime 0.323 (0.329)\tData 0.003 (0.027)\n",
      "Train Epoch: 10\t[14080/27064 (52%)]\tLoss: 0.004613\tAccuracy: 100.000000\tTime 0.325 (0.329)\tData 0.002 (0.027)\n",
      "Train Epoch: 10\t[14400/27064 (53%)]\tLoss: 0.002521\tAccuracy: 100.000000\tTime 0.332 (0.329)\tData 0.002 (0.027)\n",
      "Train Epoch: 10\t[14720/27064 (54%)]\tLoss: 0.005585\tAccuracy: 100.000000\tTime 0.332 (0.330)\tData 0.002 (0.027)\n",
      "Train Epoch: 10\t[15040/27064 (56%)]\tLoss: 0.000764\tAccuracy: 100.000000\tTime 0.330 (0.330)\tData 0.002 (0.027)\n",
      "Train Epoch: 10\t[15360/27064 (57%)]\tLoss: 0.004326\tAccuracy: 100.000000\tTime 0.335 (0.330)\tData 0.002 (0.027)\n",
      "Train Epoch: 10\t[15680/27064 (58%)]\tLoss: 0.003358\tAccuracy: 100.000000\tTime 0.327 (0.330)\tData 0.002 (0.027)\n",
      "Train Epoch: 10\t[16000/27064 (59%)]\tLoss: 0.001111\tAccuracy: 100.000000\tTime 0.331 (0.330)\tData 0.002 (0.027)\n",
      "Train Epoch: 10\t[16320/27064 (60%)]\tLoss: 0.000432\tAccuracy: 100.000000\tTime 0.332 (0.330)\tData 0.002 (0.027)\n",
      "Train Epoch: 10\t[16640/27064 (61%)]\tLoss: 0.002281\tAccuracy: 100.000000\tTime 0.327 (0.330)\tData 0.002 (0.027)\n",
      "Train Epoch: 10\t[16960/27064 (63%)]\tLoss: 0.001471\tAccuracy: 100.000000\tTime 0.332 (0.330)\tData 0.002 (0.027)\n",
      "Train Epoch: 10\t[17280/27064 (64%)]\tLoss: 0.002024\tAccuracy: 100.000000\tTime 0.331 (0.330)\tData 0.002 (0.027)\n",
      "Train Epoch: 10\t[17600/27064 (65%)]\tLoss: 0.001723\tAccuracy: 100.000000\tTime 0.332 (0.330)\tData 0.002 (0.027)\n",
      "Train Epoch: 10\t[17920/27064 (66%)]\tLoss: 0.000691\tAccuracy: 100.000000\tTime 0.325 (0.330)\tData 0.002 (0.027)\n",
      "Train Epoch: 10\t[18240/27064 (67%)]\tLoss: 0.000801\tAccuracy: 100.000000\tTime 0.331 (0.330)\tData 0.002 (0.027)\n",
      "Train Epoch: 10\t[18560/27064 (69%)]\tLoss: 0.000684\tAccuracy: 100.000000\tTime 0.329 (0.330)\tData 0.002 (0.027)\n",
      "Train Epoch: 10\t[18880/27064 (70%)]\tLoss: 0.001090\tAccuracy: 100.000000\tTime 0.325 (0.330)\tData 0.002 (0.027)\n",
      "Train Epoch: 10\t[19200/27064 (71%)]\tLoss: 0.000536\tAccuracy: 100.000000\tTime 0.325 (0.330)\tData 0.002 (0.027)\n",
      "Train Epoch: 10\t[19520/27064 (72%)]\tLoss: 0.000496\tAccuracy: 100.000000\tTime 0.325 (0.330)\tData 0.002 (0.027)\n",
      "Train Epoch: 10\t[19840/27064 (73%)]\tLoss: 0.000921\tAccuracy: 100.000000\tTime 0.331 (0.330)\tData 0.002 (0.027)\n"
     ]
    },
    {
     "name": "stdout",
     "output_type": "stream",
     "text": [
      "Train Epoch: 10\t[20160/27064 (74%)]\tLoss: 0.000885\tAccuracy: 100.000000\tTime 0.325 (0.330)\tData 0.002 (0.027)\n",
      "Train Epoch: 10\t[20480/27064 (76%)]\tLoss: 0.002482\tAccuracy: 100.000000\tTime 0.331 (0.330)\tData 0.002 (0.027)\n",
      "Train Epoch: 10\t[20800/27064 (77%)]\tLoss: 0.001131\tAccuracy: 100.000000\tTime 0.331 (0.330)\tData 0.002 (0.027)\n",
      "Train Epoch: 10\t[21120/27064 (78%)]\tLoss: 0.001426\tAccuracy: 100.000000\tTime 0.335 (0.330)\tData 0.002 (0.027)\n",
      "Train Epoch: 10\t[21440/27064 (79%)]\tLoss: 0.001461\tAccuracy: 100.000000\tTime 0.332 (0.330)\tData 0.002 (0.027)\n",
      "Train Epoch: 10\t[21760/27064 (80%)]\tLoss: 0.001120\tAccuracy: 100.000000\tTime 0.334 (0.330)\tData 0.002 (0.027)\n",
      "Train Epoch: 10\t[22080/27064 (82%)]\tLoss: 0.002509\tAccuracy: 100.000000\tTime 0.331 (0.330)\tData 0.002 (0.027)\n",
      "Train Epoch: 10\t[22400/27064 (83%)]\tLoss: 0.001027\tAccuracy: 100.000000\tTime 0.331 (0.330)\tData 0.002 (0.027)\n",
      "Train Epoch: 10\t[22720/27064 (84%)]\tLoss: 0.000865\tAccuracy: 100.000000\tTime 0.332 (0.330)\tData 0.002 (0.027)\n",
      "Train Epoch: 10\t[23040/27064 (85%)]\tLoss: 0.001851\tAccuracy: 100.000000\tTime 0.329 (0.330)\tData 0.002 (0.027)\n",
      "Train Epoch: 10\t[23360/27064 (86%)]\tLoss: 0.002169\tAccuracy: 100.000000\tTime 0.325 (0.330)\tData 0.002 (0.027)\n",
      "Train Epoch: 10\t[23680/27064 (87%)]\tLoss: 0.001982\tAccuracy: 100.000000\tTime 0.325 (0.330)\tData 0.002 (0.027)\n",
      "Train Epoch: 10\t[24000/27064 (89%)]\tLoss: 0.000792\tAccuracy: 100.000000\tTime 0.330 (0.330)\tData 0.002 (0.027)\n",
      "Train Epoch: 10\t[24320/27064 (90%)]\tLoss: 0.004956\tAccuracy: 100.000000\tTime 0.331 (0.330)\tData 0.002 (0.027)\n",
      "Train Epoch: 10\t[24640/27064 (91%)]\tLoss: 0.001161\tAccuracy: 100.000000\tTime 0.333 (0.330)\tData 0.002 (0.027)\n",
      "Train Epoch: 10\t[24960/27064 (92%)]\tLoss: 0.001339\tAccuracy: 100.000000\tTime 0.326 (0.330)\tData 0.002 (0.027)\n",
      "Train Epoch: 10\t[25280/27064 (93%)]\tLoss: 0.001237\tAccuracy: 100.000000\tTime 0.333 (0.330)\tData 0.002 (0.027)\n",
      "Train Epoch: 10\t[25600/27064 (95%)]\tLoss: 0.001563\tAccuracy: 100.000000\tTime 0.332 (0.330)\tData 0.002 (0.027)\n",
      "Train Epoch: 10\t[25920/27064 (96%)]\tLoss: 0.002273\tAccuracy: 100.000000\tTime 0.326 (0.330)\tData 0.002 (0.027)\n",
      "Train Epoch: 10\t[26240/27064 (97%)]\tLoss: 0.001390\tAccuracy: 100.000000\tTime 0.333 (0.330)\tData 0.002 (0.027)\n",
      "Train Epoch: 10\t[26560/27064 (98%)]\tLoss: 0.003531\tAccuracy: 100.000000\tTime 0.326 (0.330)\tData 0.002 (0.027)\n",
      "Train Epoch: 10\t[26880/27064 (99%)]\tLoss: 0.001379\tAccuracy: 100.000000\tTime 0.326 (0.330)\tData 0.002 (0.027)\n",
      "\n",
      "Val set: Average loss: 0.001802, Accuracy: 99.981618 \n",
      "\n",
      "\n",
      "Val set: Average loss: 0.001802, Accuracy: 99.981618 \n",
      "\n",
      "\n",
      "\n",
      "Best validation accuracy: 99.981618\n",
      "\n",
      " Total time taken in seconds:  2877.5393340587616\n"
     ]
    }
   ],
   "source": [
    "# Trainging Loop\n",
    "\n",
    "training_start_time = time.time()\n",
    "\n",
    "best_acc = test(valid_loader, model, criterion, device)[1]\n",
    "\n",
    "for epoch in range(1, epochs + 1):\n",
    "    acc = train(train_loader, model, criterion, optimizer, epoch, device)\n",
    "    acc /= len(train_loader)\n",
    "\n",
    "    current_acc = test(valid_loader, model, criterion, device)[1]\n",
    "    \n",
    "    if current_acc > best_acc:\n",
    "        best_acc = current_acc\n",
    "        print(\"-------------------- HIGHEST ACCURACY ---------------------------\")\n",
    "        torch.save(model.state_dict(), './model.pth')\n",
    "\n",
    "training_stop_time = time.time()\n",
    "\n",
    "best_acc = max(best_acc, test(valid_loader, model, criterion, device)[0])\n",
    "print('\\n\\nBest validation accuracy: {:.6f}'.format(best_acc))\n",
    "\n",
    "print('\\n Total time taken in seconds: ', training_stop_time - training_start_time)"
   ]
  },
  {
   "cell_type": "markdown",
   "metadata": {
    "id": "1-PusJd6f_FQ"
   },
   "source": [
    "#### Testing time!"
   ]
  },
  {
   "cell_type": "code",
   "execution_count": 32,
   "metadata": {
    "colab": {
     "base_uri": "https://localhost:8080/"
    },
    "id": "-BoOtctOAApZ",
    "outputId": "84b5dbd0-90bc-4528-88a0-9c3d3269c004"
   },
   "outputs": [
    {
     "name": "stdout",
     "output_type": "stream",
     "text": [
      "\n",
      "Test set: Average loss: 0.004996, Accuracy: 99.995384 \n",
      "\n"
     ]
    }
   ],
   "source": [
    "model = CapsNet(A=A, B=B, C=C, D=D, E=num_class, iters=em_iters).to(device)\n",
    "model.load_state_dict(torch.load('./model.pth'))\n",
    "test(test_loader, model, criterion, device, test=True);"
   ]
  },
  {
   "cell_type": "markdown",
   "metadata": {
    "id": "B93ieiCMZ5eB"
   },
   "source": [
    "## **Inference and Visualization**"
   ]
  },
  {
   "cell_type": "markdown",
   "metadata": {
    "id": "q-xUh6iustlT"
   },
   "source": [
    "#### Inference"
   ]
  },
  {
   "cell_type": "code",
   "execution_count": 33,
   "metadata": {
    "id": "0IG8C_OQZ8H6"
   },
   "outputs": [],
   "source": [
    "def AA_andEachClassAccuracy(confusion_matrix):\n",
    "    counter = confusion_matrix.shape[0]\n",
    "    list_diag = np.diag(confusion_matrix)\n",
    "    list_raw_sum = np.sum(confusion_matrix, axis=1)\n",
    "    each_acc = np.nan_to_num(truediv(list_diag, list_raw_sum))\n",
    "    average_acc = np.mean(each_acc)\n",
    "    return each_acc, average_acc"
   ]
  },
  {
   "cell_type": "code",
   "execution_count": 34,
   "metadata": {
    "colab": {
     "base_uri": "https://localhost:8080/"
    },
    "id": "krZ2Z-9bZ-mA",
    "outputId": "e5d4245e-4e85-47a9-88f0-5bfff02245fb"
   },
   "outputs": [
    {
     "name": "stdout",
     "output_type": "stream",
     "text": [
      "\n",
      "Test set: Average loss: 0.004996, Accuracy: 99.995384 \n",
      "\n",
      "------------------------ CONFUSION MATRIX -------------------------\n",
      "[[ 803    0    0    0    0    0    0    0    0    0    0    0    0    0\n",
      "     0    0]\n",
      " [   0 1491    0    0    0    0    0    0    0    0    0    0    0    0\n",
      "     0    0]\n",
      " [   0    0  790    0    0    0    0    0    0    0    0    0    0    0\n",
      "     0    0]\n",
      " [   0    0    0  557    1    0    0    0    0    0    0    0    0    0\n",
      "     0    0]\n",
      " [   0    0    0    0 1071    0    0    0    0    0    0    0    0    0\n",
      "     0    0]\n",
      " [   0    0    0    0    0 1584    0    0    0    0    0    0    0    0\n",
      "     0    0]\n",
      " [   0    0    0    0    0    0 1432    0    0    0    0    0    0    0\n",
      "     0    0]\n",
      " [   0    0    0    0    0    0    0 4509    0    0    0    0    0    0\n",
      "     0    0]\n",
      " [   0    0    0    0    0    0    0    0 2482    0    0    0    0    0\n",
      "     0    0]\n",
      " [   0    0    0    0    0    0    0    0    0 1311    0    0    0    0\n",
      "     0    0]\n",
      " [   0    0    0    0    0    0    0    0    0    0  427    0    0    0\n",
      "     0    0]\n",
      " [   0    0    0    0    0    0    0    0    0    0    0  770    0    0\n",
      "     0    0]\n",
      " [   0    0    0    0    0    0    0    0    0    0    0    0  367    0\n",
      "     0    0]\n",
      " [   0    0    0    0    0    0    0    0    0    0    0    0    0  428\n",
      "     0    0]\n",
      " [   0    0    0    0    0    0    0    0    0    0    0    0    0    0\n",
      "  2907    0]\n",
      " [   0    0    0    0    0    0    0    0    0    0    0    0    0    0\n",
      "     0  722]]\n",
      "\n",
      "\n",
      "---------------------- CLASSIFICATION REPORT ----------------------\n",
      "              precision    recall  f1-score   support\n",
      "\n",
      "           0       1.00      1.00      1.00       803\n",
      "           1       1.00      1.00      1.00      1491\n",
      "           2       1.00      1.00      1.00       790\n",
      "           3       1.00      1.00      1.00       558\n",
      "           4       1.00      1.00      1.00      1071\n",
      "           5       1.00      1.00      1.00      1584\n",
      "           6       1.00      1.00      1.00      1432\n",
      "           7       1.00      1.00      1.00      4509\n",
      "           8       1.00      1.00      1.00      2482\n",
      "           9       1.00      1.00      1.00      1311\n",
      "          10       1.00      1.00      1.00       427\n",
      "          11       1.00      1.00      1.00       770\n",
      "          12       1.00      1.00      1.00       367\n",
      "          13       1.00      1.00      1.00       428\n",
      "          14       1.00      1.00      1.00      2907\n",
      "          15       1.00      1.00      1.00       722\n",
      "\n",
      "    accuracy                           1.00     21652\n",
      "   macro avg       1.00      1.00      1.00     21652\n",
      "weighted avg       1.00      1.00      1.00     21652\n",
      "\n",
      "\n",
      "\n",
      "------------------------ OVERALL ACCURACY -------------------------\n",
      "0.9999538148900794\n",
      "\n",
      "\n",
      "-------------------------- EACH ACCURACY --------------------------\n",
      "[1.         1.         1.         0.99820789 1.         1.\n",
      " 1.         1.         1.         1.         1.         1.\n",
      " 1.         1.         1.         1.        ]\n",
      "\n",
      "\n",
      "------------------------ AVERAGE ACCURACY -------------------------\n",
      "0.9998879928315412\n",
      "\n",
      "\n",
      "--------------------------- KAPPA SCORE ---------------------------\n",
      "0.999948572924179\n",
      "\n",
      "\n",
      "-------------------------- TEST ACCURACY --------------------------\n",
      "\n",
      "Test set: Average loss: 0.004996, Accuracy: 99.995384 \n",
      "\n"
     ]
    }
   ],
   "source": [
    "def report(model=model, test_loader=test_loader, criterion=criterion, device=device):\n",
    "\n",
    "    # Getting prediction vectors from test loader\n",
    "    y_pred = []\n",
    "    y_test = []\n",
    "    model.eval()\n",
    "    test_loss = 0\n",
    "    acc = 0\n",
    "    test_len = len(test_loader)\n",
    "    with torch.no_grad():\n",
    "        for data, target in test_loader:\n",
    "            output = model(data.to(device))\n",
    "            y_pred.extend(output.argmax(dim=1).float().tolist())\n",
    "            y_test.extend(target.tolist())\n",
    "\n",
    "    target_labels = ['0', '1', '2', '3', '4', '5', '6', '7', \n",
    "            '8', '9', '10', '11', '12', '13', '14', '15']\n",
    "\n",
    "    classificationReport = classification_report(y_test, y_pred, target_names=target_labels)\n",
    "    confusionMatrix = confusion_matrix(y_test, y_pred)\n",
    "    oa = accuracy_score(y_test, y_pred)\n",
    "    each_acc, aa = AA_andEachClassAccuracy(confusionMatrix)\n",
    "    kappa = cohen_kappa_score(y_test, y_pred)\n",
    "    test_loss, acc = test(test_loader, model, criterion, device, test=True)\n",
    "\n",
    "    print(\"------------------------ CONFUSION MATRIX -------------------------\")\n",
    "    print(confusionMatrix)\n",
    "\n",
    "    print(\"\\n\\n---------------------- CLASSIFICATION REPORT ----------------------\")\n",
    "    print(classificationReport)\n",
    "\n",
    "    print('\\n\\n------------------------ OVERALL ACCURACY -------------------------')\n",
    "    print(oa)\n",
    "\n",
    "    print('\\n\\n-------------------------- EACH ACCURACY --------------------------')\n",
    "    print(each_acc)\n",
    "\n",
    "    print('\\n\\n------------------------ AVERAGE ACCURACY -------------------------')\n",
    "    print(aa)\n",
    "\n",
    "    print('\\n\\n--------------------------- KAPPA SCORE ---------------------------')\n",
    "    print(kappa)\n",
    "\n",
    "    print('\\n\\n-------------------------- TEST ACCURACY --------------------------')\n",
    "    print('\\nTest set: Average loss: {:.6f}, Accuracy: {:.6f} \\n'.format(\n",
    "        test_loss, acc))\n",
    "\n",
    "report()"
   ]
  },
  {
   "cell_type": "markdown",
   "metadata": {
    "id": "mfyI8o-raJm3"
   },
   "source": [
    "#### Visualization"
   ]
  },
  {
   "cell_type": "code",
   "execution_count": 35,
   "metadata": {
    "id": "zAsXUh8TaaRR"
   },
   "outputs": [],
   "source": [
    "X,y = loadData()\n",
    "X = applyPCA(X)\n",
    "X = padWithZeros(X, windowSize//2)"
   ]
  },
  {
   "cell_type": "code",
   "execution_count": 36,
   "metadata": {
    "id": "emvkETrFaslj"
   },
   "outputs": [],
   "source": [
    "def Patch(data,height_index,width_index):\n",
    "    height_slice = slice(height_index, height_index + windowSize)\n",
    "    width_slice = slice(width_index, width_index + windowSize)\n",
    "    patch = data[height_slice, width_slice, :]\n",
    "    return patch"
   ]
  },
  {
   "cell_type": "code",
   "execution_count": 37,
   "metadata": {
    "id": "aB1sYuXwaupH"
   },
   "outputs": [],
   "source": [
    "height,width = y.shape[0],y.shape[1]\n",
    "outputs = np.zeros((height,width))\n",
    "model.eval()\n",
    "with torch.no_grad():\n",
    "  for i in range(height):\n",
    "      for j in range(width):\n",
    "          target = int(y[i,j])\n",
    "          if target == 0 :\n",
    "              continue\n",
    "          else :\n",
    "              image_patch=Patch(X,i,j)\n",
    "              X_test_image = image_patch.transpose(2,0,1)\n",
    "              X_test_image = X_test_image.reshape(1,X_test_image.shape[0],X_test_image.shape[1], X_test_image.shape[2])\n",
    "              X_test_image = torch.Tensor(X_test_image).to(device)\n",
    "              pred = model(X_test_image)\n",
    "              pred = pred.cpu().numpy()\n",
    "              pred = np.argmax(pred, axis=-1)\n",
    "              outputs[i][j] = pred[0]+1"
   ]
  },
  {
   "cell_type": "markdown",
   "metadata": {
    "id": "5Hk9UvESa4Be"
   },
   "source": [
    "##### Ground Truth"
   ]
  },
  {
   "cell_type": "code",
   "execution_count": 38,
   "metadata": {
    "colab": {
     "base_uri": "https://localhost:8080/",
     "height": 432
    },
    "id": "oaSqDBy_a5Ep",
    "outputId": "d49fc93a-c80f-424d-c191-7dcd7c025033"
   },
   "outputs": [
    {
     "data": {
      "image/png": "[encoded data removed]",
      "text/plain": [
       "<Figure size 700x700 with 1 Axes>"
      ]
     },
     "metadata": {},
     "output_type": "display_data"
    }
   ],
   "source": [
    "ground_truth = spectral.imshow(classes = y,figsize =(7,7))"
   ]
  },
  {
   "cell_type": "markdown",
   "metadata": {
    "id": "7c_v4cuGa7o3"
   },
   "source": [
    "##### Predictions"
   ]
  },
  {
   "cell_type": "code",
   "execution_count": 39,
   "metadata": {
    "colab": {
     "base_uri": "https://localhost:8080/",
     "height": 432
    },
    "id": "jKAdGZCMa80E",
    "outputId": "923124a1-9de6-4d9e-9c2f-1b02df774fb5"
   },
   "outputs": [
    {
     "data": {
      "image/png": "[encoded data removed]",
      "text/plain": [
       "<Figure size 700x700 with 1 Axes>"
      ]
     },
     "metadata": {},
     "output_type": "display_data"
    }
   ],
   "source": [
    "predict_image = spectral.imshow(classes = outputs.astype(int),figsize =(7,7))"
   ]
  }
 ],
 "metadata": {
  "accelerator": "GPU",
  "colab": {
   "collapsed_sections": [],
   "machine_shape": "hm",
   "name": "[FINAL] SalinasSeed3.ipynb",
   "provenance": []
  },
  "kernelspec": {
   "display_name": "Segment_anything",
   "language": "python",
   "name": "segment_anything"
  },
  "language_info": {
   "codemirror_mode": {
    "name": "ipython",
    "version": 3
   },
   "file_extension": ".py",
   "mimetype": "text/x-python",
   "name": "python",
   "nbconvert_exporter": "python",
   "pygments_lexer": "ipython3",
   "version": "3.9.12"
  }
 },
 "nbformat": 4,
 "nbformat_minor": 4
}

{
 "cells": [
  {
   "cell_type": "markdown",
   "metadata": {
    "id": "DZU9nS-J714K"
   },
   "source": [
    "# **Deep Matrix Capsules on Indian Pines**\n",
    "### **Parameters:**\n",
    "\n",
    "WindowSize: 25\n",
    "\n",
    "No. of PCA Components: 30\n",
    "\n",
    "No. of epochs: 50\n",
    "\n",
    "Batch size: 64\n",
    "\n",
    "Learning Rate: 3e-3\n",
    "\n",
    "EM Iterations: 2\n",
    "\n",
    "Architecture: [64, 32, 16, 16, 16]\n",
    "\n",
    "Percentage of training data used: 50% (5125 samples)\n",
    "\n",
    "Percentage of validation data: 10% (1025 samples)\n",
    "\n",
    "Percentage of testing data: 40% (4100 samples)"
   ]
  },
  {
   "cell_type": "markdown",
   "metadata": {
    "id": "1lo7Iv6t8c7q"
   },
   "source": [
    "## **Imports & Initialization**"
   ]
  },
  {
   "cell_type": "code",
   "execution_count": 1,
   "metadata": {
    "id": "CyNgS4dq353c"
   },
   "outputs": [],
   "source": [
    "from datetime import datetime\n",
    "import math\n",
    "from operator import truediv\n",
    "import os\n",
    "import pickle\n",
    "import random\n",
    "import time\n",
    "\n",
    "import matplotlib.pyplot as plt\n",
    "import numpy as np\n",
    "\n",
    "import scipy.io as sio\n",
    "\n",
    "from sklearn.decomposition import PCA\n",
    "from sklearn.model_selection import train_test_split\n",
    "from sklearn.metrics import confusion_matrix, accuracy_score\n",
    "from sklearn.metrics import classification_report, cohen_kappa_score\n",
    "\n",
    "import spectral\n",
    "\n",
    "import torch\n",
    "import torch.nn as nn\n",
    "import torch.nn.functional as F\n",
    "import torch.optim as optim\n",
    "from torchvision import datasets, transforms\n",
    "from torch.nn.modules.loss import _Loss\n",
    "\n",
    "import warnings\n",
    "warnings.filterwarnings('ignore')"
   ]
  },
  {
   "cell_type": "code",
   "execution_count": 2,
   "metadata": {
    "colab": {
     "base_uri": "https://localhost:8080/"
    },
    "id": "QRXMOdRD70RL",
    "outputId": "e27be161-3163-48c7-d31d-d3175fe254cc"
   },
   "outputs": [
    {
     "name": "stdout",
     "output_type": "stream",
     "text": [
      "cuda:0\n"
     ]
    }
   ],
   "source": [
    "seed = 3\n",
    "\n",
    "# Making the model deterministic\n",
    "\n",
    "def set_seed(seed):\n",
    "    torch.manual_seed(seed)\n",
    "    torch.cuda.manual_seed_all(seed)\n",
    "    torch.backends.cudnn.deterministic = True\n",
    "    torch.backends.cudnn.benchmark = False\n",
    "    np.random.seed(seed)\n",
    "    random.seed(seed)\n",
    "    os.environ['PYTHONHASHSEED'] = str(seed)\n",
    "\n",
    "set_seed(seed)\n",
    "\n",
    "torch.cuda.empty_cache()\n",
    "\n",
    "device = torch.device(\"cuda:0\" if torch.cuda.is_available() else \"cpu\")\n",
    "print(device)"
   ]
  },
  {
   "cell_type": "markdown",
   "metadata": {
    "id": "z7hCepAWyzjQ"
   },
   "source": [
    "## **Parameters**"
   ]
  },
  {
   "cell_type": "markdown",
   "metadata": {
    "id": "dvmHgMALy6SQ"
   },
   "source": [
    "### Dataset Parameters"
   ]
  },
  {
   "cell_type": "code",
   "execution_count": 3,
   "metadata": {
    "id": "ZPaayr7SVkp6"
   },
   "outputs": [],
   "source": [
    "test_ratio = 0.8\n",
    "val_and_test_ratio = 0.5\n",
    "windowSize = 25\n",
    "batch_size = 32\n",
    "no_of_PCA_components = 30"
   ]
  },
  {
   "cell_type": "markdown",
   "metadata": {
    "id": "Gx16jdZty2lL"
   },
   "source": [
    "### Model Parameters"
   ]
  },
  {
   "cell_type": "code",
   "execution_count": 4,
   "metadata": {
    "id": "TtR6i2Df4eIg"
   },
   "outputs": [],
   "source": [
    "# model architecture\n",
    "A, B, C, D = 64, 32, 16, 16\n",
    "\n",
    "# EM Iterations\n",
    "em_iters = 2\n",
    "\n",
    "# PCA Componenets\n",
    "pca_components = 30\n",
    "\n",
    "# Epochs\n",
    "epochs = 50\n",
    "\n",
    "# Learning rate\n",
    "lr = 3e-3\n",
    "\n",
    "# Weight Decay\n",
    "wd = 2e-7\n",
    "\n",
    "# Test Intervals\n",
    "test_intervals = 1\n",
    "\n",
    "# Log Interval\n",
    "log_interval = 10\n",
    "\n",
    "# No. of classes\n",
    "num_class = 16"
   ]
  },
  {
   "cell_type": "markdown",
   "metadata": {
    "id": "QeXpt6io3znQ"
   },
   "source": [
    "## **Loading Data**"
   ]
  },
  {
   "cell_type": "markdown",
   "metadata": {
    "id": "cowVRmhKVe3B"
   },
   "source": [
    "#### Defining Required Functions"
   ]
  },
  {
   "cell_type": "code",
   "execution_count": 5,
   "metadata": {
    "id": "VhxVJKj8Vohj"
   },
   "outputs": [],
   "source": [
    "def loadData():\n",
    "    images = sio.loadmat('Data/IndianPines/Indian_pines_corrected.mat')['indian_pines_corrected']\n",
    "    labels = sio.loadmat('Data/IndianPines/Indian_pines_gt.mat')['indian_pines_gt']\n",
    "    return images, labels"
   ]
  },
  {
   "cell_type": "code",
   "execution_count": 6,
   "metadata": {
    "id": "AkWk5WP6VqsP"
   },
   "outputs": [],
   "source": [
    "def applyPCA(X, n_components=no_of_PCA_components, seed=seed):\n",
    "    newX = np.reshape(X, (-1, X.shape[2]))\n",
    "    pca = PCA(n_components=n_components, whiten=True, random_state=seed)\n",
    "    newX = pca.fit_transform(newX)\n",
    "    newX = np.reshape(newX, (X.shape[0], X.shape[1], n_components))\n",
    "    return newX"
   ]
  },
  {
   "cell_type": "code",
   "execution_count": 7,
   "metadata": {
    "id": "lUMwqDrtVs0F"
   },
   "outputs": [],
   "source": [
    "def padWithZeros(X, margin=2):\n",
    "    newX = np.zeros((X.shape[0] + 2*margin, X.shape[1] + 2*margin, X.shape[2]))\n",
    "    x_offset = margin\n",
    "    y_offset = margin\n",
    "    newX [x_offset : X.shape[0] + x_offset, y_offset : X.shape[1] + y_offset, :] = X\n",
    "    return newX"
   ]
  },
  {
   "cell_type": "code",
   "execution_count": 8,
   "metadata": {
    "id": "fcj3-RsNVuvl"
   },
   "outputs": [],
   "source": [
    "def createImageCubes(X, y, windowSize=windowSize, removeZeroLabels=True):\n",
    "    margin = int((windowSize-1)/2)\n",
    "    zeroPaddedX = padWithZeros(X, margin=margin)\n",
    "    \n",
    "    patchesData = np.zeros((X.shape[0]*X.shape[1], windowSize, windowSize, X.shape[2]))\n",
    "    patchesLabels = np.zeros((X.shape[0] * X.shape[1]))\n",
    "    patchIndex = 0\n",
    "    \n",
    "    for r in range(margin, zeroPaddedX.shape[0] - margin):\n",
    "        for c in range(margin, zeroPaddedX.shape[1] - margin):\n",
    "            patch = zeroPaddedX[r - margin: r + margin + 1, c - margin:c + margin + 1]\n",
    "            patchesData[patchIndex, :, :, :] = patch\n",
    "            patchesLabels[patchIndex] = y[r-margin, c-margin]\n",
    "            patchIndex += 1\n",
    "\n",
    "    if removeZeroLabels:\n",
    "        patchesData = patchesData[patchesLabels > 0, :, :, :]\n",
    "        patchesLabels = patchesLabels[patchesLabels > 0]\n",
    "        patchesLabels -= 1\n",
    "    \n",
    "    return patchesData, patchesLabels"
   ]
  },
  {
   "cell_type": "code",
   "execution_count": 9,
   "metadata": {
    "id": "_zPDW-7XVxXl"
   },
   "outputs": [],
   "source": [
    "def dataSplit(X, y, val_and_test_ratio=val_and_test_ratio, test_ratio=test_ratio, random_state=seed):\n",
    "    X_train, X_val_and_test, y_train, y_val_and_test = train_test_split(X, y, test_size=val_and_test_ratio, random_state=random_state, stratify=y)\n",
    "    X_val, X_test, y_val, y_test = train_test_split(X_val_and_test, y_val_and_test, test_size=test_ratio, random_state=random_state, stratify=y_val_and_test)\n",
    "    return X_train, y_train, X_val, y_val, X_test, y_test"
   ]
  },
  {
   "cell_type": "code",
   "execution_count": 10,
   "metadata": {
    "id": "WyxuQV9OV0LS"
   },
   "outputs": [],
   "source": [
    "def convertToDataloader(X_train, y_train, X_val, y_val, X_test, y_test, batch_size=batch_size, K=no_of_PCA_components):\n",
    "\n",
    "    X_train = torch.Tensor(X_train)\n",
    "    y_train = torch.Tensor(y_train)\n",
    "    X_val = torch.Tensor(X_val)\n",
    "    y_val = torch.Tensor(y_val)\n",
    "    X_test = torch.Tensor(X_test)\n",
    "    y_test = torch.Tensor(y_test)\n",
    "\n",
    "    train_dataset = torch.utils.data.TensorDataset(X_train, y_train)\n",
    "    val_dataset = torch.utils.data.TensorDataset(X_val, y_val)\n",
    "    test_dataset = torch.utils.data.TensorDataset(X_test, y_test)\n",
    "\n",
    "    train_dataloader = torch.utils.data.DataLoader(train_dataset, batch_size=batch_size, shuffle=True)\n",
    "    val_dataloader = torch.utils.data.DataLoader(val_dataset, batch_size=batch_size)\n",
    "    test_dataloader = torch.utils.data.DataLoader(test_dataset, batch_size=batch_size)\n",
    "\n",
    "    return train_dataloader, val_dataloader, test_dataloader"
   ]
  },
  {
   "cell_type": "markdown",
   "metadata": {
    "id": "pQNIH-ClV26m"
   },
   "source": [
    "#### Loading Data"
   ]
  },
  {
   "cell_type": "code",
   "execution_count": 11,
   "metadata": {
    "colab": {
     "base_uri": "https://localhost:8080/"
    },
    "id": "X3X-GTxKV2qx",
    "outputId": "39346109-d6e0-419b-8d43-1cd3eb63bb9c"
   },
   "outputs": [
    {
     "data": {
      "text/plain": [
       "((145, 145, 200), (145, 145))"
      ]
     },
     "execution_count": 11,
     "metadata": {},
     "output_type": "execute_result"
    }
   ],
   "source": [
    "X, y = loadData()\n",
    "X.shape, y.shape"
   ]
  },
  {
   "cell_type": "code",
   "execution_count": 12,
   "metadata": {
    "colab": {
     "base_uri": "https://localhost:8080/"
    },
    "id": "AS6ZWMX5V6gI",
    "outputId": "17005c8f-0c73-42f2-d5f8-ecaaf955e546"
   },
   "outputs": [
    {
     "data": {
      "text/plain": [
       "(145, 145, 30)"
      ]
     },
     "execution_count": 12,
     "metadata": {},
     "output_type": "execute_result"
    }
   ],
   "source": [
    "X = applyPCA(X)\n",
    "X.shape"
   ]
  },
  {
   "cell_type": "code",
   "execution_count": 13,
   "metadata": {
    "colab": {
     "base_uri": "https://localhost:8080/"
    },
    "id": "4rglm_OIV9Nl",
    "outputId": "c6f495f6-6ac9-4912-9cac-d734cfe1862b"
   },
   "outputs": [
    {
     "data": {
      "text/plain": [
       "((10249, 25, 25, 30), (10249,))"
      ]
     },
     "execution_count": 13,
     "metadata": {},
     "output_type": "execute_result"
    }
   ],
   "source": [
    "X, y = createImageCubes(X, y)\n",
    "X.shape, y.shape"
   ]
  },
  {
   "cell_type": "code",
   "execution_count": 14,
   "metadata": {
    "colab": {
     "base_uri": "https://localhost:8080/"
    },
    "id": "I9Ez4Ls8V_If",
    "outputId": "70ff28d2-d39a-4b4b-9cce-241537f54497"
   },
   "outputs": [
    {
     "data": {
      "text/plain": [
       "((10249, 30, 25, 25), (10249,))"
      ]
     },
     "execution_count": 14,
     "metadata": {},
     "output_type": "execute_result"
    }
   ],
   "source": [
    "X = X.transpose(0, 3, 1, 2)\n",
    "X.shape, y.shape"
   ]
  },
  {
   "cell_type": "code",
   "execution_count": 15,
   "metadata": {
    "colab": {
     "base_uri": "https://localhost:8080/"
    },
    "id": "JVCEEFM6WAvs",
    "outputId": "0a89e8de-18a9-4495-b279-9ea2a0b1f759"
   },
   "outputs": [
    {
     "name": "stdout",
     "output_type": "stream",
     "text": [
      "X Train:  (5124, 30, 25, 25)\n",
      "Y Train:  (5124,)\n",
      "X Val:  (1025, 30, 25, 25)\n",
      "Y Val:  (1025,)\n",
      "X Test:  (4100, 30, 25, 25)\n",
      "Y Test:  (4100,)\n"
     ]
    }
   ],
   "source": [
    "X_train, y_train, X_val, y_val, X_test, y_test = dataSplit(X, y)\n",
    "print(\"X Train: \", X_train.shape)\n",
    "print(\"Y Train: \", y_train.shape)\n",
    "print(\"X Val: \", X_val.shape)\n",
    "print(\"Y Val: \", y_val.shape)\n",
    "print(\"X Test: \", X_test.shape)\n",
    "print(\"Y Test: \", y_test.shape)"
   ]
  },
  {
   "cell_type": "code",
   "execution_count": 16,
   "metadata": {
    "id": "a9E56ZwIWC6R"
   },
   "outputs": [],
   "source": [
    "train_loader, val_loader, test_loader = convertToDataloader(X_train, y_train, X_val, y_val, X_test, y_test)"
   ]
  },
  {
   "cell_type": "code",
   "execution_count": 17,
   "metadata": {
    "id": "Mw6iBRJpWETi"
   },
   "outputs": [],
   "source": [
    "dataloaders = {'train': train_loader, 'valid': val_loader,'test': test_loader}"
   ]
  },
  {
   "cell_type": "markdown",
   "metadata": {
    "id": "0D_5INAM4u33"
   },
   "source": [
    "## **Model**"
   ]
  },
  {
   "cell_type": "markdown",
   "metadata": {
    "id": "CBmkAG3_43c-"
   },
   "source": [
    "#### Capsule Network Model"
   ]
  },
  {
   "cell_type": "code",
   "execution_count": 18,
   "metadata": {
    "id": "Qp1hds7dy_9v"
   },
   "outputs": [],
   "source": [
    "class PrimaryCaps(nn.Module):\n",
    "    \n",
    "    def __init__(self, A=32, B=32, K=1, P=4, stride=1):\n",
    "        super(PrimaryCaps, self).__init__()\n",
    "        self.pose = nn.Conv2d(in_channels=A, out_channels=B*P*P,\n",
    "                            kernel_size=K, stride=stride, bias=True)\n",
    "        self.a = nn.Conv2d(in_channels=A, out_channels=B,\n",
    "                            kernel_size=K, stride=stride, bias=True)\n",
    "        self.sigmoid = nn.Sigmoid()\n",
    "\n",
    "    def forward(self, x):\n",
    "        p = self.pose(x)\n",
    "        a = self.a(x)\n",
    "        a = self.sigmoid(a)\n",
    "        out = torch.cat([p, a], dim=1)\n",
    "        out = out.permute(0, 2, 3, 1)\n",
    "        return out"
   ]
  },
  {
   "cell_type": "code",
   "execution_count": 19,
   "metadata": {
    "id": "Ey4FeNfp42l7"
   },
   "outputs": [],
   "source": [
    "class ConvCaps(nn.Module):\n",
    "\n",
    "    def __init__(self, B=32, C=32, K=3, P=4, stride=2, iters=3,\n",
    "                 coor_add=False, w_shared=False):\n",
    "        super(ConvCaps, self).__init__()\n",
    "        self.B = B\n",
    "        self.C = C\n",
    "        self.K = K\n",
    "        self.P = P\n",
    "        self.psize = P*P\n",
    "        self.stride = stride\n",
    "        self.iters = iters\n",
    "        self.coor_add = coor_add\n",
    "        self.w_shared = w_shared\n",
    "        self.eps = 1e-8\n",
    "        self._lambda = 1e-03\n",
    "        self.ln_2pi = torch.cuda.FloatTensor(1).fill_(math.log(2*math.pi))\n",
    "\n",
    "        self.beta_u = nn.Parameter(torch.zeros(C))\n",
    "        self.beta_a = nn.Parameter(torch.zeros(C))\n",
    "\n",
    "        self.weights = nn.Parameter(torch.randn(1, K*K*B, C, P, P))\n",
    "        self.sigmoid = nn.Sigmoid()\n",
    "        self.softmax = nn.Softmax(dim=2)\n",
    "\n",
    "    def m_step(self, a_in, r, v, eps, b, B, C, psize):\n",
    "\n",
    "        r = r * a_in\n",
    "        r = r / (r.sum(dim=2, keepdim=True) + eps)\n",
    "        r_sum = r.sum(dim=1, keepdim=True)\n",
    "        coeff = r / (r_sum + eps)\n",
    "        coeff = coeff.view(b, B, C, 1)\n",
    "\n",
    "        mu = torch.sum(coeff * v, dim=1, keepdim=True)\n",
    "        sigma_sq = torch.sum(coeff * (v - mu)**2, dim=1, keepdim=True) + eps\n",
    "\n",
    "        r_sum = r_sum.view(b, C, 1)\n",
    "        sigma_sq = sigma_sq.view(b, C, psize)\n",
    "        cost_h = (self.beta_u.view(C, 1) + torch.log(sigma_sq.sqrt())) * r_sum\n",
    "\n",
    "        a_out = self.sigmoid(self._lambda*(self.beta_a - cost_h.sum(dim=2)))\n",
    "        sigma_sq = sigma_sq.view(b, 1, C, psize)\n",
    "\n",
    "        return a_out, mu, sigma_sq\n",
    "\n",
    "    def e_step(self, mu, sigma_sq, a_out, v, eps, b, C):\n",
    "\n",
    "        ln_p_j_h = -1. * (v - mu)**2 / (2 * sigma_sq) \\\n",
    "                    - torch.log(sigma_sq.sqrt()) \\\n",
    "                    - 0.5*self.ln_2pi\n",
    "\n",
    "        ln_ap = ln_p_j_h.sum(dim=3) + torch.log(a_out.view(b, 1, C))\n",
    "        r = self.softmax(ln_ap)\n",
    "        return r\n",
    "\n",
    "    def caps_em_routing(self, v, a_in, C, eps):\n",
    "\n",
    "        b, B, c, psize = v.shape\n",
    "        assert c == C\n",
    "        assert (b, B, 1) == a_in.shape\n",
    "\n",
    "        r = torch.cuda.FloatTensor(b, B, C).fill_(1./C)\n",
    "        for iter_ in range(self.iters):\n",
    "            a_out, mu, sigma_sq = self.m_step(a_in, r, v, eps, b, B, C, psize)\n",
    "            if iter_ < self.iters - 1:\n",
    "                r = self.e_step(mu, sigma_sq, a_out, v, eps, b, C)\n",
    "\n",
    "        return mu, a_out\n",
    "\n",
    "    def add_pathes(self, x, B, K, psize, stride):\n",
    "\n",
    "        b, h, w, c = x.shape\n",
    "        assert h == w\n",
    "        assert c == B*(psize+1)\n",
    "        oh = ow = int(((h - K )/stride)+ 1)\n",
    "        idxs = [[(h_idx + k_idx) \\\n",
    "                for k_idx in range(0, K)] \\\n",
    "                for h_idx in range(0, h - K + 1, stride)]\n",
    "        x = x[:, idxs, :, :]\n",
    "        x = x[:, :, :, idxs, :]\n",
    "        x = x.permute(0, 1, 3, 2, 4, 5).contiguous()\n",
    "        return x, oh, ow\n",
    "\n",
    "    def transform_view(self, x, w, C, P, w_shared=False):\n",
    "\n",
    "        b, B, psize = x.shape\n",
    "        assert psize == P*P\n",
    "\n",
    "        x = x.view(b, B, 1, P, P)\n",
    "        if w_shared:\n",
    "            hw = int(B / w.size(1))\n",
    "            w = w.repeat(1, hw, 1, 1, 1)\n",
    "\n",
    "        w = w.repeat(b, 1, 1, 1, 1)\n",
    "        x = x.repeat(1, 1, C, 1, 1)\n",
    "        v = torch.matmul(x, w)\n",
    "        v = v.view(b, B, C, P*P)\n",
    "        return v\n",
    "\n",
    "    def add_coord(self, v, b, h, w, B, C, psize):\n",
    "        \n",
    "        assert h == w\n",
    "        v = v.view(b, h, w, B, C, psize)\n",
    "        coor = torch.arange(h, dtype=torch.float32) / h\n",
    "        coor_h = torch.cuda.FloatTensor(1, h, 1, 1, 1, self.psize).fill_(0.)\n",
    "        coor_w = torch.cuda.FloatTensor(1, 1, w, 1, 1, self.psize).fill_(0.)\n",
    "        coor_h[0, :, 0, 0, 0, 0] = coor\n",
    "        coor_w[0, 0, :, 0, 0, 1] = coor\n",
    "        v = v + coor_h + coor_w\n",
    "        v = v.view(b, h*w*B, C, psize)\n",
    "        return v\n",
    "\n",
    "    def forward(self, x):\n",
    "        b, h, w, c = x.shape\n",
    "        if not self.w_shared:\n",
    "            x, oh, ow = self.add_pathes(x, self.B, self.K, self.psize, self.stride)\n",
    "\n",
    "            p_in = x[:, :, :, :, :, :self.B*self.psize].contiguous()\n",
    "            a_in = x[:, :, :, :, :, self.B*self.psize:].contiguous()\n",
    "            p_in = p_in.view(b*oh*ow, self.K*self.K*self.B, self.psize)\n",
    "            a_in = a_in.view(b*oh*ow, self.K*self.K*self.B, 1)\n",
    "            v = self.transform_view(p_in, self.weights, self.C, self.P)\n",
    "\n",
    "            p_out, a_out = self.caps_em_routing(v, a_in, self.C, self.eps)\n",
    "            p_out = p_out.view(b, oh, ow, self.C*self.psize)\n",
    "            a_out = a_out.view(b, oh, ow, self.C)\n",
    "            out = torch.cat([p_out, a_out], dim=3)\n",
    "        else:\n",
    "            assert c == self.B*(self.psize+1)\n",
    "            assert 1 == self.K\n",
    "            assert 1 == self.stride\n",
    "            p_in = x[:, :, :, :self.B*self.psize].contiguous()\n",
    "            p_in = p_in.view(b, h*w*self.B, self.psize)\n",
    "            a_in = x[:, :, :, self.B*self.psize:].contiguous()\n",
    "            a_in = a_in.view(b, h*w*self.B, 1)\n",
    "\n",
    "            v = self.transform_view(p_in, self.weights, self.C, self.P, self.w_shared)\n",
    "\n",
    "            if self.coor_add:\n",
    "                v = self.add_coord(v, b, h, w, self.B, self.C, self.psize)\n",
    "\n",
    "            _, out = self.caps_em_routing(v, a_in, self.C, self.eps)\n",
    "\n",
    "        return out"
   ]
  },
  {
   "cell_type": "code",
   "execution_count": 20,
   "metadata": {
    "id": "GKbBGB1FzGPw"
   },
   "outputs": [],
   "source": [
    "class CapsNet(nn.Module):\n",
    "\n",
    "    def __init__(self, A=32, B=32, C=32, D=32, E=10, K=3, P=4, iters=3):\n",
    "        super(CapsNet, self).__init__()\n",
    "        self.conv1 = nn.Conv2d(in_channels=pca_components, out_channels=A,\n",
    "                               kernel_size=5, stride=2, padding=2)\n",
    "        self.bn1 = nn.BatchNorm2d(num_features=A, eps=0.001,\n",
    "                                 momentum=0.1, affine=True)\n",
    "        self.relu1 = nn.ReLU(inplace=False)\n",
    "        self.primary_caps = PrimaryCaps(A, B, 1, P, stride=1)\n",
    "        self.conv_caps1 = ConvCaps(B, C, K, P, stride=2, iters=iters)\n",
    "        self.conv_caps2 = ConvCaps(C, D, K, P, stride=1, iters=iters)\n",
    "        self.class_caps = ConvCaps(D, E, 1, P, stride=1, iters=iters,\n",
    "                                        coor_add=True, w_shared=True)\n",
    "\n",
    "    def forward(self, x):\n",
    "        x = self.conv1(x)\n",
    "        x = self.bn1(x)\n",
    "        x = self.relu1(x)\n",
    "        x = self.primary_caps(x)\n",
    "        x = self.conv_caps1(x)\n",
    "        x = self.conv_caps2(x)\n",
    "        x = self.class_caps(x)\n",
    "        return x"
   ]
  },
  {
   "cell_type": "markdown",
   "metadata": {
    "id": "4ypxKKRG5hvO"
   },
   "source": [
    "#### Loss Function"
   ]
  },
  {
   "cell_type": "code",
   "execution_count": 21,
   "metadata": {
    "id": "4J7NoS985UHc"
   },
   "outputs": [],
   "source": [
    "class SpreadLoss(_Loss):\n",
    "\n",
    "    def __init__(self, m_min=0.2, m_max=0.9, num_class=16):\n",
    "        super(SpreadLoss, self).__init__()\n",
    "        self.m_min = m_min\n",
    "        self.m_max = m_max\n",
    "        self.num_class = num_class\n",
    "\n",
    "    def forward(self, x, target, r):\n",
    "        b, E = x.shape\n",
    "        assert E == self.num_class\n",
    "        margin = self.m_min + (self.m_max - self.m_min)*r\n",
    "\n",
    "        at = torch.cuda.FloatTensor(b).fill_(0)\n",
    "        for i, a in enumerate(target):\n",
    "            lb = int(a.item())\n",
    "            at[i] = x[i][lb]\n",
    "        at = at.view(b, 1).repeat(1, E)\n",
    "\n",
    "        zeros = x.new_zeros(x.shape)\n",
    "        loss = torch.max(margin - (at - x), zeros)\n",
    "        loss = loss**2\n",
    "        loss = loss.sum() / b - margin**2\n",
    "\n",
    "        return loss"
   ]
  },
  {
   "cell_type": "markdown",
   "metadata": {
    "id": "05AZSkZ16Jxp"
   },
   "source": [
    "## **Training Setup**"
   ]
  },
  {
   "cell_type": "markdown",
   "metadata": {
    "id": "suwWgu2z6rg8"
   },
   "source": [
    "#### Data Preparation"
   ]
  },
  {
   "cell_type": "code",
   "execution_count": 22,
   "metadata": {
    "id": "kIgNfsLi5jlU"
   },
   "outputs": [],
   "source": [
    "train_loader = dataloaders['train']\n",
    "valid_loader = dataloaders['valid']\n",
    "test_loader = dataloaders['test']"
   ]
  },
  {
   "cell_type": "markdown",
   "metadata": {
    "id": "aq1YU_XD7Cco"
   },
   "source": [
    "#### Accuracy Function"
   ]
  },
  {
   "cell_type": "code",
   "execution_count": 23,
   "metadata": {
    "id": "w7v8XF9M6uQR"
   },
   "outputs": [],
   "source": [
    "def accuracy(output, target):\n",
    "    y_pred = output.argmax(dim=1).float()\n",
    "    res = accuracy_score(target.to('cpu'), y_pred.to('cpu')) * 100\n",
    "    return res"
   ]
  },
  {
   "cell_type": "markdown",
   "metadata": {
    "id": "hvXyaGUH7HLo"
   },
   "source": [
    "#### Learning Rate Decay function"
   ]
  },
  {
   "cell_type": "code",
   "execution_count": 24,
   "metadata": {
    "id": "EW1wGZrS7EQA"
   },
   "outputs": [],
   "source": [
    "def exp_lr_decay(optimizer, global_step, init_lr = 3e-3, decay_steps = 20000,\n",
    "                                        decay_rate = 0.96, lr_clip = 3e-3 ,staircase=False):\n",
    "        \n",
    "    if staircase:\n",
    "        lr = (init_lr * decay_rate**(global_step // decay_steps)) \n",
    "    else:\n",
    "        lr = (init_lr * decay_rate**(global_step / decay_steps)) \n",
    "    \n",
    "    for param_group in optimizer.param_groups:\n",
    "        param_group['lr'] = lr"
   ]
  },
  {
   "cell_type": "markdown",
   "metadata": {
    "id": "Rkhe68NX7P8p"
   },
   "source": [
    "#### Average Meter Class"
   ]
  },
  {
   "cell_type": "code",
   "execution_count": 25,
   "metadata": {
    "id": "WdmfQJTt7KG8"
   },
   "outputs": [],
   "source": [
    "class AverageMeter(object):\n",
    "\n",
    "    def __init__(self):\n",
    "        self.reset()\n",
    "\n",
    "    def reset(self):\n",
    "        self.val = 0\n",
    "        self.avg = 0\n",
    "        self.sum = 0\n",
    "        self.count = 0\n",
    "\n",
    "    def update(self, val, n=1):\n",
    "        self.val = val\n",
    "        self.sum += val * n\n",
    "        self.count += n\n",
    "        self.avg = self.sum / self.count"
   ]
  },
  {
   "cell_type": "markdown",
   "metadata": {
    "id": "6zWNMYc87U-4"
   },
   "source": [
    "#### Train Function"
   ]
  },
  {
   "cell_type": "code",
   "execution_count": 26,
   "metadata": {
    "id": "Gvsb63dX7R_X"
   },
   "outputs": [],
   "source": [
    "def train(train_loader, model, criterion, optimizer, epoch, device):\n",
    "    batch_time = AverageMeter()\n",
    "    data_time = AverageMeter()\n",
    "\n",
    "    model.train()\n",
    "    train_len = len(train_loader)\n",
    "    epoch_acc = 0\n",
    "    end = time.time()\n",
    "\n",
    "    for batch_idx, (data, target) in enumerate(train_loader):\n",
    "        data_time.update(time.time() - end)\n",
    "\n",
    "        data, target = data.to(device), target.to(device)\n",
    "        optimizer.zero_grad()\n",
    "        output = model(data)\n",
    "        r = (1.*batch_idx + (epoch-1)*train_len) / (epochs*train_len)\n",
    "        loss = criterion(output, target, r)\n",
    "        acc = accuracy(output, target)\n",
    "        \n",
    "        global_step = (batch_idx+1) + (epoch - 1) * len(train_loader) \n",
    "        exp_lr_decay(optimizer=optimizer, global_step=global_step)\n",
    "        \n",
    "        loss.backward()\n",
    "        optimizer.step()\n",
    "\n",
    "        batch_time.update(time.time() - end)\n",
    "        end = time.time()\n",
    "\n",
    "        epoch_acc += acc\n",
    "        if batch_idx % log_interval == 0:\n",
    "            print('Train Epoch: {}\\t[{}/{} ({:.0f}%)]\\t'\n",
    "                  'Loss: {:.6f}\\tAccuracy: {:.6f}\\t'\n",
    "                  'Time {batch_time.val:.3f} ({batch_time.avg:.3f})\\t'\n",
    "                  'Data {data_time.val:.3f} ({data_time.avg:.3f})'.format(\n",
    "                  epoch, batch_idx * len(data), len(train_loader.dataset),\n",
    "                  100. * batch_idx / len(train_loader),\n",
    "                  loss.item(), acc,\n",
    "                  batch_time=batch_time, data_time=data_time))\n",
    "            \n",
    "    return epoch_acc"
   ]
  },
  {
   "cell_type": "markdown",
   "metadata": {
    "id": "iZzi5Vn27d-X"
   },
   "source": [
    "#### Test Function"
   ]
  },
  {
   "cell_type": "code",
   "execution_count": 27,
   "metadata": {
    "id": "49eSAz-I7dTP"
   },
   "outputs": [],
   "source": [
    "def test(test_loader, model, criterion, device, test=False):\n",
    "    model.eval()\n",
    "    test_loss = 0\n",
    "    acc = 0\n",
    "    test_len = len(test_loader)\n",
    "    with torch.no_grad():\n",
    "        for data, target in test_loader:\n",
    "            data, target = data.to(device), target.to(device)\n",
    "            output = model(data)\n",
    "            test_loss += criterion(output, target, r=1).item()\n",
    "            acc += accuracy(output, target)\n",
    "\n",
    "    test_loss /= test_len\n",
    "    acc /= test_len\n",
    "    if test:\n",
    "        print('\\nTest set: Average loss: {:.6f}, Accuracy: {:.6f} \\n'.format(\n",
    "        test_loss, acc))\n",
    "    else:\n",
    "        print('\\nVal set: Average loss: {:.6f}, Accuracy: {:.6f} \\n'.format(\n",
    "            test_loss, acc))\n",
    "\n",
    "    return test_loss, acc"
   ]
  },
  {
   "cell_type": "markdown",
   "metadata": {
    "id": "5hRWF2apsMzc"
   },
   "source": [
    "## **Training Process**"
   ]
  },
  {
   "cell_type": "markdown",
   "metadata": {
    "id": "SGwX3eimsZmA"
   },
   "source": [
    "#### Model Initialization"
   ]
  },
  {
   "cell_type": "code",
   "execution_count": 28,
   "metadata": {
    "colab": {
     "base_uri": "https://localhost:8080/"
    },
    "id": "8_YYc6YxsXZV",
    "outputId": "c124fbdb-9d50-47ca-a201-dcd1dd5022dd"
   },
   "outputs": [],
   "source": [
    "model = CapsNet(A=A, B=B, C=C, D=D, E=num_class,\n",
    "                    iters=em_iters).to(device)"
   ]
  },
  {
   "cell_type": "markdown",
   "metadata": {
    "id": "rZwvqJ_4ZZaI"
   },
   "source": [
    "#### Model Summary"
   ]
  },
  {
   "cell_type": "code",
   "execution_count": 29,
   "metadata": {
    "colab": {
     "base_uri": "https://localhost:8080/"
    },
    "id": "mk54JHDaZY6l",
    "outputId": "1f645236-bf5f-4328-ed97-a662a2ee5e22"
   },
   "outputs": [
    {
     "name": "stdout",
     "output_type": "stream",
     "text": [
      "conv1.weight : 64x30x5x5 = 48000\n",
      "conv1.bias : 64\n",
      "bn1.weight : 64\n",
      "bn1.bias : 64\n",
      "primary_caps.pose.weight : 512x64x1x1 = 32768\n",
      "primary_caps.pose.bias : 512\n",
      "primary_caps.a.weight : 32x64x1x1 = 2048\n",
      "primary_caps.a.bias : 32\n",
      "conv_caps1.beta_u : 16\n",
      "conv_caps1.beta_a : 16\n",
      "conv_caps1.weights : 1x288x16x4x4 = 73728\n",
      "conv_caps2.beta_u : 16\n",
      "conv_caps2.beta_a : 16\n",
      "conv_caps2.weights : 1x144x16x4x4 = 36864\n",
      "class_caps.beta_u : 16\n",
      "class_caps.beta_a : 16\n",
      "class_caps.weights : 1x16x16x4x4 = 4096\n",
      "\n",
      " Total Trainable Parameters:  198336\n"
     ]
    }
   ],
   "source": [
    "def model_summary(model):\n",
    "    total_param = 0\n",
    "    for name, param in model.named_parameters():\n",
    "        if param.requires_grad:\n",
    "            num_param = np.prod(param.size())\n",
    "            if param.dim() > 1:\n",
    "                print(name, ':', 'x'.join(str(x) for x in list(param.size())), '=', num_param)\n",
    "            else:\n",
    "                print(name, ':', num_param)\n",
    "            total_param += num_param\n",
    "    print(\"\\n Total Trainable Parameters: \", total_param)\n",
    "\n",
    "model_summary(model)"
   ]
  },
  {
   "cell_type": "markdown",
   "metadata": {
    "id": "R0JocqrGZmIN"
   },
   "source": [
    "#### Training Time!"
   ]
  },
  {
   "cell_type": "code",
   "execution_count": 30,
   "metadata": {
    "id": "fEPfkoFhZva8"
   },
   "outputs": [],
   "source": [
    "criterion = SpreadLoss(num_class=num_class, m_min=0.2, m_max=0.5)\n",
    "optimizer = optim.Adam(model.parameters(), lr = lr, weight_decay=wd)"
   ]
  },
  {
   "cell_type": "code",
   "execution_count": 31,
   "metadata": {
    "colab": {
     "base_uri": "https://localhost:8080/"
    },
    "id": "ayyIRBgr7goB",
    "outputId": "f52d0130-1a54-4280-ba2a-cd8ac150c929"
   },
   "outputs": [
    {
     "name": "stdout",
     "output_type": "stream",
     "text": [
      "\n",
      "Val set: Average loss: 4.808480, Accuracy: 0.946970 \n",
      "\n",
      "Train Epoch: 1\t[0/5124 (0%)]\tLoss: 1.095254\tAccuracy: 6.250000\tTime 2.157 (2.157)\tData 0.003 (0.003)\n",
      "Train Epoch: 1\t[320/5124 (6%)]\tLoss: 0.357533\tAccuracy: 40.625000\tTime 0.331 (0.471)\tData 0.002 (0.003)\n",
      "Train Epoch: 1\t[640/5124 (12%)]\tLoss: 0.172363\tAccuracy: 56.250000\tTime 0.327 (0.404)\tData 0.002 (0.014)\n",
      "Train Epoch: 1\t[960/5124 (19%)]\tLoss: 0.128849\tAccuracy: 62.500000\tTime 0.331 (0.381)\tData 0.002 (0.018)\n",
      "Train Epoch: 1\t[1280/5124 (25%)]\tLoss: 0.125734\tAccuracy: 78.125000\tTime 0.331 (0.369)\tData 0.002 (0.021)\n",
      "Train Epoch: 1\t[1600/5124 (31%)]\tLoss: 0.038505\tAccuracy: 90.625000\tTime 0.334 (0.361)\tData 0.002 (0.022)\n",
      "Train Epoch: 1\t[1920/5124 (37%)]\tLoss: 0.050499\tAccuracy: 81.250000\tTime 0.331 (0.356)\tData 0.004 (0.023)\n",
      "Train Epoch: 1\t[2240/5124 (43%)]\tLoss: 0.033587\tAccuracy: 90.625000\tTime 0.333 (0.353)\tData 0.002 (0.023)\n",
      "Train Epoch: 1\t[2560/5124 (50%)]\tLoss: 0.038841\tAccuracy: 87.500000\tTime 0.331 (0.350)\tData 0.002 (0.024)\n",
      "Train Epoch: 1\t[2880/5124 (56%)]\tLoss: 0.015907\tAccuracy: 96.875000\tTime 0.333 (0.348)\tData 0.002 (0.024)\n",
      "Train Epoch: 1\t[3200/5124 (62%)]\tLoss: 0.064798\tAccuracy: 87.500000\tTime 0.334 (0.347)\tData 0.002 (0.025)\n",
      "Train Epoch: 1\t[3520/5124 (68%)]\tLoss: 0.010249\tAccuracy: 100.000000\tTime 0.332 (0.346)\tData 0.002 (0.025)\n",
      "Train Epoch: 1\t[3840/5124 (75%)]\tLoss: 0.014092\tAccuracy: 96.875000\tTime 0.333 (0.344)\tData 0.002 (0.025)\n",
      "Train Epoch: 1\t[4160/5124 (81%)]\tLoss: 0.012460\tAccuracy: 96.875000\tTime 0.333 (0.343)\tData 0.002 (0.025)\n",
      "Train Epoch: 1\t[4480/5124 (87%)]\tLoss: 0.020563\tAccuracy: 93.750000\tTime 0.332 (0.343)\tData 0.002 (0.025)\n",
      "Train Epoch: 1\t[4800/5124 (93%)]\tLoss: 0.012110\tAccuracy: 100.000000\tTime 0.335 (0.342)\tData 0.002 (0.025)\n",
      "Train Epoch: 1\t[640/5124 (99%)]\tLoss: 0.022737\tAccuracy: 100.000000\tTime 0.351 (0.341)\tData 0.001 (0.026)\n",
      "\n",
      "Val set: Average loss: 0.726984, Accuracy: 94.981061 \n",
      "\n",
      "-------------------- HIGHEST ACCURACY ---------------------------\n",
      "Train Epoch: 2\t[0/5124 (0%)]\tLoss: 0.006708\tAccuracy: 96.875000\tTime 0.081 (0.081)\tData 0.002 (0.002)\n",
      "Train Epoch: 2\t[320/5124 (6%)]\tLoss: 0.011164\tAccuracy: 96.875000\tTime 0.332 (0.309)\tData 0.002 (0.025)\n",
      "Train Epoch: 2\t[640/5124 (12%)]\tLoss: 0.011862\tAccuracy: 93.750000\tTime 0.332 (0.320)\tData 0.002 (0.026)\n",
      "Train Epoch: 2\t[960/5124 (19%)]\tLoss: 0.006945\tAccuracy: 100.000000\tTime 0.331 (0.324)\tData 0.002 (0.026)\n",
      "Train Epoch: 2\t[1280/5124 (25%)]\tLoss: 0.012830\tAccuracy: 96.875000\tTime 0.325 (0.326)\tData 0.002 (0.027)\n",
      "Train Epoch: 2\t[1600/5124 (31%)]\tLoss: 0.007803\tAccuracy: 100.000000\tTime 0.331 (0.327)\tData 0.002 (0.027)\n",
      "Train Epoch: 2\t[1920/5124 (37%)]\tLoss: 0.007857\tAccuracy: 100.000000\tTime 0.333 (0.328)\tData 0.002 (0.027)\n",
      "Train Epoch: 2\t[2240/5124 (43%)]\tLoss: 0.006796\tAccuracy: 96.875000\tTime 0.323 (0.328)\tData 0.003 (0.027)\n",
      "Train Epoch: 2\t[2560/5124 (50%)]\tLoss: 0.008540\tAccuracy: 100.000000\tTime 0.331 (0.329)\tData 0.002 (0.027)\n",
      "Train Epoch: 2\t[2880/5124 (56%)]\tLoss: 0.005678\tAccuracy: 100.000000\tTime 0.332 (0.329)\tData 0.002 (0.027)\n",
      "Train Epoch: 2\t[3200/5124 (62%)]\tLoss: 0.004405\tAccuracy: 96.875000\tTime 0.325 (0.329)\tData 0.002 (0.027)\n",
      "Train Epoch: 2\t[3520/5124 (68%)]\tLoss: 0.021457\tAccuracy: 90.625000\tTime 0.332 (0.330)\tData 0.002 (0.027)\n",
      "Train Epoch: 2\t[3840/5124 (75%)]\tLoss: 0.007926\tAccuracy: 100.000000\tTime 0.332 (0.330)\tData 0.002 (0.027)\n",
      "Train Epoch: 2\t[4160/5124 (81%)]\tLoss: 0.006313\tAccuracy: 100.000000\tTime 0.325 (0.330)\tData 0.002 (0.027)\n",
      "Train Epoch: 2\t[4480/5124 (87%)]\tLoss: 0.010916\tAccuracy: 96.875000\tTime 0.330 (0.330)\tData 0.003 (0.027)\n",
      "Train Epoch: 2\t[4800/5124 (93%)]\tLoss: 0.005630\tAccuracy: 96.875000\tTime 0.331 (0.330)\tData 0.002 (0.027)\n",
      "Train Epoch: 2\t[640/5124 (99%)]\tLoss: 0.008117\tAccuracy: 100.000000\tTime 0.292 (0.330)\tData 0.001 (0.027)\n",
      "\n",
      "Val set: Average loss: 0.571786, Accuracy: 97.253788 \n",
      "\n",
      "-------------------- HIGHEST ACCURACY ---------------------------\n",
      "Train Epoch: 3\t[0/5124 (0%)]\tLoss: 0.003621\tAccuracy: 100.000000\tTime 0.079 (0.079)\tData 0.002 (0.002)\n",
      "Train Epoch: 3\t[320/5124 (6%)]\tLoss: 0.004849\tAccuracy: 100.000000\tTime 0.331 (0.308)\tData 0.002 (0.025)\n",
      "Train Epoch: 3\t[640/5124 (12%)]\tLoss: 0.006570\tAccuracy: 100.000000\tTime 0.325 (0.319)\tData 0.002 (0.026)\n",
      "Train Epoch: 3\t[960/5124 (19%)]\tLoss: 0.004769\tAccuracy: 96.875000\tTime 0.332 (0.323)\tData 0.002 (0.027)\n",
      "Train Epoch: 3\t[1280/5124 (25%)]\tLoss: 0.006709\tAccuracy: 100.000000\tTime 0.332 (0.325)\tData 0.002 (0.027)\n",
      "Train Epoch: 3\t[1600/5124 (31%)]\tLoss: 0.008277\tAccuracy: 93.750000\tTime 0.333 (0.326)\tData 0.002 (0.027)\n",
      "Train Epoch: 3\t[1920/5124 (37%)]\tLoss: 0.004493\tAccuracy: 96.875000\tTime 0.332 (0.327)\tData 0.002 (0.027)\n",
      "Train Epoch: 3\t[2240/5124 (43%)]\tLoss: 0.002830\tAccuracy: 100.000000\tTime 0.331 (0.328)\tData 0.002 (0.027)\n",
      "Train Epoch: 3\t[2560/5124 (50%)]\tLoss: 0.003016\tAccuracy: 100.000000\tTime 0.332 (0.328)\tData 0.002 (0.027)\n",
      "Train Epoch: 3\t[2880/5124 (56%)]\tLoss: 0.002732\tAccuracy: 100.000000\tTime 0.331 (0.329)\tData 0.002 (0.027)\n",
      "Train Epoch: 3\t[3200/5124 (62%)]\tLoss: 0.007166\tAccuracy: 100.000000\tTime 0.331 (0.329)\tData 0.004 (0.027)\n",
      "Train Epoch: 3\t[3520/5124 (68%)]\tLoss: 0.006319\tAccuracy: 96.875000\tTime 0.335 (0.329)\tData 0.002 (0.027)\n",
      "Train Epoch: 3\t[3840/5124 (75%)]\tLoss: 0.006974\tAccuracy: 100.000000\tTime 0.332 (0.330)\tData 0.004 (0.027)\n",
      "Train Epoch: 3\t[4160/5124 (81%)]\tLoss: 0.003343\tAccuracy: 100.000000\tTime 0.332 (0.330)\tData 0.002 (0.027)\n",
      "Train Epoch: 3\t[4480/5124 (87%)]\tLoss: 0.002266\tAccuracy: 100.000000\tTime 0.337 (0.330)\tData 0.002 (0.027)\n",
      "Train Epoch: 3\t[4800/5124 (93%)]\tLoss: 0.004937\tAccuracy: 96.875000\tTime 0.332 (0.330)\tData 0.002 (0.027)\n",
      "Train Epoch: 3\t[640/5124 (99%)]\tLoss: 0.000417\tAccuracy: 100.000000\tTime 0.291 (0.330)\tData 0.001 (0.027)\n",
      "\n",
      "Val set: Average loss: 0.519777, Accuracy: 97.821970 \n",
      "\n",
      "-------------------- HIGHEST ACCURACY ---------------------------\n",
      "Train Epoch: 4\t[0/5124 (0%)]\tLoss: 0.002145\tAccuracy: 96.875000\tTime 0.078 (0.078)\tData 0.003 (0.003)\n",
      "Train Epoch: 4\t[320/5124 (6%)]\tLoss: 0.002417\tAccuracy: 100.000000\tTime 0.329 (0.305)\tData 0.002 (0.025)\n",
      "Train Epoch: 4\t[640/5124 (12%)]\tLoss: 0.002243\tAccuracy: 100.000000\tTime 0.322 (0.316)\tData 0.004 (0.026)\n",
      "Train Epoch: 4\t[960/5124 (19%)]\tLoss: 0.002855\tAccuracy: 100.000000\tTime 0.332 (0.321)\tData 0.002 (0.027)\n",
      "Train Epoch: 4\t[1280/5124 (25%)]\tLoss: 0.001329\tAccuracy: 100.000000\tTime 0.329 (0.323)\tData 0.002 (0.027)\n",
      "Train Epoch: 4\t[1600/5124 (31%)]\tLoss: 0.001588\tAccuracy: 100.000000\tTime 0.331 (0.324)\tData 0.002 (0.027)\n",
      "Train Epoch: 4\t[1920/5124 (37%)]\tLoss: 0.004720\tAccuracy: 100.000000\tTime 0.330 (0.325)\tData 0.003 (0.027)\n",
      "Train Epoch: 4\t[2240/5124 (43%)]\tLoss: 0.006255\tAccuracy: 100.000000\tTime 0.330 (0.326)\tData 0.002 (0.027)\n",
      "Train Epoch: 4\t[2560/5124 (50%)]\tLoss: 0.004009\tAccuracy: 100.000000\tTime 0.332 (0.326)\tData 0.002 (0.027)\n",
      "Train Epoch: 4\t[2880/5124 (56%)]\tLoss: 0.002670\tAccuracy: 100.000000\tTime 0.331 (0.326)\tData 0.002 (0.027)\n",
      "Train Epoch: 4\t[3200/5124 (62%)]\tLoss: 0.002698\tAccuracy: 100.000000\tTime 0.329 (0.327)\tData 0.002 (0.027)\n",
      "Train Epoch: 4\t[3520/5124 (68%)]\tLoss: 0.002317\tAccuracy: 100.000000\tTime 0.324 (0.327)\tData 0.002 (0.027)\n",
      "Train Epoch: 4\t[3840/5124 (75%)]\tLoss: 0.001587\tAccuracy: 100.000000\tTime 0.330 (0.327)\tData 0.002 (0.027)\n",
      "Train Epoch: 4\t[4160/5124 (81%)]\tLoss: 0.008778\tAccuracy: 100.000000\tTime 0.324 (0.327)\tData 0.002 (0.027)\n",
      "Train Epoch: 4\t[4480/5124 (87%)]\tLoss: 0.005758\tAccuracy: 100.000000\tTime 0.329 (0.327)\tData 0.002 (0.027)\n",
      "Train Epoch: 4\t[4800/5124 (93%)]\tLoss: 0.003730\tAccuracy: 100.000000\tTime 0.324 (0.327)\tData 0.002 (0.027)\n",
      "Train Epoch: 4\t[640/5124 (99%)]\tLoss: 0.010931\tAccuracy: 100.000000\tTime 0.290 (0.327)\tData 0.001 (0.027)\n",
      "\n",
      "Val set: Average loss: 0.489867, Accuracy: 98.106061 \n",
      "\n",
      "-------------------- HIGHEST ACCURACY ---------------------------\n",
      "Train Epoch: 5\t[0/5124 (0%)]\tLoss: 0.002287\tAccuracy: 100.000000\tTime 0.078 (0.078)\tData 0.002 (0.002)\n",
      "Train Epoch: 5\t[320/5124 (6%)]\tLoss: 0.000524\tAccuracy: 100.000000\tTime 0.325 (0.306)\tData 0.002 (0.025)\n",
      "Train Epoch: 5\t[640/5124 (12%)]\tLoss: 0.002782\tAccuracy: 100.000000\tTime 0.325 (0.317)\tData 0.002 (0.026)\n",
      "Train Epoch: 5\t[960/5124 (19%)]\tLoss: 0.001220\tAccuracy: 100.000000\tTime 0.332 (0.322)\tData 0.002 (0.026)\n",
      "Train Epoch: 5\t[1280/5124 (25%)]\tLoss: 0.001028\tAccuracy: 100.000000\tTime 0.324 (0.324)\tData 0.004 (0.027)\n"
     ]
    },
    {
     "name": "stdout",
     "output_type": "stream",
     "text": [
      "Train Epoch: 5\t[1600/5124 (31%)]\tLoss: 0.002760\tAccuracy: 100.000000\tTime 0.329 (0.325)\tData 0.004 (0.027)\n",
      "Train Epoch: 5\t[1920/5124 (37%)]\tLoss: 0.004716\tAccuracy: 100.000000\tTime 0.327 (0.326)\tData 0.002 (0.027)\n",
      "Train Epoch: 5\t[2240/5124 (43%)]\tLoss: 0.002219\tAccuracy: 100.000000\tTime 0.323 (0.326)\tData 0.004 (0.027)\n",
      "Train Epoch: 5\t[2560/5124 (50%)]\tLoss: 0.002791\tAccuracy: 100.000000\tTime 0.325 (0.326)\tData 0.002 (0.027)\n",
      "Train Epoch: 5\t[2880/5124 (56%)]\tLoss: 0.002957\tAccuracy: 100.000000\tTime 0.325 (0.326)\tData 0.002 (0.027)\n",
      "Train Epoch: 5\t[3200/5124 (62%)]\tLoss: 0.003188\tAccuracy: 100.000000\tTime 0.332 (0.327)\tData 0.002 (0.027)\n",
      "Train Epoch: 5\t[3520/5124 (68%)]\tLoss: 0.003064\tAccuracy: 96.875000\tTime 0.333 (0.327)\tData 0.002 (0.027)\n",
      "Train Epoch: 5\t[3840/5124 (75%)]\tLoss: 0.000811\tAccuracy: 100.000000\tTime 0.326 (0.327)\tData 0.002 (0.027)\n",
      "Train Epoch: 5\t[4160/5124 (81%)]\tLoss: 0.005735\tAccuracy: 96.875000\tTime 0.326 (0.327)\tData 0.002 (0.027)\n",
      "Train Epoch: 5\t[4480/5124 (87%)]\tLoss: 0.003517\tAccuracy: 100.000000\tTime 0.332 (0.327)\tData 0.002 (0.027)\n",
      "Train Epoch: 5\t[4800/5124 (93%)]\tLoss: 0.004624\tAccuracy: 100.000000\tTime 0.325 (0.327)\tData 0.002 (0.027)\n",
      "Train Epoch: 5\t[640/5124 (99%)]\tLoss: 0.000261\tAccuracy: 100.000000\tTime 0.293 (0.327)\tData 0.001 (0.027)\n",
      "\n",
      "Val set: Average loss: 0.471745, Accuracy: 98.674242 \n",
      "\n",
      "-------------------- HIGHEST ACCURACY ---------------------------\n",
      "Train Epoch: 6\t[0/5124 (0%)]\tLoss: 0.000501\tAccuracy: 100.000000\tTime 0.078 (0.078)\tData 0.002 (0.002)\n",
      "Train Epoch: 6\t[320/5124 (6%)]\tLoss: 0.000176\tAccuracy: 100.000000\tTime 0.326 (0.304)\tData 0.002 (0.025)\n",
      "Train Epoch: 6\t[640/5124 (12%)]\tLoss: 0.000401\tAccuracy: 100.000000\tTime 0.327 (0.316)\tData 0.002 (0.026)\n",
      "Train Epoch: 6\t[960/5124 (19%)]\tLoss: 0.000521\tAccuracy: 100.000000\tTime 0.331 (0.320)\tData 0.002 (0.027)\n",
      "Train Epoch: 6\t[1280/5124 (25%)]\tLoss: 0.002338\tAccuracy: 100.000000\tTime 0.325 (0.322)\tData 0.002 (0.027)\n",
      "Train Epoch: 6\t[1600/5124 (31%)]\tLoss: 0.001602\tAccuracy: 100.000000\tTime 0.332 (0.324)\tData 0.002 (0.027)\n",
      "Train Epoch: 6\t[1920/5124 (37%)]\tLoss: 0.001334\tAccuracy: 100.000000\tTime 0.332 (0.325)\tData 0.002 (0.027)\n",
      "Train Epoch: 6\t[2240/5124 (43%)]\tLoss: 0.002521\tAccuracy: 100.000000\tTime 0.326 (0.325)\tData 0.002 (0.027)\n",
      "Train Epoch: 6\t[2560/5124 (50%)]\tLoss: 0.001567\tAccuracy: 100.000000\tTime 0.325 (0.325)\tData 0.002 (0.027)\n",
      "Train Epoch: 6\t[2880/5124 (56%)]\tLoss: 0.001297\tAccuracy: 100.000000\tTime 0.325 (0.326)\tData 0.002 (0.027)\n",
      "Train Epoch: 6\t[3200/5124 (62%)]\tLoss: 0.000867\tAccuracy: 100.000000\tTime 0.332 (0.326)\tData 0.002 (0.027)\n",
      "Train Epoch: 6\t[3520/5124 (68%)]\tLoss: 0.001723\tAccuracy: 100.000000\tTime 0.332 (0.327)\tData 0.002 (0.027)\n",
      "Train Epoch: 6\t[3840/5124 (75%)]\tLoss: 0.001367\tAccuracy: 100.000000\tTime 0.335 (0.327)\tData 0.002 (0.027)\n",
      "Train Epoch: 6\t[4160/5124 (81%)]\tLoss: 0.002333\tAccuracy: 100.000000\tTime 0.332 (0.328)\tData 0.002 (0.027)\n",
      "Train Epoch: 6\t[4480/5124 (87%)]\tLoss: 0.002220\tAccuracy: 100.000000\tTime 0.331 (0.328)\tData 0.002 (0.027)\n",
      "Train Epoch: 6\t[4800/5124 (93%)]\tLoss: 0.002412\tAccuracy: 100.000000\tTime 0.334 (0.328)\tData 0.002 (0.027)\n",
      "Train Epoch: 6\t[640/5124 (99%)]\tLoss: 0.000399\tAccuracy: 100.000000\tTime 0.294 (0.328)\tData 0.001 (0.027)\n",
      "\n",
      "Val set: Average loss: 0.425520, Accuracy: 99.242424 \n",
      "\n",
      "-------------------- HIGHEST ACCURACY ---------------------------\n",
      "Train Epoch: 7\t[0/5124 (0%)]\tLoss: 0.001635\tAccuracy: 100.000000\tTime 0.077 (0.077)\tData 0.002 (0.002)\n",
      "Train Epoch: 7\t[320/5124 (6%)]\tLoss: 0.001299\tAccuracy: 100.000000\tTime 0.331 (0.308)\tData 0.002 (0.025)\n",
      "Train Epoch: 7\t[640/5124 (12%)]\tLoss: 0.000898\tAccuracy: 100.000000\tTime 0.325 (0.319)\tData 0.002 (0.026)\n",
      "Train Epoch: 7\t[960/5124 (19%)]\tLoss: 0.001243\tAccuracy: 100.000000\tTime 0.323 (0.323)\tData 0.004 (0.027)\n",
      "Train Epoch: 7\t[1280/5124 (25%)]\tLoss: 0.002131\tAccuracy: 100.000000\tTime 0.328 (0.325)\tData 0.002 (0.027)\n",
      "Train Epoch: 7\t[1600/5124 (31%)]\tLoss: 0.001453\tAccuracy: 100.000000\tTime 0.335 (0.326)\tData 0.002 (0.027)\n",
      "Train Epoch: 7\t[1920/5124 (37%)]\tLoss: 0.000689\tAccuracy: 100.000000\tTime 0.325 (0.326)\tData 0.004 (0.027)\n",
      "Train Epoch: 7\t[2240/5124 (43%)]\tLoss: 0.002804\tAccuracy: 100.000000\tTime 0.326 (0.327)\tData 0.002 (0.027)\n",
      "Train Epoch: 7\t[2560/5124 (50%)]\tLoss: 0.002279\tAccuracy: 100.000000\tTime 0.330 (0.327)\tData 0.004 (0.027)\n",
      "Train Epoch: 7\t[2880/5124 (56%)]\tLoss: 0.001184\tAccuracy: 100.000000\tTime 0.324 (0.327)\tData 0.004 (0.027)\n",
      "Train Epoch: 7\t[3200/5124 (62%)]\tLoss: 0.001024\tAccuracy: 100.000000\tTime 0.333 (0.328)\tData 0.002 (0.027)\n",
      "Train Epoch: 7\t[3520/5124 (68%)]\tLoss: 0.002128\tAccuracy: 100.000000\tTime 0.333 (0.328)\tData 0.002 (0.027)\n",
      "Train Epoch: 7\t[3840/5124 (75%)]\tLoss: 0.000214\tAccuracy: 100.000000\tTime 0.334 (0.328)\tData 0.002 (0.027)\n",
      "Train Epoch: 7\t[4160/5124 (81%)]\tLoss: 0.001593\tAccuracy: 100.000000\tTime 0.329 (0.329)\tData 0.002 (0.027)\n",
      "Train Epoch: 7\t[4480/5124 (87%)]\tLoss: 0.002674\tAccuracy: 100.000000\tTime 0.332 (0.329)\tData 0.002 (0.027)\n",
      "Train Epoch: 7\t[4800/5124 (93%)]\tLoss: 0.002256\tAccuracy: 100.000000\tTime 0.325 (0.329)\tData 0.002 (0.027)\n",
      "Train Epoch: 7\t[640/5124 (99%)]\tLoss: 0.029976\tAccuracy: 100.000000\tTime 0.292 (0.329)\tData 0.001 (0.027)\n",
      "\n",
      "Val set: Average loss: 0.393534, Accuracy: 99.147727 \n",
      "\n",
      "Train Epoch: 8\t[0/5124 (0%)]\tLoss: 0.001697\tAccuracy: 100.000000\tTime 0.080 (0.080)\tData 0.002 (0.002)\n",
      "Train Epoch: 8\t[320/5124 (6%)]\tLoss: 0.003115\tAccuracy: 100.000000\tTime 0.327 (0.308)\tData 0.002 (0.025)\n",
      "Train Epoch: 8\t[640/5124 (12%)]\tLoss: 0.008482\tAccuracy: 96.875000\tTime 0.329 (0.319)\tData 0.002 (0.026)\n",
      "Train Epoch: 8\t[960/5124 (19%)]\tLoss: 0.013263\tAccuracy: 96.875000\tTime 0.336 (0.323)\tData 0.002 (0.027)\n",
      "Train Epoch: 8\t[1280/5124 (25%)]\tLoss: 0.010049\tAccuracy: 96.875000\tTime 0.331 (0.325)\tData 0.004 (0.027)\n",
      "Train Epoch: 8\t[1600/5124 (31%)]\tLoss: 0.006030\tAccuracy: 100.000000\tTime 0.326 (0.326)\tData 0.002 (0.027)\n",
      "Train Epoch: 8\t[1920/5124 (37%)]\tLoss: 0.003042\tAccuracy: 100.000000\tTime 0.332 (0.327)\tData 0.002 (0.027)\n",
      "Train Epoch: 8\t[2240/5124 (43%)]\tLoss: 0.006027\tAccuracy: 100.000000\tTime 0.325 (0.328)\tData 0.002 (0.027)\n",
      "Train Epoch: 8\t[2560/5124 (50%)]\tLoss: 0.001293\tAccuracy: 100.000000\tTime 0.332 (0.328)\tData 0.002 (0.027)\n",
      "Train Epoch: 8\t[2880/5124 (56%)]\tLoss: 0.000680\tAccuracy: 100.000000\tTime 0.325 (0.328)\tData 0.003 (0.027)\n",
      "Train Epoch: 8\t[3200/5124 (62%)]\tLoss: 0.003334\tAccuracy: 100.000000\tTime 0.325 (0.328)\tData 0.004 (0.027)\n",
      "Train Epoch: 8\t[3520/5124 (68%)]\tLoss: 0.008659\tAccuracy: 100.000000\tTime 0.330 (0.328)\tData 0.004 (0.027)\n",
      "Train Epoch: 8\t[3840/5124 (75%)]\tLoss: 0.004507\tAccuracy: 100.000000\tTime 0.325 (0.328)\tData 0.003 (0.027)\n",
      "Train Epoch: 8\t[4160/5124 (81%)]\tLoss: 0.003746\tAccuracy: 100.000000\tTime 0.326 (0.328)\tData 0.002 (0.027)\n",
      "Train Epoch: 8\t[4480/5124 (87%)]\tLoss: 0.002339\tAccuracy: 100.000000\tTime 0.330 (0.328)\tData 0.002 (0.027)\n",
      "Train Epoch: 8\t[4800/5124 (93%)]\tLoss: 0.003412\tAccuracy: 100.000000\tTime 0.326 (0.328)\tData 0.002 (0.027)\n",
      "Train Epoch: 8\t[640/5124 (99%)]\tLoss: 0.000036\tAccuracy: 100.000000\tTime 0.293 (0.328)\tData 0.001 (0.027)\n",
      "\n",
      "Val set: Average loss: 0.316872, Accuracy: 98.958333 \n",
      "\n",
      "Train Epoch: 9\t[0/5124 (0%)]\tLoss: 0.003084\tAccuracy: 100.000000\tTime 0.078 (0.078)\tData 0.002 (0.002)\n",
      "Train Epoch: 9\t[320/5124 (6%)]\tLoss: 0.001939\tAccuracy: 100.000000\tTime 0.324 (0.304)\tData 0.002 (0.025)\n",
      "Train Epoch: 9\t[640/5124 (12%)]\tLoss: 0.001294\tAccuracy: 100.000000\tTime 0.324 (0.317)\tData 0.002 (0.026)\n",
      "Train Epoch: 9\t[960/5124 (19%)]\tLoss: 0.005930\tAccuracy: 100.000000\tTime 0.331 (0.321)\tData 0.002 (0.027)\n",
      "Train Epoch: 9\t[1280/5124 (25%)]\tLoss: 0.002774\tAccuracy: 100.000000\tTime 0.331 (0.323)\tData 0.002 (0.027)\n",
      "Train Epoch: 9\t[1600/5124 (31%)]\tLoss: 0.000687\tAccuracy: 100.000000\tTime 0.331 (0.325)\tData 0.002 (0.027)\n",
      "Train Epoch: 9\t[1920/5124 (37%)]\tLoss: 0.001725\tAccuracy: 100.000000\tTime 0.329 (0.326)\tData 0.004 (0.027)\n",
      "Train Epoch: 9\t[2240/5124 (43%)]\tLoss: 0.003208\tAccuracy: 100.000000\tTime 0.332 (0.326)\tData 0.002 (0.027)\n",
      "Train Epoch: 9\t[2560/5124 (50%)]\tLoss: 0.001801\tAccuracy: 100.000000\tTime 0.330 (0.327)\tData 0.002 (0.027)\n",
      "Train Epoch: 9\t[2880/5124 (56%)]\tLoss: 0.001417\tAccuracy: 100.000000\tTime 0.324 (0.327)\tData 0.002 (0.027)\n",
      "Train Epoch: 9\t[3200/5124 (62%)]\tLoss: 0.005923\tAccuracy: 100.000000\tTime 0.324 (0.327)\tData 0.002 (0.027)\n"
     ]
    },
    {
     "name": "stdout",
     "output_type": "stream",
     "text": [
      "Train Epoch: 9\t[3520/5124 (68%)]\tLoss: 0.000916\tAccuracy: 100.000000\tTime 0.324 (0.327)\tData 0.002 (0.027)\n",
      "Train Epoch: 9\t[3840/5124 (75%)]\tLoss: 0.001890\tAccuracy: 100.000000\tTime 0.324 (0.327)\tData 0.002 (0.027)\n",
      "Train Epoch: 9\t[4160/5124 (81%)]\tLoss: 0.001588\tAccuracy: 100.000000\tTime 0.324 (0.327)\tData 0.002 (0.027)\n",
      "Train Epoch: 9\t[4480/5124 (87%)]\tLoss: 0.000854\tAccuracy: 100.000000\tTime 0.329 (0.327)\tData 0.002 (0.027)\n",
      "Train Epoch: 9\t[4800/5124 (93%)]\tLoss: 0.001078\tAccuracy: 100.000000\tTime 0.331 (0.327)\tData 0.004 (0.027)\n",
      "Train Epoch: 9\t[640/5124 (99%)]\tLoss: 0.029750\tAccuracy: 100.000000\tTime 0.292 (0.327)\tData 0.001 (0.027)\n",
      "\n",
      "Val set: Average loss: 0.273723, Accuracy: 99.431818 \n",
      "\n",
      "-------------------- HIGHEST ACCURACY ---------------------------\n",
      "Train Epoch: 10\t[0/5124 (0%)]\tLoss: 0.001870\tAccuracy: 100.000000\tTime 0.078 (0.078)\tData 0.002 (0.002)\n",
      "Train Epoch: 10\t[320/5124 (6%)]\tLoss: 0.007187\tAccuracy: 100.000000\tTime 0.324 (0.305)\tData 0.002 (0.025)\n",
      "Train Epoch: 10\t[640/5124 (12%)]\tLoss: 0.005147\tAccuracy: 100.000000\tTime 0.329 (0.315)\tData 0.004 (0.026)\n",
      "Train Epoch: 10\t[960/5124 (19%)]\tLoss: 0.003196\tAccuracy: 100.000000\tTime 0.329 (0.320)\tData 0.004 (0.027)\n",
      "Train Epoch: 10\t[1280/5124 (25%)]\tLoss: 0.000477\tAccuracy: 100.000000\tTime 0.324 (0.321)\tData 0.002 (0.027)\n",
      "Train Epoch: 10\t[1600/5124 (31%)]\tLoss: 0.000225\tAccuracy: 100.000000\tTime 0.324 (0.322)\tData 0.002 (0.027)\n",
      "Train Epoch: 10\t[1920/5124 (37%)]\tLoss: 0.002301\tAccuracy: 100.000000\tTime 0.328 (0.323)\tData 0.003 (0.027)\n",
      "Train Epoch: 10\t[2240/5124 (43%)]\tLoss: 0.000311\tAccuracy: 100.000000\tTime 0.324 (0.324)\tData 0.002 (0.027)\n",
      "Train Epoch: 10\t[2560/5124 (50%)]\tLoss: 0.000618\tAccuracy: 100.000000\tTime 0.331 (0.324)\tData 0.002 (0.027)\n",
      "Train Epoch: 10\t[2880/5124 (56%)]\tLoss: 0.002408\tAccuracy: 100.000000\tTime 0.332 (0.325)\tData 0.002 (0.027)\n",
      "Train Epoch: 10\t[3200/5124 (62%)]\tLoss: 0.003255\tAccuracy: 100.000000\tTime 0.331 (0.325)\tData 0.002 (0.027)\n",
      "Train Epoch: 10\t[3520/5124 (68%)]\tLoss: 0.001484\tAccuracy: 100.000000\tTime 0.330 (0.326)\tData 0.003 (0.027)\n",
      "Train Epoch: 10\t[3840/5124 (75%)]\tLoss: 0.001269\tAccuracy: 100.000000\tTime 0.331 (0.326)\tData 0.002 (0.027)\n",
      "Train Epoch: 10\t[4160/5124 (81%)]\tLoss: 0.000425\tAccuracy: 100.000000\tTime 0.331 (0.326)\tData 0.002 (0.027)\n",
      "Train Epoch: 10\t[4480/5124 (87%)]\tLoss: 0.001744\tAccuracy: 100.000000\tTime 0.331 (0.327)\tData 0.002 (0.027)\n",
      "Train Epoch: 10\t[4800/5124 (93%)]\tLoss: 0.000615\tAccuracy: 100.000000\tTime 0.329 (0.327)\tData 0.002 (0.027)\n",
      "Train Epoch: 10\t[640/5124 (99%)]\tLoss: 0.015690\tAccuracy: 100.000000\tTime 0.293 (0.327)\tData 0.001 (0.027)\n",
      "\n",
      "Val set: Average loss: 0.270452, Accuracy: 99.431818 \n",
      "\n",
      "Train Epoch: 11\t[0/5124 (0%)]\tLoss: 0.001401\tAccuracy: 100.000000\tTime 0.080 (0.080)\tData 0.002 (0.002)\n",
      "Train Epoch: 11\t[320/5124 (6%)]\tLoss: 0.001326\tAccuracy: 100.000000\tTime 0.324 (0.306)\tData 0.002 (0.025)\n",
      "Train Epoch: 11\t[640/5124 (12%)]\tLoss: 0.001912\tAccuracy: 100.000000\tTime 0.331 (0.317)\tData 0.002 (0.026)\n",
      "Train Epoch: 11\t[960/5124 (19%)]\tLoss: 0.000630\tAccuracy: 100.000000\tTime 0.331 (0.321)\tData 0.002 (0.026)\n",
      "Train Epoch: 11\t[1280/5124 (25%)]\tLoss: 0.001988\tAccuracy: 100.000000\tTime 0.324 (0.322)\tData 0.002 (0.027)\n",
      "Train Epoch: 11\t[1600/5124 (31%)]\tLoss: 0.000849\tAccuracy: 100.000000\tTime 0.331 (0.323)\tData 0.002 (0.027)\n",
      "Train Epoch: 11\t[1920/5124 (37%)]\tLoss: 0.000729\tAccuracy: 100.000000\tTime 0.328 (0.324)\tData 0.002 (0.027)\n",
      "Train Epoch: 11\t[2240/5124 (43%)]\tLoss: 0.004854\tAccuracy: 96.875000\tTime 0.329 (0.325)\tData 0.002 (0.027)\n",
      "Train Epoch: 11\t[2560/5124 (50%)]\tLoss: 0.000246\tAccuracy: 100.000000\tTime 0.324 (0.325)\tData 0.002 (0.027)\n",
      "Train Epoch: 11\t[2880/5124 (56%)]\tLoss: 0.001197\tAccuracy: 100.000000\tTime 0.331 (0.326)\tData 0.002 (0.027)\n",
      "Train Epoch: 11\t[3200/5124 (62%)]\tLoss: 0.000728\tAccuracy: 100.000000\tTime 0.324 (0.326)\tData 0.002 (0.027)\n",
      "Train Epoch: 11\t[3520/5124 (68%)]\tLoss: 0.000350\tAccuracy: 100.000000\tTime 0.324 (0.326)\tData 0.002 (0.027)\n",
      "Train Epoch: 11\t[3840/5124 (75%)]\tLoss: 0.000205\tAccuracy: 100.000000\tTime 0.324 (0.326)\tData 0.002 (0.027)\n",
      "Train Epoch: 11\t[4160/5124 (81%)]\tLoss: 0.000729\tAccuracy: 100.000000\tTime 0.332 (0.327)\tData 0.002 (0.027)\n",
      "Train Epoch: 11\t[4480/5124 (87%)]\tLoss: 0.003238\tAccuracy: 100.000000\tTime 0.329 (0.327)\tData 0.002 (0.027)\n",
      "Train Epoch: 11\t[4800/5124 (93%)]\tLoss: 0.001184\tAccuracy: 100.000000\tTime 0.330 (0.327)\tData 0.002 (0.027)\n",
      "Train Epoch: 11\t[640/5124 (99%)]\tLoss: 0.003109\tAccuracy: 100.000000\tTime 0.291 (0.327)\tData 0.001 (0.027)\n",
      "\n",
      "Val set: Average loss: 0.221741, Accuracy: 99.526515 \n",
      "\n",
      "-------------------- HIGHEST ACCURACY ---------------------------\n",
      "Train Epoch: 12\t[0/5124 (0%)]\tLoss: 0.000162\tAccuracy: 100.000000\tTime 0.077 (0.077)\tData 0.002 (0.002)\n",
      "Train Epoch: 12\t[320/5124 (6%)]\tLoss: 0.000830\tAccuracy: 100.000000\tTime 0.331 (0.307)\tData 0.002 (0.025)\n",
      "Train Epoch: 12\t[640/5124 (12%)]\tLoss: 0.003193\tAccuracy: 100.000000\tTime 0.329 (0.317)\tData 0.002 (0.026)\n",
      "Train Epoch: 12\t[960/5124 (19%)]\tLoss: 0.003440\tAccuracy: 100.000000\tTime 0.331 (0.322)\tData 0.002 (0.027)\n",
      "Train Epoch: 12\t[1280/5124 (25%)]\tLoss: 0.001157\tAccuracy: 100.000000\tTime 0.324 (0.323)\tData 0.002 (0.027)\n",
      "Train Epoch: 12\t[1600/5124 (31%)]\tLoss: 0.001082\tAccuracy: 100.000000\tTime 0.332 (0.324)\tData 0.002 (0.027)\n",
      "Train Epoch: 12\t[1920/5124 (37%)]\tLoss: 0.001071\tAccuracy: 100.000000\tTime 0.331 (0.325)\tData 0.002 (0.027)\n",
      "Train Epoch: 12\t[2240/5124 (43%)]\tLoss: 0.000217\tAccuracy: 100.000000\tTime 0.330 (0.326)\tData 0.002 (0.027)\n",
      "Train Epoch: 12\t[2560/5124 (50%)]\tLoss: 0.003253\tAccuracy: 100.000000\tTime 0.331 (0.326)\tData 0.002 (0.027)\n",
      "Train Epoch: 12\t[2880/5124 (56%)]\tLoss: 0.003036\tAccuracy: 100.000000\tTime 0.331 (0.326)\tData 0.002 (0.027)\n",
      "Train Epoch: 12\t[3200/5124 (62%)]\tLoss: 0.003170\tAccuracy: 100.000000\tTime 0.324 (0.327)\tData 0.002 (0.027)\n",
      "Train Epoch: 12\t[3520/5124 (68%)]\tLoss: 0.011209\tAccuracy: 96.875000\tTime 0.323 (0.327)\tData 0.002 (0.027)\n",
      "Train Epoch: 12\t[3840/5124 (75%)]\tLoss: 0.004078\tAccuracy: 100.000000\tTime 0.329 (0.327)\tData 0.004 (0.027)\n",
      "Train Epoch: 12\t[4160/5124 (81%)]\tLoss: 0.006728\tAccuracy: 100.000000\tTime 0.324 (0.327)\tData 0.002 (0.027)\n",
      "Train Epoch: 12\t[4480/5124 (87%)]\tLoss: 0.005527\tAccuracy: 100.000000\tTime 0.330 (0.327)\tData 0.002 (0.027)\n",
      "Train Epoch: 12\t[4800/5124 (93%)]\tLoss: 0.003446\tAccuracy: 100.000000\tTime 0.324 (0.327)\tData 0.002 (0.027)\n",
      "Train Epoch: 12\t[640/5124 (99%)]\tLoss: 0.004862\tAccuracy: 100.000000\tTime 0.293 (0.327)\tData 0.001 (0.027)\n",
      "\n",
      "Val set: Average loss: 0.224626, Accuracy: 99.431818 \n",
      "\n",
      "Train Epoch: 13\t[0/5124 (0%)]\tLoss: 0.000700\tAccuracy: 100.000000\tTime 0.079 (0.079)\tData 0.002 (0.002)\n",
      "Train Epoch: 13\t[320/5124 (6%)]\tLoss: 0.001773\tAccuracy: 100.000000\tTime 0.326 (0.305)\tData 0.002 (0.025)\n",
      "Train Epoch: 13\t[640/5124 (12%)]\tLoss: 0.001321\tAccuracy: 100.000000\tTime 0.332 (0.316)\tData 0.002 (0.026)\n",
      "Train Epoch: 13\t[960/5124 (19%)]\tLoss: 0.001366\tAccuracy: 100.000000\tTime 0.331 (0.321)\tData 0.002 (0.026)\n",
      "Train Epoch: 13\t[1280/5124 (25%)]\tLoss: 0.000566\tAccuracy: 100.000000\tTime 0.327 (0.323)\tData 0.002 (0.027)\n",
      "Train Epoch: 13\t[1600/5124 (31%)]\tLoss: 0.000475\tAccuracy: 100.000000\tTime 0.332 (0.325)\tData 0.002 (0.027)\n",
      "Train Epoch: 13\t[1920/5124 (37%)]\tLoss: 0.005049\tAccuracy: 96.875000\tTime 0.331 (0.326)\tData 0.004 (0.027)\n",
      "Train Epoch: 13\t[2240/5124 (43%)]\tLoss: 0.000346\tAccuracy: 100.000000\tTime 0.333 (0.327)\tData 0.002 (0.027)\n",
      "Train Epoch: 13\t[2560/5124 (50%)]\tLoss: 0.002091\tAccuracy: 100.000000\tTime 0.332 (0.327)\tData 0.002 (0.027)\n",
      "Train Epoch: 13\t[2880/5124 (56%)]\tLoss: 0.001246\tAccuracy: 100.000000\tTime 0.331 (0.327)\tData 0.002 (0.027)\n",
      "Train Epoch: 13\t[3200/5124 (62%)]\tLoss: 0.004302\tAccuracy: 100.000000\tTime 0.331 (0.327)\tData 0.002 (0.027)\n",
      "Train Epoch: 13\t[3520/5124 (68%)]\tLoss: 0.000689\tAccuracy: 100.000000\tTime 0.327 (0.328)\tData 0.003 (0.027)\n",
      "Train Epoch: 13\t[3840/5124 (75%)]\tLoss: 0.000398\tAccuracy: 100.000000\tTime 0.328 (0.328)\tData 0.002 (0.027)\n",
      "Train Epoch: 13\t[4160/5124 (81%)]\tLoss: 0.001667\tAccuracy: 100.000000\tTime 0.329 (0.328)\tData 0.002 (0.027)\n",
      "Train Epoch: 13\t[4480/5124 (87%)]\tLoss: 0.001347\tAccuracy: 100.000000\tTime 0.324 (0.328)\tData 0.002 (0.027)\n",
      "Train Epoch: 13\t[4800/5124 (93%)]\tLoss: 0.001054\tAccuracy: 100.000000\tTime 0.333 (0.328)\tData 0.002 (0.027)\n"
     ]
    },
    {
     "name": "stdout",
     "output_type": "stream",
     "text": [
      "Train Epoch: 13\t[640/5124 (99%)]\tLoss: 0.000960\tAccuracy: 100.000000\tTime 0.286 (0.327)\tData 0.001 (0.027)\n",
      "\n",
      "Val set: Average loss: 0.172256, Accuracy: 99.621212 \n",
      "\n",
      "-------------------- HIGHEST ACCURACY ---------------------------\n",
      "Train Epoch: 14\t[0/5124 (0%)]\tLoss: 0.000294\tAccuracy: 100.000000\tTime 0.077 (0.077)\tData 0.002 (0.002)\n",
      "Train Epoch: 14\t[320/5124 (6%)]\tLoss: 0.000623\tAccuracy: 100.000000\tTime 0.331 (0.304)\tData 0.002 (0.025)\n",
      "Train Epoch: 14\t[640/5124 (12%)]\tLoss: 0.000197\tAccuracy: 100.000000\tTime 0.324 (0.315)\tData 0.002 (0.026)\n",
      "Train Epoch: 14\t[960/5124 (19%)]\tLoss: 0.001055\tAccuracy: 100.000000\tTime 0.324 (0.318)\tData 0.002 (0.026)\n",
      "Train Epoch: 14\t[1280/5124 (25%)]\tLoss: 0.000720\tAccuracy: 100.000000\tTime 0.331 (0.320)\tData 0.002 (0.027)\n",
      "Train Epoch: 14\t[1600/5124 (31%)]\tLoss: 0.000435\tAccuracy: 100.000000\tTime 0.324 (0.321)\tData 0.002 (0.027)\n",
      "Train Epoch: 14\t[1920/5124 (37%)]\tLoss: 0.000233\tAccuracy: 100.000000\tTime 0.331 (0.322)\tData 0.002 (0.027)\n",
      "Train Epoch: 14\t[2240/5124 (43%)]\tLoss: 0.000078\tAccuracy: 100.000000\tTime 0.328 (0.323)\tData 0.002 (0.027)\n",
      "Train Epoch: 14\t[2560/5124 (50%)]\tLoss: 0.000275\tAccuracy: 100.000000\tTime 0.323 (0.323)\tData 0.003 (0.027)\n",
      "Train Epoch: 14\t[2880/5124 (56%)]\tLoss: 0.000000\tAccuracy: 100.000000\tTime 0.329 (0.324)\tData 0.002 (0.027)\n",
      "Train Epoch: 14\t[3200/5124 (62%)]\tLoss: 0.000234\tAccuracy: 100.000000\tTime 0.324 (0.324)\tData 0.002 (0.027)\n",
      "Train Epoch: 14\t[3520/5124 (68%)]\tLoss: 0.000297\tAccuracy: 100.000000\tTime 0.324 (0.324)\tData 0.002 (0.027)\n",
      "Train Epoch: 14\t[3840/5124 (75%)]\tLoss: 0.000622\tAccuracy: 100.000000\tTime 0.329 (0.324)\tData 0.002 (0.027)\n",
      "Train Epoch: 14\t[4160/5124 (81%)]\tLoss: 0.001021\tAccuracy: 100.000000\tTime 0.331 (0.324)\tData 0.002 (0.027)\n",
      "Train Epoch: 14\t[4480/5124 (87%)]\tLoss: 0.000204\tAccuracy: 100.000000\tTime 0.324 (0.325)\tData 0.002 (0.027)\n",
      "Train Epoch: 14\t[4800/5124 (93%)]\tLoss: 0.000977\tAccuracy: 100.000000\tTime 0.324 (0.325)\tData 0.002 (0.027)\n",
      "Train Epoch: 14\t[640/5124 (99%)]\tLoss: 0.000000\tAccuracy: 100.000000\tTime 0.286 (0.325)\tData 0.001 (0.027)\n",
      "\n",
      "Val set: Average loss: 0.157736, Accuracy: 99.526515 \n",
      "\n",
      "Train Epoch: 15\t[0/5124 (0%)]\tLoss: 0.000022\tAccuracy: 100.000000\tTime 0.079 (0.079)\tData 0.002 (0.002)\n",
      "Train Epoch: 15\t[320/5124 (6%)]\tLoss: 0.002145\tAccuracy: 100.000000\tTime 0.324 (0.304)\tData 0.002 (0.025)\n",
      "Train Epoch: 15\t[640/5124 (12%)]\tLoss: 0.000093\tAccuracy: 100.000000\tTime 0.324 (0.315)\tData 0.002 (0.026)\n",
      "Train Epoch: 15\t[960/5124 (19%)]\tLoss: 0.000047\tAccuracy: 100.000000\tTime 0.331 (0.318)\tData 0.002 (0.026)\n",
      "Train Epoch: 15\t[1280/5124 (25%)]\tLoss: 0.002574\tAccuracy: 100.000000\tTime 0.324 (0.320)\tData 0.002 (0.027)\n",
      "Train Epoch: 15\t[1600/5124 (31%)]\tLoss: 0.000499\tAccuracy: 100.000000\tTime 0.324 (0.321)\tData 0.002 (0.027)\n",
      "Train Epoch: 15\t[1920/5124 (37%)]\tLoss: 0.001109\tAccuracy: 100.000000\tTime 0.336 (0.322)\tData 0.002 (0.027)\n",
      "Train Epoch: 15\t[2240/5124 (43%)]\tLoss: 0.000994\tAccuracy: 100.000000\tTime 0.331 (0.323)\tData 0.002 (0.027)\n",
      "Train Epoch: 15\t[2560/5124 (50%)]\tLoss: 0.000605\tAccuracy: 100.000000\tTime 0.329 (0.323)\tData 0.002 (0.027)\n",
      "Train Epoch: 15\t[2880/5124 (56%)]\tLoss: 0.001678\tAccuracy: 100.000000\tTime 0.331 (0.324)\tData 0.002 (0.027)\n",
      "Train Epoch: 15\t[3200/5124 (62%)]\tLoss: 0.001995\tAccuracy: 100.000000\tTime 0.324 (0.324)\tData 0.002 (0.027)\n",
      "Train Epoch: 15\t[3520/5124 (68%)]\tLoss: 0.001404\tAccuracy: 100.000000\tTime 0.324 (0.324)\tData 0.002 (0.027)\n",
      "Train Epoch: 15\t[3840/5124 (75%)]\tLoss: 0.000119\tAccuracy: 100.000000\tTime 0.331 (0.324)\tData 0.002 (0.027)\n",
      "Train Epoch: 15\t[4160/5124 (81%)]\tLoss: 0.003978\tAccuracy: 100.000000\tTime 0.325 (0.324)\tData 0.002 (0.027)\n",
      "Train Epoch: 15\t[4480/5124 (87%)]\tLoss: 0.004597\tAccuracy: 100.000000\tTime 0.323 (0.325)\tData 0.002 (0.027)\n",
      "Train Epoch: 15\t[4800/5124 (93%)]\tLoss: 0.000543\tAccuracy: 100.000000\tTime 0.324 (0.325)\tData 0.002 (0.027)\n",
      "Train Epoch: 15\t[640/5124 (99%)]\tLoss: 0.000000\tAccuracy: 100.000000\tTime 0.285 (0.324)\tData 0.002 (0.027)\n",
      "\n",
      "Val set: Average loss: 0.162159, Accuracy: 99.621212 \n",
      "\n",
      "Train Epoch: 16\t[0/5124 (0%)]\tLoss: 0.000389\tAccuracy: 100.000000\tTime 0.077 (0.077)\tData 0.002 (0.002)\n",
      "Train Epoch: 16\t[320/5124 (6%)]\tLoss: 0.000120\tAccuracy: 100.000000\tTime 0.331 (0.304)\tData 0.002 (0.025)\n",
      "Train Epoch: 16\t[640/5124 (12%)]\tLoss: 0.001259\tAccuracy: 100.000000\tTime 0.324 (0.315)\tData 0.002 (0.026)\n",
      "Train Epoch: 16\t[960/5124 (19%)]\tLoss: 0.001455\tAccuracy: 100.000000\tTime 0.329 (0.319)\tData 0.002 (0.026)\n",
      "Train Epoch: 16\t[1280/5124 (25%)]\tLoss: 0.003236\tAccuracy: 100.000000\tTime 0.324 (0.321)\tData 0.002 (0.027)\n",
      "Train Epoch: 16\t[1600/5124 (31%)]\tLoss: 0.000042\tAccuracy: 100.000000\tTime 0.324 (0.323)\tData 0.002 (0.027)\n",
      "Train Epoch: 16\t[1920/5124 (37%)]\tLoss: 0.001263\tAccuracy: 100.000000\tTime 0.330 (0.323)\tData 0.002 (0.027)\n",
      "Train Epoch: 16\t[2240/5124 (43%)]\tLoss: 0.000530\tAccuracy: 100.000000\tTime 0.324 (0.324)\tData 0.002 (0.027)\n",
      "Train Epoch: 16\t[2560/5124 (50%)]\tLoss: 0.000144\tAccuracy: 100.000000\tTime 0.324 (0.324)\tData 0.002 (0.027)\n",
      "Train Epoch: 16\t[2880/5124 (56%)]\tLoss: 0.000091\tAccuracy: 100.000000\tTime 0.331 (0.324)\tData 0.002 (0.027)\n",
      "Train Epoch: 16\t[3200/5124 (62%)]\tLoss: 0.002719\tAccuracy: 100.000000\tTime 0.324 (0.324)\tData 0.002 (0.027)\n",
      "Train Epoch: 16\t[3520/5124 (68%)]\tLoss: 0.006383\tAccuracy: 100.000000\tTime 0.329 (0.325)\tData 0.002 (0.027)\n",
      "Train Epoch: 16\t[3840/5124 (75%)]\tLoss: 0.003477\tAccuracy: 96.875000\tTime 0.324 (0.325)\tData 0.002 (0.027)\n",
      "Train Epoch: 16\t[4160/5124 (81%)]\tLoss: 0.011075\tAccuracy: 96.875000\tTime 0.324 (0.325)\tData 0.002 (0.027)\n",
      "Train Epoch: 16\t[4480/5124 (87%)]\tLoss: 0.001622\tAccuracy: 100.000000\tTime 0.329 (0.325)\tData 0.002 (0.027)\n",
      "Train Epoch: 16\t[4800/5124 (93%)]\tLoss: 0.010458\tAccuracy: 96.875000\tTime 0.324 (0.325)\tData 0.002 (0.027)\n",
      "Train Epoch: 16\t[640/5124 (99%)]\tLoss: 0.010377\tAccuracy: 100.000000\tTime 0.286 (0.325)\tData 0.001 (0.027)\n",
      "\n",
      "Val set: Average loss: 0.223477, Accuracy: 97.632576 \n",
      "\n",
      "Train Epoch: 17\t[0/5124 (0%)]\tLoss: 0.002186\tAccuracy: 100.000000\tTime 0.079 (0.079)\tData 0.002 (0.002)\n",
      "Train Epoch: 17\t[320/5124 (6%)]\tLoss: 0.002755\tAccuracy: 100.000000\tTime 0.324 (0.303)\tData 0.002 (0.025)\n",
      "Train Epoch: 17\t[640/5124 (12%)]\tLoss: 0.000624\tAccuracy: 100.000000\tTime 0.324 (0.313)\tData 0.002 (0.026)\n",
      "Train Epoch: 17\t[960/5124 (19%)]\tLoss: 0.010171\tAccuracy: 100.000000\tTime 0.324 (0.317)\tData 0.002 (0.027)\n",
      "Train Epoch: 17\t[1280/5124 (25%)]\tLoss: 0.010619\tAccuracy: 100.000000\tTime 0.324 (0.319)\tData 0.002 (0.027)\n",
      "Train Epoch: 17\t[1600/5124 (31%)]\tLoss: 0.004856\tAccuracy: 100.000000\tTime 0.324 (0.321)\tData 0.002 (0.027)\n",
      "Train Epoch: 17\t[1920/5124 (37%)]\tLoss: 0.005165\tAccuracy: 100.000000\tTime 0.324 (0.321)\tData 0.002 (0.027)\n",
      "Train Epoch: 17\t[2240/5124 (43%)]\tLoss: 0.006657\tAccuracy: 100.000000\tTime 0.324 (0.322)\tData 0.002 (0.027)\n",
      "Train Epoch: 17\t[2560/5124 (50%)]\tLoss: 0.014882\tAccuracy: 93.750000\tTime 0.328 (0.322)\tData 0.002 (0.027)\n",
      "Train Epoch: 17\t[2880/5124 (56%)]\tLoss: 0.005182\tAccuracy: 100.000000\tTime 0.324 (0.323)\tData 0.002 (0.027)\n",
      "Train Epoch: 17\t[3200/5124 (62%)]\tLoss: 0.008217\tAccuracy: 100.000000\tTime 0.324 (0.323)\tData 0.002 (0.027)\n",
      "Train Epoch: 17\t[3520/5124 (68%)]\tLoss: 0.038767\tAccuracy: 96.875000\tTime 0.324 (0.323)\tData 0.002 (0.027)\n",
      "Train Epoch: 17\t[3840/5124 (75%)]\tLoss: 0.001383\tAccuracy: 100.000000\tTime 0.324 (0.323)\tData 0.002 (0.027)\n",
      "Train Epoch: 17\t[4160/5124 (81%)]\tLoss: 0.004598\tAccuracy: 100.000000\tTime 0.322 (0.323)\tData 0.004 (0.027)\n",
      "Train Epoch: 17\t[4480/5124 (87%)]\tLoss: 0.006202\tAccuracy: 100.000000\tTime 0.324 (0.324)\tData 0.002 (0.027)\n",
      "Train Epoch: 17\t[4800/5124 (93%)]\tLoss: 0.007088\tAccuracy: 100.000000\tTime 0.324 (0.324)\tData 0.002 (0.027)\n",
      "Train Epoch: 17\t[640/5124 (99%)]\tLoss: 0.000569\tAccuracy: 100.000000\tTime 0.292 (0.324)\tData 0.001 (0.027)\n",
      "\n",
      "Val set: Average loss: 0.135967, Accuracy: 98.484848 \n",
      "\n",
      "Train Epoch: 18\t[0/5124 (0%)]\tLoss: 0.001295\tAccuracy: 100.000000\tTime 0.077 (0.077)\tData 0.002 (0.002)\n",
      "Train Epoch: 18\t[320/5124 (6%)]\tLoss: 0.002589\tAccuracy: 100.000000\tTime 0.323 (0.305)\tData 0.004 (0.025)\n",
      "Train Epoch: 18\t[640/5124 (12%)]\tLoss: 0.004687\tAccuracy: 100.000000\tTime 0.331 (0.315)\tData 0.002 (0.026)\n",
      "Train Epoch: 18\t[960/5124 (19%)]\tLoss: 0.002704\tAccuracy: 100.000000\tTime 0.324 (0.319)\tData 0.002 (0.027)\n",
      "Train Epoch: 18\t[1280/5124 (25%)]\tLoss: 0.008984\tAccuracy: 96.875000\tTime 0.325 (0.321)\tData 0.002 (0.027)\n"
     ]
    },
    {
     "name": "stdout",
     "output_type": "stream",
     "text": [
      "Train Epoch: 18\t[1600/5124 (31%)]\tLoss: 0.008300\tAccuracy: 96.875000\tTime 0.322 (0.321)\tData 0.004 (0.027)\n",
      "Train Epoch: 18\t[1920/5124 (37%)]\tLoss: 0.002099\tAccuracy: 100.000000\tTime 0.324 (0.322)\tData 0.002 (0.027)\n",
      "Train Epoch: 18\t[2240/5124 (43%)]\tLoss: 0.000969\tAccuracy: 100.000000\tTime 0.324 (0.323)\tData 0.002 (0.027)\n",
      "Train Epoch: 18\t[2560/5124 (50%)]\tLoss: 0.002705\tAccuracy: 100.000000\tTime 0.324 (0.323)\tData 0.002 (0.027)\n",
      "Train Epoch: 18\t[2880/5124 (56%)]\tLoss: 0.009687\tAccuracy: 96.875000\tTime 0.323 (0.324)\tData 0.004 (0.027)\n",
      "Train Epoch: 18\t[3200/5124 (62%)]\tLoss: 0.002990\tAccuracy: 100.000000\tTime 0.331 (0.324)\tData 0.002 (0.027)\n",
      "Train Epoch: 18\t[3520/5124 (68%)]\tLoss: 0.004137\tAccuracy: 96.875000\tTime 0.324 (0.324)\tData 0.002 (0.027)\n",
      "Train Epoch: 18\t[3840/5124 (75%)]\tLoss: 0.001918\tAccuracy: 100.000000\tTime 0.324 (0.324)\tData 0.002 (0.027)\n",
      "Train Epoch: 18\t[4160/5124 (81%)]\tLoss: 0.002706\tAccuracy: 100.000000\tTime 0.331 (0.324)\tData 0.002 (0.027)\n",
      "Train Epoch: 18\t[4480/5124 (87%)]\tLoss: 0.000446\tAccuracy: 100.000000\tTime 0.324 (0.325)\tData 0.002 (0.027)\n",
      "Train Epoch: 18\t[4800/5124 (93%)]\tLoss: 0.000003\tAccuracy: 100.000000\tTime 0.324 (0.325)\tData 0.002 (0.027)\n",
      "Train Epoch: 18\t[640/5124 (99%)]\tLoss: 0.010009\tAccuracy: 100.000000\tTime 0.286 (0.324)\tData 0.001 (0.027)\n",
      "\n",
      "Val set: Average loss: 0.095144, Accuracy: 99.431818 \n",
      "\n",
      "Train Epoch: 19\t[0/5124 (0%)]\tLoss: 0.002091\tAccuracy: 100.000000\tTime 0.080 (0.080)\tData 0.002 (0.002)\n",
      "Train Epoch: 19\t[320/5124 (6%)]\tLoss: 0.004453\tAccuracy: 100.000000\tTime 0.324 (0.303)\tData 0.002 (0.025)\n",
      "Train Epoch: 19\t[640/5124 (12%)]\tLoss: 0.000357\tAccuracy: 100.000000\tTime 0.324 (0.314)\tData 0.002 (0.026)\n",
      "Train Epoch: 19\t[960/5124 (19%)]\tLoss: 0.000636\tAccuracy: 100.000000\tTime 0.324 (0.318)\tData 0.002 (0.026)\n",
      "Train Epoch: 19\t[1280/5124 (25%)]\tLoss: 0.001189\tAccuracy: 100.000000\tTime 0.324 (0.320)\tData 0.002 (0.027)\n",
      "Train Epoch: 19\t[1600/5124 (31%)]\tLoss: 0.000234\tAccuracy: 100.000000\tTime 0.324 (0.321)\tData 0.002 (0.027)\n",
      "Train Epoch: 19\t[1920/5124 (37%)]\tLoss: 0.000140\tAccuracy: 100.000000\tTime 0.329 (0.322)\tData 0.003 (0.027)\n",
      "Train Epoch: 19\t[2240/5124 (43%)]\tLoss: 0.013080\tAccuracy: 96.875000\tTime 0.332 (0.323)\tData 0.002 (0.027)\n",
      "Train Epoch: 19\t[2560/5124 (50%)]\tLoss: 0.000262\tAccuracy: 100.000000\tTime 0.326 (0.324)\tData 0.002 (0.027)\n",
      "Train Epoch: 19\t[2880/5124 (56%)]\tLoss: 0.000395\tAccuracy: 100.000000\tTime 0.330 (0.325)\tData 0.004 (0.027)\n",
      "Train Epoch: 19\t[3200/5124 (62%)]\tLoss: 0.002528\tAccuracy: 100.000000\tTime 0.333 (0.326)\tData 0.002 (0.027)\n",
      "Train Epoch: 19\t[3520/5124 (68%)]\tLoss: 0.001817\tAccuracy: 100.000000\tTime 0.326 (0.326)\tData 0.002 (0.027)\n",
      "Train Epoch: 19\t[3840/5124 (75%)]\tLoss: 0.002065\tAccuracy: 100.000000\tTime 0.332 (0.326)\tData 0.002 (0.027)\n",
      "Train Epoch: 19\t[4160/5124 (81%)]\tLoss: 0.002214\tAccuracy: 100.000000\tTime 0.331 (0.327)\tData 0.002 (0.027)\n",
      "Train Epoch: 19\t[4480/5124 (87%)]\tLoss: 0.000190\tAccuracy: 100.000000\tTime 0.326 (0.327)\tData 0.002 (0.027)\n",
      "Train Epoch: 19\t[4800/5124 (93%)]\tLoss: 0.000081\tAccuracy: 100.000000\tTime 0.325 (0.327)\tData 0.002 (0.027)\n",
      "Train Epoch: 19\t[640/5124 (99%)]\tLoss: 0.000000\tAccuracy: 100.000000\tTime 0.287 (0.327)\tData 0.001 (0.027)\n",
      "\n",
      "Val set: Average loss: 0.076168, Accuracy: 99.715909 \n",
      "\n",
      "-------------------- HIGHEST ACCURACY ---------------------------\n",
      "Train Epoch: 20\t[0/5124 (0%)]\tLoss: 0.000038\tAccuracy: 100.000000\tTime 0.077 (0.077)\tData 0.002 (0.002)\n",
      "Train Epoch: 20\t[320/5124 (6%)]\tLoss: 0.000762\tAccuracy: 100.000000\tTime 0.325 (0.305)\tData 0.002 (0.025)\n",
      "Train Epoch: 20\t[640/5124 (12%)]\tLoss: 0.000715\tAccuracy: 100.000000\tTime 0.327 (0.316)\tData 0.002 (0.026)\n",
      "Train Epoch: 20\t[960/5124 (19%)]\tLoss: 0.000000\tAccuracy: 100.000000\tTime 0.326 (0.321)\tData 0.002 (0.026)\n",
      "Train Epoch: 20\t[1280/5124 (25%)]\tLoss: 0.000206\tAccuracy: 100.000000\tTime 0.332 (0.323)\tData 0.002 (0.027)\n",
      "Train Epoch: 20\t[1600/5124 (31%)]\tLoss: 0.000519\tAccuracy: 100.000000\tTime 0.325 (0.324)\tData 0.002 (0.027)\n",
      "Train Epoch: 20\t[1920/5124 (37%)]\tLoss: 0.000338\tAccuracy: 100.000000\tTime 0.326 (0.325)\tData 0.002 (0.027)\n",
      "Train Epoch: 20\t[2240/5124 (43%)]\tLoss: 0.000817\tAccuracy: 100.000000\tTime 0.325 (0.326)\tData 0.002 (0.027)\n",
      "Train Epoch: 20\t[2560/5124 (50%)]\tLoss: 0.000000\tAccuracy: 100.000000\tTime 0.332 (0.326)\tData 0.002 (0.027)\n",
      "Train Epoch: 20\t[2880/5124 (56%)]\tLoss: -0.000000\tAccuracy: 100.000000\tTime 0.332 (0.327)\tData 0.002 (0.027)\n",
      "Train Epoch: 20\t[3200/5124 (62%)]\tLoss: 0.000096\tAccuracy: 100.000000\tTime 0.325 (0.327)\tData 0.002 (0.027)\n",
      "Train Epoch: 20\t[3520/5124 (68%)]\tLoss: 0.000319\tAccuracy: 100.000000\tTime 0.332 (0.327)\tData 0.002 (0.027)\n",
      "Train Epoch: 20\t[3840/5124 (75%)]\tLoss: 0.000554\tAccuracy: 100.000000\tTime 0.325 (0.328)\tData 0.003 (0.027)\n",
      "Train Epoch: 20\t[4160/5124 (81%)]\tLoss: 0.000032\tAccuracy: 100.000000\tTime 0.325 (0.328)\tData 0.002 (0.027)\n",
      "Train Epoch: 20\t[4480/5124 (87%)]\tLoss: 0.000017\tAccuracy: 100.000000\tTime 0.332 (0.328)\tData 0.002 (0.027)\n",
      "Train Epoch: 20\t[4800/5124 (93%)]\tLoss: 0.000385\tAccuracy: 100.000000\tTime 0.328 (0.328)\tData 0.002 (0.027)\n",
      "Train Epoch: 20\t[640/5124 (99%)]\tLoss: 0.000001\tAccuracy: 100.000000\tTime 0.286 (0.328)\tData 0.001 (0.027)\n",
      "\n",
      "Val set: Average loss: 0.063075, Accuracy: 99.810606 \n",
      "\n",
      "-------------------- HIGHEST ACCURACY ---------------------------\n",
      "Train Epoch: 21\t[0/5124 (0%)]\tLoss: 0.000152\tAccuracy: 100.000000\tTime 0.080 (0.080)\tData 0.002 (0.002)\n",
      "Train Epoch: 21\t[320/5124 (6%)]\tLoss: 0.000262\tAccuracy: 100.000000\tTime 0.331 (0.307)\tData 0.002 (0.025)\n",
      "Train Epoch: 21\t[640/5124 (12%)]\tLoss: 0.000004\tAccuracy: 100.000000\tTime 0.332 (0.318)\tData 0.002 (0.026)\n",
      "Train Epoch: 21\t[960/5124 (19%)]\tLoss: 0.000041\tAccuracy: 100.000000\tTime 0.326 (0.322)\tData 0.002 (0.027)\n",
      "Train Epoch: 21\t[1280/5124 (25%)]\tLoss: 0.000166\tAccuracy: 100.000000\tTime 0.326 (0.323)\tData 0.002 (0.027)\n",
      "Train Epoch: 21\t[1600/5124 (31%)]\tLoss: 0.002455\tAccuracy: 100.000000\tTime 0.333 (0.324)\tData 0.002 (0.027)\n",
      "Train Epoch: 21\t[1920/5124 (37%)]\tLoss: 0.000037\tAccuracy: 100.000000\tTime 0.332 (0.325)\tData 0.002 (0.027)\n",
      "Train Epoch: 21\t[2240/5124 (43%)]\tLoss: 0.001418\tAccuracy: 100.000000\tTime 0.326 (0.325)\tData 0.002 (0.027)\n",
      "Train Epoch: 21\t[2560/5124 (50%)]\tLoss: 0.000005\tAccuracy: 100.000000\tTime 0.335 (0.326)\tData 0.002 (0.027)\n",
      "Train Epoch: 21\t[2880/5124 (56%)]\tLoss: 0.000045\tAccuracy: 100.000000\tTime 0.326 (0.326)\tData 0.002 (0.027)\n",
      "Train Epoch: 21\t[3200/5124 (62%)]\tLoss: 0.000009\tAccuracy: 100.000000\tTime 0.330 (0.327)\tData 0.003 (0.027)\n",
      "Train Epoch: 21\t[3520/5124 (68%)]\tLoss: 0.000016\tAccuracy: 100.000000\tTime 0.326 (0.327)\tData 0.002 (0.027)\n",
      "Train Epoch: 21\t[3840/5124 (75%)]\tLoss: 0.001393\tAccuracy: 100.000000\tTime 0.332 (0.327)\tData 0.002 (0.027)\n",
      "Train Epoch: 21\t[4160/5124 (81%)]\tLoss: 0.000032\tAccuracy: 100.000000\tTime 0.325 (0.327)\tData 0.002 (0.027)\n",
      "Train Epoch: 21\t[4480/5124 (87%)]\tLoss: 0.000560\tAccuracy: 100.000000\tTime 0.325 (0.327)\tData 0.002 (0.027)\n",
      "Train Epoch: 21\t[4800/5124 (93%)]\tLoss: 0.000237\tAccuracy: 100.000000\tTime 0.332 (0.327)\tData 0.002 (0.027)\n",
      "Train Epoch: 21\t[640/5124 (99%)]\tLoss: -0.000000\tAccuracy: 100.000000\tTime 0.290 (0.327)\tData 0.001 (0.027)\n",
      "\n",
      "Val set: Average loss: 0.059094, Accuracy: 99.810606 \n",
      "\n",
      "Train Epoch: 22\t[0/5124 (0%)]\tLoss: 0.000003\tAccuracy: 100.000000\tTime 0.080 (0.080)\tData 0.003 (0.003)\n",
      "Train Epoch: 22\t[320/5124 (6%)]\tLoss: 0.003137\tAccuracy: 100.000000\tTime 0.334 (0.306)\tData 0.002 (0.025)\n",
      "Train Epoch: 22\t[640/5124 (12%)]\tLoss: 0.000122\tAccuracy: 100.000000\tTime 0.325 (0.317)\tData 0.004 (0.026)\n",
      "Train Epoch: 22\t[960/5124 (19%)]\tLoss: 0.000115\tAccuracy: 100.000000\tTime 0.326 (0.321)\tData 0.002 (0.027)\n",
      "Train Epoch: 22\t[1280/5124 (25%)]\tLoss: 0.000000\tAccuracy: 100.000000\tTime 0.332 (0.323)\tData 0.002 (0.027)\n",
      "Train Epoch: 22\t[1600/5124 (31%)]\tLoss: 0.000135\tAccuracy: 100.000000\tTime 0.332 (0.324)\tData 0.002 (0.027)\n",
      "Train Epoch: 22\t[1920/5124 (37%)]\tLoss: -0.000000\tAccuracy: 100.000000\tTime 0.322 (0.325)\tData 0.004 (0.027)\n",
      "Train Epoch: 22\t[2240/5124 (43%)]\tLoss: 0.000009\tAccuracy: 100.000000\tTime 0.329 (0.325)\tData 0.002 (0.027)\n",
      "Train Epoch: 22\t[2560/5124 (50%)]\tLoss: 0.000020\tAccuracy: 100.000000\tTime 0.331 (0.326)\tData 0.002 (0.027)\n",
      "Train Epoch: 22\t[2880/5124 (56%)]\tLoss: 0.000010\tAccuracy: 100.000000\tTime 0.328 (0.326)\tData 0.002 (0.027)\n"
     ]
    },
    {
     "name": "stdout",
     "output_type": "stream",
     "text": [
      "Train Epoch: 22\t[3200/5124 (62%)]\tLoss: 0.000838\tAccuracy: 100.000000\tTime 0.329 (0.327)\tData 0.002 (0.027)\n",
      "Train Epoch: 22\t[3520/5124 (68%)]\tLoss: 0.000000\tAccuracy: 100.000000\tTime 0.329 (0.327)\tData 0.002 (0.027)\n",
      "Train Epoch: 22\t[3840/5124 (75%)]\tLoss: 0.000004\tAccuracy: 100.000000\tTime 0.329 (0.327)\tData 0.002 (0.027)\n",
      "Train Epoch: 22\t[4160/5124 (81%)]\tLoss: 0.000045\tAccuracy: 100.000000\tTime 0.324 (0.327)\tData 0.002 (0.027)\n",
      "Train Epoch: 22\t[4480/5124 (87%)]\tLoss: 0.000034\tAccuracy: 100.000000\tTime 0.330 (0.327)\tData 0.002 (0.027)\n",
      "Train Epoch: 22\t[4800/5124 (93%)]\tLoss: 0.000395\tAccuracy: 100.000000\tTime 0.327 (0.327)\tData 0.004 (0.027)\n",
      "Train Epoch: 22\t[640/5124 (99%)]\tLoss: 0.000000\tAccuracy: 100.000000\tTime 0.291 (0.327)\tData 0.001 (0.027)\n",
      "\n",
      "Val set: Average loss: 0.058453, Accuracy: 99.810606 \n",
      "\n",
      "Train Epoch: 23\t[0/5124 (0%)]\tLoss: 0.000004\tAccuracy: 100.000000\tTime 0.078 (0.078)\tData 0.002 (0.002)\n",
      "Train Epoch: 23\t[320/5124 (6%)]\tLoss: 0.000000\tAccuracy: 100.000000\tTime 0.324 (0.306)\tData 0.002 (0.025)\n",
      "Train Epoch: 23\t[640/5124 (12%)]\tLoss: 0.000002\tAccuracy: 100.000000\tTime 0.323 (0.316)\tData 0.002 (0.026)\n",
      "Train Epoch: 23\t[960/5124 (19%)]\tLoss: 0.000115\tAccuracy: 100.000000\tTime 0.329 (0.320)\tData 0.002 (0.027)\n",
      "Train Epoch: 23\t[1280/5124 (25%)]\tLoss: 0.000027\tAccuracy: 100.000000\tTime 0.329 (0.322)\tData 0.002 (0.027)\n",
      "Train Epoch: 23\t[1600/5124 (31%)]\tLoss: 0.000031\tAccuracy: 100.000000\tTime 0.329 (0.323)\tData 0.002 (0.027)\n",
      "Train Epoch: 23\t[1920/5124 (37%)]\tLoss: 0.000590\tAccuracy: 100.000000\tTime 0.325 (0.324)\tData 0.002 (0.027)\n",
      "Train Epoch: 23\t[2240/5124 (43%)]\tLoss: 0.000004\tAccuracy: 100.000000\tTime 0.329 (0.324)\tData 0.002 (0.027)\n",
      "Train Epoch: 23\t[2560/5124 (50%)]\tLoss: 0.003854\tAccuracy: 96.875000\tTime 0.329 (0.325)\tData 0.002 (0.027)\n",
      "Train Epoch: 23\t[2880/5124 (56%)]\tLoss: 0.000060\tAccuracy: 100.000000\tTime 0.329 (0.326)\tData 0.002 (0.027)\n",
      "Train Epoch: 23\t[3200/5124 (62%)]\tLoss: 0.000032\tAccuracy: 100.000000\tTime 0.324 (0.326)\tData 0.002 (0.027)\n",
      "Train Epoch: 23\t[3520/5124 (68%)]\tLoss: 0.000000\tAccuracy: 100.000000\tTime 0.331 (0.326)\tData 0.002 (0.027)\n",
      "Train Epoch: 23\t[3840/5124 (75%)]\tLoss: 0.000097\tAccuracy: 100.000000\tTime 0.330 (0.326)\tData 0.002 (0.027)\n",
      "Train Epoch: 23\t[4160/5124 (81%)]\tLoss: 0.000130\tAccuracy: 100.000000\tTime 0.332 (0.327)\tData 0.002 (0.027)\n",
      "Train Epoch: 23\t[4480/5124 (87%)]\tLoss: 0.000792\tAccuracy: 100.000000\tTime 0.332 (0.327)\tData 0.002 (0.027)\n",
      "Train Epoch: 23\t[4800/5124 (93%)]\tLoss: 0.000114\tAccuracy: 100.000000\tTime 0.328 (0.327)\tData 0.004 (0.027)\n",
      "Train Epoch: 23\t[640/5124 (99%)]\tLoss: 0.000376\tAccuracy: 100.000000\tTime 0.290 (0.327)\tData 0.001 (0.027)\n",
      "\n",
      "Val set: Average loss: 0.056821, Accuracy: 99.810606 \n",
      "\n",
      "Train Epoch: 24\t[0/5124 (0%)]\tLoss: 0.000022\tAccuracy: 100.000000\tTime 0.074 (0.074)\tData 0.002 (0.002)\n",
      "Train Epoch: 24\t[320/5124 (6%)]\tLoss: 0.000012\tAccuracy: 100.000000\tTime 0.330 (0.306)\tData 0.002 (0.025)\n",
      "Train Epoch: 24\t[640/5124 (12%)]\tLoss: 0.000074\tAccuracy: 100.000000\tTime 0.329 (0.317)\tData 0.002 (0.026)\n",
      "Train Epoch: 24\t[960/5124 (19%)]\tLoss: 0.000112\tAccuracy: 100.000000\tTime 0.331 (0.321)\tData 0.002 (0.027)\n",
      "Train Epoch: 24\t[1280/5124 (25%)]\tLoss: 0.000013\tAccuracy: 100.000000\tTime 0.331 (0.323)\tData 0.004 (0.027)\n",
      "Train Epoch: 24\t[1600/5124 (31%)]\tLoss: 0.000096\tAccuracy: 100.000000\tTime 0.333 (0.325)\tData 0.002 (0.027)\n",
      "Train Epoch: 24\t[1920/5124 (37%)]\tLoss: 0.000006\tAccuracy: 100.000000\tTime 0.332 (0.325)\tData 0.002 (0.027)\n",
      "Train Epoch: 24\t[2240/5124 (43%)]\tLoss: 0.000127\tAccuracy: 100.000000\tTime 0.324 (0.326)\tData 0.002 (0.027)\n",
      "Train Epoch: 24\t[2560/5124 (50%)]\tLoss: 0.000030\tAccuracy: 100.000000\tTime 0.325 (0.326)\tData 0.002 (0.027)\n",
      "Train Epoch: 24\t[2880/5124 (56%)]\tLoss: 0.000941\tAccuracy: 100.000000\tTime 0.333 (0.327)\tData 0.002 (0.027)\n",
      "Train Epoch: 24\t[3200/5124 (62%)]\tLoss: 0.000000\tAccuracy: 100.000000\tTime 0.325 (0.327)\tData 0.002 (0.027)\n",
      "Train Epoch: 24\t[3520/5124 (68%)]\tLoss: -0.000000\tAccuracy: 100.000000\tTime 0.332 (0.327)\tData 0.002 (0.027)\n",
      "Train Epoch: 24\t[3840/5124 (75%)]\tLoss: 0.000004\tAccuracy: 100.000000\tTime 0.325 (0.327)\tData 0.002 (0.027)\n",
      "Train Epoch: 24\t[4160/5124 (81%)]\tLoss: 0.000066\tAccuracy: 100.000000\tTime 0.325 (0.328)\tData 0.002 (0.027)\n",
      "Train Epoch: 24\t[4480/5124 (87%)]\tLoss: 0.001133\tAccuracy: 100.000000\tTime 0.332 (0.328)\tData 0.002 (0.027)\n",
      "Train Epoch: 24\t[4800/5124 (93%)]\tLoss: 0.000002\tAccuracy: 100.000000\tTime 0.326 (0.328)\tData 0.002 (0.027)\n",
      "Train Epoch: 24\t[640/5124 (99%)]\tLoss: 0.000076\tAccuracy: 100.000000\tTime 0.292 (0.328)\tData 0.001 (0.027)\n",
      "\n",
      "Val set: Average loss: 0.055479, Accuracy: 99.810606 \n",
      "\n",
      "Train Epoch: 25\t[0/5124 (0%)]\tLoss: 0.000000\tAccuracy: 100.000000\tTime 0.079 (0.079)\tData 0.003 (0.003)\n",
      "Train Epoch: 25\t[320/5124 (6%)]\tLoss: 0.000022\tAccuracy: 100.000000\tTime 0.326 (0.306)\tData 0.002 (0.026)\n",
      "Train Epoch: 25\t[640/5124 (12%)]\tLoss: 0.000010\tAccuracy: 100.000000\tTime 0.328 (0.318)\tData 0.004 (0.027)\n",
      "Train Epoch: 25\t[960/5124 (19%)]\tLoss: 0.000175\tAccuracy: 100.000000\tTime 0.332 (0.322)\tData 0.002 (0.027)\n",
      "Train Epoch: 25\t[1280/5124 (25%)]\tLoss: 0.000152\tAccuracy: 100.000000\tTime 0.327 (0.324)\tData 0.002 (0.027)\n",
      "Train Epoch: 25\t[1600/5124 (31%)]\tLoss: -0.000000\tAccuracy: 100.000000\tTime 0.325 (0.325)\tData 0.002 (0.027)\n",
      "Train Epoch: 25\t[1920/5124 (37%)]\tLoss: 0.000054\tAccuracy: 100.000000\tTime 0.332 (0.326)\tData 0.002 (0.027)\n",
      "Train Epoch: 25\t[2240/5124 (43%)]\tLoss: 0.000000\tAccuracy: 100.000000\tTime 0.339 (0.327)\tData 0.002 (0.027)\n",
      "Train Epoch: 25\t[2560/5124 (50%)]\tLoss: 0.000002\tAccuracy: 100.000000\tTime 0.332 (0.327)\tData 0.002 (0.027)\n",
      "Train Epoch: 25\t[2880/5124 (56%)]\tLoss: 0.000000\tAccuracy: 100.000000\tTime 0.330 (0.328)\tData 0.002 (0.027)\n",
      "Train Epoch: 25\t[3200/5124 (62%)]\tLoss: 0.000487\tAccuracy: 100.000000\tTime 0.332 (0.328)\tData 0.002 (0.027)\n",
      "Train Epoch: 25\t[3520/5124 (68%)]\tLoss: 0.000111\tAccuracy: 100.000000\tTime 0.326 (0.328)\tData 0.002 (0.027)\n",
      "Train Epoch: 25\t[3840/5124 (75%)]\tLoss: 0.000018\tAccuracy: 100.000000\tTime 0.331 (0.328)\tData 0.002 (0.027)\n",
      "Train Epoch: 25\t[4160/5124 (81%)]\tLoss: 0.000012\tAccuracy: 100.000000\tTime 0.333 (0.328)\tData 0.002 (0.027)\n",
      "Train Epoch: 25\t[4480/5124 (87%)]\tLoss: 0.000050\tAccuracy: 100.000000\tTime 0.326 (0.328)\tData 0.002 (0.027)\n",
      "Train Epoch: 25\t[4800/5124 (93%)]\tLoss: 0.000011\tAccuracy: 100.000000\tTime 0.326 (0.328)\tData 0.002 (0.027)\n",
      "Train Epoch: 25\t[640/5124 (99%)]\tLoss: 0.006497\tAccuracy: 100.000000\tTime 0.292 (0.328)\tData 0.001 (0.027)\n",
      "\n",
      "Val set: Average loss: 0.052259, Accuracy: 99.810606 \n",
      "\n",
      "Train Epoch: 26\t[0/5124 (0%)]\tLoss: 0.000000\tAccuracy: 100.000000\tTime 0.079 (0.079)\tData 0.003 (0.003)\n",
      "Train Epoch: 26\t[320/5124 (6%)]\tLoss: 0.000071\tAccuracy: 100.000000\tTime 0.332 (0.307)\tData 0.002 (0.025)\n",
      "Train Epoch: 26\t[640/5124 (12%)]\tLoss: 0.000584\tAccuracy: 100.000000\tTime 0.330 (0.317)\tData 0.002 (0.026)\n",
      "Train Epoch: 26\t[960/5124 (19%)]\tLoss: 0.013681\tAccuracy: 96.875000\tTime 0.326 (0.321)\tData 0.002 (0.026)\n",
      "Train Epoch: 26\t[1280/5124 (25%)]\tLoss: 0.016180\tAccuracy: 100.000000\tTime 0.326 (0.322)\tData 0.002 (0.027)\n",
      "Train Epoch: 26\t[1600/5124 (31%)]\tLoss: 0.031650\tAccuracy: 93.750000\tTime 0.329 (0.324)\tData 0.004 (0.027)\n",
      "Train Epoch: 26\t[1920/5124 (37%)]\tLoss: 0.104387\tAccuracy: 90.625000\tTime 0.325 (0.324)\tData 0.002 (0.027)\n",
      "Train Epoch: 26\t[2240/5124 (43%)]\tLoss: 0.041875\tAccuracy: 96.875000\tTime 0.325 (0.325)\tData 0.002 (0.027)\n",
      "Train Epoch: 26\t[2560/5124 (50%)]\tLoss: 0.055457\tAccuracy: 93.750000\tTime 0.326 (0.325)\tData 0.002 (0.027)\n",
      "Train Epoch: 26\t[2880/5124 (56%)]\tLoss: 0.037139\tAccuracy: 96.875000\tTime 0.331 (0.325)\tData 0.002 (0.027)\n",
      "Train Epoch: 26\t[3200/5124 (62%)]\tLoss: 0.025289\tAccuracy: 93.750000\tTime 0.325 (0.325)\tData 0.002 (0.027)\n",
      "Train Epoch: 26\t[3520/5124 (68%)]\tLoss: 0.018497\tAccuracy: 96.875000\tTime 0.326 (0.325)\tData 0.002 (0.027)\n",
      "Train Epoch: 26\t[3840/5124 (75%)]\tLoss: 0.015519\tAccuracy: 96.875000\tTime 0.333 (0.326)\tData 0.002 (0.027)\n",
      "Train Epoch: 26\t[4160/5124 (81%)]\tLoss: 0.013484\tAccuracy: 100.000000\tTime 0.332 (0.326)\tData 0.002 (0.027)\n",
      "Train Epoch: 26\t[4480/5124 (87%)]\tLoss: 0.009815\tAccuracy: 96.875000\tTime 0.326 (0.326)\tData 0.002 (0.027)\n",
      "Train Epoch: 26\t[4800/5124 (93%)]\tLoss: 0.040917\tAccuracy: 96.875000\tTime 0.325 (0.326)\tData 0.002 (0.027)\n",
      "Train Epoch: 26\t[640/5124 (99%)]\tLoss: 0.010798\tAccuracy: 100.000000\tTime 0.285 (0.326)\tData 0.002 (0.027)\n"
     ]
    },
    {
     "name": "stdout",
     "output_type": "stream",
     "text": [
      "\n",
      "Val set: Average loss: 0.098116, Accuracy: 97.537879 \n",
      "\n",
      "Train Epoch: 27\t[0/5124 (0%)]\tLoss: 0.015042\tAccuracy: 100.000000\tTime 0.079 (0.079)\tData 0.003 (0.003)\n",
      "Train Epoch: 27\t[320/5124 (6%)]\tLoss: 0.022974\tAccuracy: 96.875000\tTime 0.326 (0.305)\tData 0.002 (0.025)\n",
      "Train Epoch: 27\t[640/5124 (12%)]\tLoss: 0.016037\tAccuracy: 96.875000\tTime 0.331 (0.316)\tData 0.002 (0.026)\n",
      "Train Epoch: 27\t[960/5124 (19%)]\tLoss: 0.002490\tAccuracy: 100.000000\tTime 0.326 (0.320)\tData 0.002 (0.026)\n",
      "Train Epoch: 27\t[1280/5124 (25%)]\tLoss: 0.010273\tAccuracy: 96.875000\tTime 0.334 (0.323)\tData 0.002 (0.027)\n",
      "Train Epoch: 27\t[1600/5124 (31%)]\tLoss: 0.007670\tAccuracy: 100.000000\tTime 0.325 (0.324)\tData 0.002 (0.027)\n",
      "Train Epoch: 27\t[1920/5124 (37%)]\tLoss: 0.006820\tAccuracy: 100.000000\tTime 0.325 (0.325)\tData 0.002 (0.027)\n",
      "Train Epoch: 27\t[2240/5124 (43%)]\tLoss: 0.012281\tAccuracy: 96.875000\tTime 0.333 (0.325)\tData 0.002 (0.027)\n",
      "Train Epoch: 27\t[2560/5124 (50%)]\tLoss: 0.017817\tAccuracy: 96.875000\tTime 0.325 (0.326)\tData 0.002 (0.027)\n",
      "Train Epoch: 27\t[2880/5124 (56%)]\tLoss: 0.000721\tAccuracy: 100.000000\tTime 0.332 (0.326)\tData 0.002 (0.027)\n",
      "Train Epoch: 27\t[3200/5124 (62%)]\tLoss: 0.003357\tAccuracy: 100.000000\tTime 0.325 (0.326)\tData 0.002 (0.027)\n",
      "Train Epoch: 27\t[3520/5124 (68%)]\tLoss: 0.003919\tAccuracy: 100.000000\tTime 0.334 (0.327)\tData 0.002 (0.027)\n",
      "Train Epoch: 27\t[3840/5124 (75%)]\tLoss: 0.004757\tAccuracy: 100.000000\tTime 0.332 (0.327)\tData 0.002 (0.027)\n",
      "Train Epoch: 27\t[4160/5124 (81%)]\tLoss: 0.001431\tAccuracy: 100.000000\tTime 0.339 (0.327)\tData 0.002 (0.027)\n",
      "Train Epoch: 27\t[4480/5124 (87%)]\tLoss: 0.000495\tAccuracy: 100.000000\tTime 0.325 (0.327)\tData 0.002 (0.027)\n",
      "Train Epoch: 27\t[4800/5124 (93%)]\tLoss: 0.005230\tAccuracy: 100.000000\tTime 0.326 (0.327)\tData 0.002 (0.027)\n",
      "Train Epoch: 27\t[640/5124 (99%)]\tLoss: 0.000000\tAccuracy: 100.000000\tTime 0.285 (0.327)\tData 0.002 (0.027)\n",
      "\n",
      "Val set: Average loss: 0.046489, Accuracy: 99.526515 \n",
      "\n",
      "Train Epoch: 28\t[0/5124 (0%)]\tLoss: 0.001368\tAccuracy: 100.000000\tTime 0.073 (0.073)\tData 0.003 (0.003)\n",
      "Train Epoch: 28\t[320/5124 (6%)]\tLoss: 0.002819\tAccuracy: 100.000000\tTime 0.326 (0.304)\tData 0.002 (0.025)\n",
      "Train Epoch: 28\t[640/5124 (12%)]\tLoss: 0.000493\tAccuracy: 100.000000\tTime 0.332 (0.316)\tData 0.002 (0.026)\n",
      "Train Epoch: 28\t[960/5124 (19%)]\tLoss: 0.001655\tAccuracy: 100.000000\tTime 0.326 (0.319)\tData 0.002 (0.027)\n",
      "Train Epoch: 28\t[1280/5124 (25%)]\tLoss: 0.000437\tAccuracy: 100.000000\tTime 0.333 (0.321)\tData 0.002 (0.027)\n",
      "Train Epoch: 28\t[1600/5124 (31%)]\tLoss: 0.001027\tAccuracy: 100.000000\tTime 0.326 (0.322)\tData 0.002 (0.027)\n",
      "Train Epoch: 28\t[1920/5124 (37%)]\tLoss: 0.002120\tAccuracy: 100.000000\tTime 0.331 (0.323)\tData 0.002 (0.027)\n",
      "Train Epoch: 28\t[2240/5124 (43%)]\tLoss: 0.000068\tAccuracy: 100.000000\tTime 0.326 (0.324)\tData 0.002 (0.027)\n",
      "Train Epoch: 28\t[2560/5124 (50%)]\tLoss: 0.003112\tAccuracy: 100.000000\tTime 0.325 (0.324)\tData 0.002 (0.027)\n",
      "Train Epoch: 28\t[2880/5124 (56%)]\tLoss: 0.005016\tAccuracy: 100.000000\tTime 0.325 (0.324)\tData 0.002 (0.027)\n",
      "Train Epoch: 28\t[3200/5124 (62%)]\tLoss: 0.000247\tAccuracy: 100.000000\tTime 0.325 (0.325)\tData 0.002 (0.027)\n",
      "Train Epoch: 28\t[3520/5124 (68%)]\tLoss: 0.001142\tAccuracy: 100.000000\tTime 0.325 (0.325)\tData 0.002 (0.027)\n",
      "Train Epoch: 28\t[3840/5124 (75%)]\tLoss: 0.000432\tAccuracy: 100.000000\tTime 0.325 (0.325)\tData 0.002 (0.027)\n",
      "Train Epoch: 28\t[4160/5124 (81%)]\tLoss: 0.000435\tAccuracy: 100.000000\tTime 0.326 (0.325)\tData 0.002 (0.027)\n",
      "Train Epoch: 28\t[4480/5124 (87%)]\tLoss: 0.001588\tAccuracy: 100.000000\tTime 0.326 (0.325)\tData 0.002 (0.027)\n",
      "Train Epoch: 28\t[4800/5124 (93%)]\tLoss: 0.000338\tAccuracy: 100.000000\tTime 0.326 (0.325)\tData 0.002 (0.027)\n",
      "Train Epoch: 28\t[640/5124 (99%)]\tLoss: 0.000028\tAccuracy: 100.000000\tTime 0.292 (0.325)\tData 0.001 (0.027)\n",
      "\n",
      "Val set: Average loss: 0.035245, Accuracy: 99.621212 \n",
      "\n",
      "Train Epoch: 29\t[0/5124 (0%)]\tLoss: 0.000061\tAccuracy: 100.000000\tTime 0.078 (0.078)\tData 0.003 (0.003)\n",
      "Train Epoch: 29\t[320/5124 (6%)]\tLoss: 0.000180\tAccuracy: 100.000000\tTime 0.324 (0.305)\tData 0.002 (0.025)\n",
      "Train Epoch: 29\t[640/5124 (12%)]\tLoss: 0.000440\tAccuracy: 100.000000\tTime 0.329 (0.315)\tData 0.002 (0.026)\n",
      "Train Epoch: 29\t[960/5124 (19%)]\tLoss: 0.000200\tAccuracy: 100.000000\tTime 0.324 (0.319)\tData 0.002 (0.027)\n",
      "Train Epoch: 29\t[1280/5124 (25%)]\tLoss: 0.001574\tAccuracy: 100.000000\tTime 0.329 (0.322)\tData 0.002 (0.027)\n",
      "Train Epoch: 29\t[1600/5124 (31%)]\tLoss: 0.001530\tAccuracy: 100.000000\tTime 0.330 (0.323)\tData 0.002 (0.027)\n",
      "Train Epoch: 29\t[1920/5124 (37%)]\tLoss: 0.000801\tAccuracy: 100.000000\tTime 0.329 (0.324)\tData 0.002 (0.027)\n",
      "Train Epoch: 29\t[2240/5124 (43%)]\tLoss: 0.001578\tAccuracy: 100.000000\tTime 0.329 (0.325)\tData 0.002 (0.027)\n",
      "Train Epoch: 29\t[2560/5124 (50%)]\tLoss: 0.000240\tAccuracy: 100.000000\tTime 0.330 (0.326)\tData 0.003 (0.027)\n",
      "Train Epoch: 29\t[2880/5124 (56%)]\tLoss: 0.001801\tAccuracy: 100.000000\tTime 0.330 (0.326)\tData 0.002 (0.027)\n",
      "Train Epoch: 29\t[3200/5124 (62%)]\tLoss: 0.000101\tAccuracy: 100.000000\tTime 0.329 (0.327)\tData 0.002 (0.027)\n",
      "Train Epoch: 29\t[3520/5124 (68%)]\tLoss: 0.001846\tAccuracy: 100.000000\tTime 0.324 (0.327)\tData 0.002 (0.027)\n",
      "Train Epoch: 29\t[3840/5124 (75%)]\tLoss: 0.000025\tAccuracy: 100.000000\tTime 0.329 (0.327)\tData 0.002 (0.027)\n",
      "Train Epoch: 29\t[4160/5124 (81%)]\tLoss: 0.000378\tAccuracy: 100.000000\tTime 0.331 (0.327)\tData 0.002 (0.027)\n",
      "Train Epoch: 29\t[4480/5124 (87%)]\tLoss: 0.000050\tAccuracy: 100.000000\tTime 0.329 (0.327)\tData 0.002 (0.027)\n",
      "Train Epoch: 29\t[4800/5124 (93%)]\tLoss: 0.000049\tAccuracy: 100.000000\tTime 0.329 (0.328)\tData 0.002 (0.027)\n",
      "Train Epoch: 29\t[640/5124 (99%)]\tLoss: 0.000000\tAccuracy: 100.000000\tTime 0.290 (0.327)\tData 0.001 (0.027)\n",
      "\n",
      "Val set: Average loss: 0.032777, Accuracy: 99.715909 \n",
      "\n",
      "Train Epoch: 30\t[0/5124 (0%)]\tLoss: 0.030455\tAccuracy: 96.875000\tTime 0.078 (0.078)\tData 0.003 (0.003)\n",
      "Train Epoch: 30\t[320/5124 (6%)]\tLoss: 0.000157\tAccuracy: 100.000000\tTime 0.329 (0.307)\tData 0.002 (0.025)\n",
      "Train Epoch: 30\t[640/5124 (12%)]\tLoss: 0.000048\tAccuracy: 100.000000\tTime 0.329 (0.318)\tData 0.002 (0.026)\n",
      "Train Epoch: 30\t[960/5124 (19%)]\tLoss: 0.000235\tAccuracy: 100.000000\tTime 0.331 (0.322)\tData 0.002 (0.026)\n",
      "Train Epoch: 30\t[1280/5124 (25%)]\tLoss: 0.000214\tAccuracy: 100.000000\tTime 0.331 (0.324)\tData 0.002 (0.027)\n",
      "Train Epoch: 30\t[1600/5124 (31%)]\tLoss: 0.000207\tAccuracy: 100.000000\tTime 0.329 (0.325)\tData 0.002 (0.027)\n",
      "Train Epoch: 30\t[1920/5124 (37%)]\tLoss: 0.000447\tAccuracy: 100.000000\tTime 0.332 (0.326)\tData 0.002 (0.027)\n",
      "Train Epoch: 30\t[2240/5124 (43%)]\tLoss: 0.001047\tAccuracy: 100.000000\tTime 0.331 (0.327)\tData 0.002 (0.027)\n",
      "Train Epoch: 30\t[2560/5124 (50%)]\tLoss: 0.000541\tAccuracy: 100.000000\tTime 0.331 (0.327)\tData 0.002 (0.027)\n",
      "Train Epoch: 30\t[2880/5124 (56%)]\tLoss: 0.000253\tAccuracy: 100.000000\tTime 0.324 (0.327)\tData 0.002 (0.027)\n",
      "Train Epoch: 30\t[3200/5124 (62%)]\tLoss: 0.001320\tAccuracy: 100.000000\tTime 0.329 (0.328)\tData 0.002 (0.027)\n",
      "Train Epoch: 30\t[3520/5124 (68%)]\tLoss: 0.000048\tAccuracy: 100.000000\tTime 0.331 (0.328)\tData 0.002 (0.027)\n",
      "Train Epoch: 30\t[3840/5124 (75%)]\tLoss: 0.000043\tAccuracy: 100.000000\tTime 0.331 (0.328)\tData 0.002 (0.027)\n",
      "Train Epoch: 30\t[4160/5124 (81%)]\tLoss: 0.000072\tAccuracy: 100.000000\tTime 0.331 (0.328)\tData 0.002 (0.027)\n",
      "Train Epoch: 30\t[4480/5124 (87%)]\tLoss: 0.001442\tAccuracy: 100.000000\tTime 0.325 (0.328)\tData 0.002 (0.027)\n",
      "Train Epoch: 30\t[4800/5124 (93%)]\tLoss: 0.002271\tAccuracy: 100.000000\tTime 0.329 (0.328)\tData 0.002 (0.027)\n",
      "Train Epoch: 30\t[640/5124 (99%)]\tLoss: 0.010500\tAccuracy: 100.000000\tTime 0.292 (0.328)\tData 0.001 (0.027)\n",
      "\n",
      "Val set: Average loss: 0.030798, Accuracy: 99.905303 \n",
      "\n",
      "-------------------- HIGHEST ACCURACY ---------------------------\n",
      "Train Epoch: 31\t[0/5124 (0%)]\tLoss: 0.002218\tAccuracy: 100.000000\tTime 0.073 (0.073)\tData 0.002 (0.002)\n",
      "Train Epoch: 31\t[320/5124 (6%)]\tLoss: 0.000583\tAccuracy: 100.000000\tTime 0.329 (0.306)\tData 0.002 (0.025)\n",
      "Train Epoch: 31\t[640/5124 (12%)]\tLoss: 0.003464\tAccuracy: 100.000000\tTime 0.331 (0.318)\tData 0.002 (0.026)\n",
      "Train Epoch: 31\t[960/5124 (19%)]\tLoss: 0.001271\tAccuracy: 100.000000\tTime 0.325 (0.322)\tData 0.002 (0.027)\n",
      "Train Epoch: 31\t[1280/5124 (25%)]\tLoss: 0.000371\tAccuracy: 100.000000\tTime 0.331 (0.324)\tData 0.002 (0.027)\n",
      "Train Epoch: 31\t[1600/5124 (31%)]\tLoss: 0.000723\tAccuracy: 100.000000\tTime 0.329 (0.326)\tData 0.002 (0.027)\n"
     ]
    },
    {
     "name": "stdout",
     "output_type": "stream",
     "text": [
      "Train Epoch: 31\t[1920/5124 (37%)]\tLoss: 0.000175\tAccuracy: 100.000000\tTime 0.331 (0.327)\tData 0.002 (0.027)\n",
      "Train Epoch: 31\t[2240/5124 (43%)]\tLoss: 0.000001\tAccuracy: 100.000000\tTime 0.332 (0.327)\tData 0.002 (0.027)\n",
      "Train Epoch: 31\t[2560/5124 (50%)]\tLoss: 0.001018\tAccuracy: 100.000000\tTime 0.332 (0.328)\tData 0.002 (0.027)\n",
      "Train Epoch: 31\t[2880/5124 (56%)]\tLoss: 0.000017\tAccuracy: 100.000000\tTime 0.329 (0.328)\tData 0.002 (0.027)\n",
      "Train Epoch: 31\t[3200/5124 (62%)]\tLoss: 0.000651\tAccuracy: 100.000000\tTime 0.332 (0.328)\tData 0.002 (0.027)\n",
      "Train Epoch: 31\t[3520/5124 (68%)]\tLoss: 0.000802\tAccuracy: 100.000000\tTime 0.325 (0.329)\tData 0.002 (0.027)\n",
      "Train Epoch: 31\t[3840/5124 (75%)]\tLoss: 0.000369\tAccuracy: 100.000000\tTime 0.326 (0.329)\tData 0.002 (0.027)\n",
      "Train Epoch: 31\t[4160/5124 (81%)]\tLoss: 0.000079\tAccuracy: 100.000000\tTime 0.325 (0.328)\tData 0.002 (0.027)\n",
      "Train Epoch: 31\t[4480/5124 (87%)]\tLoss: 0.000004\tAccuracy: 100.000000\tTime 0.326 (0.329)\tData 0.002 (0.027)\n",
      "Train Epoch: 31\t[4800/5124 (93%)]\tLoss: 0.001147\tAccuracy: 100.000000\tTime 0.330 (0.329)\tData 0.004 (0.027)\n",
      "Train Epoch: 31\t[640/5124 (99%)]\tLoss: 0.001108\tAccuracy: 100.000000\tTime 0.290 (0.328)\tData 0.002 (0.027)\n",
      "\n",
      "Val set: Average loss: 0.036131, Accuracy: 99.621212 \n",
      "\n",
      "Train Epoch: 32\t[0/5124 (0%)]\tLoss: 0.000259\tAccuracy: 100.000000\tTime 0.080 (0.080)\tData 0.003 (0.003)\n",
      "Train Epoch: 32\t[320/5124 (6%)]\tLoss: 0.000602\tAccuracy: 100.000000\tTime 0.333 (0.306)\tData 0.002 (0.025)\n",
      "Train Epoch: 32\t[640/5124 (12%)]\tLoss: 0.000267\tAccuracy: 100.000000\tTime 0.326 (0.316)\tData 0.002 (0.027)\n",
      "Train Epoch: 32\t[960/5124 (19%)]\tLoss: 0.000309\tAccuracy: 100.000000\tTime 0.327 (0.320)\tData 0.002 (0.027)\n",
      "Train Epoch: 32\t[1280/5124 (25%)]\tLoss: 0.000043\tAccuracy: 100.000000\tTime 0.331 (0.322)\tData 0.002 (0.027)\n",
      "Train Epoch: 32\t[1600/5124 (31%)]\tLoss: 0.000000\tAccuracy: 100.000000\tTime 0.330 (0.324)\tData 0.002 (0.027)\n",
      "Train Epoch: 32\t[1920/5124 (37%)]\tLoss: 0.000059\tAccuracy: 100.000000\tTime 0.332 (0.325)\tData 0.002 (0.027)\n",
      "Train Epoch: 32\t[2240/5124 (43%)]\tLoss: 0.000159\tAccuracy: 100.000000\tTime 0.331 (0.326)\tData 0.002 (0.027)\n",
      "Train Epoch: 32\t[2560/5124 (50%)]\tLoss: 0.000076\tAccuracy: 100.000000\tTime 0.331 (0.327)\tData 0.002 (0.027)\n",
      "Train Epoch: 32\t[2880/5124 (56%)]\tLoss: 0.000139\tAccuracy: 100.000000\tTime 0.331 (0.327)\tData 0.002 (0.027)\n",
      "Train Epoch: 32\t[3200/5124 (62%)]\tLoss: 0.000636\tAccuracy: 100.000000\tTime 0.335 (0.328)\tData 0.002 (0.027)\n",
      "Train Epoch: 32\t[3520/5124 (68%)]\tLoss: 0.000171\tAccuracy: 100.000000\tTime 0.330 (0.328)\tData 0.004 (0.027)\n",
      "Train Epoch: 32\t[3840/5124 (75%)]\tLoss: 0.000000\tAccuracy: 100.000000\tTime 0.331 (0.328)\tData 0.002 (0.027)\n",
      "Train Epoch: 32\t[4160/5124 (81%)]\tLoss: 0.000044\tAccuracy: 100.000000\tTime 0.327 (0.329)\tData 0.002 (0.027)\n",
      "Train Epoch: 32\t[4480/5124 (87%)]\tLoss: 0.000149\tAccuracy: 100.000000\tTime 0.332 (0.329)\tData 0.002 (0.027)\n",
      "Train Epoch: 32\t[4800/5124 (93%)]\tLoss: 0.000909\tAccuracy: 100.000000\tTime 0.335 (0.329)\tData 0.002 (0.027)\n",
      "Train Epoch: 32\t[640/5124 (99%)]\tLoss: 0.000000\tAccuracy: 100.000000\tTime 0.291 (0.329)\tData 0.001 (0.027)\n",
      "\n",
      "Val set: Average loss: 0.030818, Accuracy: 99.810606 \n",
      "\n",
      "Train Epoch: 33\t[0/5124 (0%)]\tLoss: 0.000469\tAccuracy: 100.000000\tTime 0.079 (0.079)\tData 0.003 (0.003)\n",
      "Train Epoch: 33\t[320/5124 (6%)]\tLoss: 0.000036\tAccuracy: 100.000000\tTime 0.325 (0.309)\tData 0.002 (0.025)\n",
      "Train Epoch: 33\t[640/5124 (12%)]\tLoss: 0.000535\tAccuracy: 100.000000\tTime 0.333 (0.320)\tData 0.002 (0.026)\n",
      "Train Epoch: 33\t[960/5124 (19%)]\tLoss: 0.000206\tAccuracy: 100.000000\tTime 0.332 (0.324)\tData 0.002 (0.027)\n",
      "Train Epoch: 33\t[1280/5124 (25%)]\tLoss: 0.000430\tAccuracy: 100.000000\tTime 0.331 (0.326)\tData 0.002 (0.027)\n",
      "Train Epoch: 33\t[1600/5124 (31%)]\tLoss: 0.000243\tAccuracy: 100.000000\tTime 0.332 (0.327)\tData 0.002 (0.027)\n",
      "Train Epoch: 33\t[1920/5124 (37%)]\tLoss: 0.013087\tAccuracy: 96.875000\tTime 0.332 (0.328)\tData 0.002 (0.027)\n",
      "Train Epoch: 33\t[2240/5124 (43%)]\tLoss: 0.000463\tAccuracy: 100.000000\tTime 0.332 (0.328)\tData 0.002 (0.027)\n",
      "Train Epoch: 33\t[2560/5124 (50%)]\tLoss: 0.000665\tAccuracy: 100.000000\tTime 0.331 (0.329)\tData 0.002 (0.027)\n",
      "Train Epoch: 33\t[2880/5124 (56%)]\tLoss: 0.005532\tAccuracy: 100.000000\tTime 0.332 (0.329)\tData 0.002 (0.027)\n",
      "Train Epoch: 33\t[3200/5124 (62%)]\tLoss: 0.000728\tAccuracy: 100.000000\tTime 0.332 (0.329)\tData 0.002 (0.027)\n",
      "Train Epoch: 33\t[3520/5124 (68%)]\tLoss: 0.001653\tAccuracy: 100.000000\tTime 0.332 (0.329)\tData 0.002 (0.027)\n",
      "Train Epoch: 33\t[3840/5124 (75%)]\tLoss: 0.000643\tAccuracy: 100.000000\tTime 0.325 (0.329)\tData 0.002 (0.027)\n",
      "Train Epoch: 33\t[4160/5124 (81%)]\tLoss: 0.005918\tAccuracy: 100.000000\tTime 0.332 (0.330)\tData 0.002 (0.027)\n",
      "Train Epoch: 33\t[4480/5124 (87%)]\tLoss: 0.004939\tAccuracy: 100.000000\tTime 0.332 (0.329)\tData 0.002 (0.027)\n",
      "Train Epoch: 33\t[4800/5124 (93%)]\tLoss: 0.000219\tAccuracy: 100.000000\tTime 0.326 (0.329)\tData 0.002 (0.027)\n",
      "Train Epoch: 33\t[640/5124 (99%)]\tLoss: 0.157236\tAccuracy: 75.000000\tTime 0.286 (0.329)\tData 0.001 (0.027)\n",
      "\n",
      "Val set: Average loss: 0.065545, Accuracy: 98.390152 \n",
      "\n",
      "Train Epoch: 34\t[0/5124 (0%)]\tLoss: 0.003460\tAccuracy: 100.000000\tTime 0.080 (0.080)\tData 0.003 (0.003)\n",
      "Train Epoch: 34\t[320/5124 (6%)]\tLoss: 0.014233\tAccuracy: 100.000000\tTime 0.332 (0.308)\tData 0.002 (0.025)\n",
      "Train Epoch: 34\t[640/5124 (12%)]\tLoss: 0.037112\tAccuracy: 96.875000\tTime 0.325 (0.317)\tData 0.002 (0.026)\n",
      "Train Epoch: 34\t[960/5124 (19%)]\tLoss: 0.070657\tAccuracy: 93.750000\tTime 0.333 (0.322)\tData 0.002 (0.027)\n",
      "Train Epoch: 34\t[1280/5124 (25%)]\tLoss: 0.097907\tAccuracy: 93.750000\tTime 0.331 (0.324)\tData 0.002 (0.027)\n",
      "Train Epoch: 34\t[1600/5124 (31%)]\tLoss: 0.028265\tAccuracy: 96.875000\tTime 0.331 (0.325)\tData 0.002 (0.027)\n",
      "Train Epoch: 34\t[1920/5124 (37%)]\tLoss: 0.043099\tAccuracy: 93.750000\tTime 0.331 (0.326)\tData 0.002 (0.027)\n",
      "Train Epoch: 34\t[2240/5124 (43%)]\tLoss: 0.014045\tAccuracy: 96.875000\tTime 0.332 (0.327)\tData 0.002 (0.027)\n",
      "Train Epoch: 34\t[2560/5124 (50%)]\tLoss: 0.066961\tAccuracy: 96.875000\tTime 0.332 (0.327)\tData 0.002 (0.027)\n",
      "Train Epoch: 34\t[2880/5124 (56%)]\tLoss: 0.009918\tAccuracy: 100.000000\tTime 0.334 (0.327)\tData 0.002 (0.027)\n",
      "Train Epoch: 34\t[3200/5124 (62%)]\tLoss: 0.134462\tAccuracy: 93.750000\tTime 0.332 (0.328)\tData 0.002 (0.027)\n",
      "Train Epoch: 34\t[3520/5124 (68%)]\tLoss: 0.084932\tAccuracy: 96.875000\tTime 0.332 (0.328)\tData 0.002 (0.027)\n",
      "Train Epoch: 34\t[3840/5124 (75%)]\tLoss: 0.011244\tAccuracy: 100.000000\tTime 0.332 (0.328)\tData 0.002 (0.027)\n",
      "Train Epoch: 34\t[4160/5124 (81%)]\tLoss: 0.077014\tAccuracy: 96.875000\tTime 0.332 (0.328)\tData 0.002 (0.027)\n",
      "Train Epoch: 34\t[4480/5124 (87%)]\tLoss: 0.003734\tAccuracy: 100.000000\tTime 0.332 (0.328)\tData 0.002 (0.027)\n",
      "Train Epoch: 34\t[4800/5124 (93%)]\tLoss: 0.004367\tAccuracy: 100.000000\tTime 0.332 (0.329)\tData 0.002 (0.027)\n",
      "Train Epoch: 34\t[640/5124 (99%)]\tLoss: 0.037138\tAccuracy: 100.000000\tTime 0.292 (0.329)\tData 0.001 (0.027)\n",
      "\n",
      "Val set: Average loss: 0.049978, Accuracy: 99.337121 \n",
      "\n",
      "Train Epoch: 35\t[0/5124 (0%)]\tLoss: 0.004223\tAccuracy: 100.000000\tTime 0.075 (0.075)\tData 0.003 (0.003)\n",
      "Train Epoch: 35\t[320/5124 (6%)]\tLoss: 0.003882\tAccuracy: 100.000000\tTime 0.332 (0.309)\tData 0.002 (0.025)\n",
      "Train Epoch: 35\t[640/5124 (12%)]\tLoss: 0.002214\tAccuracy: 100.000000\tTime 0.332 (0.320)\tData 0.002 (0.026)\n",
      "Train Epoch: 35\t[960/5124 (19%)]\tLoss: 0.003644\tAccuracy: 100.000000\tTime 0.330 (0.324)\tData 0.002 (0.026)\n",
      "Train Epoch: 35\t[1280/5124 (25%)]\tLoss: 0.005654\tAccuracy: 100.000000\tTime 0.326 (0.326)\tData 0.002 (0.027)\n",
      "Train Epoch: 35\t[1600/5124 (31%)]\tLoss: 0.003152\tAccuracy: 100.000000\tTime 0.324 (0.326)\tData 0.002 (0.027)\n",
      "Train Epoch: 35\t[1920/5124 (37%)]\tLoss: 0.006146\tAccuracy: 100.000000\tTime 0.331 (0.327)\tData 0.002 (0.027)\n",
      "Train Epoch: 35\t[2240/5124 (43%)]\tLoss: 0.010148\tAccuracy: 96.875000\tTime 0.331 (0.327)\tData 0.002 (0.027)\n",
      "Train Epoch: 35\t[2560/5124 (50%)]\tLoss: 0.006530\tAccuracy: 96.875000\tTime 0.329 (0.327)\tData 0.002 (0.027)\n",
      "Train Epoch: 35\t[2880/5124 (56%)]\tLoss: 0.076093\tAccuracy: 93.750000\tTime 0.323 (0.327)\tData 0.002 (0.027)\n",
      "Train Epoch: 35\t[3200/5124 (62%)]\tLoss: 0.002281\tAccuracy: 100.000000\tTime 0.328 (0.328)\tData 0.002 (0.027)\n",
      "Train Epoch: 35\t[3520/5124 (68%)]\tLoss: 0.003538\tAccuracy: 100.000000\tTime 0.334 (0.328)\tData 0.002 (0.027)\n",
      "Train Epoch: 35\t[3840/5124 (75%)]\tLoss: 0.005162\tAccuracy: 100.000000\tTime 0.328 (0.328)\tData 0.004 (0.027)\n"
     ]
    },
    {
     "name": "stdout",
     "output_type": "stream",
     "text": [
      "Train Epoch: 35\t[4160/5124 (81%)]\tLoss: 0.004576\tAccuracy: 100.000000\tTime 0.330 (0.328)\tData 0.002 (0.027)\n",
      "Train Epoch: 35\t[4480/5124 (87%)]\tLoss: 0.004114\tAccuracy: 100.000000\tTime 0.324 (0.328)\tData 0.002 (0.027)\n",
      "Train Epoch: 35\t[4800/5124 (93%)]\tLoss: 0.006536\tAccuracy: 100.000000\tTime 0.332 (0.328)\tData 0.002 (0.027)\n",
      "Train Epoch: 35\t[640/5124 (99%)]\tLoss: 0.116461\tAccuracy: 75.000000\tTime 0.288 (0.328)\tData 0.001 (0.027)\n",
      "\n",
      "Val set: Average loss: 0.032744, Accuracy: 99.242424 \n",
      "\n",
      "Train Epoch: 36\t[0/5124 (0%)]\tLoss: 0.005158\tAccuracy: 100.000000\tTime 0.075 (0.075)\tData 0.003 (0.003)\n",
      "Train Epoch: 36\t[320/5124 (6%)]\tLoss: 0.018680\tAccuracy: 96.875000\tTime 0.330 (0.307)\tData 0.002 (0.025)\n",
      "Train Epoch: 36\t[640/5124 (12%)]\tLoss: 0.005799\tAccuracy: 100.000000\tTime 0.324 (0.317)\tData 0.002 (0.026)\n",
      "Train Epoch: 36\t[960/5124 (19%)]\tLoss: 0.011694\tAccuracy: 100.000000\tTime 0.329 (0.321)\tData 0.002 (0.027)\n",
      "Train Epoch: 36\t[1280/5124 (25%)]\tLoss: 0.004272\tAccuracy: 100.000000\tTime 0.327 (0.322)\tData 0.002 (0.027)\n",
      "Train Epoch: 36\t[1600/5124 (31%)]\tLoss: 0.010818\tAccuracy: 100.000000\tTime 0.324 (0.323)\tData 0.002 (0.027)\n",
      "Train Epoch: 36\t[1920/5124 (37%)]\tLoss: 0.001813\tAccuracy: 100.000000\tTime 0.324 (0.324)\tData 0.002 (0.027)\n",
      "Train Epoch: 36\t[2240/5124 (43%)]\tLoss: 0.005819\tAccuracy: 100.000000\tTime 0.324 (0.324)\tData 0.002 (0.027)\n",
      "Train Epoch: 36\t[2560/5124 (50%)]\tLoss: 0.013255\tAccuracy: 100.000000\tTime 0.323 (0.324)\tData 0.002 (0.027)\n",
      "Train Epoch: 36\t[2880/5124 (56%)]\tLoss: 0.008472\tAccuracy: 100.000000\tTime 0.324 (0.325)\tData 0.002 (0.027)\n",
      "Train Epoch: 36\t[3200/5124 (62%)]\tLoss: 0.011679\tAccuracy: 100.000000\tTime 0.331 (0.325)\tData 0.002 (0.027)\n",
      "Train Epoch: 36\t[3520/5124 (68%)]\tLoss: 0.001252\tAccuracy: 100.000000\tTime 0.324 (0.325)\tData 0.002 (0.027)\n",
      "Train Epoch: 36\t[3840/5124 (75%)]\tLoss: 0.003636\tAccuracy: 100.000000\tTime 0.329 (0.325)\tData 0.002 (0.027)\n",
      "Train Epoch: 36\t[4160/5124 (81%)]\tLoss: 0.001022\tAccuracy: 100.000000\tTime 0.324 (0.325)\tData 0.002 (0.027)\n",
      "Train Epoch: 36\t[4480/5124 (87%)]\tLoss: 0.005753\tAccuracy: 100.000000\tTime 0.324 (0.326)\tData 0.002 (0.027)\n",
      "Train Epoch: 36\t[4800/5124 (93%)]\tLoss: 0.003522\tAccuracy: 100.000000\tTime 0.324 (0.326)\tData 0.002 (0.027)\n",
      "Train Epoch: 36\t[640/5124 (99%)]\tLoss: 0.000004\tAccuracy: 100.000000\tTime 0.285 (0.326)\tData 0.001 (0.027)\n",
      "\n",
      "Val set: Average loss: 0.034298, Accuracy: 99.147727 \n",
      "\n",
      "Train Epoch: 37\t[0/5124 (0%)]\tLoss: 0.007292\tAccuracy: 100.000000\tTime 0.078 (0.078)\tData 0.002 (0.002)\n",
      "Train Epoch: 37\t[320/5124 (6%)]\tLoss: 0.000511\tAccuracy: 100.000000\tTime 0.328 (0.305)\tData 0.002 (0.025)\n",
      "Train Epoch: 37\t[640/5124 (12%)]\tLoss: 0.024470\tAccuracy: 96.875000\tTime 0.324 (0.316)\tData 0.002 (0.026)\n",
      "Train Epoch: 37\t[960/5124 (19%)]\tLoss: 0.003915\tAccuracy: 100.000000\tTime 0.324 (0.320)\tData 0.002 (0.026)\n",
      "Train Epoch: 37\t[1280/5124 (25%)]\tLoss: 0.000523\tAccuracy: 100.000000\tTime 0.331 (0.322)\tData 0.002 (0.027)\n",
      "Train Epoch: 37\t[1600/5124 (31%)]\tLoss: 0.000328\tAccuracy: 100.000000\tTime 0.331 (0.323)\tData 0.002 (0.027)\n",
      "Train Epoch: 37\t[1920/5124 (37%)]\tLoss: 0.000592\tAccuracy: 100.000000\tTime 0.329 (0.324)\tData 0.002 (0.027)\n",
      "Train Epoch: 37\t[2240/5124 (43%)]\tLoss: 0.007529\tAccuracy: 96.875000\tTime 0.330 (0.325)\tData 0.002 (0.027)\n",
      "Train Epoch: 37\t[2560/5124 (50%)]\tLoss: 0.003934\tAccuracy: 100.000000\tTime 0.330 (0.325)\tData 0.002 (0.027)\n",
      "Train Epoch: 37\t[2880/5124 (56%)]\tLoss: 0.000972\tAccuracy: 100.000000\tTime 0.325 (0.325)\tData 0.002 (0.027)\n",
      "Train Epoch: 37\t[3200/5124 (62%)]\tLoss: 0.000622\tAccuracy: 100.000000\tTime 0.329 (0.326)\tData 0.002 (0.027)\n",
      "Train Epoch: 37\t[3520/5124 (68%)]\tLoss: 0.004420\tAccuracy: 100.000000\tTime 0.330 (0.326)\tData 0.002 (0.027)\n",
      "Train Epoch: 37\t[3840/5124 (75%)]\tLoss: 0.000597\tAccuracy: 100.000000\tTime 0.324 (0.326)\tData 0.002 (0.027)\n",
      "Train Epoch: 37\t[4160/5124 (81%)]\tLoss: 0.001769\tAccuracy: 100.000000\tTime 0.332 (0.327)\tData 0.002 (0.027)\n",
      "Train Epoch: 37\t[4480/5124 (87%)]\tLoss: 0.005212\tAccuracy: 100.000000\tTime 0.322 (0.327)\tData 0.003 (0.027)\n",
      "Train Epoch: 37\t[4800/5124 (93%)]\tLoss: 0.000312\tAccuracy: 100.000000\tTime 0.329 (0.327)\tData 0.002 (0.027)\n",
      "Train Epoch: 37\t[640/5124 (99%)]\tLoss: 0.000000\tAccuracy: 100.000000\tTime 0.286 (0.327)\tData 0.001 (0.027)\n",
      "\n",
      "Val set: Average loss: 0.022877, Accuracy: 99.715909 \n",
      "\n",
      "Train Epoch: 38\t[0/5124 (0%)]\tLoss: 0.000896\tAccuracy: 100.000000\tTime 0.078 (0.078)\tData 0.003 (0.003)\n",
      "Train Epoch: 38\t[320/5124 (6%)]\tLoss: 0.001564\tAccuracy: 100.000000\tTime 0.329 (0.306)\tData 0.004 (0.025)\n",
      "Train Epoch: 38\t[640/5124 (12%)]\tLoss: 0.000005\tAccuracy: 100.000000\tTime 0.324 (0.317)\tData 0.002 (0.026)\n",
      "Train Epoch: 38\t[960/5124 (19%)]\tLoss: 0.000934\tAccuracy: 100.000000\tTime 0.331 (0.321)\tData 0.002 (0.027)\n",
      "Train Epoch: 38\t[1280/5124 (25%)]\tLoss: 0.000821\tAccuracy: 100.000000\tTime 0.333 (0.323)\tData 0.002 (0.027)\n",
      "Train Epoch: 38\t[1600/5124 (31%)]\tLoss: 0.000634\tAccuracy: 100.000000\tTime 0.324 (0.324)\tData 0.002 (0.027)\n",
      "Train Epoch: 38\t[1920/5124 (37%)]\tLoss: 0.000447\tAccuracy: 100.000000\tTime 0.324 (0.325)\tData 0.002 (0.027)\n",
      "Train Epoch: 38\t[2240/5124 (43%)]\tLoss: 0.002045\tAccuracy: 100.000000\tTime 0.322 (0.325)\tData 0.004 (0.027)\n",
      "Train Epoch: 38\t[2560/5124 (50%)]\tLoss: 0.000147\tAccuracy: 100.000000\tTime 0.330 (0.325)\tData 0.002 (0.027)\n",
      "Train Epoch: 38\t[2880/5124 (56%)]\tLoss: 0.000552\tAccuracy: 100.000000\tTime 0.332 (0.326)\tData 0.002 (0.027)\n",
      "Train Epoch: 38\t[3200/5124 (62%)]\tLoss: 0.000287\tAccuracy: 100.000000\tTime 0.330 (0.326)\tData 0.003 (0.027)\n",
      "Train Epoch: 38\t[3520/5124 (68%)]\tLoss: 0.000422\tAccuracy: 100.000000\tTime 0.326 (0.327)\tData 0.002 (0.027)\n",
      "Train Epoch: 38\t[3840/5124 (75%)]\tLoss: 0.000192\tAccuracy: 100.000000\tTime 0.325 (0.327)\tData 0.002 (0.027)\n",
      "Train Epoch: 38\t[4160/5124 (81%)]\tLoss: 0.000797\tAccuracy: 100.000000\tTime 0.329 (0.327)\tData 0.002 (0.027)\n",
      "Train Epoch: 38\t[4480/5124 (87%)]\tLoss: 0.000148\tAccuracy: 100.000000\tTime 0.333 (0.327)\tData 0.002 (0.027)\n",
      "Train Epoch: 38\t[4800/5124 (93%)]\tLoss: 0.000634\tAccuracy: 100.000000\tTime 0.332 (0.327)\tData 0.002 (0.027)\n",
      "Train Epoch: 38\t[640/5124 (99%)]\tLoss: 0.001258\tAccuracy: 100.000000\tTime 0.286 (0.327)\tData 0.001 (0.027)\n",
      "\n",
      "Val set: Average loss: 0.022944, Accuracy: 99.526515 \n",
      "\n",
      "Train Epoch: 39\t[0/5124 (0%)]\tLoss: 0.000260\tAccuracy: 100.000000\tTime 0.077 (0.077)\tData 0.003 (0.003)\n",
      "Train Epoch: 39\t[320/5124 (6%)]\tLoss: 0.000616\tAccuracy: 100.000000\tTime 0.329 (0.307)\tData 0.003 (0.025)\n",
      "Train Epoch: 39\t[640/5124 (12%)]\tLoss: 0.000719\tAccuracy: 100.000000\tTime 0.324 (0.317)\tData 0.002 (0.026)\n",
      "Train Epoch: 39\t[960/5124 (19%)]\tLoss: 0.002434\tAccuracy: 100.000000\tTime 0.324 (0.320)\tData 0.002 (0.027)\n",
      "Train Epoch: 39\t[1280/5124 (25%)]\tLoss: 0.000577\tAccuracy: 100.000000\tTime 0.329 (0.322)\tData 0.002 (0.027)\n",
      "Train Epoch: 39\t[1600/5124 (31%)]\tLoss: 0.000036\tAccuracy: 100.000000\tTime 0.324 (0.323)\tData 0.002 (0.027)\n",
      "Train Epoch: 39\t[1920/5124 (37%)]\tLoss: 0.002611\tAccuracy: 100.000000\tTime 0.331 (0.324)\tData 0.002 (0.027)\n",
      "Train Epoch: 39\t[2240/5124 (43%)]\tLoss: 0.000388\tAccuracy: 100.000000\tTime 0.331 (0.324)\tData 0.002 (0.027)\n",
      "Train Epoch: 39\t[2560/5124 (50%)]\tLoss: 0.000355\tAccuracy: 100.000000\tTime 0.324 (0.325)\tData 0.003 (0.027)\n",
      "Train Epoch: 39\t[2880/5124 (56%)]\tLoss: 0.000213\tAccuracy: 100.000000\tTime 0.332 (0.325)\tData 0.002 (0.027)\n",
      "Train Epoch: 39\t[3200/5124 (62%)]\tLoss: 0.000091\tAccuracy: 100.000000\tTime 0.328 (0.326)\tData 0.002 (0.027)\n",
      "Train Epoch: 39\t[3520/5124 (68%)]\tLoss: 0.000112\tAccuracy: 100.000000\tTime 0.330 (0.326)\tData 0.003 (0.027)\n",
      "Train Epoch: 39\t[3840/5124 (75%)]\tLoss: 0.000400\tAccuracy: 100.000000\tTime 0.331 (0.326)\tData 0.002 (0.027)\n",
      "Train Epoch: 39\t[4160/5124 (81%)]\tLoss: 0.000686\tAccuracy: 100.000000\tTime 0.323 (0.326)\tData 0.002 (0.027)\n",
      "Train Epoch: 39\t[4480/5124 (87%)]\tLoss: 0.000081\tAccuracy: 100.000000\tTime 0.331 (0.327)\tData 0.004 (0.027)\n",
      "Train Epoch: 39\t[4800/5124 (93%)]\tLoss: 0.000550\tAccuracy: 100.000000\tTime 0.329 (0.327)\tData 0.002 (0.027)\n",
      "Train Epoch: 39\t[640/5124 (99%)]\tLoss: 0.008121\tAccuracy: 100.000000\tTime 0.291 (0.327)\tData 0.001 (0.027)\n",
      "\n",
      "Val set: Average loss: 0.019925, Accuracy: 99.715909 \n",
      "\n",
      "Train Epoch: 40\t[0/5124 (0%)]\tLoss: 0.000859\tAccuracy: 100.000000\tTime 0.079 (0.079)\tData 0.003 (0.003)\n",
      "Train Epoch: 40\t[320/5124 (6%)]\tLoss: 0.000080\tAccuracy: 100.000000\tTime 0.329 (0.306)\tData 0.002 (0.025)\n"
     ]
    },
    {
     "name": "stdout",
     "output_type": "stream",
     "text": [
      "Train Epoch: 40\t[640/5124 (12%)]\tLoss: 0.000170\tAccuracy: 100.000000\tTime 0.327 (0.317)\tData 0.002 (0.026)\n",
      "Train Epoch: 40\t[960/5124 (19%)]\tLoss: 0.002605\tAccuracy: 100.000000\tTime 0.331 (0.321)\tData 0.002 (0.027)\n",
      "Train Epoch: 40\t[1280/5124 (25%)]\tLoss: 0.000702\tAccuracy: 100.000000\tTime 0.328 (0.323)\tData 0.004 (0.027)\n",
      "Train Epoch: 40\t[1600/5124 (31%)]\tLoss: 0.000347\tAccuracy: 100.000000\tTime 0.331 (0.324)\tData 0.002 (0.027)\n",
      "Train Epoch: 40\t[1920/5124 (37%)]\tLoss: 0.000182\tAccuracy: 100.000000\tTime 0.330 (0.325)\tData 0.002 (0.027)\n",
      "Train Epoch: 40\t[2240/5124 (43%)]\tLoss: 0.000111\tAccuracy: 100.000000\tTime 0.331 (0.326)\tData 0.003 (0.027)\n",
      "Train Epoch: 40\t[2560/5124 (50%)]\tLoss: 0.000040\tAccuracy: 100.000000\tTime 0.331 (0.326)\tData 0.002 (0.027)\n",
      "Train Epoch: 40\t[2880/5124 (56%)]\tLoss: 0.000058\tAccuracy: 100.000000\tTime 0.332 (0.327)\tData 0.002 (0.027)\n",
      "Train Epoch: 40\t[3200/5124 (62%)]\tLoss: 0.002506\tAccuracy: 100.000000\tTime 0.329 (0.327)\tData 0.002 (0.027)\n",
      "Train Epoch: 40\t[3520/5124 (68%)]\tLoss: 0.000182\tAccuracy: 100.000000\tTime 0.332 (0.327)\tData 0.002 (0.027)\n",
      "Train Epoch: 40\t[3840/5124 (75%)]\tLoss: 0.000184\tAccuracy: 100.000000\tTime 0.326 (0.328)\tData 0.002 (0.027)\n",
      "Train Epoch: 40\t[4160/5124 (81%)]\tLoss: 0.000650\tAccuracy: 100.000000\tTime 0.332 (0.328)\tData 0.002 (0.027)\n",
      "Train Epoch: 40\t[4480/5124 (87%)]\tLoss: 0.000269\tAccuracy: 100.000000\tTime 0.330 (0.328)\tData 0.002 (0.027)\n",
      "Train Epoch: 40\t[4800/5124 (93%)]\tLoss: 0.000160\tAccuracy: 100.000000\tTime 0.325 (0.328)\tData 0.002 (0.027)\n",
      "Train Epoch: 40\t[640/5124 (99%)]\tLoss: 0.004630\tAccuracy: 100.000000\tTime 0.295 (0.328)\tData 0.001 (0.027)\n",
      "\n",
      "Val set: Average loss: 0.019458, Accuracy: 99.715909 \n",
      "\n",
      "Train Epoch: 41\t[0/5124 (0%)]\tLoss: 0.000274\tAccuracy: 100.000000\tTime 0.078 (0.078)\tData 0.002 (0.002)\n",
      "Train Epoch: 41\t[320/5124 (6%)]\tLoss: 0.001699\tAccuracy: 100.000000\tTime 0.332 (0.308)\tData 0.002 (0.025)\n",
      "Train Epoch: 41\t[640/5124 (12%)]\tLoss: 0.000284\tAccuracy: 100.000000\tTime 0.333 (0.318)\tData 0.002 (0.026)\n",
      "Train Epoch: 41\t[960/5124 (19%)]\tLoss: 0.000638\tAccuracy: 100.000000\tTime 0.324 (0.322)\tData 0.002 (0.026)\n",
      "Train Epoch: 41\t[1280/5124 (25%)]\tLoss: 0.001044\tAccuracy: 100.000000\tTime 0.331 (0.324)\tData 0.002 (0.027)\n",
      "Train Epoch: 41\t[1600/5124 (31%)]\tLoss: 0.000177\tAccuracy: 100.000000\tTime 0.331 (0.325)\tData 0.002 (0.027)\n",
      "Train Epoch: 41\t[1920/5124 (37%)]\tLoss: 0.000155\tAccuracy: 100.000000\tTime 0.328 (0.326)\tData 0.002 (0.027)\n",
      "Train Epoch: 41\t[2240/5124 (43%)]\tLoss: 0.001311\tAccuracy: 100.000000\tTime 0.328 (0.326)\tData 0.004 (0.027)\n",
      "Train Epoch: 41\t[2560/5124 (50%)]\tLoss: 0.000084\tAccuracy: 100.000000\tTime 0.330 (0.327)\tData 0.002 (0.027)\n",
      "Train Epoch: 41\t[2880/5124 (56%)]\tLoss: 0.000170\tAccuracy: 100.000000\tTime 0.323 (0.327)\tData 0.002 (0.027)\n",
      "Train Epoch: 41\t[3200/5124 (62%)]\tLoss: 0.000475\tAccuracy: 100.000000\tTime 0.327 (0.328)\tData 0.004 (0.027)\n",
      "Train Epoch: 41\t[3520/5124 (68%)]\tLoss: 0.002111\tAccuracy: 100.000000\tTime 0.330 (0.328)\tData 0.002 (0.027)\n",
      "Train Epoch: 41\t[3840/5124 (75%)]\tLoss: 0.000119\tAccuracy: 100.000000\tTime 0.331 (0.328)\tData 0.002 (0.027)\n",
      "Train Epoch: 41\t[4160/5124 (81%)]\tLoss: 0.002971\tAccuracy: 100.000000\tTime 0.329 (0.328)\tData 0.002 (0.027)\n",
      "Train Epoch: 41\t[4480/5124 (87%)]\tLoss: 0.000387\tAccuracy: 100.000000\tTime 0.330 (0.329)\tData 0.002 (0.027)\n",
      "Train Epoch: 41\t[4800/5124 (93%)]\tLoss: 0.000094\tAccuracy: 100.000000\tTime 0.332 (0.329)\tData 0.002 (0.027)\n",
      "Train Epoch: 41\t[640/5124 (99%)]\tLoss: 0.001063\tAccuracy: 100.000000\tTime 0.295 (0.328)\tData 0.001 (0.027)\n",
      "\n",
      "Val set: Average loss: 0.018323, Accuracy: 99.715909 \n",
      "\n",
      "Train Epoch: 42\t[0/5124 (0%)]\tLoss: 0.000251\tAccuracy: 100.000000\tTime 0.078 (0.078)\tData 0.003 (0.003)\n",
      "Train Epoch: 42\t[320/5124 (6%)]\tLoss: 0.000175\tAccuracy: 100.000000\tTime 0.330 (0.306)\tData 0.002 (0.025)\n",
      "Train Epoch: 42\t[640/5124 (12%)]\tLoss: 0.000516\tAccuracy: 100.000000\tTime 0.331 (0.316)\tData 0.002 (0.026)\n",
      "Train Epoch: 42\t[960/5124 (19%)]\tLoss: 0.000696\tAccuracy: 100.000000\tTime 0.329 (0.320)\tData 0.002 (0.027)\n",
      "Train Epoch: 42\t[1280/5124 (25%)]\tLoss: 0.000311\tAccuracy: 100.000000\tTime 0.322 (0.321)\tData 0.004 (0.027)\n",
      "Train Epoch: 42\t[1600/5124 (31%)]\tLoss: 0.000158\tAccuracy: 100.000000\tTime 0.331 (0.323)\tData 0.002 (0.027)\n",
      "Train Epoch: 42\t[1920/5124 (37%)]\tLoss: 0.000501\tAccuracy: 100.000000\tTime 0.324 (0.323)\tData 0.002 (0.027)\n",
      "Train Epoch: 42\t[2240/5124 (43%)]\tLoss: 0.000223\tAccuracy: 100.000000\tTime 0.324 (0.324)\tData 0.002 (0.027)\n",
      "Train Epoch: 42\t[2560/5124 (50%)]\tLoss: 0.000087\tAccuracy: 100.000000\tTime 0.329 (0.325)\tData 0.004 (0.027)\n",
      "Train Epoch: 42\t[2880/5124 (56%)]\tLoss: 0.001241\tAccuracy: 100.000000\tTime 0.324 (0.325)\tData 0.002 (0.027)\n",
      "Train Epoch: 42\t[3200/5124 (62%)]\tLoss: 0.000053\tAccuracy: 100.000000\tTime 0.324 (0.326)\tData 0.002 (0.027)\n",
      "Train Epoch: 42\t[3520/5124 (68%)]\tLoss: 0.000057\tAccuracy: 100.000000\tTime 0.331 (0.326)\tData 0.002 (0.027)\n",
      "Train Epoch: 42\t[3840/5124 (75%)]\tLoss: 0.000242\tAccuracy: 100.000000\tTime 0.329 (0.326)\tData 0.002 (0.027)\n",
      "Train Epoch: 42\t[4160/5124 (81%)]\tLoss: 0.000700\tAccuracy: 100.000000\tTime 0.324 (0.326)\tData 0.002 (0.027)\n",
      "Train Epoch: 42\t[4480/5124 (87%)]\tLoss: 0.000095\tAccuracy: 100.000000\tTime 0.329 (0.326)\tData 0.002 (0.027)\n",
      "Train Epoch: 42\t[4800/5124 (93%)]\tLoss: 0.000164\tAccuracy: 100.000000\tTime 0.332 (0.326)\tData 0.002 (0.027)\n",
      "Train Epoch: 42\t[640/5124 (99%)]\tLoss: 0.000141\tAccuracy: 100.000000\tTime 0.286 (0.326)\tData 0.001 (0.027)\n",
      "\n",
      "Val set: Average loss: 0.018106, Accuracy: 99.715909 \n",
      "\n",
      "Train Epoch: 43\t[0/5124 (0%)]\tLoss: 0.000122\tAccuracy: 100.000000\tTime 0.072 (0.072)\tData 0.002 (0.002)\n",
      "Train Epoch: 43\t[320/5124 (6%)]\tLoss: 0.000130\tAccuracy: 100.000000\tTime 0.324 (0.304)\tData 0.002 (0.025)\n",
      "Train Epoch: 43\t[640/5124 (12%)]\tLoss: 0.000529\tAccuracy: 100.000000\tTime 0.329 (0.315)\tData 0.002 (0.026)\n",
      "Train Epoch: 43\t[960/5124 (19%)]\tLoss: 0.000720\tAccuracy: 100.000000\tTime 0.324 (0.319)\tData 0.002 (0.027)\n",
      "Train Epoch: 43\t[1280/5124 (25%)]\tLoss: 0.000335\tAccuracy: 100.000000\tTime 0.324 (0.321)\tData 0.002 (0.027)\n",
      "Train Epoch: 43\t[1600/5124 (31%)]\tLoss: 0.000256\tAccuracy: 100.000000\tTime 0.329 (0.322)\tData 0.002 (0.027)\n",
      "Train Epoch: 43\t[1920/5124 (37%)]\tLoss: 0.000100\tAccuracy: 100.000000\tTime 0.324 (0.323)\tData 0.002 (0.027)\n",
      "Train Epoch: 43\t[2240/5124 (43%)]\tLoss: 0.000290\tAccuracy: 100.000000\tTime 0.324 (0.324)\tData 0.002 (0.027)\n",
      "Train Epoch: 43\t[2560/5124 (50%)]\tLoss: 0.000050\tAccuracy: 100.000000\tTime 0.331 (0.324)\tData 0.002 (0.027)\n",
      "Train Epoch: 43\t[2880/5124 (56%)]\tLoss: 0.000204\tAccuracy: 100.000000\tTime 0.324 (0.324)\tData 0.002 (0.027)\n",
      "Train Epoch: 43\t[3200/5124 (62%)]\tLoss: 0.001054\tAccuracy: 100.000000\tTime 0.329 (0.325)\tData 0.002 (0.027)\n",
      "Train Epoch: 43\t[3520/5124 (68%)]\tLoss: 0.000114\tAccuracy: 100.000000\tTime 0.330 (0.325)\tData 0.002 (0.027)\n",
      "Train Epoch: 43\t[3840/5124 (75%)]\tLoss: 0.000213\tAccuracy: 100.000000\tTime 0.324 (0.325)\tData 0.002 (0.027)\n",
      "Train Epoch: 43\t[4160/5124 (81%)]\tLoss: 0.000241\tAccuracy: 100.000000\tTime 0.331 (0.325)\tData 0.002 (0.027)\n",
      "Train Epoch: 43\t[4480/5124 (87%)]\tLoss: 0.000173\tAccuracy: 100.000000\tTime 0.324 (0.325)\tData 0.002 (0.027)\n",
      "Train Epoch: 43\t[4800/5124 (93%)]\tLoss: 0.000103\tAccuracy: 100.000000\tTime 0.325 (0.325)\tData 0.002 (0.027)\n",
      "Train Epoch: 43\t[640/5124 (99%)]\tLoss: 0.001215\tAccuracy: 100.000000\tTime 0.292 (0.325)\tData 0.001 (0.027)\n",
      "\n",
      "Val set: Average loss: 0.015793, Accuracy: 99.715909 \n",
      "\n",
      "Train Epoch: 44\t[0/5124 (0%)]\tLoss: 0.000217\tAccuracy: 100.000000\tTime 0.077 (0.077)\tData 0.002 (0.002)\n",
      "Train Epoch: 44\t[320/5124 (6%)]\tLoss: 0.000368\tAccuracy: 100.000000\tTime 0.324 (0.305)\tData 0.002 (0.025)\n",
      "Train Epoch: 44\t[640/5124 (12%)]\tLoss: 0.000424\tAccuracy: 100.000000\tTime 0.329 (0.315)\tData 0.002 (0.026)\n",
      "Train Epoch: 44\t[960/5124 (19%)]\tLoss: 0.000119\tAccuracy: 100.000000\tTime 0.324 (0.319)\tData 0.002 (0.026)\n",
      "Train Epoch: 44\t[1280/5124 (25%)]\tLoss: 0.000420\tAccuracy: 100.000000\tTime 0.329 (0.321)\tData 0.002 (0.027)\n",
      "Train Epoch: 44\t[1600/5124 (31%)]\tLoss: 0.000561\tAccuracy: 100.000000\tTime 0.330 (0.322)\tData 0.002 (0.027)\n",
      "Train Epoch: 44\t[1920/5124 (37%)]\tLoss: 0.000205\tAccuracy: 100.000000\tTime 0.324 (0.323)\tData 0.002 (0.027)\n",
      "Train Epoch: 44\t[2240/5124 (43%)]\tLoss: 0.000226\tAccuracy: 100.000000\tTime 0.331 (0.324)\tData 0.002 (0.027)\n",
      "Train Epoch: 44\t[2560/5124 (50%)]\tLoss: 0.000684\tAccuracy: 100.000000\tTime 0.330 (0.324)\tData 0.002 (0.027)\n"
     ]
    },
    {
     "name": "stdout",
     "output_type": "stream",
     "text": [
      "Train Epoch: 44\t[2880/5124 (56%)]\tLoss: 0.000275\tAccuracy: 100.000000\tTime 0.324 (0.325)\tData 0.002 (0.027)\n",
      "Train Epoch: 44\t[3200/5124 (62%)]\tLoss: 0.000319\tAccuracy: 100.000000\tTime 0.331 (0.325)\tData 0.002 (0.027)\n",
      "Train Epoch: 44\t[3520/5124 (68%)]\tLoss: 0.000121\tAccuracy: 100.000000\tTime 0.324 (0.325)\tData 0.002 (0.027)\n",
      "Train Epoch: 44\t[3840/5124 (75%)]\tLoss: 0.000820\tAccuracy: 100.000000\tTime 0.324 (0.325)\tData 0.002 (0.027)\n",
      "Train Epoch: 44\t[4160/5124 (81%)]\tLoss: 0.000068\tAccuracy: 100.000000\tTime 0.328 (0.325)\tData 0.002 (0.027)\n",
      "Train Epoch: 44\t[4480/5124 (87%)]\tLoss: 0.000285\tAccuracy: 100.000000\tTime 0.324 (0.325)\tData 0.002 (0.027)\n",
      "Train Epoch: 44\t[4800/5124 (93%)]\tLoss: 0.000451\tAccuracy: 100.000000\tTime 0.324 (0.325)\tData 0.002 (0.027)\n",
      "Train Epoch: 44\t[640/5124 (99%)]\tLoss: 0.003372\tAccuracy: 100.000000\tTime 0.290 (0.325)\tData 0.001 (0.027)\n",
      "\n",
      "Val set: Average loss: 0.014931, Accuracy: 99.715909 \n",
      "\n",
      "Train Epoch: 45\t[0/5124 (0%)]\tLoss: 0.000214\tAccuracy: 100.000000\tTime 0.079 (0.079)\tData 0.002 (0.002)\n",
      "Train Epoch: 45\t[320/5124 (6%)]\tLoss: 0.000078\tAccuracy: 100.000000\tTime 0.324 (0.305)\tData 0.002 (0.025)\n",
      "Train Epoch: 45\t[640/5124 (12%)]\tLoss: 0.000396\tAccuracy: 100.000000\tTime 0.329 (0.315)\tData 0.002 (0.026)\n",
      "Train Epoch: 45\t[960/5124 (19%)]\tLoss: 0.000160\tAccuracy: 100.000000\tTime 0.331 (0.319)\tData 0.002 (0.027)\n",
      "Train Epoch: 45\t[1280/5124 (25%)]\tLoss: 0.000686\tAccuracy: 100.000000\tTime 0.333 (0.321)\tData 0.002 (0.027)\n",
      "Train Epoch: 45\t[1600/5124 (31%)]\tLoss: 0.000184\tAccuracy: 100.000000\tTime 0.331 (0.322)\tData 0.002 (0.027)\n",
      "Train Epoch: 45\t[1920/5124 (37%)]\tLoss: 0.000391\tAccuracy: 100.000000\tTime 0.324 (0.323)\tData 0.002 (0.027)\n",
      "Train Epoch: 45\t[2240/5124 (43%)]\tLoss: 0.000144\tAccuracy: 100.000000\tTime 0.331 (0.324)\tData 0.002 (0.027)\n",
      "Train Epoch: 45\t[2560/5124 (50%)]\tLoss: 0.000147\tAccuracy: 100.000000\tTime 0.324 (0.324)\tData 0.002 (0.027)\n",
      "Train Epoch: 45\t[2880/5124 (56%)]\tLoss: 0.000089\tAccuracy: 100.000000\tTime 0.324 (0.324)\tData 0.002 (0.027)\n",
      "Train Epoch: 45\t[3200/5124 (62%)]\tLoss: 0.000303\tAccuracy: 100.000000\tTime 0.330 (0.325)\tData 0.002 (0.027)\n",
      "Train Epoch: 45\t[3520/5124 (68%)]\tLoss: 0.000158\tAccuracy: 100.000000\tTime 0.324 (0.325)\tData 0.002 (0.027)\n",
      "Train Epoch: 45\t[3840/5124 (75%)]\tLoss: 0.000176\tAccuracy: 100.000000\tTime 0.324 (0.325)\tData 0.002 (0.027)\n",
      "Train Epoch: 45\t[4160/5124 (81%)]\tLoss: 0.000399\tAccuracy: 100.000000\tTime 0.329 (0.325)\tData 0.002 (0.027)\n",
      "Train Epoch: 45\t[4480/5124 (87%)]\tLoss: 0.000321\tAccuracy: 100.000000\tTime 0.331 (0.325)\tData 0.002 (0.027)\n",
      "Train Epoch: 45\t[4800/5124 (93%)]\tLoss: 0.000468\tAccuracy: 100.000000\tTime 0.329 (0.326)\tData 0.002 (0.027)\n",
      "Train Epoch: 45\t[640/5124 (99%)]\tLoss: 0.001551\tAccuracy: 100.000000\tTime 0.285 (0.325)\tData 0.001 (0.027)\n",
      "\n",
      "Val set: Average loss: 0.013191, Accuracy: 99.715909 \n",
      "\n",
      "Train Epoch: 46\t[0/5124 (0%)]\tLoss: 0.000424\tAccuracy: 100.000000\tTime 0.079 (0.079)\tData 0.003 (0.003)\n",
      "Train Epoch: 46\t[320/5124 (6%)]\tLoss: 0.000504\tAccuracy: 100.000000\tTime 0.331 (0.305)\tData 0.002 (0.025)\n",
      "Train Epoch: 46\t[640/5124 (12%)]\tLoss: 0.000788\tAccuracy: 100.000000\tTime 0.329 (0.316)\tData 0.002 (0.026)\n",
      "Train Epoch: 46\t[960/5124 (19%)]\tLoss: 0.000451\tAccuracy: 100.000000\tTime 0.329 (0.320)\tData 0.002 (0.026)\n",
      "Train Epoch: 46\t[1280/5124 (25%)]\tLoss: 0.000399\tAccuracy: 100.000000\tTime 0.329 (0.322)\tData 0.002 (0.027)\n",
      "Train Epoch: 46\t[1600/5124 (31%)]\tLoss: 0.000349\tAccuracy: 100.000000\tTime 0.324 (0.323)\tData 0.002 (0.027)\n",
      "Train Epoch: 46\t[1920/5124 (37%)]\tLoss: 0.000416\tAccuracy: 100.000000\tTime 0.330 (0.324)\tData 0.003 (0.027)\n",
      "Train Epoch: 46\t[2240/5124 (43%)]\tLoss: 0.000441\tAccuracy: 100.000000\tTime 0.329 (0.324)\tData 0.002 (0.027)\n",
      "Train Epoch: 46\t[2560/5124 (50%)]\tLoss: 0.000271\tAccuracy: 100.000000\tTime 0.324 (0.324)\tData 0.002 (0.027)\n",
      "Train Epoch: 46\t[2880/5124 (56%)]\tLoss: 0.001264\tAccuracy: 100.000000\tTime 0.330 (0.325)\tData 0.002 (0.027)\n",
      "Train Epoch: 46\t[3200/5124 (62%)]\tLoss: 0.000417\tAccuracy: 100.000000\tTime 0.330 (0.325)\tData 0.002 (0.027)\n",
      "Train Epoch: 46\t[3520/5124 (68%)]\tLoss: 0.000975\tAccuracy: 100.000000\tTime 0.329 (0.325)\tData 0.002 (0.027)\n",
      "Train Epoch: 46\t[3840/5124 (75%)]\tLoss: 0.000602\tAccuracy: 100.000000\tTime 0.327 (0.326)\tData 0.004 (0.027)\n",
      "Train Epoch: 46\t[4160/5124 (81%)]\tLoss: 0.000588\tAccuracy: 100.000000\tTime 0.329 (0.326)\tData 0.002 (0.027)\n",
      "Train Epoch: 46\t[4480/5124 (87%)]\tLoss: 0.000610\tAccuracy: 100.000000\tTime 0.328 (0.326)\tData 0.002 (0.027)\n",
      "Train Epoch: 46\t[4800/5124 (93%)]\tLoss: 0.001144\tAccuracy: 100.000000\tTime 0.331 (0.326)\tData 0.002 (0.027)\n",
      "Train Epoch: 46\t[640/5124 (99%)]\tLoss: 0.480926\tAccuracy: 75.000000\tTime 0.285 (0.326)\tData 0.001 (0.027)\n",
      "\n",
      "Val set: Average loss: 0.037929, Accuracy: 99.147727 \n",
      "\n",
      "Train Epoch: 47\t[0/5124 (0%)]\tLoss: 0.010608\tAccuracy: 100.000000\tTime 0.079 (0.079)\tData 0.002 (0.002)\n",
      "Train Epoch: 47\t[320/5124 (6%)]\tLoss: 0.330773\tAccuracy: 87.500000\tTime 0.326 (0.305)\tData 0.002 (0.025)\n",
      "Train Epoch: 47\t[640/5124 (12%)]\tLoss: 0.139661\tAccuracy: 93.750000\tTime 0.331 (0.317)\tData 0.002 (0.026)\n",
      "Train Epoch: 47\t[960/5124 (19%)]\tLoss: 0.143217\tAccuracy: 93.750000\tTime 0.329 (0.321)\tData 0.002 (0.026)\n",
      "Train Epoch: 47\t[1280/5124 (25%)]\tLoss: 0.027534\tAccuracy: 100.000000\tTime 0.329 (0.323)\tData 0.004 (0.027)\n",
      "Train Epoch: 47\t[1600/5124 (31%)]\tLoss: 0.023770\tAccuracy: 100.000000\tTime 0.331 (0.325)\tData 0.002 (0.027)\n",
      "Train Epoch: 47\t[1920/5124 (37%)]\tLoss: 0.017128\tAccuracy: 100.000000\tTime 0.329 (0.326)\tData 0.002 (0.027)\n",
      "Train Epoch: 47\t[2240/5124 (43%)]\tLoss: 0.015193\tAccuracy: 100.000000\tTime 0.331 (0.326)\tData 0.002 (0.027)\n",
      "Train Epoch: 47\t[2560/5124 (50%)]\tLoss: 0.011181\tAccuracy: 100.000000\tTime 0.326 (0.327)\tData 0.002 (0.027)\n",
      "Train Epoch: 47\t[2880/5124 (56%)]\tLoss: 0.122401\tAccuracy: 90.625000\tTime 0.335 (0.327)\tData 0.002 (0.027)\n",
      "Train Epoch: 47\t[3200/5124 (62%)]\tLoss: 0.091140\tAccuracy: 96.875000\tTime 0.329 (0.327)\tData 0.002 (0.027)\n",
      "Train Epoch: 47\t[3520/5124 (68%)]\tLoss: 0.005832\tAccuracy: 100.000000\tTime 0.324 (0.327)\tData 0.002 (0.027)\n",
      "Train Epoch: 47\t[3840/5124 (75%)]\tLoss: 0.004481\tAccuracy: 100.000000\tTime 0.326 (0.327)\tData 0.002 (0.027)\n",
      "Train Epoch: 47\t[4160/5124 (81%)]\tLoss: 0.002730\tAccuracy: 100.000000\tTime 0.333 (0.327)\tData 0.002 (0.027)\n",
      "Train Epoch: 47\t[4480/5124 (87%)]\tLoss: 0.002644\tAccuracy: 100.000000\tTime 0.329 (0.327)\tData 0.002 (0.027)\n",
      "Train Epoch: 47\t[4800/5124 (93%)]\tLoss: 0.008723\tAccuracy: 100.000000\tTime 0.325 (0.327)\tData 0.002 (0.027)\n",
      "Train Epoch: 47\t[640/5124 (99%)]\tLoss: 0.032189\tAccuracy: 100.000000\tTime 0.291 (0.327)\tData 0.001 (0.027)\n",
      "\n",
      "Val set: Average loss: 0.019925, Accuracy: 99.715909 \n",
      "\n",
      "Train Epoch: 48\t[0/5124 (0%)]\tLoss: 0.004774\tAccuracy: 100.000000\tTime 0.079 (0.079)\tData 0.002 (0.002)\n",
      "Train Epoch: 48\t[320/5124 (6%)]\tLoss: 0.006020\tAccuracy: 100.000000\tTime 0.324 (0.306)\tData 0.002 (0.025)\n",
      "Train Epoch: 48\t[640/5124 (12%)]\tLoss: 0.002782\tAccuracy: 100.000000\tTime 0.331 (0.317)\tData 0.002 (0.026)\n",
      "Train Epoch: 48\t[960/5124 (19%)]\tLoss: 0.007253\tAccuracy: 100.000000\tTime 0.331 (0.322)\tData 0.002 (0.027)\n",
      "Train Epoch: 48\t[1280/5124 (25%)]\tLoss: 0.003177\tAccuracy: 100.000000\tTime 0.330 (0.324)\tData 0.003 (0.027)\n",
      "Train Epoch: 48\t[1600/5124 (31%)]\tLoss: 0.008426\tAccuracy: 100.000000\tTime 0.331 (0.325)\tData 0.002 (0.027)\n",
      "Train Epoch: 48\t[1920/5124 (37%)]\tLoss: 0.001298\tAccuracy: 100.000000\tTime 0.323 (0.325)\tData 0.002 (0.027)\n",
      "Train Epoch: 48\t[2240/5124 (43%)]\tLoss: 0.003554\tAccuracy: 100.000000\tTime 0.329 (0.326)\tData 0.002 (0.027)\n",
      "Train Epoch: 48\t[2560/5124 (50%)]\tLoss: 0.005371\tAccuracy: 100.000000\tTime 0.329 (0.326)\tData 0.002 (0.027)\n",
      "Train Epoch: 48\t[2880/5124 (56%)]\tLoss: 0.010612\tAccuracy: 100.000000\tTime 0.330 (0.326)\tData 0.002 (0.027)\n",
      "Train Epoch: 48\t[3200/5124 (62%)]\tLoss: 0.003444\tAccuracy: 100.000000\tTime 0.331 (0.326)\tData 0.002 (0.027)\n",
      "Train Epoch: 48\t[3520/5124 (68%)]\tLoss: 0.002711\tAccuracy: 100.000000\tTime 0.324 (0.326)\tData 0.002 (0.027)\n",
      "Train Epoch: 48\t[3840/5124 (75%)]\tLoss: 0.004343\tAccuracy: 100.000000\tTime 0.324 (0.326)\tData 0.002 (0.027)\n",
      "Train Epoch: 48\t[4160/5124 (81%)]\tLoss: 0.026259\tAccuracy: 96.875000\tTime 0.324 (0.327)\tData 0.002 (0.027)\n",
      "Train Epoch: 48\t[4480/5124 (87%)]\tLoss: 0.008753\tAccuracy: 100.000000\tTime 0.324 (0.326)\tData 0.002 (0.027)\n",
      "Train Epoch: 48\t[4800/5124 (93%)]\tLoss: 0.006452\tAccuracy: 100.000000\tTime 0.331 (0.326)\tData 0.002 (0.027)\n"
     ]
    },
    {
     "name": "stdout",
     "output_type": "stream",
     "text": [
      "Train Epoch: 48\t[640/5124 (99%)]\tLoss: 0.005304\tAccuracy: 100.000000\tTime 0.286 (0.326)\tData 0.001 (0.027)\n",
      "\n",
      "Val set: Average loss: 0.016713, Accuracy: 99.621212 \n",
      "\n",
      "Train Epoch: 49\t[0/5124 (0%)]\tLoss: 0.002499\tAccuracy: 100.000000\tTime 0.079 (0.079)\tData 0.002 (0.002)\n",
      "Train Epoch: 49\t[320/5124 (6%)]\tLoss: 0.002914\tAccuracy: 100.000000\tTime 0.324 (0.304)\tData 0.002 (0.025)\n",
      "Train Epoch: 49\t[640/5124 (12%)]\tLoss: 0.002225\tAccuracy: 100.000000\tTime 0.324 (0.314)\tData 0.002 (0.026)\n",
      "Train Epoch: 49\t[960/5124 (19%)]\tLoss: 0.003742\tAccuracy: 100.000000\tTime 0.329 (0.318)\tData 0.002 (0.026)\n",
      "Train Epoch: 49\t[1280/5124 (25%)]\tLoss: 0.002943\tAccuracy: 100.000000\tTime 0.329 (0.320)\tData 0.002 (0.027)\n",
      "Train Epoch: 49\t[1600/5124 (31%)]\tLoss: 0.001538\tAccuracy: 100.000000\tTime 0.331 (0.321)\tData 0.002 (0.027)\n",
      "Train Epoch: 49\t[1920/5124 (37%)]\tLoss: 0.002961\tAccuracy: 100.000000\tTime 0.323 (0.322)\tData 0.004 (0.027)\n",
      "Train Epoch: 49\t[2240/5124 (43%)]\tLoss: 0.001739\tAccuracy: 100.000000\tTime 0.329 (0.323)\tData 0.004 (0.027)\n",
      "Train Epoch: 49\t[2560/5124 (50%)]\tLoss: 0.002238\tAccuracy: 100.000000\tTime 0.331 (0.323)\tData 0.002 (0.027)\n",
      "Train Epoch: 49\t[2880/5124 (56%)]\tLoss: 0.002337\tAccuracy: 100.000000\tTime 0.324 (0.324)\tData 0.002 (0.027)\n",
      "Train Epoch: 49\t[3200/5124 (62%)]\tLoss: 0.007374\tAccuracy: 100.000000\tTime 0.329 (0.324)\tData 0.002 (0.027)\n",
      "Train Epoch: 49\t[3520/5124 (68%)]\tLoss: 0.002460\tAccuracy: 100.000000\tTime 0.332 (0.324)\tData 0.002 (0.027)\n",
      "Train Epoch: 49\t[3840/5124 (75%)]\tLoss: 0.002240\tAccuracy: 100.000000\tTime 0.329 (0.325)\tData 0.002 (0.027)\n",
      "Train Epoch: 49\t[4160/5124 (81%)]\tLoss: 0.003763\tAccuracy: 100.000000\tTime 0.333 (0.325)\tData 0.002 (0.027)\n",
      "Train Epoch: 49\t[4480/5124 (87%)]\tLoss: 0.003168\tAccuracy: 100.000000\tTime 0.331 (0.326)\tData 0.002 (0.027)\n",
      "Train Epoch: 49\t[4800/5124 (93%)]\tLoss: 0.002288\tAccuracy: 100.000000\tTime 0.331 (0.326)\tData 0.003 (0.027)\n",
      "Train Epoch: 49\t[640/5124 (99%)]\tLoss: 0.002053\tAccuracy: 100.000000\tTime 0.291 (0.326)\tData 0.001 (0.027)\n",
      "\n",
      "Val set: Average loss: 0.011409, Accuracy: 99.715909 \n",
      "\n",
      "Train Epoch: 50\t[0/5124 (0%)]\tLoss: 0.004575\tAccuracy: 100.000000\tTime 0.078 (0.078)\tData 0.003 (0.003)\n",
      "Train Epoch: 50\t[320/5124 (6%)]\tLoss: 0.002637\tAccuracy: 100.000000\tTime 0.329 (0.308)\tData 0.002 (0.025)\n",
      "Train Epoch: 50\t[640/5124 (12%)]\tLoss: 0.001974\tAccuracy: 100.000000\tTime 0.331 (0.319)\tData 0.002 (0.026)\n",
      "Train Epoch: 50\t[960/5124 (19%)]\tLoss: 0.002589\tAccuracy: 100.000000\tTime 0.333 (0.323)\tData 0.002 (0.027)\n",
      "Train Epoch: 50\t[1280/5124 (25%)]\tLoss: 0.002543\tAccuracy: 100.000000\tTime 0.334 (0.325)\tData 0.002 (0.027)\n",
      "Train Epoch: 50\t[1600/5124 (31%)]\tLoss: 0.003481\tAccuracy: 100.000000\tTime 0.331 (0.326)\tData 0.002 (0.027)\n",
      "Train Epoch: 50\t[1920/5124 (37%)]\tLoss: 0.001844\tAccuracy: 100.000000\tTime 0.332 (0.327)\tData 0.002 (0.027)\n",
      "Train Epoch: 50\t[2240/5124 (43%)]\tLoss: 0.002124\tAccuracy: 100.000000\tTime 0.324 (0.327)\tData 0.002 (0.027)\n",
      "Train Epoch: 50\t[2560/5124 (50%)]\tLoss: 0.003032\tAccuracy: 100.000000\tTime 0.329 (0.327)\tData 0.002 (0.027)\n",
      "Train Epoch: 50\t[2880/5124 (56%)]\tLoss: 0.002600\tAccuracy: 100.000000\tTime 0.325 (0.327)\tData 0.002 (0.027)\n",
      "Train Epoch: 50\t[3200/5124 (62%)]\tLoss: 0.004554\tAccuracy: 100.000000\tTime 0.324 (0.327)\tData 0.002 (0.027)\n",
      "Train Epoch: 50\t[3520/5124 (68%)]\tLoss: 0.003110\tAccuracy: 100.000000\tTime 0.324 (0.328)\tData 0.002 (0.027)\n",
      "Train Epoch: 50\t[3840/5124 (75%)]\tLoss: 0.002594\tAccuracy: 100.000000\tTime 0.331 (0.328)\tData 0.002 (0.027)\n",
      "Train Epoch: 50\t[4160/5124 (81%)]\tLoss: 0.002660\tAccuracy: 100.000000\tTime 0.333 (0.328)\tData 0.002 (0.027)\n",
      "Train Epoch: 50\t[4480/5124 (87%)]\tLoss: 0.002438\tAccuracy: 100.000000\tTime 0.324 (0.328)\tData 0.002 (0.027)\n",
      "Train Epoch: 50\t[4800/5124 (93%)]\tLoss: 0.006622\tAccuracy: 100.000000\tTime 0.333 (0.328)\tData 0.002 (0.027)\n",
      "Train Epoch: 50\t[640/5124 (99%)]\tLoss: 0.003209\tAccuracy: 100.000000\tTime 0.290 (0.328)\tData 0.001 (0.027)\n",
      "\n",
      "Val set: Average loss: 0.010901, Accuracy: 99.715909 \n",
      "\n",
      "\n",
      "Val set: Average loss: 0.010901, Accuracy: 99.715909 \n",
      "\n",
      "\n",
      "\n",
      "Best validation accuracy: 99.905303\n",
      "\n",
      " Total time taken in seconds:  2711.9550964832306\n"
     ]
    }
   ],
   "source": [
    "# Trainging Loop\n",
    "\n",
    "training_start_time = time.time()\n",
    "\n",
    "best_acc = test(valid_loader, model, criterion, device)[1]\n",
    "\n",
    "for epoch in range(1, epochs + 1):\n",
    "    acc = train(train_loader, model, criterion, optimizer, epoch, device)\n",
    "    acc /= len(train_loader)\n",
    "\n",
    "    current_acc = test(valid_loader, model, criterion, device)[1]\n",
    "    \n",
    "    if current_acc > best_acc:\n",
    "        best_acc = current_acc\n",
    "        print(\"-------------------- HIGHEST ACCURACY ---------------------------\")\n",
    "        torch.save(model.state_dict(), './model.pth')\n",
    "\n",
    "training_stop_time = time.time()\n",
    "\n",
    "best_acc = max(best_acc, test(valid_loader, model, criterion, device)[0])\n",
    "print('\\n\\nBest validation accuracy: {:.6f}'.format(best_acc))\n",
    "\n",
    "print('\\n Total time taken in seconds: ', training_stop_time - training_start_time)"
   ]
  },
  {
   "cell_type": "markdown",
   "metadata": {
    "id": "1-PusJd6f_FQ"
   },
   "source": [
    "#### Testing time!"
   ]
  },
  {
   "cell_type": "code",
   "execution_count": 32,
   "metadata": {
    "colab": {
     "base_uri": "https://localhost:8080/"
    },
    "id": "-BoOtctOAApZ",
    "outputId": "182a43a8-86a0-4a79-b9cf-5963c0519689"
   },
   "outputs": [
    {
     "name": "stdout",
     "output_type": "stream",
     "text": [
      "\n",
      "Test set: Average loss: 0.030618, Accuracy: 99.781977 \n",
      "\n"
     ]
    }
   ],
   "source": [
    "model = CapsNet(A=A, B=B, C=C, D=D, E=num_class, iters=em_iters).to(device)\n",
    "model.load_state_dict(torch.load('./model.pth'))\n",
    "test(test_loader, model, criterion, device, test=True);"
   ]
  },
  {
   "cell_type": "markdown",
   "metadata": {
    "id": "B93ieiCMZ5eB"
   },
   "source": [
    "## **Inference and Visualization**"
   ]
  },
  {
   "cell_type": "markdown",
   "metadata": {
    "id": "q-xUh6iustlT"
   },
   "source": [
    "#### Inference"
   ]
  },
  {
   "cell_type": "code",
   "execution_count": 33,
   "metadata": {
    "id": "0IG8C_OQZ8H6"
   },
   "outputs": [],
   "source": [
    "def AA_andEachClassAccuracy(confusion_matrix):\n",
    "    counter = confusion_matrix.shape[0]\n",
    "    list_diag = np.diag(confusion_matrix)\n",
    "    list_raw_sum = np.sum(confusion_matrix, axis=1)\n",
    "    each_acc = np.nan_to_num(truediv(list_diag, list_raw_sum))\n",
    "    average_acc = np.mean(each_acc)\n",
    "    return each_acc, average_acc"
   ]
  },
  {
   "cell_type": "code",
   "execution_count": 34,
   "metadata": {
    "colab": {
     "base_uri": "https://localhost:8080/"
    },
    "id": "krZ2Z-9bZ-mA",
    "outputId": "92ddf6ac-3b8d-4ac2-e64c-81100c0fea9a"
   },
   "outputs": [
    {
     "name": "stdout",
     "output_type": "stream",
     "text": [
      "\n",
      "Test set: Average loss: 0.030618, Accuracy: 99.781977 \n",
      "\n",
      "------------------------ CONFUSION MATRIX -------------------------\n",
      "[[ 18   0   0   0   0   0   0   0   0   0   0   0   0   0   0   0]\n",
      " [  0 569   0   0   0   0   0   0   0   2   0   0   0   0   0   0]\n",
      " [  0   0 332   0   0   0   0   0   0   0   0   0   0   0   0   0]\n",
      " [  0   0   1  93   0   0   0   0   0   0   0   0   0   0   0   0]\n",
      " [  0   0   0   0 194   0   0   0   0   0   0   0   0   0   0   0]\n",
      " [  0   0   0   0   0 292   0   0   0   0   0   0   0   0   0   0]\n",
      " [  0   0   0   0   0   0  11   0   0   0   0   0   0   0   0   0]\n",
      " [  0   0   0   0   0   0   0 191   0   0   0   0   0   0   0   0]\n",
      " [  0   0   0   0   0   0   0   0   8   0   0   0   0   0   0   0]\n",
      " [  0   0   0   0   0   0   0   0   0 389   0   0   0   0   0   0]\n",
      " [  0   1   0   0   0   1   0   0   0   0 981   0   0   0   0   0]\n",
      " [  0   0   0   0   0   0   0   0   0   0   0 237   0   0   0   1]\n",
      " [  0   0   0   0   0   0   0   0   0   0   0   0  82   0   0   0]\n",
      " [  0   0   0   0   0   0   0   0   0   0   0   0   0 506   0   0]\n",
      " [  0   1   0   0   0   0   0   0   0   0   0   1   0   0 152   0]\n",
      " [  0   0   0   0   0   0   0   0   0   0   0   1   0   0   0  36]]\n",
      "\n",
      "\n",
      "---------------------- CLASSIFICATION REPORT ----------------------\n",
      "              precision    recall  f1-score   support\n",
      "\n",
      "           0       1.00      1.00      1.00        18\n",
      "           1       1.00      1.00      1.00       571\n",
      "           2       1.00      1.00      1.00       332\n",
      "           3       1.00      0.99      0.99        94\n",
      "           4       1.00      1.00      1.00       194\n",
      "           5       1.00      1.00      1.00       292\n",
      "           6       1.00      1.00      1.00        11\n",
      "           7       1.00      1.00      1.00       191\n",
      "           8       1.00      1.00      1.00         8\n",
      "           9       0.99      1.00      1.00       389\n",
      "          10       1.00      1.00      1.00       983\n",
      "          11       0.99      1.00      0.99       238\n",
      "          12       1.00      1.00      1.00        82\n",
      "          13       1.00      1.00      1.00       506\n",
      "          14       1.00      0.99      0.99       154\n",
      "          15       0.97      0.97      0.97        37\n",
      "\n",
      "    accuracy                           1.00      4100\n",
      "   macro avg       1.00      1.00      1.00      4100\n",
      "weighted avg       1.00      1.00      1.00      4100\n",
      "\n",
      "\n",
      "\n",
      "------------------------ OVERALL ACCURACY -------------------------\n",
      "0.9978048780487805\n",
      "\n",
      "\n",
      "------------------------ AVERAGE ACCURACY -------------------------\n",
      "0.9962255479046995\n",
      "\n",
      "\n",
      "--------------------------- KAPPA SCORE ---------------------------\n",
      "0.9974972255829938\n",
      "\n",
      "\n",
      "-------------------------- TEST ACCURACY --------------------------\n",
      "\n",
      "Test set: Average loss: 0.030618, Accuracy: 99.781977 \n",
      "\n"
     ]
    }
   ],
   "source": [
    "def report(model=model, test_loader=test_loader, criterion=criterion, device=device):\n",
    "\n",
    "    # Getting prediction vectors from test loader\n",
    "    y_pred = []\n",
    "    y_test = []\n",
    "    model.eval()\n",
    "    test_loss = 0\n",
    "    acc = 0\n",
    "    test_len = len(test_loader)\n",
    "    with torch.no_grad():\n",
    "        for data, target in test_loader:\n",
    "            output = model(data.to(device))\n",
    "            y_pred.extend(output.argmax(dim=1).float().tolist())\n",
    "            y_test.extend(target.tolist())\n",
    "\n",
    "    target_labels = ['0', '1', '2', '3', '4', '5', '6', '7', \n",
    "            '8', '9', '10', '11', '12', '13', '14', '15']\n",
    "\n",
    "    classificationReport = classification_report(y_test, y_pred, target_names=target_labels)\n",
    "    confusionMatrix = confusion_matrix(y_test, y_pred)\n",
    "    oa = accuracy_score(y_test, y_pred)\n",
    "    each_acc, aa = AA_andEachClassAccuracy(confusionMatrix)\n",
    "    kappa = cohen_kappa_score(y_test, y_pred)\n",
    "    test_loss, acc = test(test_loader, model, criterion, device, test=True)\n",
    "\n",
    "    print(\"------------------------ CONFUSION MATRIX -------------------------\")\n",
    "    print(confusionMatrix)\n",
    "\n",
    "    print(\"\\n\\n---------------------- CLASSIFICATION REPORT ----------------------\")\n",
    "    print(classificationReport)\n",
    "\n",
    "    print('\\n\\n------------------------ OVERALL ACCURACY -------------------------')\n",
    "    print(oa)\n",
    "\n",
    "    print('\\n\\n------------------------ AVERAGE ACCURACY -------------------------')\n",
    "    print(aa)\n",
    "\n",
    "    print('\\n\\n--------------------------- KAPPA SCORE ---------------------------')\n",
    "    print(kappa)\n",
    "\n",
    "    print('\\n\\n-------------------------- TEST ACCURACY --------------------------')\n",
    "    print('\\nTest set: Average loss: {:.6f}, Accuracy: {:.6f} \\n'.format(\n",
    "        test_loss, acc))\n",
    "\n",
    "report()"
   ]
  },
  {
   "cell_type": "markdown",
   "metadata": {
    "id": "mfyI8o-raJm3"
   },
   "source": [
    "#### Visualization"
   ]
  },
  {
   "cell_type": "code",
   "execution_count": 35,
   "metadata": {
    "id": "zAsXUh8TaaRR"
   },
   "outputs": [],
   "source": [
    "X,y = loadData()\n",
    "X = applyPCA(X)\n",
    "X = padWithZeros(X, windowSize//2)"
   ]
  },
  {
   "cell_type": "code",
   "execution_count": 36,
   "metadata": {
    "id": "emvkETrFaslj"
   },
   "outputs": [],
   "source": [
    "def Patch(data,height_index,width_index):\n",
    "    height_slice = slice(height_index, height_index + windowSize)\n",
    "    width_slice = slice(width_index, width_index + windowSize)\n",
    "    patch = data[height_slice, width_slice, :]\n",
    "    return patch"
   ]
  },
  {
   "cell_type": "code",
   "execution_count": 37,
   "metadata": {
    "id": "aB1sYuXwaupH"
   },
   "outputs": [],
   "source": [
    "height,width = y.shape[0],y.shape[1]\n",
    "outputs = np.zeros((height,width))\n",
    "model.eval()\n",
    "with torch.no_grad():\n",
    "  for i in range(height):\n",
    "      for j in range(width):\n",
    "          target = int(y[i,j])\n",
    "          if target == 0 :\n",
    "              continue\n",
    "          else :\n",
    "              image_patch=Patch(X,i,j)\n",
    "              X_test_image = image_patch.transpose(2,0,1)\n",
    "              X_test_image = X_test_image.reshape(1,X_test_image.shape[0],X_test_image.shape[1], X_test_image.shape[2])\n",
    "              X_test_image = torch.Tensor(X_test_image).to(device)\n",
    "              pred = model(X_test_image)\n",
    "              pred = pred.cpu().numpy()\n",
    "              pred = np.argmax(pred, axis=-1)\n",
    "              outputs[i][j] = pred[0]+1"
   ]
  },
  {
   "cell_type": "markdown",
   "metadata": {
    "id": "5Hk9UvESa4Be"
   },
   "source": [
    "##### Ground Truth"
   ]
  },
  {
   "cell_type": "code",
   "execution_count": 38,
   "metadata": {
    "colab": {
     "base_uri": "https://localhost:8080/",
     "height": 431
    },
    "id": "oaSqDBy_a5Ep",
    "outputId": "111eed61-5cb9-4d73-802b-57b2d83b8aee"
   },
   "outputs": [
    {
     "data": {
      "image/png": "[encoded data removed]",
      "text/plain": [
       "<Figure size 700x700 with 1 Axes>"
      ]
     },
     "metadata": {},
     "output_type": "display_data"
    }
   ],
   "source": [
    "ground_truth = spectral.imshow(classes = y,figsize =(7,7))"
   ]
  },
  {
   "cell_type": "markdown",
   "metadata": {
    "id": "7c_v4cuGa7o3"
   },
   "source": [
    "##### Predictions"
   ]
  },
  {
   "cell_type": "code",
   "execution_count": 39,
   "metadata": {
    "colab": {
     "base_uri": "https://localhost:8080/",
     "height": 431
    },
    "id": "jKAdGZCMa80E",
    "outputId": "00651f50-9365-4634-982b-eadc90f2362a"
   },
   "outputs": [
    {
     "data": {
      "image/png": "[encoded data removed]",
      "text/plain": [
       "<Figure size 700x700 with 1 Axes>"
      ]
     },
     "metadata": {},
     "output_type": "display_data"
    }
   ],
   "source": [
    "predict_image = spectral.imshow(classes = outputs.astype(int),figsize =(7,7))"
   ]
  }
 ],
 "metadata": {
  "accelerator": "GPU",
  "colab": {
   "collapsed_sections": [],
   "machine_shape": "hm",
   "name": "[FINAL] IndianPinesSeed3.ipynb",
   "provenance": []
  },
  "kernelspec": {
   "display_name": "Segment_anything",
   "language": "python",
   "name": "segment_anything"
  },
  "language_info": {
   "codemirror_mode": {
    "name": "ipython",
    "version": 3
   },
   "file_extension": ".py",
   "mimetype": "text/x-python",
   "name": "python",
   "nbconvert_exporter": "python",
   "pygments_lexer": "ipython3",
   "version": "3.9.12"
  }
 },
 "nbformat": 4,
 "nbformat_minor": 4
}
